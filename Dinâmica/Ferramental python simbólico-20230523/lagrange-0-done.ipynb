{
 "cells": [
  {
   "cell_type": "code",
   "execution_count": 2,
   "id": "6118348a",
   "metadata": {},
   "outputs": [],
   "source": [
    "import numpy as np\n",
    "import matplotlib.pyplot as plt\n",
    "#from matplotlib import cm\n",
    "#from matplotlib.ticker import LinearLocator\n",
    "from sympy import *\n",
    "from sympy.solvers.ode.systems import dsolve_system\n",
    "import sympy.physics.mechanics as mech\n",
    "mech.init_vprinting()\n",
    "#from sympy.physics.quantum.dagger import Dagger\n",
    "#init_printing(use_latex='mathjax')"
   ]
  },
  {
   "cell_type": "markdown",
   "id": "608bc190",
   "metadata": {},
   "source": [
    "Vamos como ilustração escrever a Lagrangiana para uma partícula de massa $m$ livre no campo gravitacional terrestre"
   ]
  },
  {
   "cell_type": "code",
   "execution_count": 3,
   "id": "0ef09ba6",
   "metadata": {},
   "outputs": [],
   "source": [
    "t = symbols('t', real=True)\n",
    "m_1, m_2, k, e_0, l_0 = symbols('m_1 m_2 k e_0 l_0', positive=True)\n",
    "q_1, q_2 = symbols('q_1 q_2')\n",
    "\n",
    "x_1 = Function('x_1')(t)\n",
    "x_2 = Function('x_2')(t)"
   ]
  },
  {
   "cell_type": "markdown",
   "id": "23d40848",
   "metadata": {},
   "source": [
    "A energia cinética é \n",
    "$$ T = \\frac{1}{2} m_1 \\dot{x}_1^2 + \\frac{1}{2} m_2 \\dot{x}_2^2 $$\n",
    "que fica definida como"
   ]
  },
  {
   "cell_type": "code",
   "execution_count": 4,
   "id": "e26c4bb6",
   "metadata": {},
   "outputs": [
    {
     "data": {
      "image/png": "[encoded data removed]",
      "text/latex": [
       "$\\displaystyle \\frac{m_{1} \\left(\\frac{d}{d t} x_{1}{\\left(t \\right)}\\right)^{2}}{2} + \\frac{m_{2} \\left(\\frac{d}{d t} x_{2}{\\left(t \\right)}\\right)^{2}}{2}$"
      ],
      "text/plain": [
       "              2                 2\n",
       "   ⎛d        ⎞       ⎛d        ⎞ \n",
       "m₁⋅⎜──(x₁(t))⎟    m₂⋅⎜──(x₂(t))⎟ \n",
       "   ⎝dt       ⎠       ⎝dt       ⎠ \n",
       "─────────────── + ───────────────\n",
       "       2                 2       "
      ]
     },
     "metadata": {},
     "output_type": "display_data"
    }
   ],
   "source": [
    "T= Rational(1,2)*m_1*x_1.diff(t)**2 + Rational(1,2)*m_2*x_2.diff(t)**2\n",
    "display(T)"
   ]
  },
  {
   "cell_type": "markdown",
   "id": "1ebd2fd9",
   "metadata": {},
   "source": [
    "E a energia potencial tem contribuição da mola e da interação elétrica\n",
    "$$ U = \\frac{k}{2}(x_1 - x_2)^2 + \\frac{q_1q_2}{4 \\pi e_0 \\sqrt{(x_1 - x_2)^2}} $$"
   ]
  },
  {
   "cell_type": "code",
   "execution_count": 5,
   "id": "a50c0d8f",
   "metadata": {},
   "outputs": [
    {
     "data": {
      "image/png": "[encoded data removed]",
      "text/latex": [
       "$\\displaystyle \\frac{k \\left(l_{0} + x_{1}{\\left(t \\right)} - x_{2}{\\left(t \\right)}\\right)^{2}}{2} + \\frac{q_{1} q_{2}}{4 \\pi e_{0} \\sqrt{\\left(x_{1}{\\left(t \\right)} - x_{2}{\\left(t \\right)}\\right)^{2}}}$"
      ],
      "text/plain": [
       "                      2                               \n",
       "k⋅(l₀ + x₁(t) - x₂(t))               q₁⋅q₂            \n",
       "─────────────────────── + ────────────────────────────\n",
       "           2                        __________________\n",
       "                                   ╱                2 \n",
       "                          4⋅π⋅e₀⋅╲╱  (x₁(t) - x₂(t))  "
      ]
     },
     "metadata": {},
     "output_type": "display_data"
    }
   ],
   "source": [
    "U = Rational(1,2)*k*(x_1 - x_2 + l_0)**2 + (q_1*q_2)/(4*pi*e_0*sqrt((x_1 - x_2)**2))\n",
    "display(U)"
   ]
  },
  {
   "cell_type": "markdown",
   "id": "491dd539",
   "metadata": {},
   "source": [
    "A lagrangiana do systema fica escrita então:"
   ]
  },
  {
   "cell_type": "code",
   "execution_count": 11,
   "id": "c0a41448",
   "metadata": {},
   "outputs": [
    {
     "data": {
      "image/png": "[encoded data removed]",
      "text/latex": [
       "$\\displaystyle - \\frac{k \\left(x_{1}{\\left(t \\right)} - x_{2}{\\left(t \\right)}\\right)^{2}}{2} + \\frac{m_{1} \\left(\\frac{d}{d t} x_{1}{\\left(t \\right)}\\right)^{2}}{2} + \\frac{m_{2} \\left(\\frac{d}{d t} x_{2}{\\left(t \\right)}\\right)^{2}}{2}$"
      ],
      "text/plain": [
       "                                     2                 2\n",
       "                          ⎛d        ⎞       ⎛d        ⎞ \n",
       "                   2   m₁⋅⎜──(x₁(t))⎟    m₂⋅⎜──(x₂(t))⎟ \n",
       "  k⋅(x₁(t) - x₂(t))       ⎝dt       ⎠       ⎝dt       ⎠ \n",
       "- ────────────────── + ─────────────── + ───────────────\n",
       "          2                   2                 2       "
      ]
     },
     "metadata": {},
     "output_type": "display_data"
    }
   ],
   "source": [
    "L = (T - U).subs(q_1,0).subs(l_0,0)\n",
    "display(L)"
   ]
  },
  {
   "cell_type": "markdown",
   "id": "4ca53c96",
   "metadata": {},
   "source": [
    "Temos então que encontrar a equação de Euler-Lagrange para cada uma das variáveis $x_1$ e $x_2$,\n",
    "\n",
    "$$ \\frac{\\partial L}{ \\partial q} - \\frac{d}{dt} \\left( \\frac{\\partial L}{ \\partial \\dot{q}} \\right) = 0 $$\n",
    "$q=x_1, x_2$"
   ]
  },
  {
   "cell_type": "code",
   "execution_count": 12,
   "id": "f3d1b96f",
   "metadata": {},
   "outputs": [
    {
     "data": {
      "image/png": "[encoded data removed]",
      "text/latex": [
       "$\\displaystyle - \\frac{k \\left(2 x_{1}{\\left(t \\right)} - 2 x_{2}{\\left(t \\right)}\\right)}{2} - m_{1} \\frac{d^{2}}{d t^{2}} x_{1}{\\left(t \\right)} = 0$"
      ],
      "text/plain": [
       "                               2           \n",
       "  k⋅(2⋅x₁(t) - 2⋅x₂(t))       d            \n",
       "- ───────────────────── - m₁⋅───(x₁(t)) = 0\n",
       "            2                  2           \n",
       "                             dt            "
      ]
     },
     "metadata": {},
     "output_type": "display_data"
    }
   ],
   "source": [
    "Elx1 = Eq(L.diff(x_1) - L.diff(x_1.diff(t)).diff(t),0)\n",
    "display(Elx1)"
   ]
  },
  {
   "cell_type": "code",
   "execution_count": 13,
   "id": "88dbbd52",
   "metadata": {},
   "outputs": [
    {
     "data": {
      "image/png": "[encoded data removed]",
      "text/latex": [
       "$\\displaystyle - \\frac{k \\left(- 2 x_{1}{\\left(t \\right)} + 2 x_{2}{\\left(t \\right)}\\right)}{2} - m_{2} \\frac{d^{2}}{d t^{2}} x_{2}{\\left(t \\right)} = 0$"
      ],
      "text/plain": [
       "                                2           \n",
       "  k⋅(-2⋅x₁(t) + 2⋅x₂(t))       d            \n",
       "- ────────────────────── - m₂⋅───(x₂(t)) = 0\n",
       "            2                   2           \n",
       "                              dt            "
      ]
     },
     "metadata": {},
     "output_type": "display_data"
    }
   ],
   "source": [
    "Elx2 = Eq(L.diff(x_2) - L.diff(x_2.diff(t)).diff(t),0)\n",
    "display(Elx2)"
   ]
  },
  {
   "cell_type": "code",
   "execution_count": 15,
   "id": "b10b44a1",
   "metadata": {},
   "outputs": [
    {
     "data": {
      "image/png": "[encoded data removed]",
      "text/latex": [
       "$\\displaystyle \\left[ x_{1}{\\left(t \\right)} = C_{1} + C_{2} t - \\frac{C_{3} m_{2}^{\\frac{3}{2}} \\sin{\\left(\\frac{\\sqrt{k} t \\sqrt{m_{1} + m_{2}}}{\\sqrt{m_{1}} \\sqrt{m_{2}}} \\right)}}{\\sqrt{k} \\sqrt{m_{1}} \\sqrt{m_{1} + m_{2}}} - \\frac{C_{4} m_{2}^{\\frac{3}{2}} \\cos{\\left(\\frac{\\sqrt{k} t \\sqrt{m_{1} + m_{2}}}{\\sqrt{m_{1}} \\sqrt{m_{2}}} \\right)}}{\\sqrt{k} \\sqrt{m_{1}} \\sqrt{m_{1} + m_{2}}}, \\  x_{2}{\\left(t \\right)} = C_{1} + C_{2} t + \\frac{C_{3} \\sqrt{m_{1}} \\sqrt{m_{2}} \\sin{\\left(\\frac{\\sqrt{k} t \\sqrt{m_{1} + m_{2}}}{\\sqrt{m_{1}} \\sqrt{m_{2}}} \\right)}}{\\sqrt{k} \\sqrt{m_{1} + m_{2}}} + \\frac{C_{4} \\sqrt{m_{1}} \\sqrt{m_{2}} \\cos{\\left(\\frac{\\sqrt{k} t \\sqrt{m_{1} + m_{2}}}{\\sqrt{m_{1}} \\sqrt{m_{2}}} \\right)}}{\\sqrt{k} \\sqrt{m_{1} + m_{2}}}\\right]$"
      ],
      "text/plain": [
       "⎡                                ⎛       _________⎞               ⎛       ____\n",
       "⎢                         3/2    ⎜√k⋅t⋅╲╱ m₁ + m₂ ⎟        3/2    ⎜√k⋅t⋅╲╱ m₁ \n",
       "⎢                    C₃⋅m₂   ⋅sin⎜────────────────⎟   C₄⋅m₂   ⋅cos⎜───────────\n",
       "⎢                                ⎜   ____   ____  ⎟               ⎜   ____   _\n",
       "⎢                                ⎝ ╲╱ m₁ ⋅╲╱ m₂   ⎠               ⎝ ╲╱ m₁ ⋅╲╱ \n",
       "⎢x₁(t) = C₁ + C₂⋅t - ────────────────────────────── - ────────────────────────\n",
       "⎢                             ____   _________                 ____   ________\n",
       "⎣                        √k⋅╲╱ m₁ ⋅╲╱ m₁ + m₂             √k⋅╲╱ m₁ ⋅╲╱ m₁ + m₂\n",
       "\n",
       "_____⎞                                          ⎛       _________⎞            \n",
       "+ m₂ ⎟                           ____   ____    ⎜√k⋅t⋅╲╱ m₁ + m₂ ⎟        ____\n",
       "─────⎟                      C₃⋅╲╱ m₁ ⋅╲╱ m₂ ⋅sin⎜────────────────⎟   C₄⋅╲╱ m₁ \n",
       "___  ⎟                                          ⎜   ____   ____  ⎟            \n",
       "m₂   ⎠                                          ⎝ ╲╱ m₁ ⋅╲╱ m₂   ⎠            \n",
       "──────, x₂(t) = C₁ + C₂⋅t + ────────────────────────────────────── + ─────────\n",
       "_                                            _________                        \n",
       "                                        √k⋅╲╱ m₁ + m₂                         \n",
       "\n",
       "           ⎛       _________⎞⎤\n",
       "   ____    ⎜√k⋅t⋅╲╱ m₁ + m₂ ⎟⎥\n",
       "⋅╲╱ m₂ ⋅cos⎜────────────────⎟⎥\n",
       "           ⎜   ____   ____  ⎟⎥\n",
       "           ⎝ ╲╱ m₁ ⋅╲╱ m₂   ⎠⎥\n",
       "─────────────────────────────⎥\n",
       "        _________            ⎥\n",
       "   √k⋅╲╱ m₁ + m₂             ⎦"
      ]
     },
     "execution_count": 15,
     "metadata": {},
     "output_type": "execute_result"
    }
   ],
   "source": [
    "dsolve([Elx1,Elx2])"
   ]
  },
  {
   "cell_type": "code",
   "execution_count": null,
   "id": "333e86ac",
   "metadata": {},
   "outputs": [],
   "source": []
  }
 ],
 "metadata": {
  "kernelspec": {
   "display_name": "Python 3 (ipykernel)",
   "language": "python",
   "name": "python3"
  },
  "language_info": {
   "codemirror_mode": {
    "name": "ipython",
    "version": 3
   },
   "file_extension": ".py",
   "mimetype": "text/x-python",
   "name": "python",
   "nbconvert_exporter": "python",
   "pygments_lexer": "ipython3",
   "version": "3.9.7"
  }
 },
 "nbformat": 4,
 "nbformat_minor": 5
}
