{
 "cells": [
  {
   "cell_type": "code",
   "execution_count": 1,
   "id": "6118348a",
   "metadata": {},
   "outputs": [],
   "source": [
    "import numpy as np\n",
    "import matplotlib.pyplot as plt\n",
    "#from matplotlib import cm\n",
    "#from matplotlib.ticker import LinearLocator\n",
    "from sympy import *\n",
    "#from sympy.physics.quantum.dagger import Dagger\n",
    "#init_printing(use_latex='mathjax')"
   ]
  },
  {
   "cell_type": "markdown",
   "id": "09cbf7dd",
   "metadata": {},
   "source": [
    "Seja o potencial da forma\n",
    "\n",
    "$$ V(r)= D \\left[ 1 - e^{-a(r - r_e)} \\right]^2$$\n",
    "\n",
    "com $D$, $r_e$ e $a$ parâmetros constantes e reais, enquanto $r$ representa a distancia de um objeto físico à origem do potencial. Podemos defini-lo simbolicamente dentro do python como:"
   ]
  },
  {
   "cell_type": "code",
   "execution_count": 17,
   "id": "8019fa67",
   "metadata": {},
   "outputs": [
    {
     "data": {
      "text/latex": [
       "$\\displaystyle D \\left(1 - e^{- a \\left(r - r_{e}\\right)}\\right)^{2}$"
      ],
      "text/plain": [
       "D*(1 - exp(-a*(r - r_e)))**2"
      ]
     },
     "metadata": {},
     "output_type": "display_data"
    }
   ],
   "source": [
    "D = symbols('D',real=True)\n",
    "a = symbols('a',real=True)\n",
    "r_e = symbols('r_e',real=True)\n",
    "r = symbols('r', positive=True)\n",
    "\n",
    "\n",
    "V= D*(1 - exp(-a*(r - r_e)))**2\n",
    "\n",
    "display(V)"
   ]
  },
  {
   "cell_type": "markdown",
   "id": "9e108e90",
   "metadata": {},
   "source": [
    "O mesmo pode ser presentado gráficamente como:"
   ]
  },
  {
   "cell_type": "code",
   "execution_count": 29,
   "id": "c9a8f946",
   "metadata": {},
   "outputs": [
    {
     "data": {
      "text/plain": [
       "Text(0, 0.5, '$V(D)$')"
      ]
     },
     "execution_count": 29,
     "metadata": {},
     "output_type": "execute_result"
    },
    {
     "data": {
      "image/png": "[encoded data removed]",
      "text/plain": [
       "<Figure size 640x480 with 1 Axes>"
      ]
     },
     "metadata": {},
     "output_type": "display_data"
    }
   ],
   "source": [
    "fig, ax = plt.subplots()\n",
    "x = np.arange(1, 10, 0.01)\n",
    "f1 = lambdify(r, V.subs(D,1).subs(r_e,2).subs(a,1), \"numpy\") #Aqui traduz-se uma função do sympy para o numpy, substituindo alguns valores\n",
    "y=f1(x)\n",
    "\n",
    "ax.plot(x, y)\n",
    "plt.xlabel(r\"$r(a^{-1})$\")\n",
    "plt.ylabel(r\"$V(D)$\")\n"
   ]
  },
  {
   "cell_type": "markdown",
   "id": "ed9a1f76",
   "metadata": {},
   "source": [
    "Vamos encontrar simbólicamente o mínimo deste potencial. Primeiramente encontrando a derivada primeira do potencial:\n",
    "$$ \\frac{d V(r)}{dr} $$"
   ]
  },
  {
   "cell_type": "code",
   "execution_count": 19,
   "id": "2dcb1294",
   "metadata": {},
   "outputs": [
    {
     "data": {
      "text/latex": [
       "$\\displaystyle 2 D a \\left(1 - e^{- a \\left(r - r_{e}\\right)}\\right) e^{- a \\left(r - r_{e}\\right)} = 0$"
      ],
      "text/plain": [
       "Eq(2*D*a*(1 - exp(-a*(r - r_e)))*exp(-a*(r - r_e)), 0)"
      ]
     },
     "metadata": {},
     "output_type": "display_data"
    }
   ],
   "source": [
    "dV1 = diff(V, r)\n",
    "display(Eq(dV1,0))"
   ]
  },
  {
   "cell_type": "markdown",
   "id": "59dbc2d3",
   "metadata": {},
   "source": [
    "O mínimo ocorre quando a derivada primeira é zero. Ou seja"
   ]
  },
  {
   "cell_type": "code",
   "execution_count": 24,
   "id": "6a4a7655",
   "metadata": {},
   "outputs": [
    {
     "data": {
      "text/latex": [
       "$\\displaystyle r_{e}$"
      ],
      "text/plain": [
       "r_e"
      ]
     },
     "execution_count": 24,
     "metadata": {},
     "output_type": "execute_result"
    }
   ],
   "source": [
    "solve(dV1,r)[0]"
   ]
  },
  {
   "cell_type": "markdown",
   "id": "4d890165",
   "metadata": {},
   "source": [
    "Como $r$ só pode assumir valores positivos e reais (ja que é uma posição), então temos apenas uma solução:"
   ]
  },
  {
   "cell_type": "code",
   "execution_count": 25,
   "id": "b13c7e2d",
   "metadata": {},
   "outputs": [
    {
     "data": {
      "text/latex": [
       "$\\displaystyle r_{e}$"
      ],
      "text/plain": [
       "r_e"
      ]
     },
     "metadata": {},
     "output_type": "display_data"
    }
   ],
   "source": [
    "r0=solve(dV1,r)[0]\n",
    "display(r0)"
   ]
  },
  {
   "cell_type": "markdown",
   "id": "f8f1d893",
   "metadata": {},
   "source": [
    "Podemos agora calcular a derivada segunda exatamente no ponto de mínimo e encontrar a expressão para a constante elástica deste potencial\n",
    "$$ k = \\frac{d^2V(r_0)}{dr^2} $$"
   ]
  },
  {
   "cell_type": "code",
   "execution_count": 26,
   "id": "a676cf47",
   "metadata": {},
   "outputs": [
    {
     "data": {
      "text/latex": [
       "$\\displaystyle 2 D a^{2}$"
      ],
      "text/plain": [
       "2*D*a**2"
      ]
     },
     "metadata": {},
     "output_type": "display_data"
    }
   ],
   "source": [
    "dV2 = diff(dV1, r)\n",
    "display(dV2.subs(r,r0))"
   ]
  },
  {
   "cell_type": "code",
   "execution_count": null,
   "id": "480d799c",
   "metadata": {},
   "outputs": [],
   "source": []
  }
 ],
 "metadata": {
  "kernelspec": {
   "display_name": "Python 3 (ipykernel)",
   "language": "python",
   "name": "python3"
  },
  "language_info": {
   "codemirror_mode": {
    "name": "ipython",
    "version": 3
   },
   "file_extension": ".py",
   "mimetype": "text/x-python",
   "name": "python",
   "nbconvert_exporter": "python",
   "pygments_lexer": "ipython3",
   "version": "3.10.11"
  }
 },
 "nbformat": 4,
 "nbformat_minor": 5
}
