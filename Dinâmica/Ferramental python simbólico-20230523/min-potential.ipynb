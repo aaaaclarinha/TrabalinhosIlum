{
 "cells": [
  {
   "cell_type": "code",
   "execution_count": 76,
   "id": "6118348a",
   "metadata": {},
   "outputs": [],
   "source": [
    "import numpy as np\n",
    "import matplotlib.pyplot as plt\n",
    "#from matplotlib import cm\n",
    "#from matplotlib.ticker import LinearLocator\n",
    "from sympy import *\n",
    "#from sympy.physics.quantum.dagger import Dagger\n",
    "#init_printing(use_latex='mathjax')"
   ]
  },
  {
   "cell_type": "markdown",
   "id": "09cbf7dd",
   "metadata": {},
   "source": [
    "Seja o potencial da forma\n",
    "\n",
    "$$ V(r)= 4{V}_0 \\left[ \\left( \\frac{s}{r} \\right)^{12} - \\left( \\frac{s}{r} \\right)^{6} \\right]$$\n",
    "\n",
    "com $V_0$ e $s$ parâmetros constantes e reais, enquanto $r$ representa a distancia de um objeto físico à origem do potencial. Podemos defini-lo simbolicamente dentro do python como:"
   ]
  },
  {
   "cell_type": "code",
   "execution_count": 77,
   "id": "8019fa67",
   "metadata": {},
   "outputs": [
    {
     "data": {
      "text/latex": [
       "$\\displaystyle 4 V_{0} \\left(- \\frac{s^{6}}{r^{6}} + \\frac{s^{12}}{r^{12}}\\right)$"
      ],
      "text/plain": [
       "     ⎛   6    12⎞\n",
       "     ⎜  s    s  ⎟\n",
       "4⋅V₀⋅⎜- ── + ───⎟\n",
       "     ⎜   6    12⎟\n",
       "     ⎝  r    r  ⎠"
      ]
     },
     "metadata": {},
     "output_type": "display_data"
    }
   ],
   "source": [
    "V_0 = symbols('V_0',real=True)\n",
    "s = symbols('s',real=True)\n",
    "r = symbols('r', positive=True)\n",
    "\n",
    "\n",
    "V= 4*V_0*((s/r)**(12) - (s/r)**6)\n",
    "\n",
    "display(V)"
   ]
  },
  {
   "cell_type": "markdown",
   "id": "9e108e90",
   "metadata": {},
   "source": [
    "O mesmo pode ser presentado gráficamente como:"
   ]
  },
  {
   "cell_type": "code",
   "execution_count": 78,
   "id": "c9a8f946",
   "metadata": {},
   "outputs": [
    {
     "data": {
      "text/plain": [
       "Text(0, 0.5, '$V(V_0)$')"
      ]
     },
     "execution_count": 78,
     "metadata": {},
     "output_type": "execute_result"
    },
    {
     "data": {
      "image/png": "[encoded data removed]",
      "text/plain": [
       "<Figure size 640x480 with 1 Axes>"
      ]
     },
     "metadata": {},
     "output_type": "display_data"
    }
   ],
   "source": [
    "fig, ax = plt.subplots()\n",
    "x = np.arange(1, 3, 0.01)\n",
    "f1 = lambdify(r, V.subs(V_0,1).subs(s,1), \"numpy\") #Aqui traduz-se uma função do sympy para o numpy, substituindo alguns valores\n",
    "y=f1(x)\n",
    "\n",
    "ax.plot(x, y)\n",
    "plt.xlabel(r\"$r(s)$\")\n",
    "plt.ylabel(r\"$V(V_0)$\")\n"
   ]
  },
  {
   "cell_type": "markdown",
   "id": "ed9a1f76",
   "metadata": {},
   "source": [
    "Vamos encontrar simbólicamente o mínimo deste potencial. Primeiramente encontrando a derivada primeira do potencial:\n",
    "$$ \\frac{d V(r)}{dr} $$"
   ]
  },
  {
   "cell_type": "code",
   "execution_count": 79,
   "id": "2dcb1294",
   "metadata": {},
   "outputs": [
    {
     "data": {
      "text/latex": [
       "$\\displaystyle 4 V_{0} \\cdot \\left(\\frac{6 s^{6}}{r^{7}} - \\frac{12 s^{12}}{r^{13}}\\right)$"
      ],
      "text/plain": [
       "     ⎛   6       12⎞\n",
       "     ⎜6⋅s    12⋅s  ⎟\n",
       "4⋅V₀⋅⎜──── - ──────⎟\n",
       "     ⎜  7      13  ⎟\n",
       "     ⎝ r      r    ⎠"
      ]
     },
     "metadata": {},
     "output_type": "display_data"
    }
   ],
   "source": [
    "dV1 = diff(V, r)\n",
    "display(dV1)"
   ]
  },
  {
   "cell_type": "markdown",
   "id": "59dbc2d3",
   "metadata": {},
   "source": [
    "O mínimo ocorre quando a derivada primeira é zero. Ou seja"
   ]
  },
  {
   "cell_type": "code",
   "execution_count": 80,
   "id": "6a4a7655",
   "metadata": {},
   "outputs": [
    {
     "data": {
      "text/latex": [
       "$\\displaystyle \\left[ - \\sqrt[6]{2} s, \\  \\sqrt[6]{2} s, \\  s \\left(- \\frac{\\sqrt[6]{2}}{2} - \\frac{\\sqrt[6]{2} \\sqrt{3} i}{2}\\right), \\  s \\left(- \\frac{\\sqrt[6]{2}}{2} + \\frac{\\sqrt[6]{2} \\sqrt{3} i}{2}\\right), \\  s \\left(\\frac{\\sqrt[6]{2}}{2} - \\frac{\\sqrt[6]{2} \\sqrt{3} i}{2}\\right), \\  s \\left(\\frac{\\sqrt[6]{2}}{2} + \\frac{\\sqrt[6]{2} \\sqrt{3} i}{2}\\right)\\right]$"
      ],
      "text/plain": [
       "⎡                     ⎛  6 ___   6 ___     ⎞    ⎛  6 ___   6 ___     ⎞    ⎛6 _\n",
       "⎢ 6 ___    6 ___      ⎜  ╲╱ 2    ╲╱ 2 ⋅√3⋅ⅈ⎟    ⎜  ╲╱ 2    ╲╱ 2 ⋅√3⋅ⅈ⎟    ⎜╲╱ \n",
       "⎢-╲╱ 2 ⋅s, ╲╱ 2 ⋅s, s⋅⎜- ───── - ──────────⎟, s⋅⎜- ───── + ──────────⎟, s⋅⎜───\n",
       "⎣                     ⎝    2         2     ⎠    ⎝    2         2     ⎠    ⎝  2\n",
       "\n",
       "__   6 ___     ⎞    ⎛6 ___   6 ___     ⎞⎤\n",
       "2    ╲╱ 2 ⋅√3⋅ⅈ⎟    ⎜╲╱ 2    ╲╱ 2 ⋅√3⋅ⅈ⎟⎥\n",
       "── - ──────────⎟, s⋅⎜───── + ──────────⎟⎥\n",
       "         2     ⎠    ⎝  2         2     ⎠⎦"
      ]
     },
     "execution_count": 80,
     "metadata": {},
     "output_type": "execute_result"
    }
   ],
   "source": [
    "solve(dV1,r)"
   ]
  },
  {
   "cell_type": "markdown",
   "id": "4d890165",
   "metadata": {},
   "source": [
    "Como $r$ só pode assumir valores positivos e reais (ja que é uma posição), então temos apenas uma solução:"
   ]
  },
  {
   "cell_type": "code",
   "execution_count": 73,
   "id": "b13c7e2d",
   "metadata": {},
   "outputs": [
    {
     "data": {
      "text/latex": [
       "$\\displaystyle \\sqrt[6]{2} s$"
      ],
      "text/plain": [
       "6 ___  \n",
       "╲╱ 2 ⋅s"
      ]
     },
     "metadata": {},
     "output_type": "display_data"
    }
   ],
   "source": [
    "r0=solve(dV1,r)[1]\n",
    "display(r0)"
   ]
  },
  {
   "cell_type": "markdown",
   "id": "f8f1d893",
   "metadata": {},
   "source": [
    "Podemos agora calcular a derivada segunda exatamente no ponto de mínimo e encontrar a expressão para a constante elástica deste potencial\n",
    "$$ k = \\frac{d^2V(r_0)}{dr^2} $$"
   ]
  },
  {
   "cell_type": "code",
   "execution_count": 81,
   "id": "a676cf47",
   "metadata": {},
   "outputs": [
    {
     "data": {
      "text/latex": [
       "$\\displaystyle \\frac{36 \\cdot 2^{\\frac{2}{3}} V_{0}}{s^{2}}$"
      ],
      "text/plain": [
       "    2/3   \n",
       "36⋅2   ⋅V₀\n",
       "──────────\n",
       "     2    \n",
       "    s     "
      ]
     },
     "metadata": {},
     "output_type": "display_data"
    }
   ],
   "source": [
    "dV2 = diff(dV1, r)\n",
    "display(dV2.subs(r,r0))"
   ]
  },
  {
   "cell_type": "markdown",
   "id": "ab5370fb",
   "metadata": {},
   "source": [
    "**Faça o mesmo exercício agora para o seguinte potencial\n",
    "$$ V(r) = D \\left[ 1 - e^{-a (r - r_e)} \\right]$$\n",
    "e encontre o ponto de mínimo e a sua constante elástica em termos dos parâmetros $D$ e $r_e$**"
   ]
  },
  {
   "cell_type": "code",
   "execution_count": null,
   "id": "87185ee8",
   "metadata": {},
   "outputs": [],
   "source": []
  },
  {
   "cell_type": "code",
   "execution_count": null,
   "id": "0ef09ba6",
   "metadata": {},
   "outputs": [],
   "source": []
  }
 ],
 "metadata": {
  "kernelspec": {
   "display_name": "Python 3 (ipykernel)",
   "language": "python",
   "name": "python3"
  },
  "language_info": {
   "codemirror_mode": {
    "name": "ipython",
    "version": 3
   },
   "file_extension": ".py",
   "mimetype": "text/x-python",
   "name": "python",
   "nbconvert_exporter": "python",
   "pygments_lexer": "ipython3",
   "version": "3.10.11"
  }
 },
 "nbformat": 4,
 "nbformat_minor": 5
}
