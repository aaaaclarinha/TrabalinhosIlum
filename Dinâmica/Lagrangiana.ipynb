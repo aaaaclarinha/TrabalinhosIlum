{
 "cells": [
  {
   "cell_type": "code",
   "execution_count": 1,
   "id": "eef58b86-ab4b-4756-a729-8785ea812bf8",
   "metadata": {
    "jupyter": {
     "source_hidden": true
    },
    "tags": []
   },
   "outputs": [],
   "source": [
    "import numpy as np\n",
    "import matplotlib.pyplot as plt\n",
    "import sympy as sp\n",
    "from sympy import *\n",
    "import sympy.physics.mechanics as mech\n",
    "mech.init_vprinting()"
   ]
  },
  {
   "cell_type": "markdown",
   "id": "e8d08719-ad22-4da3-ae56-ce5cabe6c9b0",
   "metadata": {},
   "source": [
    "<h1> Equação do Movimento - Lagrangiana </h1>\n",
    "\n",
    "<p style=\"text-align: justify\">Encontre as equações do movimento do problema de duas cargas de massas $m_1$ e $m_2$ e cargas, $q_1$ e $q_2$ respectivamente. Estas cargas estão acopladas uma com a outra por uma mola de massa $k$ e se movimentam em apenas uma dimensão. O mesmo modelo simplificado é capaz de prever propriedades de plasmons em superfícies</p>\n",
    "\n",
    "<hr></hr>"
   ]
  },
  {
   "cell_type": "markdown",
   "id": "9eb0692e-a9d9-433b-92c4-defcd9a2ba4f",
   "metadata": {},
   "source": [
    "<p style=\"text-align: justify\"> Primeiro escrevemos a Lagrangiana do sistema. Como as cargas estão aclopadas e se movem apenas em uma dimensão (vamos considerar que elas se movem em $x$), a energia cinética do sistema é escrita como </p>\n",
    "\n",
    "<p style=\"text-align: center\"> $$ T = \\frac{m_{1} \\dot{x_{1}}^2}{2} + \\frac{m_{2} \\dot{x_{2}}^2}{2} $$ </p>\n",
    "\n",
    "<p style=\"text-align: justify\"> Já a energia potencial é dada pelo potencial eletrico das cargas mais a força elástica da mola, desta forma, </p>\n",
    "\n",
    "<p style=\"text-align: center\">$$ V = \\frac{q_{1}q_{2}}{4\\pi\\epsilon_{0}\\sqrt{(x_{2}-x_{1})^2}} + \\frac{k(x_{2}-x_{1})^2}{2} $$ </p>\n",
    "\n",
    "<p style=\"text-align: justify\"> desta forma, escrevemos a Lagrangiana: </p>\n",
    "\n",
    "<p style=\"text-align: center\"> $$ L = \\frac{m_{1}\\dot{x_{1}}^2 + m_{2}\\dot{x_{2}}^2}{2} - \\left[\\frac{q_{1}q_{2}}{4\\pi\\epsilon_{0}\\sqrt{(x_{2}-x_{1})^2}} + \\frac{k(x_{2}-x_{1})^2}{2}\\right] $$ </p>"
   ]
  },
  {
   "cell_type": "code",
   "execution_count": 2,
   "id": "c3015f86-380c-4c46-94e8-15b1197a6464",
   "metadata": {},
   "outputs": [],
   "source": [
    "# declarando variáveis e constantes \n",
    "m_1, m_2 = symbols('m_1 m_2', positive=True)\n",
    "q_1, q_2 = symbols('q_1 q_2', positive=True)\n",
    "pi, e_0, k = symbols('pi e_0 k', positive=True)\n",
    "t = symbols('t', real=True)\n",
    "x_1 = Function('x_1')(t)\n",
    "x_2 = Function('x_2')(t)"
   ]
  },
  {
   "cell_type": "code",
   "execution_count": 3,
   "id": "11cc421e-c216-4f51-ac6a-d64757813320",
   "metadata": {},
   "outputs": [
    {
     "name": "stdout",
     "output_type": "stream",
     "text": [
      "Energia cinética (T) do problema:\n"
     ]
    },
    {
     "data": {
      "image/png": "[encoded data removed]",
      "text/latex": [
       "$\\displaystyle \\frac{m_{1} \\left(\\frac{d}{d t} \\operatorname{x_{1}}{\\left(t \\right)}\\right)^{2}}{2} + \\frac{m_{2} \\left(\\frac{d}{d t} \\operatorname{x_{2}}{\\left(t \\right)}\\right)^{2}}{2}$"
      ],
      "text/plain": [
       "              2                 2\n",
       "   ⎛d        ⎞       ⎛d        ⎞ \n",
       "m₁⋅⎜──(x₁(t))⎟    m₂⋅⎜──(x₂(t))⎟ \n",
       "   ⎝dt       ⎠       ⎝dt       ⎠ \n",
       "─────────────── + ───────────────\n",
       "       2                 2       "
      ]
     },
     "metadata": {},
     "output_type": "display_data"
    },
    {
     "name": "stdout",
     "output_type": "stream",
     "text": [
      "\n",
      "Energia potencial (V) do problema:\n"
     ]
    },
    {
     "data": {
      "image/png": "[encoded data removed]",
      "text/latex": [
       "$\\displaystyle \\frac{k \\left(\\operatorname{x_{1}}{\\left(t \\right)} - \\operatorname{x_{2}}{\\left(t \\right)}\\right)^{2}}{2} + \\frac{q_{1} q_{2}}{4 e_{0} \\pi \\sqrt{\\left(\\operatorname{x_{1}}{\\left(t \\right)} - \\operatorname{x_{2}}{\\left(t \\right)}\\right)^{2}}}$"
      ],
      "text/plain": [
       "                 2                               \n",
       "k⋅(x₁(t) - x₂(t))               q₁⋅q₂            \n",
       "────────────────── + ────────────────────────────\n",
       "        2                      __________________\n",
       "                              ╱                2 \n",
       "                     4⋅e₀⋅π⋅╲╱  (x₁(t) - x₂(t))  "
      ]
     },
     "metadata": {},
     "output_type": "display_data"
    },
    {
     "name": "stdout",
     "output_type": "stream",
     "text": [
      "\n"
     ]
    }
   ],
   "source": [
    "# escrevendo as equações \n",
    "T = Rational(1,2)*m_1*x_1.diff(t)**2 + Rational(1,2)*m_2*x_2.diff(t)**2\n",
    "V = (q_1*q_2)/(4*pi*e_0*sqrt((x_1-x_2)**2)) + Rational(1,2)*k*(x_1-x_2)**2\n",
    "L = T - V\n",
    "\n",
    "# visualizando os resultados \n",
    "print(\"Energia cinética (T) do problema:\")\n",
    "display(T)\n",
    "print()\n",
    "\n",
    "print(\"Energia potencial (V) do problema:\")\n",
    "display(V)\n",
    "print()"
   ]
  },
  {
   "cell_type": "code",
   "execution_count": 4,
   "id": "fe9d8569-393e-4de9-ba41-29b93ac62caa",
   "metadata": {},
   "outputs": [
    {
     "name": "stdout",
     "output_type": "stream",
     "text": [
      "Lagrangiana (L = T - V) do sistema:\n"
     ]
    },
    {
     "data": {
      "image/png": "[encoded data removed]",
      "text/latex": [
       "$\\displaystyle - \\frac{k \\left(\\operatorname{x_{1}}{\\left(t \\right)} - \\operatorname{x_{2}}{\\left(t \\right)}\\right)^{2}}{2} + \\frac{m_{1} \\left(\\frac{d}{d t} \\operatorname{x_{1}}{\\left(t \\right)}\\right)^{2}}{2} + \\frac{m_{2} \\left(\\frac{d}{d t} \\operatorname{x_{2}}{\\left(t \\right)}\\right)^{2}}{2}$"
      ],
      "text/plain": [
       "                                     2                 2\n",
       "                          ⎛d        ⎞       ⎛d        ⎞ \n",
       "                   2   m₁⋅⎜──(x₁(t))⎟    m₂⋅⎜──(x₂(t))⎟ \n",
       "  k⋅(x₁(t) - x₂(t))       ⎝dt       ⎠       ⎝dt       ⎠ \n",
       "- ────────────────── + ─────────────── + ───────────────\n",
       "          2                   2                 2       "
      ]
     },
     "metadata": {},
     "output_type": "display_data"
    }
   ],
   "source": [
    "L = (T - V).subs(q_1, 0)\n",
    "\n",
    "print(\"Lagrangiana (L = T - V) do sistema:\")\n",
    "display(L)"
   ]
  },
  {
   "cell_type": "markdown",
   "id": "638a9e08-6829-480e-b607-b06d7fcb7599",
   "metadata": {},
   "source": [
    "<p style=\"text-align: justify\"> A equação de Euler - Lagrange é escrita como</p>\n",
    "\n",
    "<p style=\"text-align: center\"> $$ \\frac{\\partial L}{\\partial x} \\frac{d}{dt} \\left( \\frac{\\partial L}{ \\partial \\dot{x}} \\right) = 0 $$ </p>\n",
    "\n",
    "<p style=\"text-align: justify\"> resolvendo para $x_1$ e para $x_2$: </p>"
   ]
  },
  {
   "cell_type": "code",
   "execution_count": 5,
   "id": "acf825fc-a6bc-4233-b090-952af0bce38e",
   "metadata": {},
   "outputs": [
    {
     "name": "stdout",
     "output_type": "stream",
     "text": [
      "A equação de Euler-Lagrange que descreve a fase estacionaria de x_1 é\n"
     ]
    },
    {
     "data": {
      "image/png": "[encoded data removed]",
      "text/latex": [
       "$\\displaystyle - \\frac{k \\left(2 \\operatorname{x_{1}}{\\left(t \\right)} - 2 \\operatorname{x_{2}}{\\left(t \\right)}\\right)}{2} - m_{1} \\frac{d^{2}}{d t^{2}} \\operatorname{x_{1}}{\\left(t \\right)} = 0$"
      ],
      "text/plain": [
       "                               2           \n",
       "  k⋅(2⋅x₁(t) - 2⋅x₂(t))       d            \n",
       "- ───────────────────── - m₁⋅───(x₁(t)) = 0\n",
       "            2                  2           \n",
       "                             dt            "
      ]
     },
     "metadata": {},
     "output_type": "display_data"
    },
    {
     "name": "stdout",
     "output_type": "stream",
     "text": [
      "\n",
      "A equação de Euler-Lagrange que descreve a fase estacionaria de x_2 é\n"
     ]
    },
    {
     "data": {
      "image/png": "[encoded data removed]",
      "text/latex": [
       "$\\displaystyle - \\frac{k \\left(- 2 \\operatorname{x_{1}}{\\left(t \\right)} + 2 \\operatorname{x_{2}}{\\left(t \\right)}\\right)}{2} - m_{2} \\frac{d^{2}}{d t^{2}} \\operatorname{x_{2}}{\\left(t \\right)} = 0$"
      ],
      "text/plain": [
       "                                2           \n",
       "  k⋅(-2⋅x₁(t) + 2⋅x₂(t))       d            \n",
       "- ────────────────────── - m₂⋅───(x₂(t)) = 0\n",
       "            2                   2           \n",
       "                              dt            "
      ]
     },
     "metadata": {},
     "output_type": "display_data"
    },
    {
     "name": "stdout",
     "output_type": "stream",
     "text": [
      "\n"
     ]
    }
   ],
   "source": [
    "# para x_1\n",
    "Elx1 = Eq(L.diff(x_1) - L.diff(x_1.diff(t)).diff(t),0)\n",
    "\n",
    "print(\"A equação de Euler-Lagrange que descreve a fase estacionaria de x_1 é\")\n",
    "display(Elx1)\n",
    "\n",
    "print()\n",
    "\n",
    "# para x_2\n",
    "Elx2 = Eq(L.diff(x_2) - L.diff(x_2.diff(t)).diff(t),0)\n",
    "\n",
    "print(\"A equação de Euler-Lagrange que descreve a fase estacionaria de x_2 é\")\n",
    "display(Elx2)\n",
    "\n",
    "print()"
   ]
  },
  {
   "cell_type": "code",
   "execution_count": 6,
   "id": "d2019188-34c1-4c2c-a9d1-683f81bfdf62",
   "metadata": {},
   "outputs": [
    {
     "data": {
      "image/png": "[encoded data removed]",
      "text/latex": [
       "$\\displaystyle \\left[ \\operatorname{x_{1}}{\\left(t \\right)} = C_{1} + C_{2} t - \\frac{C_{3} m_{2}^{\\frac{3}{2}} \\sin{\\left(\\frac{\\sqrt{k} t \\sqrt{m_{1} + m_{2}}}{\\sqrt{m_{1}} \\sqrt{m_{2}}} \\right)}}{\\sqrt{k} \\sqrt{m_{1}} \\sqrt{m_{1} + m_{2}}} - \\frac{C_{4} m_{2}^{\\frac{3}{2}} \\cos{\\left(\\frac{\\sqrt{k} t \\sqrt{m_{1} + m_{2}}}{\\sqrt{m_{1}} \\sqrt{m_{2}}} \\right)}}{\\sqrt{k} \\sqrt{m_{1}} \\sqrt{m_{1} + m_{2}}}, \\  \\operatorname{x_{2}}{\\left(t \\right)} = C_{1} + C_{2} t + \\frac{C_{3} \\sqrt{m_{1}} \\sqrt{m_{2}} \\sin{\\left(\\frac{\\sqrt{k} t \\sqrt{m_{1} + m_{2}}}{\\sqrt{m_{1}} \\sqrt{m_{2}}} \\right)}}{\\sqrt{k} \\sqrt{m_{1} + m_{2}}} + \\frac{C_{4} \\sqrt{m_{1}} \\sqrt{m_{2}} \\cos{\\left(\\frac{\\sqrt{k} t \\sqrt{m_{1} + m_{2}}}{\\sqrt{m_{1}} \\sqrt{m_{2}}} \\right)}}{\\sqrt{k} \\sqrt{m_{1} + m_{2}}}\\right]$"
      ],
      "text/plain": [
       "⎡                                ⎛       _________⎞               ⎛       ____\n",
       "⎢                         3/2    ⎜√k⋅t⋅╲╱ m₁ + m₂ ⎟        3/2    ⎜√k⋅t⋅╲╱ m₁ \n",
       "⎢                    C₃⋅m₂   ⋅sin⎜────────────────⎟   C₄⋅m₂   ⋅cos⎜───────────\n",
       "⎢                                ⎜   ____   ____  ⎟               ⎜   ____   _\n",
       "⎢                                ⎝ ╲╱ m₁ ⋅╲╱ m₂   ⎠               ⎝ ╲╱ m₁ ⋅╲╱ \n",
       "⎢x₁(t) = C₁ + C₂⋅t - ────────────────────────────── - ────────────────────────\n",
       "⎢                             ____   _________                 ____   ________\n",
       "⎣                        √k⋅╲╱ m₁ ⋅╲╱ m₁ + m₂             √k⋅╲╱ m₁ ⋅╲╱ m₁ + m₂\n",
       "\n",
       "_____⎞                                          ⎛       _________⎞            \n",
       "+ m₂ ⎟                           ____   ____    ⎜√k⋅t⋅╲╱ m₁ + m₂ ⎟        ____\n",
       "─────⎟                      C₃⋅╲╱ m₁ ⋅╲╱ m₂ ⋅sin⎜────────────────⎟   C₄⋅╲╱ m₁ \n",
       "___  ⎟                                          ⎜   ____   ____  ⎟            \n",
       "m₂   ⎠                                          ⎝ ╲╱ m₁ ⋅╲╱ m₂   ⎠            \n",
       "──────, x₂(t) = C₁ + C₂⋅t + ────────────────────────────────────── + ─────────\n",
       "_                                            _________                        \n",
       "                                        √k⋅╲╱ m₁ + m₂                         \n",
       "\n",
       "           ⎛       _________⎞⎤\n",
       "   ____    ⎜√k⋅t⋅╲╱ m₁ + m₂ ⎟⎥\n",
       "⋅╲╱ m₂ ⋅cos⎜────────────────⎟⎥\n",
       "           ⎜   ____   ____  ⎟⎥\n",
       "           ⎝ ╲╱ m₁ ⋅╲╱ m₂   ⎠⎥\n",
       "─────────────────────────────⎥\n",
       "        _________            ⎥\n",
       "   √k⋅╲╱ m₁ + m₂             ⎦"
      ]
     },
     "execution_count": 6,
     "metadata": {},
     "output_type": "execute_result"
    }
   ],
   "source": [
    "dsolve([Elx1,Elx2])"
   ]
  },
  {
   "cell_type": "markdown",
   "id": "8784a701-fe55-42a2-838d-cb1ad67cea91",
   "metadata": {},
   "source": [
    "<hr></hr>\n",
    "<h1> Potencial de elétrico </h1>"
   ]
  },
  {
   "cell_type": "markdown",
   "id": "3f51e5b4-6c59-4d0b-b9a7-dfd58b80fab9",
   "metadata": {},
   "source": [
    "<p style=\"text-align: justify\"> Encontre o ponto de mínimo e a constante elástica em termos de $D$ e $r_e$ do seguinte potencial</p>  \n",
    "\n",
    "<p style=\"text-align: center\"> $$ V(r) = D \\ [1 - e^{-a(r-r_{e})}]^2 $$ </p>\n",
    "\n",
    "<p style=\"text-align : justify\"> onde $r$ representa a distância de um objeto em relação à origem do potencial </p>"
   ]
  },
  {
   "cell_type": "code",
   "execution_count": 7,
   "id": "a1c8eebd-1674-4f8d-b00d-e98480c9d885",
   "metadata": {},
   "outputs": [],
   "source": [
    "# declarando as variaveis\n",
    "D = symbols('D',real=True)\n",
    "r_e = symbols('r_e', real=True)\n",
    "r = symbols('r', positive=True)\n",
    "a = symbols('a', real=True)"
   ]
  },
  {
   "cell_type": "code",
   "execution_count": 8,
   "id": "ac7fe681-a885-48f8-8fae-a2bf91d72fb1",
   "metadata": {},
   "outputs": [
    {
     "data": {
      "image/png": "[encoded data removed]",
      "text/latex": [
       "$\\displaystyle D \\left(1 - e^{- a \\left(r - r_{e}\\right)}\\right)^{2}$"
      ],
      "text/plain": [
       "                    2\n",
       "  ⎛     -a⋅(r - rₑ)⎞ \n",
       "D⋅⎝1 - ℯ           ⎠ "
      ]
     },
     "metadata": {},
     "output_type": "display_data"
    }
   ],
   "source": [
    "V = D * (1 - sp.exp(-a*(r - r_e)))**2\n",
    "\n",
    "display(V)"
   ]
  },
  {
   "cell_type": "code",
   "execution_count": 9,
   "id": "e4e6b36a-2e47-4257-a68e-22d94f1f746e",
   "metadata": {},
   "outputs": [
    {
     "data": {
      "text/plain": [
       "Text(0, 0.5, '$V(V_0)$')"
      ]
     },
     "execution_count": 9,
     "metadata": {},
     "output_type": "execute_result"
    },
    {
     "data": {
      "image/png": "[encoded data removed]",
      "text/plain": [
       "<Figure size 432x288 with 1 Axes>"
      ]
     },
     "metadata": {
      "needs_background": "light"
     },
     "output_type": "display_data"
    }
   ],
   "source": [
    "# plot da função\n",
    "fig, ax = plt.subplots()\n",
    "plt.ylim(0, 3) # delimitando os pontos do eixo y \n",
    "\n",
    "x = np.arange(0, 5, 0.1)\n",
    "f1 = lambdify(r, V.subs(D,1).subs(r_e,1).subs(a,1), \"numpy\") #Aqui traduz-se uma função do sympy para o numpy, substituindo alguns valores\n",
    "y = f1(x)\n",
    "\n",
    "\n",
    "ax.plot(x, y)\n",
    "plt.xlabel(r\"$r(s)$\")\n",
    "plt.ylabel(r\"$V(V_0)$\")"
   ]
  },
  {
   "cell_type": "markdown",
   "id": "606f2523-1400-4d01-b16b-4cc940250b94",
   "metadata": {},
   "source": [
    "<p style=\"text-align: justify\"> O ponto de mínimo ocorre quando a derivada da função é 0, ou seja </p>\n",
    "\n",
    "<p style=\"text-align: center\"> $$ \\frac{dV(r)}{dr_e} = 0 $$ </p>\n",
    "\n",
    "<p style=\"text-align: justify\"> desta forma, encontramos primeiro a derivada da função $V(r)$ e resolver para $r_e$, achando assim, o ponto de mínimo do potencial: </p>"
   ]
  },
  {
   "cell_type": "code",
   "execution_count": 19,
   "id": "e9ad0d34-56ab-4348-b3d9-7c359395d1c4",
   "metadata": {},
   "outputs": [
    {
     "name": "stdout",
     "output_type": "stream",
     "text": [
      "Primeira derivada de V(r) em função de r_e:\n"
     ]
    },
    {
     "data": {
      "image/png": "[encoded data removed]",
      "text/latex": [
       "$\\displaystyle - 2 D a \\left(1 - e^{- a \\left(r - r_{e}\\right)}\\right) e^{- a \\left(r - r_{e}\\right)}$"
      ],
      "text/plain": [
       "       ⎛     -a⋅(r - rₑ)⎞  -a⋅(r - rₑ)\n",
       "-2⋅D⋅a⋅⎝1 - ℯ           ⎠⋅ℯ           "
      ]
     },
     "metadata": {},
     "output_type": "display_data"
    },
    {
     "name": "stdout",
     "output_type": "stream",
     "text": [
      "Ponto de mínima de V(r):\n"
     ]
    },
    {
     "data": {
      "image/png": "[encoded data removed]",
      "text/latex": [
       "$\\displaystyle \\left[ r\\right]$"
      ],
      "text/plain": [
       "[r]"
      ]
     },
     "metadata": {},
     "output_type": "display_data"
    }
   ],
   "source": [
    "derivada_1_V = diff(V, r_e)\n",
    "print(\"Primeira derivada de V(r) em função de r_e:\")\n",
    "display(derivada_1_V)\n",
    "\n",
    "print(\"Ponto de mínima de V(r):\")\n",
    "r_0 = solve(derivada_1_V,r_e)\n",
    "display(r_0)"
   ]
  },
  {
   "cell_type": "markdown",
   "id": "0894383a-27e2-4ce2-a5ca-d4eb3a6c9832",
   "metadata": {},
   "source": [
    "<p style=\"text-align: justify\"> Já para encontrar a constante elástica, usa-se a segunda derivada da função, tal que:</p>\n",
    "\n",
    "<p style=\"text-align: center\"> $$k = \\frac{d^2V(r_e)}{dr_{e}^2}$$ </p>"
   ]
  },
  {
   "cell_type": "code",
   "execution_count": 18,
   "id": "70082e55-4adf-4b5e-be45-a3cf1731917a",
   "metadata": {},
   "outputs": [
    {
     "name": "stdout",
     "output_type": "stream",
     "text": [
      "Derivada segunda no ponto de mínima (constante elastica)\n"
     ]
    },
    {
     "data": {
      "image/png": "[encoded data removed]",
      "text/latex": [
       "$\\displaystyle - 2 D a^{2} \\left(1 - e^{- a \\left(r - r_{e}\\right)}\\right) e^{- a \\left(r - r_{e}\\right)} + 2 D a^{2} e^{- 2 a \\left(r - r_{e}\\right)}$"
      ],
      "text/plain": [
       "       2 ⎛     -a⋅(r - rₑ)⎞  -a⋅(r - rₑ)        2  -2⋅a⋅(r - rₑ)\n",
       "- 2⋅D⋅a ⋅⎝1 - ℯ           ⎠⋅ℯ            + 2⋅D⋅a ⋅ℯ             "
      ]
     },
     "metadata": {},
     "output_type": "display_data"
    }
   ],
   "source": [
    "print(\"Derivada segunda no ponto de mínima (constante elastica)\")\n",
    "derivada_2_V = diff(V_derivado, r_e)\n",
    "display(derivada_2_V.subs(r_e,r_0))"
   ]
  }
 ],
 "metadata": {
  "kernelspec": {
   "display_name": "ilumpy",
   "language": "python",
   "name": "ilumpy"
  },
  "language_info": {
   "codemirror_mode": {
    "name": "ipython",
    "version": 3
   },
   "file_extension": ".py",
   "mimetype": "text/x-python",
   "name": "python",
   "nbconvert_exporter": "python",
   "pygments_lexer": "ipython3",
   "version": "3.9.7"
  }
 },
 "nbformat": 4,
 "nbformat_minor": 5
}
