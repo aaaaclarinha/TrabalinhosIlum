{
 "cells": [
  {
   "cell_type": "markdown",
   "id": "608bc190",
   "metadata": {},
   "source": [
    "<h1>Equação do movimento - Lagrangiana</h1>\n",
    "\n",
    "<p style=\"text-align: justify\">Vamos como ilustração escrever a Lagrangiana para uma partícula de massa $m$ livre no campo gravitacional terrestre </p>"
   ]
  },
  {
   "cell_type": "code",
   "execution_count": 1,
   "id": "6118348a",
   "metadata": {
    "tags": []
   },
   "outputs": [],
   "source": [
    "import numpy as np\n",
    "import matplotlib.pyplot as plt\n",
    "#from matplotlib import cm\n",
    "#from matplotlib.ticker import LinearLocator\n",
    "from sympy import *\n",
    "import sympy.physics.mechanics as mech\n",
    "mech.init_vprinting()\n",
    "#from sympy.physics.quantum.dagger import Dagger\n",
    "#init_printing(use_latex='mathjax')"
   ]
  },
  {
   "cell_type": "code",
   "execution_count": 2,
   "id": "0ef09ba6",
   "metadata": {},
   "outputs": [],
   "source": [
    "t = symbols('t', real=True)\n",
    "m, g = symbols('m g', positive=True)\n",
    "\n",
    "x = Function('x')(t)\n",
    "y = Function('y')(t)\n",
    "z = Function('z')(t)"
   ]
  },
  {
   "cell_type": "markdown",
   "id": "23d40848",
   "metadata": {},
   "source": [
    "<p style=\"text-align: justify\">A energia cinética é </p>\n",
    "<p style=\"text-align: center\">$$ T = \\frac{1}{2} m \\dot{x}^2 + \\frac{1}{2} m \\dot{y}^2 + \\frac{1}{2} m \\dot{z}^2$$</p>\n",
    "<p style=\"text-align: justify\">que fica definida como</p>"
   ]
  },
  {
   "cell_type": "code",
   "execution_count": 3,
   "id": "e26c4bb6",
   "metadata": {},
   "outputs": [
    {
     "data": {
      "image/png": "[encoded data removed]",
      "text/latex": [
       "$\\displaystyle \\frac{m \\left(\\frac{d}{d t} x{\\left(t \\right)}\\right)^{2}}{2} + \\frac{m \\left(\\frac{d}{d t} y{\\left(t \\right)}\\right)^{2}}{2} + \\frac{m \\left(\\frac{d}{d t} z{\\left(t \\right)}\\right)^{2}}{2}$"
      ],
      "text/plain": [
       "            2               2               2\n",
       "  ⎛d       ⎞      ⎛d       ⎞      ⎛d       ⎞ \n",
       "m⋅⎜──(x(t))⎟    m⋅⎜──(y(t))⎟    m⋅⎜──(z(t))⎟ \n",
       "  ⎝dt      ⎠      ⎝dt      ⎠      ⎝dt      ⎠ \n",
       "───────────── + ───────────── + ─────────────\n",
       "      2               2               2      "
      ]
     },
     "metadata": {},
     "output_type": "display_data"
    }
   ],
   "source": [
    "T= Rational(1,2)*m*x.diff(t)**2 + Rational(1,2)*m*y.diff(t)**2 + Rational(1,2)*m*z.diff(t)**2\n",
    "display(T)"
   ]
  },
  {
   "cell_type": "markdown",
   "id": "1ebd2fd9",
   "metadata": {},
   "source": [
    "E a energia potencial adotando a origem em $z=0$\n",
    "$$ U = mgz $$"
   ]
  },
  {
   "cell_type": "code",
   "execution_count": 4,
   "id": "a50c0d8f",
   "metadata": {},
   "outputs": [
    {
     "data": {
      "image/png": "[encoded data removed]",
      "text/latex": [
       "$\\displaystyle g m z{\\left(t \\right)}$"
      ],
      "text/plain": [
       "g⋅m⋅z(t)"
      ]
     },
     "metadata": {},
     "output_type": "display_data"
    }
   ],
   "source": [
    "U = m*g*z\n",
    "display(U)"
   ]
  },
  {
   "cell_type": "markdown",
   "id": "491dd539",
   "metadata": {},
   "source": [
    "A lagrangiana do systema fica escrita então:"
   ]
  },
  {
   "cell_type": "code",
   "execution_count": 5,
   "id": "c0a41448",
   "metadata": {},
   "outputs": [
    {
     "data": {
      "image/png": "[encoded data removed]",
      "text/latex": [
       "$\\displaystyle - g m z{\\left(t \\right)} + \\frac{m \\left(\\frac{d}{d t} x{\\left(t \\right)}\\right)^{2}}{2} + \\frac{m \\left(\\frac{d}{d t} y{\\left(t \\right)}\\right)^{2}}{2} + \\frac{m \\left(\\frac{d}{d t} z{\\left(t \\right)}\\right)^{2}}{2}$"
      ],
      "text/plain": [
       "                        2               2               2\n",
       "              ⎛d       ⎞      ⎛d       ⎞      ⎛d       ⎞ \n",
       "            m⋅⎜──(x(t))⎟    m⋅⎜──(y(t))⎟    m⋅⎜──(z(t))⎟ \n",
       "              ⎝dt      ⎠      ⎝dt      ⎠      ⎝dt      ⎠ \n",
       "-g⋅m⋅z(t) + ───────────── + ───────────── + ─────────────\n",
       "                  2               2               2      "
      ]
     },
     "metadata": {},
     "output_type": "display_data"
    }
   ],
   "source": [
    "L = T - U\n",
    "display(L)"
   ]
  },
  {
   "cell_type": "markdown",
   "id": "4ca53c96",
   "metadata": {},
   "source": [
    "Temos então que encontrar a equação de Euler-Lagrange para cada uma das variáveis $x$, $y$ e $z$,\n",
    "\n",
    "$$ \\frac{\\partial L}{ \\partial q} - \\frac{d}{dt} \\left( \\frac{\\partial L}{ \\partial \\dot{q}} \\right) = 0 $$"
   ]
  },
  {
   "cell_type": "code",
   "execution_count": 6,
   "id": "f3d1b96f",
   "metadata": {},
   "outputs": [
    {
     "data": {
      "image/png": "[encoded data removed]",
      "text/latex": [
       "$\\displaystyle - m \\frac{d^{2}}{d t^{2}} x{\\left(t \\right)} = 0$"
      ],
      "text/plain": [
       "     2          \n",
       "    d           \n",
       "-m⋅───(x(t)) = 0\n",
       "     2          \n",
       "   dt           "
      ]
     },
     "metadata": {},
     "output_type": "display_data"
    }
   ],
   "source": [
    "Elx = Eq(L.diff(x) - L.diff(x.diff(t)).diff(t),0)\n",
    "display(Elx)"
   ]
  },
  {
   "cell_type": "code",
   "execution_count": 7,
   "id": "88dbbd52",
   "metadata": {},
   "outputs": [
    {
     "data": {
      "image/png": "[encoded data removed]",
      "text/latex": [
       "$\\displaystyle - m \\frac{d^{2}}{d t^{2}} y{\\left(t \\right)} = 0$"
      ],
      "text/plain": [
       "     2          \n",
       "    d           \n",
       "-m⋅───(y(t)) = 0\n",
       "     2          \n",
       "   dt           "
      ]
     },
     "metadata": {},
     "output_type": "display_data"
    }
   ],
   "source": [
    "Ely = Eq(L.diff(y) - L.diff(y.diff(t)).diff(t),0)\n",
    "display(Ely)"
   ]
  },
  {
   "cell_type": "code",
   "execution_count": 8,
   "id": "b10b44a1",
   "metadata": {},
   "outputs": [
    {
     "data": {
      "image/png": "[encoded data removed]",
      "text/latex": [
       "$\\displaystyle - g m - m \\frac{d^{2}}{d t^{2}} z{\\left(t \\right)} = 0$"
      ],
      "text/plain": [
       "           2          \n",
       "          d           \n",
       "-g⋅m - m⋅───(z(t)) = 0\n",
       "           2          \n",
       "         dt           "
      ]
     },
     "metadata": {},
     "output_type": "display_data"
    }
   ],
   "source": [
    "Elz = Eq(L.diff(z) - L.diff(z.diff(t)).diff(t),0)\n",
    "display(Elz) #.simplify()"
   ]
  },
  {
   "cell_type": "markdown",
   "id": "337b2505",
   "metadata": {},
   "source": [
    "E encontrando então a solução para cada equação:"
   ]
  },
  {
   "cell_type": "code",
   "execution_count": 9,
   "id": "89e0601b",
   "metadata": {},
   "outputs": [
    {
     "data": {
      "image/png": "[encoded data removed]",
      "text/latex": [
       "$\\displaystyle x{\\left(t \\right)} = C_{1} + C_{2} t$"
      ],
      "text/plain": [
       "x(t) = C₁ + C₂⋅t"
      ]
     },
     "execution_count": 9,
     "metadata": {},
     "output_type": "execute_result"
    }
   ],
   "source": [
    "dsolve(Elx)"
   ]
  },
  {
   "cell_type": "code",
   "execution_count": 10,
   "id": "74303677",
   "metadata": {},
   "outputs": [
    {
     "data": {
      "image/png": "[encoded data removed]",
      "text/latex": [
       "$\\displaystyle y{\\left(t \\right)} = C_{1} + C_{2} t$"
      ],
      "text/plain": [
       "y(t) = C₁ + C₂⋅t"
      ]
     },
     "execution_count": 10,
     "metadata": {},
     "output_type": "execute_result"
    }
   ],
   "source": [
    "dsolve(Ely)"
   ]
  },
  {
   "cell_type": "code",
   "execution_count": 11,
   "id": "f71cfcc7",
   "metadata": {},
   "outputs": [
    {
     "data": {
      "image/png": "[encoded data removed]",
      "text/latex": [
       "$\\displaystyle z{\\left(t \\right)} = C_{1} + C_{2} t - \\frac{g t^{2}}{2}$"
      ],
      "text/plain": [
       "                      2\n",
       "                   g⋅t \n",
       "z(t) = C₁ + C₂⋅t - ────\n",
       "                    2  "
      ]
     },
     "execution_count": 11,
     "metadata": {},
     "output_type": "execute_result"
    }
   ],
   "source": [
    "dsolve(Elz)"
   ]
  },
  {
   "cell_type": "markdown",
   "id": "79ada6e2",
   "metadata": {},
   "source": [
    "<p style=\"text-align: justify\"><b>Faça agora o mesmo procedimento para encontrar as equações do movimento do problema de duas cargas de massas $m_1$ e $m_2$ e cargas, $q_1$ e $q_2$ respectivamente. Estas cargas estão acopladas uma com a outra por uma mola de massa $k$ e se movimentam em apenas uma dimensão. O mesmo modelo simplificado é capaz de prever propriedades de plasmons em superfícies</b></p>"
   ]
  }
 ],
 "metadata": {
  "kernelspec": {
   "display_name": "ilumpy",
   "language": "python",
   "name": "ilumpy"
  },
  "language_info": {
   "codemirror_mode": {
    "name": "ipython",
    "version": 3
   },
   "file_extension": ".py",
   "mimetype": "text/x-python",
   "name": "python",
   "nbconvert_exporter": "python",
   "pygments_lexer": "ipython3",
   "version": "3.9.7"
  }
 },
 "nbformat": 4,
 "nbformat_minor": 5
}
