{
 "cells": [
  {
   "cell_type": "code",
   "execution_count": 1,
   "id": "6118348a",
   "metadata": {
    "jupyter": {
     "source_hidden": true
    },
    "tags": []
   },
   "outputs": [],
   "source": [
    "import numpy as np\n",
    "import matplotlib.pyplot as plt\n",
    "#from matplotlib import cm\n",
    "#from matplotlib.ticker import LinearLocator\n",
    "from sympy import *\n",
    "#from sympy.physics.quantum.dagger import Dagger\n",
    "#init_printing(use_latex='mathjax')"
   ]
  },
  {
   "cell_type": "markdown",
   "id": "09cbf7dd",
   "metadata": {},
   "source": [
    "Seja o potencial da forma\n",
    "\n",
    "$$ V(r)= 4{V}_0 \\left[ \\left( \\frac{s}{r} \\right)^{12} - \\left( \\frac{s}{r} \\right)^{6} \\right]^{2}$$\n",
    "\n",
    "com $V_0$ e $s$ parâmetros constantes e reais, enquanto $r$ representa a distancia de um objeto físico à origem do potencial. Podemos defini-lo simbolicamente dentro do python como:"
   ]
  },
  {
   "cell_type": "code",
   "execution_count": 2,
   "id": "8019fa67",
   "metadata": {},
   "outputs": [
    {
     "data": {
      "text/latex": [
       "$\\displaystyle 4 V_{0} \\left(- \\frac{s^{6}}{r^{6}} + \\frac{s^{12}}{r^{12}}\\right)^{2}$"
      ],
      "text/plain": [
       "4*V_0*(-s**6/r**6 + s**12/r**12)**2"
      ]
     },
     "metadata": {},
     "output_type": "display_data"
    }
   ],
   "source": [
    "V_0 = symbols('V_0',real=True)\n",
    "s = symbols('s',real=True)\n",
    "r = symbols('r', positive=True)\n",
    "\n",
    "\n",
    "V= 4*V_0*((s/r)**(12) - (s/r)**6)**2\n",
    "\n",
    "display(V)"
   ]
  },
  {
   "cell_type": "markdown",
   "id": "9e108e90",
   "metadata": {},
   "source": [
    "O mesmo pode ser presentado gráficamente como:"
   ]
  },
  {
   "cell_type": "code",
   "execution_count": 3,
   "id": "c9a8f946",
   "metadata": {},
   "outputs": [
    {
     "data": {
      "text/plain": [
       "Text(0, 0.5, '$V(V_0)$')"
      ]
     },
     "execution_count": 3,
     "metadata": {},
     "output_type": "execute_result"
    },
    {
     "data": {
      "image/png": "[encoded data removed]",
      "text/plain": [
       "<Figure size 432x288 with 1 Axes>"
      ]
     },
     "metadata": {
      "needs_background": "light"
     },
     "output_type": "display_data"
    }
   ],
   "source": [
    "fig, ax = plt.subplots()\n",
    "x = np.arange(1, 3, 0.01)\n",
    "f1 = lambdify(r, V.subs(V_0,1).subs(s,1), \"numpy\") #Aqui traduz-se uma função do sympy para o numpy, substituindo alguns valores\n",
    "y=f1(x)\n",
    "\n",
    "ax.plot(x, y)\n",
    "plt.xlabel(r\"$r(s)$\")\n",
    "plt.ylabel(r\"$V(V_0)$\")\n"
   ]
  },
  {
   "cell_type": "markdown",
   "id": "ed9a1f76",
   "metadata": {},
   "source": [
    "Vamos encontrar simbólicamente o mínimo deste potencial. Primeiramente encontrando a derivada primeira do potencial:\n",
    "$$ \\frac{d V(r)}{dr} $$"
   ]
  },
  {
   "cell_type": "code",
   "execution_count": 4,
   "id": "2dcb1294",
   "metadata": {},
   "outputs": [
    {
     "data": {
      "text/latex": [
       "$\\displaystyle 4 V_{0} \\left(\\frac{12 s^{6}}{r^{7}} - \\frac{24 s^{12}}{r^{13}}\\right) \\left(- \\frac{s^{6}}{r^{6}} + \\frac{s^{12}}{r^{12}}\\right)$"
      ],
      "text/plain": [
       "4*V_0*(12*s**6/r**7 - 24*s**12/r**13)*(-s**6/r**6 + s**12/r**12)"
      ]
     },
     "metadata": {},
     "output_type": "display_data"
    }
   ],
   "source": [
    "dV1 = diff(V, r)\n",
    "display(dV1)"
   ]
  },
  {
   "cell_type": "markdown",
   "id": "59dbc2d3",
   "metadata": {},
   "source": [
    "O mínimo ocorre quando a derivada primeira é zero. Ou seja"
   ]
  },
  {
   "cell_type": "code",
   "execution_count": 5,
   "id": "6a4a7655",
   "metadata": {},
   "outputs": [
    {
     "data": {
      "text/plain": [
       "[-s,\n",
       " s,\n",
       " -2**(1/6)*s,\n",
       " 2**(1/6)*s,\n",
       " s*(-1/2 - sqrt(3)*I/2),\n",
       " s*(-1/2 + sqrt(3)*I/2),\n",
       " s*(1/2 - sqrt(3)*I/2),\n",
       " s*(1/2 + sqrt(3)*I/2),\n",
       " s*(-2**(1/6)/2 - 2**(1/6)*sqrt(3)*I/2),\n",
       " s*(-2**(1/6)/2 + 2**(1/6)*sqrt(3)*I/2),\n",
       " s*(2**(1/6)/2 - 2**(1/6)*sqrt(3)*I/2),\n",
       " s*(2**(1/6)/2 + 2**(1/6)*sqrt(3)*I/2)]"
      ]
     },
     "execution_count": 5,
     "metadata": {},
     "output_type": "execute_result"
    }
   ],
   "source": [
    "solve(dV1,r)"
   ]
  },
  {
   "cell_type": "markdown",
   "id": "4d890165",
   "metadata": {},
   "source": [
    "Como $r$ só pode assumir valores positivos e reais (ja que é uma posição), então temos apenas uma solução:"
   ]
  },
  {
   "cell_type": "code",
   "execution_count": 6,
   "id": "b13c7e2d",
   "metadata": {},
   "outputs": [
    {
     "data": {
      "text/latex": [
       "$\\displaystyle s$"
      ],
      "text/plain": [
       "s"
      ]
     },
     "metadata": {},
     "output_type": "display_data"
    }
   ],
   "source": [
    "r0=solve(dV1,r)[1]\n",
    "display(r0)"
   ]
  },
  {
   "cell_type": "markdown",
   "id": "f8f1d893",
   "metadata": {},
   "source": [
    "Podemos agora calcular a derivada segunda exatamente no ponto de mínimo e encontrar a expressão para a constante elástica deste potencial\n",
    "$$ k = \\frac{d^2V(r_0)}{dr^2} $$"
   ]
  },
  {
   "cell_type": "code",
   "execution_count": 7,
   "id": "a676cf47",
   "metadata": {},
   "outputs": [
    {
     "data": {
      "text/latex": [
       "$\\displaystyle \\frac{288 V_{0}}{s^{2}}$"
      ],
      "text/plain": [
       "288*V_0/s**2"
      ]
     },
     "metadata": {},
     "output_type": "display_data"
    }
   ],
   "source": [
    "dV2 = diff(dV1, r)\n",
    "display(dV2.subs(r,r0))"
   ]
  },
  {
   "cell_type": "markdown",
   "id": "ab5370fb",
   "metadata": {},
   "source": [
    "**Faça o mesmo exercício agora para o seguinte potencial\n",
    "$$ V(r) = D \\left[ 1 - e^{-a (r - r_e)} \\right]$$\n",
    "e encontre o ponto de mínimo e a sua constante elástica em termos dos parâmetros $D$ e $r_e$**"
   ]
  },
  {
   "cell_type": "code",
   "execution_count": 8,
   "id": "24243130-9440-4bd3-8907-b55f03d2571c",
   "metadata": {},
   "outputs": [
    {
     "data": {
      "text/latex": [
       "$\\displaystyle D \\left(1 - e^{- a \\left(r - r_{e}\\right)}\\right)^{2}$"
      ],
      "text/plain": [
       "D*(1 - exp(-a*(r - r_e)))**2"
      ]
     },
     "metadata": {},
     "output_type": "display_data"
    }
   ],
   "source": [
    "D = symbols('D',real=True)\n",
    "a = symbols('a',real=True)\n",
    "r = symbols('r', positive=True)\n",
    "r_e = symbols('r_e', real=True)\n",
    "\n",
    "\n",
    "V= D * (1-exp(-a*(r-r_e)))**2\n",
    "\n",
    "display(V)"
   ]
  },
  {
   "cell_type": "code",
   "execution_count": 11,
   "id": "ba2a452c-ab9f-40e4-8a50-b252d81aeb7b",
   "metadata": {},
   "outputs": [
    {
     "data": {
      "text/plain": [
       "Text(0, 0.5, '$V(V_0)$')"
      ]
     },
     "execution_count": 11,
     "metadata": {},
     "output_type": "execute_result"
    },
    {
     "data": {
      "image/png": "[encoded data removed]",
      "text/plain": [
       "<Figure size 432x288 with 1 Axes>"
      ]
     },
     "metadata": {
      "needs_background": "light"
     },
     "output_type": "display_data"
    }
   ],
   "source": [
    "fig, ax = plt.subplots()\n",
    "x = np.arange(0, 5, 0.1)\n",
    "f1 = lambdify(r, V.subs(D,1).subs(r_e,1).subs(a,1), \"numpy\") #Aqui traduz-se uma função do sympy para o numpy, substituindo alguns valores\n",
    "y = f1(x)\n",
    "\n",
    "\n",
    "ax.plot(x, y)\n",
    "plt.xlabel(r\"$r(s)$\")\n",
    "plt.ylabel(r\"$V(V_0)$\")"
   ]
  },
  {
   "cell_type": "code",
   "execution_count": 12,
   "id": "17227107-d24a-4cdd-b684-aaca3e7cffd0",
   "metadata": {},
   "outputs": [
    {
     "name": "stdout",
     "output_type": "stream",
     "text": [
      "Primeira derivada do potencial V(r) em função de r_e\n"
     ]
    },
    {
     "data": {
      "text/latex": [
       "$\\displaystyle - 2 D a \\left(1 - e^{- a \\left(r - r_{e}\\right)}\\right) e^{- a \\left(r - r_{e}\\right)}$"
      ],
      "text/plain": [
       "-2*D*a*(1 - exp(-a*(r - r_e)))*exp(-a*(r - r_e))"
      ]
     },
     "metadata": {},
     "output_type": "display_data"
    },
    {
     "name": "stdout",
     "output_type": "stream",
     "text": [
      "\n",
      "Ponto de mínima\n"
     ]
    },
    {
     "data": {
      "text/plain": [
       "[r]"
      ]
     },
     "metadata": {},
     "output_type": "display_data"
    },
    {
     "name": "stdout",
     "output_type": "stream",
     "text": [
      "\n",
      "Derivada segunda no ponto de mínima (constante elastica)\n"
     ]
    },
    {
     "data": {
      "text/latex": [
       "$\\displaystyle - 2 D a^{2} \\left(1 - e^{- a \\left(r - r_{e}\\right)}\\right) e^{- a \\left(r - r_{e}\\right)} + 2 D a^{2} e^{- 2 a \\left(r - r_{e}\\right)}$"
      ],
      "text/plain": [
       "-2*D*a**2*(1 - exp(-a*(r - r_e)))*exp(-a*(r - r_e)) + 2*D*a**2*exp(-2*a*(r - r_e))"
      ]
     },
     "metadata": {},
     "output_type": "display_data"
    }
   ],
   "source": [
    "print(\"Primeira derivada do potencial V(r) em função de r_e\")\n",
    "dV1 = diff(V, r_e)\n",
    "display(dV1)\n",
    "\n",
    "print()\n",
    "\n",
    "print(\"Ponto de mínima\")\n",
    "solve(dV1,r_e)\n",
    "\n",
    "r0=solve(dV1,r_e)\n",
    "display(r0)\n",
    "\n",
    "print()\n",
    "print(\"Derivada segunda no ponto de mínima (constante elastica)\")\n",
    "dV2 = diff(dV1, r_e)\n",
    "display(dV2.subs(r_e,r0))"
   ]
  }
 ],
 "metadata": {
  "kernelspec": {
   "display_name": "ilumpy",
   "language": "python",
   "name": "ilumpy"
  },
  "language_info": {
   "codemirror_mode": {
    "name": "ipython",
    "version": 3
   },
   "file_extension": ".py",
   "mimetype": "text/x-python",
   "name": "python",
   "nbconvert_exporter": "python",
   "pygments_lexer": "ipython3",
   "version": "3.9.7"
  }
 },
 "nbformat": 4,
 "nbformat_minor": 5
}
