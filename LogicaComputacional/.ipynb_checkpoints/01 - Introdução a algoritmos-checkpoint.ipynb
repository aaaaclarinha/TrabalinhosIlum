{
 "cells": [
  {
   "cell_type": "markdown",
   "metadata": {},
   "source": [
    "Introdução a algoritmos\n",
    "=======================\n",
    "\n",
    "**Autor:** Daniel R. Cassar\n",
    "\n"
   ]
  },
  {
   "cell_type": "markdown",
   "metadata": {},
   "source": [
    "## Algoritmos\n",
    "\n"
   ]
  },
  {
   "cell_type": "markdown",
   "metadata": {},
   "source": [
    "### Definição\n",
    "\n"
   ]
  },
  {
   "cell_type": "markdown",
   "metadata": {},
   "source": [
    "**Algoritmos são um conjunto finito de etapas para executar uma tarefa.**\n",
    "\n"
   ]
  },
  {
   "cell_type": "markdown",
   "metadata": {},
   "source": [
    "Vamos ver alguns exemplos de algoritmos abaixo.\n",
    "\n"
   ]
  },
  {
   "cell_type": "markdown",
   "metadata": {},
   "source": [
    "### Algoritmo no mundo real: fazer café\n",
    "\n"
   ]
  },
  {
   "cell_type": "markdown",
   "metadata": {},
   "source": [
    "**Problema**: quero tomar café.\n",
    "\n",
    "**Entrada**: 1 litro de água, 6 colheres de pó de café, suporte para filtro, filtro de papel, leiteira, fogão e jarra de café.\n",
    "\n",
    "**Algoritmo**:\n",
    "\n",
    "1.  Coloque o suporte para filtro na jarra de café\n",
    "2.  Coloque o filtro de papel no suporte para filtro\n",
    "3.  Coloque 6 colheres de pó de café no filtro de papel\n",
    "4.  Coloque 1 litro de água na leiteira\n",
    "5.  Coloque a leiteira em uma boca do fogão e acenda essa boca\n",
    "6.  Aqueça a água da leiteira até atingir 93 °C\n",
    "7.  Despeje lentamente a água quente sobre o pó de café de forma a não transbordar do suporte para filtro\n",
    "8.  Aguarde toda a água passar pelo café ou ser absorvida pelo filtro de papel\n",
    "\n",
    "**Saída**: aproximadamente 1 litro de café.\n",
    "\n"
   ]
  },
  {
   "cell_type": "markdown",
   "metadata": {},
   "source": [
    "### Algoritmo no mundo real: fazer brigadeiro\n",
    "\n"
   ]
  },
  {
   "cell_type": "markdown",
   "metadata": {},
   "source": [
    "**Problema**: quero comer brigadeiro.\n",
    "\n",
    "**Entrada**: 1 lata de leite condensado, 1 colher de sopa de margarina, 7 colheres de sopa de achocolatado, chocolate granulado a gosto, panela, colher de pau e fogão.\n",
    "\n",
    "**Algoritmo**:\n",
    "\n",
    "1.  Coloque a panela numa boca do fogão\n",
    "2.  Coloque o leite condensado, a margarina e o achocolatado na panela\n",
    "3.  Acenda o fogo da boca do fogão onde a panela foi colocada\n",
    "4.  Cozinhe e mexa com a colher de pau até a mistura começar a desgrudar da panela\n",
    "5.  Desligue o fogo que você ligou no passo 3\n",
    "6.  Após a mistura esfriar, modele em bolinhas e passe no granulado\n",
    "\n",
    "**Saída**: $n$ bolinhas de brigadeiro, onde $n$ depende do raio da sua bolinha (quem fizer me avisa para eu saber quantas bolinhas rendem. Considerem isso uma atividade puramente científica!).\n",
    "\n"
   ]
  },
  {
   "cell_type": "markdown",
   "metadata": {},
   "source": [
    "## Algoritmos de computador\n",
    "\n"
   ]
  },
  {
   "cell_type": "markdown",
   "metadata": {},
   "source": [
    "### Definição\n",
    "\n"
   ]
  },
  {
   "cell_type": "markdown",
   "metadata": {},
   "source": [
    "**Algoritmos de computador são um conjunto finito de etapas para executar uma tarefa onde todas as etapas são descritas com precisão suficiente para que um computador possa executá-las.**\n",
    "\n"
   ]
  },
  {
   "cell_type": "markdown",
   "metadata": {},
   "source": [
    "Vamos ver alguns exemplos de algoritmos de computador abaixo! Para isso, usaremos a linguagem de programação Python.\n",
    "\n"
   ]
  },
  {
   "cell_type": "markdown",
   "metadata": {},
   "source": [
    "### Algoritmo de computador: converter Celsius em Fahrenheit\n",
    "\n"
   ]
  },
  {
   "cell_type": "markdown",
   "metadata": {},
   "source": [
    "**Problema**: converter a temperatura $T$ de Celsius para Fahrenheit\n",
    "\n",
    "**Entrada**: temperatura $T$ em Celsius\n",
    "\n",
    "**Saída**: temperatura $T$ em Fahrenheit\n",
    "\n",
    "**Algoritmo**:\n",
    "\n"
   ]
  },
  {
   "cell_type": "code",
   "execution_count": null,
   "metadata": {},
   "outputs": [],
   "source": [
    "def celsius_para_fahrenheit(T):\n",
    "    fahrenheit = T * (9 / 5) + 32\n",
    "    return fahrenheit"
   ]
  },
  {
   "cell_type": "markdown",
   "metadata": {},
   "source": [
    "**Comentários sobre a implementação**: sabendo a fórmula para a conversão, a implementação deste algoritmo é trivial.\n",
    "\n",
    "**Teste**:\n",
    "\n"
   ]
  },
  {
   "cell_type": "code",
   "execution_count": null,
   "metadata": {},
   "outputs": [],
   "source": [
    "lista = [-40, -3, 0, 10, 25, 100]\n",
    "\n",
    "for T in lista:\n",
    "    print(\"Entrada: \", T)\n",
    "    print(\"Saída: \", celsius_para_fahrenheit(T))\n",
    "    print()"
   ]
  },
  {
   "cell_type": "markdown",
   "metadata": {},
   "source": [
    "**Reflexão**: Veja que assim como algoritmos na vida real (como fazer café ou fazer brigadeiro), algoritmos de computador também resolvem problemas. Aqui resolvemos o problema de conversão de unidades. Observe que cada passo da nossa solução é uma expressão válida e bem definida em Python.\n",
    "\n"
   ]
  },
  {
   "cell_type": "markdown",
   "metadata": {},
   "source": [
    "### Algoritmo de computador: área de um retângulo\n",
    "\n"
   ]
  },
  {
   "cell_type": "markdown",
   "metadata": {},
   "source": [
    "**Problema**: calcular a área de um retângulo de lados $m$ e $n$\n",
    "\n",
    "**Entrada**: os lados $m$ e $n$ de um retângulo\n",
    "\n",
    "**Saída**: área do retângulo\n",
    "\n",
    "**Algoritmo**:\n",
    "\n"
   ]
  },
  {
   "cell_type": "code",
   "execution_count": null,
   "metadata": {},
   "outputs": [],
   "source": [
    "def area_retangulo(m, n):\n",
    "    area = m * n\n",
    "    return area"
   ]
  },
  {
   "cell_type": "markdown",
   "metadata": {},
   "source": [
    "**Comentários sobre a implementação**: este é outro algoritmo trivial se você sabe que a área de um retângulo é simplesmente a multiplicação dos seus lados.\n",
    "\n",
    "**Teste**:\n",
    "\n"
   ]
  },
  {
   "cell_type": "code",
   "execution_count": null,
   "metadata": {},
   "outputs": [],
   "source": [
    "m = 10\n",
    "n = 5\n",
    "\n",
    "print(\"Entrada: \", m, n)\n",
    "print(\"Saída: \", area_retangulo(m, n))\n",
    "print()\n",
    "\n",
    "\n",
    "m = 10\n",
    "n = 10\n",
    "\n",
    "print(\"Entrada: \", m, n)\n",
    "print(\"Saída: \", area_retangulo(m, n))\n",
    "print()\n",
    "\n",
    "\n",
    "m = 1.5\n",
    "n = 1000.1\n",
    "\n",
    "print(\"Entrada: \", m, n)\n",
    "print(\"Saída: \", area_retangulo(m, n))\n",
    "print()"
   ]
  },
  {
   "cell_type": "markdown",
   "metadata": {},
   "source": [
    "**Reflexão**: o algoritmo aceita valores negativos para os lados&#x2026; seria isso um anti-retângulo? Por enquanto vamos apenas identificar os casos onde nosso algoritmo falha. No futuro, vamos incluir este tipo de checagem no próprio algoritmo.\n",
    "\n"
   ]
  },
  {
   "cell_type": "markdown",
   "metadata": {},
   "source": [
    "### Algoritmo de computador: valor absoluto\n",
    "\n"
   ]
  },
  {
   "cell_type": "markdown",
   "metadata": {},
   "source": [
    "**Problema**: calcular o valor absoluto de um número\n",
    "\n",
    "**Entrada**: número $n$\n",
    "\n",
    "**Saída**: valor absoluto do número $n$\n",
    "\n",
    "**Algoritmo**:\n",
    "\n"
   ]
  },
  {
   "cell_type": "code",
   "execution_count": null,
   "metadata": {},
   "outputs": [],
   "source": [
    "def absoluto(n):\n",
    "    if n < 0:\n",
    "        return -n\n",
    "    else:\n",
    "        return n"
   ]
  },
  {
   "cell_type": "markdown",
   "metadata": {},
   "source": [
    "**Comentários sobre a implementação**: esta é uma função relativamente simples, ela apenas checa se o número é negativo. Se for negativo, ela retorna o negativo do número (negativo com negativo dá positivo). Se o número não for negativo, então ela retorna o próprio número.\n",
    "\n",
    "**Teste**:\n",
    "\n"
   ]
  },
  {
   "cell_type": "code",
   "execution_count": null,
   "metadata": {},
   "outputs": [],
   "source": [
    "lista = [1, 8, -209, 16, -7, 0, 2.4, -1024]\n",
    "\n",
    "for n in lista:\n",
    "    print(\"Entrada: \", n)\n",
    "    print(\"Saída: \", absoluto(n))\n",
    "    print()"
   ]
  },
  {
   "cell_type": "markdown",
   "metadata": {},
   "source": [
    "### Algoritmo de computador: valor máximo de uma lista\n",
    "\n"
   ]
  },
  {
   "cell_type": "markdown",
   "metadata": {},
   "source": [
    "**Problema**: encontrar o valor máximo em uma lista de números\n",
    "\n",
    "**Entrada**: uma lista de números\n",
    "\n",
    "**Saída**: um número representando o valor máximo da lista de entrada\n",
    "\n",
    "**Algoritmo**:\n",
    "\n"
   ]
  },
  {
   "cell_type": "code",
   "execution_count": null,
   "metadata": {},
   "outputs": [],
   "source": [
    "def encontra_maximo(lista):\n",
    "    valor = lista[0]\n",
    "    for n in lista:\n",
    "        if n > valor:\n",
    "            valor = n\n",
    "    return valor"
   ]
  },
  {
   "cell_type": "markdown",
   "metadata": {},
   "source": [
    "**Comentários sobre a implementação**: armazenamos o item da posição zero da `lista` na variável `valor`. Após isso, para todos os demais itens da lista, checamos se eles são maiores que `valor`. Caso algum item seja maior, atualizamos a variável `valor` para armazenar esse item. Se fizermos isso para todos os elementos da `lista`, teremos certeza que o número armazenado na variável `valor` será o máximo da lista.\n",
    "\n",
    "**Teste**:\n",
    "\n"
   ]
  },
  {
   "cell_type": "code",
   "execution_count": null,
   "metadata": {},
   "outputs": [],
   "source": [
    "lista = [-3, 1, 2, 4, 5, 10, 101]\n",
    "\n",
    "print(\"Entrada: \", lista)\n",
    "print(\"Saída: \", encontra_maximo(lista))\n",
    "print()\n",
    "\n",
    "\n",
    "lista = [-2, -5, -100, -304938]\n",
    "\n",
    "print(\"Entrada: \", lista)\n",
    "print(\"Saída: \", encontra_maximo(lista))\n",
    "print()\n",
    "\n",
    "\n",
    "lista = [1, 1, 1, 1, 1, 1]\n",
    "\n",
    "print(\"Entrada: \", lista)\n",
    "print(\"Saída: \", encontra_maximo(lista))\n",
    "print()"
   ]
  },
  {
   "cell_type": "markdown",
   "metadata": {},
   "source": [
    "### Algoritmo de computador: fatorial\n",
    "\n"
   ]
  },
  {
   "cell_type": "markdown",
   "metadata": {},
   "source": [
    "**Problema**: calcular o fatorial de um número\n",
    "\n",
    "**Entrada**: número $n$\n",
    "\n",
    "**Saída**: fatorial do número $n$\n",
    "\n",
    "**Algoritmo**:\n",
    "\n"
   ]
  },
  {
   "cell_type": "code",
   "execution_count": null,
   "metadata": {},
   "outputs": [],
   "source": [
    "def fatorial(n):\n",
    "    valor = 1\n",
    "    for i in range(1, n + 1):\n",
    "        # print(i, valor)\n",
    "        valor = valor * i\n",
    "    return valor"
   ]
  },
  {
   "cell_type": "markdown",
   "metadata": {},
   "source": [
    "**Comentários sobre a implementação**: sabemos que $n! = n\\times(n-1)\\times(n-2)\\times(...)\\times 2 \\times 1$. Nesta implementação deixamos a função `range` cuidar da iteração e acumulamos as sucessivas multiplicações na variável `valor`. Se estiver com dúvida, descomente o `print` e veja o que está acontecendo a cada iteração.\n",
    "\n",
    "**Teste**:\n",
    "\n"
   ]
  },
  {
   "cell_type": "code",
   "execution_count": null,
   "metadata": {},
   "outputs": [],
   "source": [
    "lista = [1, 2, 5, 10, 100]\n",
    "\n",
    "for n in lista:\n",
    "    print(\"Entrada: \", n)\n",
    "    print(\"Saída: \", fatorial(n))\n",
    "    print()"
   ]
  },
  {
   "cell_type": "markdown",
   "metadata": {},
   "source": [
    "**Reflexão**: a nossa função `fatorial` não se dá bem com números negativos ou números com casas decimais (teste e verá!). Por enquanto tudo bem, vamos deixar assim. Se quiser se desafiar pense em como você faria para eliminar esse problema.\n",
    "\n"
   ]
  },
  {
   "cell_type": "markdown",
   "metadata": {},
   "source": [
    "### Algoritmo de computador: checar primos\n",
    "\n"
   ]
  },
  {
   "cell_type": "markdown",
   "metadata": {},
   "source": [
    "**Problema**: checar se um número $n$ é primo\n",
    "\n",
    "**Entrada**: número $n$\n",
    "\n",
    "**Saída**: `True` se $n$ for primo, `False` se $n$ não for primo\n",
    "\n",
    "**Algoritmo**:\n",
    "\n"
   ]
  },
  {
   "cell_type": "code",
   "execution_count": null,
   "metadata": {},
   "outputs": [],
   "source": [
    "def checa_primo(n):\n",
    "    for i in range(2, n):\n",
    "        # print(\"Testando o número \", i)\n",
    "        if n % i == 0:\n",
    "            # print(\"Seu número é divisível por\", i, \"logo não é primo.\")\n",
    "            return False\n",
    "    return True"
   ]
  },
  {
   "cell_type": "markdown",
   "metadata": {},
   "source": [
    "**Comentários sobre a implementação**: sabemos que números primos são divisíveis apenas por 1 e por eles mesmos. Um número é dito divisível por outro número se o resto dessa divisão é zero. Nesse algoritmo nós checamos todos os números entre 2 e $n-1$ usando a função `range`. Caso a divisão do número de entrada por um desses números checados seja zero, o algoritmo para imediatamente e retorna `False` pois temos certeza que o número <u>não é primo</u>. Se depois dessa batelada de testes nenhum dos números testados resultou em resto zero, então sabemos com certeza que o número de entrada é primo. Se estiver em dúvida, descomente as linhas com `print` para ver a execução passo a passo.\n",
    "\n",
    "**Teste**:\n",
    "\n"
   ]
  },
  {
   "cell_type": "code",
   "execution_count": null,
   "metadata": {},
   "outputs": [],
   "source": [
    "lista = [1, 2, 4, 5, 10, 101, 1827, 1001]\n",
    "\n",
    "for n in lista:\n",
    "    print(\"Entrada: \", n)\n",
    "    print(\"Saída: \", checa_primo(n))\n",
    "    print()"
   ]
  },
  {
   "cell_type": "markdown",
   "metadata": {},
   "source": [
    "**Reflexão**: a nossa função `checa_primo` não se dá bem com números negativos ou números com casas decimais (teste e verá!). Por enquanto tudo bem, vamos deixar assim. Se quiser se desafiar pense em como você faria para eliminar esse problema.\n",
    "\n"
   ]
  },
  {
   "cell_type": "markdown",
   "metadata": {},
   "source": [
    "### Algoritmo de computador: sequência de Fibonacci\n",
    "\n"
   ]
  },
  {
   "cell_type": "markdown",
   "metadata": {},
   "source": [
    "**Problema**: gerar a sequência de Fibonacci com $n$ termos\n",
    "\n",
    "**Entrada**: número inteiro $n$\n",
    "\n",
    "**Saída**: lista com $n$ itens contendo a sequência de Fibonacci\n",
    "\n",
    "**Algoritmo**:\n",
    "\n"
   ]
  },
  {
   "cell_type": "code",
   "execution_count": null,
   "metadata": {},
   "outputs": [],
   "source": [
    "def fibonacci(n):\n",
    "    if n < 1:\n",
    "        return []\n",
    "\n",
    "    elif n == 1:\n",
    "        return [0]\n",
    "\n",
    "    elif n == 2:\n",
    "        return [0, 1]\n",
    "\n",
    "    else:\n",
    "        lista = [0, 1]\n",
    "        for i in range(n - 2):\n",
    "            # print(lista)\n",
    "            lista.append(lista[i] + lista[i + 1])\n",
    "        return lista"
   ]
  },
  {
   "cell_type": "markdown",
   "metadata": {},
   "source": [
    "**Comentários sobre a implementação**: antes de começar é necessário saber que a sequência de Fibonacci começa com os números 0 e 1. O próximo número da sequência é sempre a soma dos dois anteriores. Logo, o terceiro número é 0+1 que é igual a 1. O quarto número é 1+1 que é igual a 2&#x2026; e assim por diante. Nesta implementação, primeiro checamos se o valor de $n$ é negativo, depois se é igual a 1 e depois se ele é igual a 2. Estes são casos que nós sabemos a resposta de antemão. Caso $n$ não faça parte destes casos especiais, daí podemos gerar a nossa lista iterativamete usando nosso velho conhecido combo de `for` com `range`. Atualizamos a nossa variável `lista` com o método `append`. Como sempre, descomente o `print` caso queira ver a lista sendo atualizada passo a passo. Pergunta: porque será que escrevemos `for i in range(n - 2)` e não `for i in range(n)`? Se não souber a resposta, edite o código para ver o que acontece! Testar é sempre uma boa ideia quando algo não está claro.\n",
    "\n",
    "**Teste**:\n",
    "\n"
   ]
  },
  {
   "cell_type": "code",
   "execution_count": null,
   "metadata": {},
   "outputs": [],
   "source": [
    "lista = [-3, 1, 2, 4, 5, 10, 101]\n",
    "\n",
    "for n in lista:\n",
    "    print(\"Entrada: \", n)\n",
    "    print(\"Saída: \", fibonacci(n))\n",
    "    print()"
   ]
  },
  {
   "cell_type": "markdown",
   "metadata": {},
   "source": [
    "**Reflexão**: nossa função não funciona para números com casas decimais&#x2026; uma pena, mas seguiremos assim por enquanto. A sequência de Fibonacci tem uma propriedade interessante quando dividimos o elemento na posição $p$ pelo elemento da posição $p-1$. Quanto maior o $p$ for, mais essa divisão tende para uma constante. Você sabe qual constante é essa?\n",
    "\n"
   ]
  },
  {
   "cell_type": "markdown",
   "metadata": {},
   "source": [
    "## Exercícios\n",
    "\n"
   ]
  },
  {
   "cell_type": "markdown",
   "metadata": {},
   "source": [
    "<font color=&ldquo;blue&rdquo;>Preencha as células de código vazias abaixo. Para esses exercícios, não é permitido usar a instrução `import`. Utilize apenas variáveis numéricas ou listas com números. Veja as funções e métodos de lista permitidos abaixo.</font>\n",
    "\n",
    "-   **Funções de Python permitidas**: `sum`, `abs`, `all`, `any`, `complex`, `len`, `print`, `range`, `int`, `float`, `zip`, `enumerate`, `bool`, `dir`, `help`, `isinstance`, `list` e `type`.\n",
    "\n",
    "-   **Métodos de lista permitidos**: `append`, `copy`, `extend`, `insert`, `pop` e `remove`.\n",
    "\n",
    "<font color=&ldquo;blue&rdquo;>Para fins de pontuação, a nota máxima é atingida com 5 resoluções corretas (quaisquer). Resoluções extras são recomendadas para quem quer dar prioridade para aprender programação na Ilum ou para quem quer aumentar a chance de tirar uma nota alta (os pontos se somam até atingir o limite da nota 10).</font>\n",
    "\n"
   ]
  },
  {
   "cell_type": "markdown",
   "metadata": {},
   "source": [
    "### Converter Fahrenheit em Kelvin\n",
    "\n"
   ]
  },
  {
   "cell_type": "markdown",
   "metadata": {},
   "source": [
    "**Problema**: converter a temperatura $T$ de Fahrenheit para Kelvin\n",
    "\n",
    "**Entrada**: temperatura $T$ em Fahrenheit\n",
    "\n",
    "**Saída**: temperatura $T$ em Kelvin\n",
    "\n",
    "**Algoritmo**:\n",
    "\n"
   ]
  },
  {
   "cell_type": "code",
   "execution_count": null,
   "metadata": {},
   "outputs": [],
   "source": []
  },
  {
   "cell_type": "markdown",
   "metadata": {},
   "source": [
    "**Comentários sobre a implementação**: [escrita opcional]\n",
    "\n",
    "**Teste**:\n",
    "\n"
   ]
  },
  {
   "cell_type": "code",
   "execution_count": null,
   "metadata": {},
   "outputs": [],
   "source": []
  },
  {
   "cell_type": "markdown",
   "metadata": {},
   "source": [
    "### Duplo fatorial\n",
    "\n"
   ]
  },
  {
   "cell_type": "markdown",
   "metadata": {},
   "source": [
    "**Problema**: calcular o duplo fatorial de um número.\n",
    "\n",
    "**Entrada**: número $n$\n",
    "\n",
    "**Saída**: duplo fatorial do número $n$\n",
    "\n",
    "**Material para leitura**: [https://pt.wikipedia.org/wiki/Duplo_fatorial](https://pt.wikipedia.org/wiki/Duplo_fatorial)\n",
    "\n",
    "**Algoritmo**:\n",
    "\n"
   ]
  },
  {
   "cell_type": "code",
   "execution_count": null,
   "metadata": {},
   "outputs": [],
   "source": []
  },
  {
   "cell_type": "markdown",
   "metadata": {},
   "source": [
    "**Comentários sobre a implementação**: [escrita opcional]\n",
    "\n",
    "**Teste**:\n",
    "\n"
   ]
  },
  {
   "cell_type": "code",
   "execution_count": null,
   "metadata": {},
   "outputs": [],
   "source": []
  },
  {
   "cell_type": "markdown",
   "metadata": {},
   "source": [
    "### Valor mínimo de uma lista\n",
    "\n"
   ]
  },
  {
   "cell_type": "markdown",
   "metadata": {},
   "source": [
    "**Problema**: encontrar o valor mínimo em uma lista de números\n",
    "\n",
    "**Entrada**: uma lista de números\n",
    "\n",
    "**Saída**: um número representando o valor mínimo da lista de entrada\n",
    "\n",
    "**Algoritmo**:\n",
    "\n"
   ]
  },
  {
   "cell_type": "code",
   "execution_count": null,
   "metadata": {},
   "outputs": [],
   "source": []
  },
  {
   "cell_type": "markdown",
   "metadata": {},
   "source": [
    "**Comentários sobre a implementação**: [escrita opcional]\n",
    "\n",
    "**Teste**:\n",
    "\n"
   ]
  },
  {
   "cell_type": "code",
   "execution_count": null,
   "metadata": {},
   "outputs": [],
   "source": []
  },
  {
   "cell_type": "markdown",
   "metadata": {},
   "source": [
    "### A sequência de [insira seu nome]\n",
    "\n"
   ]
  },
  {
   "cell_type": "markdown",
   "metadata": {},
   "source": [
    "A sequência de [insira seu nome] é uma sequência que funciona igual a sequência de Fibonacci no sentido que cada número é a soma dos dois números anteriores. No entanto, os primeiros dois números da sequência de [insira seu nome] são dois números inteiros a sua escolha e não devem ser 0 e 1 (afinal, essa seria a sequência de Fibonacci, não a sua).\n",
    "\n",
    "**Problema**: gerar a sequência de [insira seu nome] com $n$ termos\n",
    "\n",
    "**Entrada**: número inteiro $n$\n",
    "\n",
    "**Saída**: lista com $n$ itens contendo a sequência de [insira seu nome]\n",
    "\n",
    "**Algoritmo**:\n",
    "\n"
   ]
  },
  {
   "cell_type": "code",
   "execution_count": null,
   "metadata": {},
   "outputs": [],
   "source": []
  },
  {
   "cell_type": "markdown",
   "metadata": {},
   "source": [
    "**Comentários sobre a implementação**: [escrita opcional]\n",
    "\n",
    "**Teste**:\n",
    "\n"
   ]
  },
  {
   "cell_type": "code",
   "execution_count": null,
   "metadata": {},
   "outputs": [],
   "source": []
  },
  {
   "cell_type": "markdown",
   "metadata": {},
   "source": [
    "**Desafio**: será que sua sequência tem uma propriedade interessante? A sequência de Fibonacci tem uma propriedade interessante quando dividimos o elemento na posição $p$ pelo elemento da posição $p-1$. Quanto maior o $p$ for, mais essa divisão tende para uma constante bastante especial. Teste se sua sequência tem essa propriedade também e mostre para qual valor sua sequência tende.\n",
    "\n"
   ]
  },
  {
   "cell_type": "code",
   "execution_count": null,
   "metadata": {},
   "outputs": [],
   "source": []
  },
  {
   "cell_type": "markdown",
   "metadata": {},
   "source": [
    "### Soma de todos os números até $n$\n",
    "\n"
   ]
  },
  {
   "cell_type": "markdown",
   "metadata": {},
   "source": [
    "**Problema**: encontrar a soma de todos os números inteiros entre 1 e $n$\n",
    "\n",
    "**Entrada**: número $n$\n",
    "\n",
    "**Saída**: um número representando a soma de todos os números inteiros entre 1 e $n$\n",
    "\n",
    "**Algoritmo**:\n",
    "\n"
   ]
  },
  {
   "cell_type": "code",
   "execution_count": null,
   "metadata": {},
   "outputs": [],
   "source": []
  },
  {
   "cell_type": "markdown",
   "metadata": {},
   "source": [
    "**Comentários sobre a implementação**: [escrita opcional]\n",
    "\n",
    "**Teste**:\n",
    "\n"
   ]
  },
  {
   "cell_type": "code",
   "execution_count": null,
   "metadata": {},
   "outputs": [],
   "source": []
  },
  {
   "cell_type": "markdown",
   "metadata": {},
   "source": [
    "### Distância Euclidiana\n",
    "\n"
   ]
  },
  {
   "cell_type": "markdown",
   "metadata": {},
   "source": [
    "**Problema**: calcular a distância Euclidiana entre dois pontos\n",
    "\n",
    "**Entrada**: 2 listas, cada uma delas com dois valores numéricos indicando as coordenadas $x$ e $y$ dos pontos\n",
    "\n",
    "**Saída**: o valor da distância Euclidiana entre os dois pontos fornecidos na entrada\n",
    "\n",
    "**Algoritmo**:\n",
    "\n"
   ]
  },
  {
   "cell_type": "code",
   "execution_count": null,
   "metadata": {},
   "outputs": [],
   "source": []
  },
  {
   "cell_type": "markdown",
   "metadata": {},
   "source": [
    "**Comentários sobre a implementação**: [escrita opcional]\n",
    "\n",
    "**Teste**:\n",
    "\n"
   ]
  },
  {
   "cell_type": "code",
   "execution_count": null,
   "metadata": {},
   "outputs": [],
   "source": []
  },
  {
   "cell_type": "markdown",
   "metadata": {},
   "source": [
    "### Números cúbicos\n",
    "\n"
   ]
  },
  {
   "cell_type": "markdown",
   "metadata": {},
   "source": [
    "**Problema**: checar se um número $n$ é um cubo perfeito (pode ser escrito como a multiplicação de 3 números inteiros iguais)\n",
    "\n",
    "**Entrada**: número $n$\n",
    "\n",
    "**Saída**: `True` se $n$ for um cubo perfeito, `False` se $n$ não for um cubo perfeito\n",
    "\n",
    "**Algoritmo**:\n",
    "\n"
   ]
  },
  {
   "cell_type": "code",
   "execution_count": null,
   "metadata": {},
   "outputs": [],
   "source": []
  },
  {
   "cell_type": "markdown",
   "metadata": {},
   "source": [
    "**Comentários sobre a implementação**: [escrita opcional]\n",
    "\n",
    "**Teste**:\n",
    "\n"
   ]
  },
  {
   "cell_type": "code",
   "execution_count": null,
   "metadata": {},
   "outputs": [],
   "source": []
  },
  {
   "cell_type": "markdown",
   "metadata": {},
   "source": [
    "### Números feios\n",
    "\n"
   ]
  },
  {
   "cell_type": "markdown",
   "metadata": {},
   "source": [
    "**Problema**: checar se um número $n$ é feio (um número feio é aquele que seus fatores primos são 2, 3 ou 5)\n",
    "\n",
    "**Entrada**: número $n$\n",
    "\n",
    "**Saída**: `True` se $n$ for um número feio, `False` se $n$ não for um número feio\n",
    "\n",
    "**Algoritmo**:\n",
    "\n"
   ]
  },
  {
   "cell_type": "code",
   "execution_count": null,
   "metadata": {},
   "outputs": [],
   "source": []
  },
  {
   "cell_type": "markdown",
   "metadata": {},
   "source": [
    "**Comentários sobre a implementação**: [escrita opcional]\n",
    "\n",
    "**Teste**:\n",
    "\n"
   ]
  },
  {
   "cell_type": "code",
   "execution_count": null,
   "metadata": {},
   "outputs": [],
   "source": []
  },
  {
   "cell_type": "markdown",
   "metadata": {},
   "source": [
    "### Ordenar uma lista\n",
    "\n"
   ]
  },
  {
   "cell_type": "markdown",
   "metadata": {},
   "source": [
    "**Problema**: ordenar uma lista com um número arbitrário de itens\n",
    "\n",
    "**Entrada**: uma lista numérica com 1 ou mais itens\n",
    "\n",
    "**Saída**: uma lista com todos os elementos da lista de entrada em ordem crescente\n",
    "\n",
    "**Algoritmo**:\n",
    "\n"
   ]
  },
  {
   "cell_type": "code",
   "execution_count": null,
   "metadata": {},
   "outputs": [],
   "source": []
  },
  {
   "cell_type": "markdown",
   "metadata": {},
   "source": [
    "**Comentários sobre a implementação**: [escrita opcional]\n",
    "\n",
    "**Teste**:\n",
    "\n"
   ]
  },
  {
   "cell_type": "code",
   "execution_count": null,
   "metadata": {},
   "outputs": [],
   "source": []
  },
  {
   "cell_type": "markdown",
   "metadata": {},
   "source": [
    "### Soma específica\n",
    "\n"
   ]
  },
  {
   "cell_type": "markdown",
   "metadata": {},
   "source": [
    "**Problema**: dada uma lista numérica, identificar os índices de dois valores que, quando somados, resultam em um certo valor dado\n",
    "\n",
    "**Entrada**: lista numérica e número positivo $n$\n",
    "\n",
    "**Saída**: dois números inteiros representando os índices da lista de entrada que, quando somados, resultam em $n$ ou `False` caso uma solução não seja encontrada.\n",
    "\n",
    "**Algoritmo**:\n",
    "\n"
   ]
  },
  {
   "cell_type": "code",
   "execution_count": null,
   "metadata": {},
   "outputs": [],
   "source": []
  },
  {
   "cell_type": "markdown",
   "metadata": {},
   "source": [
    "**Comentários sobre a implementação**: [escrita opcional]\n",
    "\n",
    "**Teste**:\n",
    "\n"
   ]
  },
  {
   "cell_type": "code",
   "execution_count": null,
   "metadata": {},
   "outputs": [],
   "source": []
  },
  {
   "cell_type": "markdown",
   "metadata": {},
   "source": [
    "### Mover os zeros\n",
    "\n"
   ]
  },
  {
   "cell_type": "markdown",
   "metadata": {},
   "source": [
    "**Problema**: mover os zeros de uma lista numérica para a direita\n",
    "\n",
    "**Entrada**: uma lista numérica\n",
    "\n",
    "**Saída**: uma lista numérica contendo todos os valores diferentes de zero na mesma ordem em que eles aparecem na lista de entrada. Todos os valores que são zero devem estar a direita de todos os valores que não são zero.\n",
    "\n",
    "**Algoritmo**:\n",
    "\n"
   ]
  },
  {
   "cell_type": "code",
   "execution_count": null,
   "metadata": {},
   "outputs": [],
   "source": []
  },
  {
   "cell_type": "markdown",
   "metadata": {},
   "source": [
    "**Comentários sobre a implementação**: [escrita opcional]\n",
    "\n",
    "**Teste**:\n",
    "\n"
   ]
  },
  {
   "cell_type": "code",
   "execution_count": null,
   "metadata": {},
   "outputs": [],
   "source": []
  },
  {
   "cell_type": "markdown",
   "metadata": {},
   "source": [
    "### Invertendo uma lista\n",
    "\n"
   ]
  },
  {
   "cell_type": "markdown",
   "metadata": {},
   "source": [
    "**Problema**: inverter a ordem de uma lista\n",
    "\n",
    "**Entrada**: uma lista numérica\n",
    "\n",
    "**Saída**: uma lista numérica contendo os valores da lista de entrada na ordem reversa.\n",
    "\n",
    "**Algoritmo**:\n",
    "\n"
   ]
  },
  {
   "cell_type": "code",
   "execution_count": null,
   "metadata": {},
   "outputs": [],
   "source": []
  },
  {
   "cell_type": "markdown",
   "metadata": {},
   "source": [
    "**Comentários sobre a implementação**: [escrita opcional]\n",
    "\n",
    "**Teste**:\n",
    "\n"
   ]
  },
  {
   "cell_type": "code",
   "execution_count": null,
   "metadata": {},
   "outputs": [],
   "source": []
  },
  {
   "cell_type": "markdown",
   "metadata": {},
   "source": [
    "### Soma dígitos\n",
    "\n"
   ]
  },
  {
   "cell_type": "markdown",
   "metadata": {},
   "source": [
    "**Problema**: dado um número positivo $n$, somar seus dígitos repedidamente até que o resultado tenha apenas um dígito. Exemplo: 85 resulta em 8+5=13 que resulta em 1+3=4. 4 tem apenas um dígito, então é a resposta final.\n",
    "\n",
    "**Entrada**: número positivo $n$\n",
    "\n",
    "**Saída**: número positivo $n$ representando a soma repetida dos dígitos\n",
    "\n",
    "**Algoritmo**:\n",
    "\n"
   ]
  },
  {
   "cell_type": "code",
   "execution_count": null,
   "metadata": {},
   "outputs": [],
   "source": []
  },
  {
   "cell_type": "markdown",
   "metadata": {},
   "source": [
    "**Comentários sobre a implementação**: [escrita opcional]\n",
    "\n",
    "**Teste**:\n",
    "\n"
   ]
  },
  {
   "cell_type": "code",
   "execution_count": null,
   "metadata": {},
   "outputs": [],
   "source": []
  }
 ],
 "metadata": {
  "kernelspec": {
   "display_name": "ilumpy",
   "language": "python",
   "name": "ilumpy"
  },
  "language_info": {
   "codemirror_mode": {
    "name": "ipython",
    "version": 3
   },
   "file_extension": ".py",
   "mimetype": "text/x-python",
   "name": "python",
   "nbconvert_exporter": "python",
   "pygments_lexer": "ipython3",
   "version": "3.9.5"
  },
  "org": null
 },
 "nbformat": 4,
 "nbformat_minor": 4
}
