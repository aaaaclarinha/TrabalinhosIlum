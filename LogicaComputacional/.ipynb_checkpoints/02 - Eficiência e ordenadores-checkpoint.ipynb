{
 "cells": [
  {
   "cell_type": "markdown",
   "metadata": {},
   "source": [
    "Eficiência e Ordenadores\n",
    "========================\n",
    "\n",
    "**Autor:** Daniel R. Cassar\n",
    "\n"
   ]
  },
  {
   "cell_type": "markdown",
   "metadata": {},
   "source": [
    "<font color=&ldquo;blue&rdquo;>Para os exercícios, preencha as células de código vazias abaixo. A instrução `import` é apenas permitida para importar os módulos `math`, `random` e `time` nestes exercícios. Utilize apenas variáveis numéricas ou listas com números. Veja as funções e métodos de lista permitidos abaixo.</font>\n",
    "\n",
    "-   **Funções de Python permitidas**: `sum`, `abs`, `all`, `any`, `complex`, `len`, `print`, `range`, `int`, `float`, `zip`, `enumerate`, `bool`, `dir`, `help`, `isinstance`, `list`, `round` e `type`.\n",
    "\n",
    "-   **Métodos de lista permitidos**: `append`, `copy`, `extend`, `insert`, `pop` e `remove`.\n",
    "\n",
    "<font color=&ldquo;blue&rdquo;>Exercícios bônus contam como pontos extra.</font>\n",
    "\n"
   ]
  },
  {
   "cell_type": "markdown",
   "metadata": {},
   "source": [
    "## Eficiência\n",
    "\n"
   ]
  },
  {
   "cell_type": "markdown",
   "metadata": {},
   "source": [
    "Dado um certo problema, existem <u>diversas</u> formas de escrever um algoritmo de computador que resolva esse problema de maneira correta.\n",
    "\n",
    "Nós vivemos em um momento bastante peculiar, onde o poder de processamento dos nossos computadores pessoais é razoavelmente grande. Isso quer dizer que muitas vezes podemos nos dar o luxo de <u>não se preocupar</u> sobre a *eficiência* dos algoritmos que escrevemos, uma vez que fará pouca diferença para nós se nosso código rodar em poucos segundos ou alguns minutos&#x2026; o que importa para nós é apenas o resultado e pronto.\n",
    "\n",
    "Em certas situações, no entanto, não queremos esperar! Imagina se seu GPS demorasse 5 minutos para recalcular uma rota caso você tenha entrado na rua errada&#x2026; isso é considerado inaceitável nos dias de hoje. Imagina se o seu resultado de busca no Google demorasse 5 minutos para ser exibido&#x2026; aposto que usaríamos o Google de uma forma totalmente diferente se esse fosse o caso.\n",
    "\n",
    "Em outras situações, não *podemos* esperar! O algoritmo que cuida dos voos de aviões em aeroportos deve ser rápido o suficiente para evitar acidentes. O algoritmo que os bancos usam deve ser rápido o suficiente para evitar que transações financeiras fraudulentas sejam realizadas.\n",
    "\n"
   ]
  },
  {
   "cell_type": "markdown",
   "metadata": {},
   "source": [
    "## Estimando a eficiência de um algoritmo com um contador\n",
    "\n"
   ]
  },
  {
   "cell_type": "markdown",
   "metadata": {},
   "source": [
    "A função abaixo nós já vimos na aula anterior, ela encontra o valor máximo em uma lista de valores.\n",
    "\n",
    "**Problema**: encontrar o valor máximo em uma lista de números\n",
    "\n",
    "**Entrada**: uma lista de números\n",
    "\n",
    "**Saída**: um número representando o valor máximo da lista de entrada\n",
    "\n",
    "**Algoritmo**:\n",
    "\n"
   ]
  },
  {
   "cell_type": "code",
   "execution_count": null,
   "metadata": {},
   "outputs": [],
   "source": [
    "def encontra_maximo(lista):\n",
    "    '''Retorna o valor máximo de uma lista de valores numéricos.'''\n",
    "    valor = lista[0]\n",
    "    for n in lista:\n",
    "        if n > valor:\n",
    "            valor = n\n",
    "    return valor"
   ]
  },
  {
   "cell_type": "markdown",
   "metadata": {},
   "source": [
    "Uma pergunta relevante é &ldquo;quantas vezes precisamos realizar a tarefa mais custosa deste algoritmo&rdquo;? Para este algoritmo em específico, a tarefa mais custosa é o `if` da linha 5. Vamos então contar quantas vezes nós executamos ele usando a variável `contador`! (Podemos fazer essa contagem na nossa mente também, aqui eu fiz na função para ficar mais visual).\n",
    "\n"
   ]
  },
  {
   "cell_type": "code",
   "execution_count": null,
   "metadata": {},
   "outputs": [],
   "source": [
    "def encontra_maximo(lista):\n",
    "    '''Retorna o valor máximo de uma lista de valores numéricos.'''\n",
    "    contador = 0\n",
    "    valor = lista[0]\n",
    "    for n in lista:\n",
    "        contador = contador + 1\n",
    "        if n > valor:\n",
    "            valor = n\n",
    "    return valor, contador"
   ]
  },
  {
   "cell_type": "markdown",
   "metadata": {},
   "source": [
    "No código acima, porque colocamos a linha `contador = contador + 1` acima do `if` e não *dentro* do `if`? Fizemos isso pois se tivéssemos colocado dentro do `if` nós só estaríamos contando as vezes que a condição do `if` foi *verdadeira*, não quantas vezes o `if` foi *executado*, você vê a diferença?\n",
    "\n",
    "Agora vamos testar!\n",
    "\n"
   ]
  },
  {
   "cell_type": "code",
   "execution_count": null,
   "metadata": {},
   "outputs": [],
   "source": [
    "lista = [0] * 10  # cria uma lista com 10 itens, todos eles com o valor zero\n",
    "maximo, contador = encontra_maximo(lista)\n",
    "print(\"Uma lista de tamanho\", len(lista), \"executou o if\", contador, \"vezes\")\n",
    "\n",
    "lista = [0] * 100\n",
    "maximo, contador = encontra_maximo(lista)\n",
    "print(\"Uma lista de tamanho\", len(lista), \"executou o if\", contador, \"vezes\")\n",
    "\n",
    "lista = [0] * 1000\n",
    "maximo, contador = encontra_maximo(lista)\n",
    "print(\"Uma lista de tamanho\", len(lista), \"executou o if\", contador, \"vezes\")\n",
    "\n",
    "lista = [0] * 1000000\n",
    "maximo, contador = encontra_maximo(lista)\n",
    "print(\"Uma lista de tamanho\", len(lista), \"executou o if\", contador, \"vezes\")"
   ]
  },
  {
   "cell_type": "markdown",
   "metadata": {},
   "source": [
    "Há! Percebeu o padrão? Uma lista de tamanho $n$ executa a instrução mais custosa $n$ vezes neste algoritmo!! Dizemos que este algoritmo executa sua tarefa em *tempo linear* (leia como &ldquo;linear em relação ao tamanho do objeto que recebe&rdquo;).\n",
    "\n",
    "Mas nem sempre este é o caso, veja no exemplo abaixo. <u>Nota</u>: a função abaixo já contempla a variável `contador` pois esse é nosso interesse aqui, contar as tarefas mais custosas de um algoritmo. A variável `contador` não é necessária se seu interesse é apenas resolver o problema em questão!\n",
    "\n",
    "**Problema**: encontrar os índices dos números duplicados em uma lista\n",
    "\n",
    "**Entrada**: uma lista de números\n",
    "\n",
    "**Saída**: uma lista com tuplas indicando os índices dos elementos duplicados\n",
    "\n",
    "**Algoritmo**:\n",
    "\n"
   ]
  },
  {
   "cell_type": "code",
   "execution_count": null,
   "metadata": {},
   "outputs": [],
   "source": [
    "def indice_duplicados(lista):\n",
    "    \"\"\"Retorna os índices dos itens duplicados em uma lista\"\"\"\n",
    "    indice_dos_duplicados = []\n",
    "    contador = 0\n",
    "\n",
    "    for i in range(len(lista)):\n",
    "        for j in range(len(lista)):\n",
    "            contador = contador + 1\n",
    "\n",
    "            # Se os índices são diferentes, porém os valores são iguais,\n",
    "            # então são itens duplicados!\n",
    "            if i != j and lista[i] == lista[j]:\n",
    "                indice_dos_duplicados.append((i, j))\n",
    "\n",
    "    return indice_dos_duplicados, contador"
   ]
  },
  {
   "cell_type": "markdown",
   "metadata": {},
   "source": [
    "Vamos testar!\n",
    "\n"
   ]
  },
  {
   "cell_type": "code",
   "execution_count": null,
   "metadata": {},
   "outputs": [],
   "source": [
    "lista = [0] * 10  # cria uma lista com 10 itens, todos eles com o valor zero\n",
    "maximo, contador = indice_duplicados(lista)\n",
    "print(\"Uma lista de tamanho\", len(lista), \"executou o if\", contador, \"vezes\")\n",
    "\n",
    "lista = [0] * 100\n",
    "maximo, contador = indice_duplicados(lista)\n",
    "print(\"Uma lista de tamanho\", len(lista), \"executou o if\", contador, \"vezes\")\n",
    "\n",
    "lista = [0] * 1000\n",
    "maximo, contador = indice_duplicados(lista)\n",
    "print(\"Uma lista de tamanho\", len(lista), \"executou o if\", contador, \"vezes\")"
   ]
  },
  {
   "cell_type": "markdown",
   "metadata": {},
   "source": [
    "UAU! Uma lista com $n$ elementos executa o `if` (tarefa mais custosa deste algoritmo) $n^2$ vezes!! Isso não é mais um *tempo linear*&#x2026; agora dizemos que nosso código executa sua tarefa em *tempo polinomial*.\n",
    "\n"
   ]
  },
  {
   "cell_type": "markdown",
   "metadata": {},
   "source": [
    "O conceito por trás do que discutimos nesta seção é a análise da *complexidade de algoritmos*. Para esta disciplina é necessário que você saiba o que significa a notação $O$, também conhecida como notação big $O$ ou notação $O$ grande. Uma visão matemática pode ser encontrada no capítulo 3 do livro Algoritmos de Thomas H. Cormen (tem na biblioteca). Este livro vai além do que precisamos para esta disciplina, recomendo a leitura para quem quiser realmente se aprofundar neste assunto. Uma introdução mais amigável sobre este tema pode ser vista [neste vídeo](https://www.youtube.com/watch?v=X_6LTVkymVM) do canal CódigoEscola no YouTube.\n",
    "\n"
   ]
  },
  {
   "cell_type": "markdown",
   "metadata": {},
   "source": [
    "## Medindo quanto tempo um algoritmo gasta para rodar\n",
    "\n"
   ]
  },
  {
   "cell_type": "markdown",
   "metadata": {},
   "source": [
    "Vamos retornar para nossa função que encontra o valor máximo.\n",
    "\n",
    "**Problema**: encontrar o valor máximo em uma lista de números\n",
    "\n",
    "**Entrada**: uma lista de números\n",
    "\n",
    "**Saída**: um número representando o valor máximo da lista de entrada\n",
    "\n",
    "**Algoritmo**:\n",
    "\n"
   ]
  },
  {
   "cell_type": "code",
   "execution_count": null,
   "metadata": {},
   "outputs": [],
   "source": [
    "def encontra_maximo(lista):\n",
    "    '''Retorna o valor máximo de uma lista de valores numéricos.'''\n",
    "    valor = lista[0]\n",
    "    for n in lista:\n",
    "        if n > valor:\n",
    "            valor = n\n",
    "    return valor"
   ]
  },
  {
   "cell_type": "markdown",
   "metadata": {},
   "source": [
    "Podemos medir o tempo que essa função demora para executar usando o módulo `time`. Veja o exemplo abaixo e observe como o tempo aumenta quando aumentamos o tamanho da lista.\n",
    "\n"
   ]
  },
  {
   "cell_type": "code",
   "execution_count": null,
   "metadata": {},
   "outputs": [],
   "source": [
    "import time\n",
    "\n",
    "\n",
    "lista = [0] * 10  # cria uma lista com 10 itens, todos eles com o valor zero\n",
    "inicio = time.perf_counter()\n",
    "maximo = encontra_maximo(lista)\n",
    "fim = time.perf_counter()\n",
    "print(\"Uma lista de tamanho\", len(lista), \"itens demorou\", fim - inicio, \"segundos\")\n",
    "\n",
    "lista = [0] * 100\n",
    "inicio = time.perf_counter()\n",
    "maximo = encontra_maximo(lista)\n",
    "fim = time.perf_counter()\n",
    "print(\"Uma lista de tamanho\", len(lista), \"itens demorou\", fim - inicio, \"segundos\")\n",
    "\n",
    "lista = [0] * 1000\n",
    "inicio = time.perf_counter()\n",
    "maximo = encontra_maximo(lista)\n",
    "fim = time.perf_counter()\n",
    "print(\"Uma lista de tamanho\", len(lista), \"itens demorou\", fim - inicio, \"segundos\")\n",
    "\n",
    "lista = [0] * 1000000\n",
    "inicio = time.perf_counter()\n",
    "maximo = encontra_maximo(lista)\n",
    "fim = time.perf_counter()\n",
    "print(\"Uma lista de tamanho\", len(lista), \"itens demorou\", fim - inicio, \"segundos\")"
   ]
  },
  {
   "cell_type": "markdown",
   "metadata": {},
   "source": [
    "Esta é uma maneira mais direta de se medir a eficiência de um algoritmo. A estratégia anterior (usando contadores) é uma maneira mais matemática de se medir a eficiência.\n",
    "\n"
   ]
  },
  {
   "cell_type": "markdown",
   "metadata": {},
   "source": [
    "## Comparando a eficiência de dois algoritmos\n",
    "\n"
   ]
  },
  {
   "cell_type": "markdown",
   "metadata": {},
   "source": [
    "**Problema**: contar quantos números primos existem entre 1 e $n$\n",
    "\n",
    "**Entrada**: número $n$\n",
    "\n",
    "**Saída**: um número representando a quantidade de números primos entre 1 e $n$\n",
    "\n",
    "<font color=&ldquo;blue&rdquo;>​**Exercício**: compare a execução dos algoritmos da solução 1 e 2 abaixo escolhendo a metodologia que preferir (contador ou módulo `time`). Escreva brevemente sobre o que observou.\n",
    "\n",
    "<font color=&ldquo;blue&rdquo;>​**Ponto bônus**: invente ou busque na internet um código que resolva este problema de uma outra maneira diferente das soluções 1 e 2 abaixo. Compare a velocidade do seu código usando a mesma métrica que você usou para testar as soluções 1 e 2 (contador ou módulo `time`). Se buscar na internet não se esqueça de colocar a referência!! Lembre-se de seguir as restrições que foram combinadas no início deste caderno de notas.\n",
    "\n"
   ]
  },
  {
   "cell_type": "markdown",
   "metadata": {},
   "source": [
    "### Solução 1\n",
    "\n"
   ]
  },
  {
   "cell_type": "markdown",
   "metadata": {},
   "source": [
    "Nós já temos um algoritmo que checa se um número é primo ou não, vimos ele na aula anterior. No melhor espírito de uma economia verde, vamos reutilizar nosso algoritmo 🙂\n",
    "\n",
    "Veja na solução abaixo que temos duas funções. Isso é perfeitamente válido. Alias, não apenas é perfeitamente válido, mas <u>é recomendado dividir tarefas complexas em tarefas menores</u>. É o princípio &ldquo;cada função deve fazer uma ação e apenas uma&rdquo;.\n",
    "\n",
    "**Algoritmo**:\n",
    "\n"
   ]
  },
  {
   "cell_type": "code",
   "execution_count": null,
   "metadata": {},
   "outputs": [],
   "source": [
    "def checa_primo(n):\n",
    "    \"\"\"Checa se um número é primo.\"\"\"\n",
    "\n",
    "    # tudo menor ou igual a 1 não é primo\n",
    "    if n <= 1:\n",
    "        return False\n",
    "\n",
    "    for i in range(2, n):\n",
    "        if n % i == 0:\n",
    "            return False\n",
    "\n",
    "    return True\n",
    "\n",
    "\n",
    "def conta_n_primeiros_primos(n):\n",
    "    \"\"\"Conta quantos números primos existem entre 0 e n.\"\"\"\n",
    "    numero_de_primos = 0\n",
    "\n",
    "    for i in range(1, n + 1):\n",
    "        if checa_primo(i):\n",
    "            numero_de_primos = numero_de_primos + 1\n",
    "\n",
    "    return numero_de_primos"
   ]
  },
  {
   "cell_type": "markdown",
   "metadata": {},
   "source": [
    "Como podemos tentar otimizar esse algoritmo? Isto é, como podemos fazer ele executar mais rapidamente? Pense um pouco antes de ler a seção seguinte.\n",
    "\n"
   ]
  },
  {
   "cell_type": "markdown",
   "metadata": {},
   "source": [
    "### Solução 2\n",
    "\n"
   ]
  },
  {
   "cell_type": "markdown",
   "metadata": {},
   "source": [
    "Uma forma de otimizar esse algoritmo é evitando fazer contas que não são necessárias! Sabemos que para testar se um número $n$ é primo precisamos apenas checar se $n$ é divisível pelos números inteiros menores que $\\sqrt{n}$. Não precisamos checar todos os números entre 2 e $n-1$! Vamos reescrever o algoritmo usando esse conhecimento.\n",
    "\n",
    "**Algoritmo**:\n",
    "\n"
   ]
  },
  {
   "cell_type": "code",
   "execution_count": null,
   "metadata": {},
   "outputs": [],
   "source": [
    "def checa_primo_2(n):\n",
    "    \"\"\"Checa se um número é primo.\"\"\"\n",
    "\n",
    "    # tudo menor ou igual a 1 não é primo\n",
    "    if n <= 1:\n",
    "        return False\n",
    "\n",
    "    raiz_quadrada = round(n ** (1 / 2)) # arredondamos para não ter problemas\n",
    "    for i in range(2, raiz_quadrada + 1): # aqui está o segredo!\n",
    "        if n % i == 0:\n",
    "            return False\n",
    "\n",
    "    return True\n",
    "\n",
    "\n",
    "def conta_n_primeiros_primos_2(n):\n",
    "    \"\"\"Conta quantos números primos existem entre 0 e n.\"\"\"\n",
    "    numero_de_primos = 0\n",
    "\n",
    "    for i in range(1, n + 1):\n",
    "        if checa_primo_2(i):\n",
    "            numero_de_primos = numero_de_primos + 1\n",
    "\n",
    "    return numero_de_primos"
   ]
  },
  {
   "cell_type": "markdown",
   "metadata": {},
   "source": [
    "### Resposta do exercício\n",
    "\n"
   ]
  },
  {
   "cell_type": "code",
   "execution_count": null,
   "metadata": {},
   "outputs": [],
   "source": [
    "# escreva seu código aqui"
   ]
  },
  {
   "cell_type": "markdown",
   "metadata": {},
   "source": [
    "<font color=&ldquo;blue&rdquo;>[Aqui nesta célula, delete este texto e escreva brevemente a sua análise.]\n",
    "\n"
   ]
  },
  {
   "cell_type": "markdown",
   "metadata": {},
   "source": [
    "## Ordenadores\n",
    "\n"
   ]
  },
  {
   "cell_type": "markdown",
   "metadata": {},
   "source": [
    "Veja as duas listas abaixo e reflita sobre qual delas é mais fácil identificar qual é o valor mínimo e o valor máximo que elas armazenam.\n",
    "\n"
   ]
  },
  {
   "cell_type": "code",
   "execution_count": null,
   "metadata": {},
   "outputs": [],
   "source": [
    "lista_1 = [0, 1, 2, 3, 4, 5, 6, 7, 8, 9, 10, 11, 12, 13, 14, 15, 16, 17, 18, 19]\n",
    "\n",
    "lista_2 = [16, 12, 6, 5, 13, 1, 15, 0, 9, 11, 10, 7, 17, 14, 2, 19, 3, 8, 18, 4]"
   ]
  },
  {
   "cell_type": "markdown",
   "metadata": {},
   "source": [
    "As duas listas contém os mesmos valores, porém a primeira está ordenada e a segunda não. Listas ordenadas nos permitem obter facilmente o valor mínimo e máximo, basta olhar nos extremos da lista. Também podemos obter facilmente a mediana, basta usar o índice apropriado. Em outras palavras, não precisamos *navegar* pela lista para obter essas informações! Isso significa que podemos escrever certos algoritmos muito mais eficientes se soubermos que nossa lista está ordenada. Por esse motivo, existem diversos algoritmos conhecidos para ordenar listas! Idealmente, queremos ordenar listas com algoritmos eficientes!\n",
    "\n"
   ]
  },
  {
   "cell_type": "code",
   "execution_count": null,
   "metadata": {},
   "outputs": [],
   "source": [
    "minimo = lista_1[0]\n",
    "maximo = lista_1[-1]\n",
    "\n",
    "if len(lista_1) % 2 == 0:\n",
    "    # mediana de uma lista com um número par de itens\n",
    "    indice_1 = int(len(lista_1) / 2) - 1\n",
    "    indice_2 = int(len(lista_1) / 2)\n",
    "    mediana = (lista_1[indice_1] + lista_1[indice_2]) / 2\n",
    "else:\n",
    "    # mediana de uma lista com um número ímpar de itens\n",
    "    indice_mediana = int((len(lista_1)) / 2)\n",
    "    mediana = lista_1[indice_mediana]\n",
    "\n",
    "print(minimo)\n",
    "print(maximo)\n",
    "print(mediana)"
   ]
  },
  {
   "cell_type": "markdown",
   "metadata": {},
   "source": [
    "Abaixo veremos algoritmos que resolvem o seguinte problema:\n",
    "\n",
    "**Problema**: ordenar uma lista numérica de tamanho arbitrário\n",
    "\n",
    "**Entrada**: lista numérica\n",
    "\n",
    "**Saída**: lista numérica com os números em ordem crescente\n",
    "\n"
   ]
  },
  {
   "cell_type": "markdown",
   "metadata": {},
   "source": [
    "### Ordenador por seleção (selection sort)\n",
    "\n"
   ]
  },
  {
   "cell_type": "markdown",
   "metadata": {},
   "source": [
    "Este é um dos algoritmos mais simples de ordenar uma lista. Ele funciona da seguinte maneira:\n",
    "\n",
    "1.  Crie uma lista nova chamada `lista_ordenada`\n",
    "2.  Encontre o valor mínimo da sua lista de entrada\n",
    "3.  Insira o valor encontrado no passo 2 no final da sua lista `lista_ordenada`\n",
    "4.  Remova o valor encontrado no passo 2 da sua lista de entrada\n",
    "5.  Se sua lista de entrada ainda contém itens, retorne ao passo 2. Do contrário, siga para o passo 6\n",
    "6.  Fim, retorne sua lista `lista_ordenada` para o usuário\n",
    "\n",
    "<font color=&ldquo;blue&rdquo;>Implemente um ordenador por seleção abaixo e teste ele.\n",
    "\n",
    "<u>Dica</u>: pode escrever mais de uma função na sua resposta. Por exemplo: você pode escrever uma função que encontra o mínimo de uma lista e usar essa função dentro da sua função ordenadora.\n",
    "\n"
   ]
  },
  {
   "cell_type": "code",
   "execution_count": null,
   "metadata": {},
   "outputs": [],
   "source": []
  },
  {
   "cell_type": "markdown",
   "metadata": {},
   "source": [
    "**Teste**:\n",
    "\n"
   ]
  },
  {
   "cell_type": "code",
   "execution_count": null,
   "metadata": {},
   "outputs": [],
   "source": []
  },
  {
   "cell_type": "markdown",
   "metadata": {},
   "source": [
    "### Ordenador por flutuação (bubble sort)\n",
    "\n"
   ]
  },
  {
   "cell_type": "markdown",
   "metadata": {},
   "source": [
    "Outro algoritmo ordenador considerado simples. O ordenador por flutuação funciona da seguinte maneira:\n",
    "\n",
    "1.  Faça uma passada em *todos* os elementos $i$ da lista (menos o último), comparando o elemento da posição $i$ com o elemento da posição $i + 1$. Caso o elemento $i$ seja maior que o elemento $i + 1$ você deve trocar os valores destes elementos (isto é, a posição $i$ agora deve armazenar o valor que estava na posição $i + 1$ e a posição $i + 1$ agora deve armazenar o valor que estava na posição $i$).\n",
    "2.  Caso você tenha feito pelo menos uma alteração de valores no passo 1, então retorne ao passo 1. Do contrário vá ao passo 3.\n",
    "3.  Fim, sua lista está ordenada. Retorne ela para o usuário.\n",
    "\n",
    "<font color=&ldquo;blue&rdquo;>Implemente um ordenador por flutuação abaixo e teste ele.\n",
    "\n"
   ]
  },
  {
   "cell_type": "code",
   "execution_count": null,
   "metadata": {},
   "outputs": [],
   "source": []
  },
  {
   "cell_type": "markdown",
   "metadata": {},
   "source": [
    "**Teste**:\n",
    "\n"
   ]
  },
  {
   "cell_type": "code",
   "execution_count": null,
   "metadata": {},
   "outputs": [],
   "source": []
  },
  {
   "cell_type": "markdown",
   "metadata": {},
   "source": [
    "### Ordenador por insersão (insertion sort)\n",
    "\n"
   ]
  },
  {
   "cell_type": "markdown",
   "metadata": {},
   "source": [
    "Este é um algoritmo de ordenação que costuma ser bastante eficiente para listas pequenas, mas não para listas grandes.\n",
    "\n",
    "1.  Considere um valor $p=2$\n",
    "2.  Considere apenas os primeiros $p$ valores da sua lista. Para estes valores, cheque todos eles da *direita para a esquerda*. Se identificar valores fora da ordem crescente (isto é, se o valor da posição $i$ é maior que o valor da posição $i+1$), então troque estes valores de lugar entre si (a posição $i$ agora deve armazenar o valor que estava na posição $i+1$ e vice-versa).\n",
    "3.  Se seu valor de $p$ é igual ao tamanho da lista, então vá ao passo 4. Do contrário, acrescente 1 ao valor de $p$ e retorne ao passo 2.\n",
    "4.  Fim, sua lista está ordenada. Retorne ela para o usuário.\n",
    "\n",
    "Se não estiver claro os passos acima, busque na internet ou em livros outras formulações do problema. A da [Wikipédia](https://pt.wikipedia.org/wiki/Insertion_sort) é bastante boa.\n",
    "\n",
    "<font color=&ldquo;blue&rdquo;>Implemente um ordenador por inserção abaixo e teste ele.\n",
    "\n"
   ]
  },
  {
   "cell_type": "code",
   "execution_count": null,
   "metadata": {},
   "outputs": [],
   "source": []
  },
  {
   "cell_type": "markdown",
   "metadata": {},
   "source": [
    "**Teste**:\n",
    "\n"
   ]
  },
  {
   "cell_type": "code",
   "execution_count": null,
   "metadata": {},
   "outputs": [],
   "source": []
  },
  {
   "cell_type": "markdown",
   "metadata": {},
   "source": [
    "### Ordenador estou com sort (bogosort)\n",
    "\n"
   ]
  },
  {
   "cell_type": "markdown",
   "metadata": {},
   "source": [
    "Você é uma pessoa sortuda? Se sim, este algoritmo é para você! Ele funciona basicamente embaralhando os elementos da lista de forma aleatória e checando se o produto final é uma lista ordenada. Absurdamente ineficiente. Praticamente ofensivo. Objetivamente tragicômico. Jamais use ele. Como cortesia, segue uma implementação possível abaixo.\n",
    "\n"
   ]
  },
  {
   "cell_type": "code",
   "execution_count": null,
   "metadata": {},
   "outputs": [],
   "source": [
    "import random\n",
    "\n",
    "\n",
    "def checa_se_lista_esta_ordenada(lista):\n",
    "    \"\"\"Checa se uma lista está ordenada.\"\"\"\n",
    "    for i in range(len(lista) - 1):\n",
    "        if lista[i] > lista[i + 1]:\n",
    "            return False\n",
    "    return True\n",
    "\n",
    "\n",
    "def ordenador_por_sorte(lista):\n",
    "    \"\"\"Ordena os valores de uma lista em ordem crescente.\"\"\"\n",
    "    while True:\n",
    "        random.shuffle(lista)\n",
    "        if checa_se_lista_esta_ordenada(lista):\n",
    "            break\n",
    "    return lista"
   ]
  },
  {
   "cell_type": "markdown",
   "metadata": {},
   "source": [
    "**Teste**:\n",
    "\n"
   ]
  },
  {
   "cell_type": "code",
   "execution_count": null,
   "metadata": {},
   "outputs": [],
   "source": [
    "lista = [1, 10, 4, 19, -23, 55, 0, 2]\n",
    "\n",
    "print(\"Entrada: \", lista)\n",
    "print(\"Saída: \", ordenador_por_sorte(lista))\n",
    "print()"
   ]
  },
  {
   "cell_type": "markdown",
   "metadata": {},
   "source": [
    "### Exercício bônus\n",
    "\n"
   ]
  },
  {
   "cell_type": "markdown",
   "metadata": {},
   "source": [
    "<font color=&ldquo;blue&rdquo;>Compare a eficiência dos algoritmos de ordenação apresentados neste caderno de notas. Escolha a metodologia que você preferir (contador ou módulo `time`). Comente brevemente sobre o que observou.\n",
    "\n"
   ]
  },
  {
   "cell_type": "code",
   "execution_count": null,
   "metadata": {},
   "outputs": [],
   "source": []
  }
 ],
 "metadata": {
  "kernelspec": {
   "display_name": "ilumpy",
   "language": "python",
   "name": "ilumpy"
  },
  "language_info": {
   "codemirror_mode": {
    "name": "ipython",
    "version": 3
   },
   "file_extension": ".py",
   "mimetype": "text/x-python",
   "name": "python",
   "nbconvert_exporter": "python",
   "pygments_lexer": "ipython3",
   "version": "3.9.10"
  },
  "org": null
 },
 "nbformat": 4,
 "nbformat_minor": 4
}
