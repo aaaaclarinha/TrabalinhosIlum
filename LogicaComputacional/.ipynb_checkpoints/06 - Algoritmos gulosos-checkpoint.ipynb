{
 "cells": [
  {
   "cell_type": "markdown",
   "metadata": {},
   "source": [
    "Algoritmos gulosos\n",
    "==================\n",
    "\n",
    "**Autor:** Daniel R. Cassar\n",
    "\n"
   ]
  },
  {
   "cell_type": "markdown",
   "metadata": {},
   "source": [
    "## O problema dos cursos\n",
    "\n"
   ]
  },
  {
   "cell_type": "markdown",
   "metadata": {},
   "source": [
    "Existe uma estratégia para resolver problemas chamada de *greedy algorithms* que, por incrível que pareça, não são chamados de algoritmos gananciosos (como a tradução sugeriria), mas sim são chamados de algoritmos gulosos&#x2026; o tradutor claramente tinha um pecado capital preferido. Estava tão focado em comer que literalmente comeu bola aqui.\n",
    "\n",
    "Enfim&#x2026; suponha que chegaram as férias e você quer fazer alguns cursos para complementar seus estudos. Seu objetivo é fazer o **máximo** de cursos possível! Os cursos oferecidos nestas férias são:\n",
    "\n",
    "-   Curso de biologia da antimatéria: das 8:00 às 10:00\n",
    "-   Curso de peteca medieval: das 9:00 às 11:00\n",
    "-   Curso de poesia de elevador: das 10:00 às 12:00\n",
    "-   Curso de cálculo quântico 5: das 11:00 às 13:00\n",
    "-   Curso de paleontologia para tabeliões: das 12:00 às 14:00\n",
    "\n",
    "Oh não! Não é possível fazer todos os cursos pois os horários batem! Como escolher os cursos de forma a fazer o máximo de cursos possível? Uma solução é usar um algoritmo guloso!\n",
    "\n",
    "Faça o seguinte: escolha o curso que termina mais cedo. Depois disso, escolha o curso que termina mais cedo e que comece depois do horário do curso que acabou de escolher. Repita essa estratégia até que não existam mais cursos disponíveis e voilà! Você acabou de encontrar a melhor resposta para esse problema! Não só isso, mas acabou de usar seu primeiro algoritmo guloso!\n",
    "\n",
    "No final das contas, após rodar seu algoritmo você irá fazer os seguintes cursos nestas férias:\n",
    "\n",
    "-   Curso de biologia da antimatéria: das 8:00 às 10:00\n",
    "-   Curso de poesia de elevador: das 10:00 às 12:00\n",
    "-   Curso de paleontologia para tabeliões: das 12:00 às 14:00\n",
    "\n",
    "Pode checar, não existe nenhuma resposta melhor que essa neste caso se seu objetivo é maximizar a quantidade de cursos (veja que não estamos atribuindo valor sobre a qualidade dos cursos&#x2026; claramente são todos muito interessantes!).\n",
    "\n",
    "A estratégia de um algoritmo guloso é muito simples: a cada passo do problema, opte pela &ldquo;melhor escolha&rdquo; dentre as existentes (o conceito de &ldquo;melhor resposta&rdquo; ficará mais claro ao longo do texto). Simples, não é? Vamos ver outros exemplos.\n",
    "\n"
   ]
  },
  {
   "cell_type": "markdown",
   "metadata": {},
   "source": [
    "## O problema do troco\n",
    "\n"
   ]
  },
  {
   "cell_type": "markdown",
   "metadata": {},
   "source": [
    "Suponha que você está trabalhando em um caixa de supermercado e tenha um estoque infinito de moedas. Sempre que for dar um troco em dinheiro, você deve entregar a **menor** quantidade de moedas possível para o cliente.\n",
    "\n",
    "Podemos resolver essa escolha com um algoritmo guloso? Certamente! Para isso você deve sempre escolher a moeda de maior valor em cada momento de escolha. Suponha que o troco deve ser de 41 centavos:\n",
    "\n",
    "1.  Para 41 centavos, a maior moeda disponível é a de 25 centavos. $41-25=16$\n",
    "2.  Para 16 centavos, a maior moeda disponível é a de 10 centavos. $16-10=6$\n",
    "3.  Para 6 centavos, a maior moeda disponível é a de 5 centavos. $6-5=1$\n",
    "4.  Para 1 centavo, a maior moeda disponível é a de 1 centavo. $1-1=0$\n",
    "5.  Fim, o troco total foi pago.\n",
    "\n",
    "No final, entregamos ao cliente apenas 4 moedas: uma de 25 centavos, uma de 10 centavos, uma de 5 centavos e uma de 1 centavo. Novamente, esse algoritmo guloso fornece a **melhor resposta** para esse problema! Pode tentar buscar outra solução, mas ela não será a solução mais otimizada para esse problema.\n",
    "\n"
   ]
  },
  {
   "cell_type": "markdown",
   "metadata": {},
   "source": [
    "## O problema da mochila\n",
    "\n"
   ]
  },
  {
   "cell_type": "markdown",
   "metadata": {},
   "source": [
    "Suponha que você tem uma mochila com capacidade de carregar no máximo 10 quilogramas. Se você colocar uma grama a mais além da capacidade máxima, sua mochila rasga e tudo que você colocou nela quebra de forma catastrófica ao se chocar com o chão.\n",
    "\n",
    "Suponha que você quer encher a sua mochila e para isso pode escolher qualquer combinação de itens da lista abaixo. Seu interesse é **maximizar** o preço de venda dos itens que colocou na sua mochila.\n",
    "\n",
    "-   Notebook com 100 gigas de fotos de gatinhos: 4 quilos, vende por 4.000,00\\\\$\n",
    "-   Caderno contendo as respostas corretas de todos os exercícios do seu curso da Ilum: 6 quilos, vende por 5.000,00\\\\$\n",
    "-   Guitarra stratocaster com assinatura falsa de Jimmy Hendrix: 7 quilos, vende por 7.000,00\\\\$\n",
    "\n",
    "Um algoritmo guloso neste caso seria o seguinte: pegue o item mais caro disponível que ainda caiba dentro da capacidade da sua mochila. Repita essa estratégia até que não seja mais possível pegar um novo item.\n",
    "\n",
    "Ou seja, a cada escolha possível, o algoritmo guloso tenta otimizar *localmente* a resposta. Ele faz isso pegando sempre o item mais caro possível, sem ligar para outras combinações. Veja que o algoritmo guloso jamais retorna para checar outras soluções&#x2026; ele só vai!\n",
    "\n",
    "Seguindo esse algoritmo, você pegaria primeiro a guitarra pois esse é o item mais caro. Com isso, sobraria ainda espaço para um item de 3 quilos, porém não existem itens com 3 quilos ou menos. Neste caso, você ficaria apenas com a guitarra que vende por um total de 7.000,00\\\\$.\n",
    "\n",
    "Essa é a **melhor resposta** para o problema? Não é, né! Seria melhor pegar o notebook e o caderno que totalizam 10 quilos (dentro da restrição da mochila) e somam uma bagatela de 9.000,00\\\\$&#x2026; dois mil a mais que a resposta proposta pelo algoritmo guloso!\n",
    "\n",
    "As vezes algoritmos gulosos *não* nos entregam a **melhor resposta**. A vantagem deles é que eles *entregam* uma solução e entregam ela *rápido*! Não apenas isso, a solução encontrada costuma ser uma solução razoavelmente boa dentro das restrições do problema.\n",
    "\n",
    "No exemplo dado nós tínhamos apenas 3 itens, neste caso é fácil checar *todas* as combinações possíveis e encontrar a **melhor resposta**. Imagine resolver este problema com uma lista de 50 itens com diferentes pesos e valores! Neste caso, teríamos que checar $2^{50}$ combinações diferentes para encontrar a tão elusiva **melhor resposta** (se cada combinação demorasse 1 segundo para testarmos, levaríamos um pouco mais que 35 mil milênios para terminar a conta). Não temos como encontrar a **melhor resposta** para esse problema de maneira eficiente&#x2026; Não apenas isso, mas para esse problema em particular, se você encontrar uma resposta qualquer não tem como você dizer que ela é a **melhor resposta** sem checar todas as outras&#x2026;\n",
    "\n",
    "Diversos problemas de otimização são assim: encontrar a **melhor resposta** é uma tarefa muitas vezes proibitivamente demorada! Nestes casos, não temos outra saída a não ser usar algoritmos que encontram uma resposta razoavelmente boa. Um algoritmo que entrega uma resposta razoavelmente boa é um **algoritmo de aproximação**. O termo técnico para uma *resposta razoavelmente boa* é uma **solução aproximada**.\n",
    "\n"
   ]
  },
  {
   "cell_type": "markdown",
   "metadata": {},
   "source": [
    "## O problema do caixeiro viajante\n",
    "\n"
   ]
  },
  {
   "cell_type": "markdown",
   "metadata": {},
   "source": [
    "Suponha que você terminou seu curso na Ilum e usou seu conhecimento científico para desenvolver um novo produto revolucionário. Você abriu uma *startup* e agora fabrica você mesma(o) seu novo produto. Só falta agora o mundo conhecer sua invenção e, claro, comprar seu produto para que você tenha sucesso profissional e financeiro!\n",
    "\n",
    "Só tem um probleminha! Seu investimento inicial foi muito grande e agora você não tem muito dinheiro sobrando para viajar pelo Brasil vendendo seu produto&#x2026; seu objetivo é viajar para $n$ cidades de maneira otimizada (percorrendo a menor quantidade de quilômetros), visitando todas elas apenas uma vez e apresentando seu produto em cada uma delas. Como planejar a sua rota otimizada?\n",
    "\n",
    "Essa é a ideia do problema clássico do caixeiro viajante! O enunciado relativamente simples pode nos enganar num primeiro momento, mas veja que com apenas $n=5$ cidades nós temos que checar $5!=120$ possíveis rotas para encontrar a **melhor resposta**! Se quiser visitar $n=10$ cidades terá que checar mais de três milhões e meio de rotas!\n",
    "\n",
    "O problema do caixeiro viajante é outro tipo de problema onde checar todas as soluções fica computacionalmente proibitivo muito rapidamente com o aumento de $n$ pois o número de rotas aumenta com o fatorial de $n$. Esse é um dos problemas ainda abertos em ciência da computação: existe um algoritmo eficiente que encontra a **melhor resposta** para esse problema? Diversos cientistas da computação acreditam que a resposta é **não**.\n",
    "\n",
    "Uma forma de encontrar uma **solução aproximada** para esse problema é usando um algoritmo guloso! (por essa você não esperava, não é!)\n",
    "\n",
    "O algoritmo é relativamente simples: de um ponto de partida inicial, cheque a distância para todas as demais cidades e viaje até a cidade mais próxima. Repita o passo anterior quantas vezes forem necessárias, porém jamais considere voltar para cidades já visitadas.\n",
    "\n",
    "O algoritmo acima parte da suposição de que nós temos um ponto de partida inicial definido. Esse é o caso do exemplo dado acima, afinal, você pode começar a vender seu produto na cidade onde já está! E quando sabemos as cidades a serem visitadas, porém não temos um ponto de partida definido? Esse será um dos exercícios!\n",
    "\n"
   ]
  },
  {
   "cell_type": "markdown",
   "metadata": {},
   "source": [
    "## Problemas NP\n",
    "\n"
   ]
  },
  {
   "cell_type": "markdown",
   "metadata": {},
   "source": [
    "O problema da mochila e o problema do caixeiro viajante são problemas que não são possíveis de serem resolvidos em tempo polinomial. O que significa um problema ser resolvido em tempo polinomial? Significa que o tempo gasto para resolvermos o algoritmo aumenta de forma polinomial com relação ao aumento da informação de entrada informação de entrada.\n",
    "\n",
    "O tempo de execução do algoritmo de encontrar o valor máximo em uma lista aumenta linearmente com o tamanho da lista (vimos isso no notebook 2). Logo esse é um algoritmo que pode ser resolvido em tempo polinomial.\n",
    "\n",
    "O tempo de execução do algoritmo de encontrar índices duplicados em uma lista aumenta com o quadrado do tamanho da lista (vimos isso no notebook 2). Logo esse algoritmo também pode ser resolvido em tempo polinomial.\n",
    "\n",
    "Para encontrar a **melhor resposta** do problema da mochila, nós precisamos checar $2^k$ possibilidades, onde $k$ é o número de itens disponíveis. Se cada checagem consumir o mesmo tempo, então o tempo gasto aumenta de forma exponencial com o número de itens disponíveis. Esse algoritmo *não* pode ser resolvido em tempo polinomial!!\n",
    "\n",
    "Para encontrar a **melhor resposta** do problema do caixeiro viajante, nós precisamos checar $n!$ possibilidades, onde $n$ é o número de cidades a serem visitadas. Se cada checagem consumir o mesmo tempo, então o tempo gasto aumenta de forma fatorial com o número de itens disponíveis. Esse algoritmo *não* pode ser resolvido em tempo polinomial!!\n",
    "\n",
    "Problemas que não podem ser resolvidos com algoritmos que operam em tempo polinomial são conhecidos como **problemas NP**. Da mesmo forma, problemas que *podem* ser resolvidos com algoritmos que operam em tempo polinomial são conhecidos como **problemas P**. Existe uma pergunta aberta na matemática conhecida como $P\\overset{?}{=}NP$ que é um dos [problemas do milênio](https://pt.wikipedia.org/wiki/P_versus_NP) mais famosos ainda não solucionados.\n",
    "\n"
   ]
  },
  {
   "cell_type": "markdown",
   "metadata": {},
   "source": [
    "## Exercícios\n",
    "\n"
   ]
  },
  {
   "cell_type": "markdown",
   "metadata": {},
   "source": [
    "<font color=&ldquo;blue&rdquo;>Para os exercícios, preencha as células de código vazias abaixo conforme o que o exercício pede. A instrução `import` é apenas permitida para importar os módulos `math`, `random`, `time` e `numpy` nestes exercícios.\n",
    "\n",
    "<font color=&ldquo;blue&rdquo;>Para fins de pontuação, a nota máxima é atingida com 4 resoluções corretas (quaisquer). Resoluções extras são recomendadas para quem quer dar prioridade para aprender programação na Ilum ou para quem quer aumentar a chance de tirar uma nota alta (os pontos se somam até atingir o limite da nota 10).\n",
    "\n"
   ]
  },
  {
   "cell_type": "markdown",
   "metadata": {},
   "source": [
    "### Algoritmo de maximização de cursos\n",
    "\n"
   ]
  },
  {
   "cell_type": "markdown",
   "metadata": {},
   "source": [
    "Escreva uma função que resolve o problema abaixo utilizando um algoritmo guloso.\n",
    "\n",
    "**Problema**: escolher a maior quantidade de cursos disponíveis sem que haja conflito de horário.\n",
    "\n",
    "**Entrada**: dicionário com os cursos e horários disponíveis (ver modelo abaixo).\n",
    "\n",
    "**Saída**: lista contendo a maior quantidade de cursos que podem ser cursados sem que haja conflito de horários\n",
    "\n"
   ]
  },
  {
   "cell_type": "code",
   "execution_count": 48,
   "metadata": {},
   "outputs": [
    {
     "ename": "TypeError",
     "evalue": "'<' not supported between instances of 'str' and 'int'",
     "output_type": "error",
     "traceback": [
      "\u001b[1;31m---------------------------------------------------------------------------\u001b[0m",
      "\u001b[1;31mTypeError\u001b[0m                                 Traceback (most recent call last)",
      "\u001b[1;32mC:\\Users\\ANA220~1\\AppData\\Local\\Temp/ipykernel_10280/4159904662.py\u001b[0m in \u001b[0;36m<module>\u001b[1;34m\u001b[0m\n\u001b[0;32m     32\u001b[0m \u001b[1;33m\u001b[0m\u001b[0m\n\u001b[0;32m     33\u001b[0m \u001b[1;31m# Esse print aqui deve retornar a lista [\"biologia\", \"poesia\", \"paleontologia\"] se seu código estiver correto\u001b[0m\u001b[1;33m\u001b[0m\u001b[1;33m\u001b[0m\u001b[0m\n\u001b[1;32m---> 34\u001b[1;33m \u001b[0mprint\u001b[0m\u001b[1;33m(\u001b[0m\u001b[0msel_cur\u001b[0m\u001b[1;33m(\u001b[0m\u001b[0mexemplo_dicionario_cursos\u001b[0m\u001b[1;33m,\u001b[0m \u001b[1;34m\"biologia\"\u001b[0m\u001b[1;33m)\u001b[0m\u001b[1;33m)\u001b[0m\u001b[1;33m\u001b[0m\u001b[1;33m\u001b[0m\u001b[0m\n\u001b[0m",
      "\u001b[1;32mC:\\Users\\ANA220~1\\AppData\\Local\\Temp/ipykernel_10280/4159904662.py\u001b[0m in \u001b[0;36msel_cur\u001b[1;34m(lis_de_cursos, curso_1)\u001b[0m\n\u001b[0;32m     27\u001b[0m     \u001b[1;32mfor\u001b[0m \u001b[0mcur\u001b[0m \u001b[1;32min\u001b[0m \u001b[0mlis_de_cursos\u001b[0m\u001b[1;33m:\u001b[0m\u001b[1;33m\u001b[0m\u001b[1;33m\u001b[0m\u001b[0m\n\u001b[0;32m     28\u001b[0m         \u001b[1;32mfor\u001b[0m \u001b[0mu\u001b[0m \u001b[1;32min\u001b[0m \u001b[0mlis_de_cursos\u001b[0m\u001b[1;33m[\u001b[0m\u001b[0mcur\u001b[0m\u001b[1;33m]\u001b[0m\u001b[1;33m:\u001b[0m\u001b[1;33m\u001b[0m\u001b[1;33m\u001b[0m\u001b[0m\n\u001b[1;32m---> 29\u001b[1;33m             \u001b[1;32mif\u001b[0m \u001b[0mu\u001b[0m \u001b[1;33m<\u001b[0m \u001b[0mlis_de_cursos\u001b[0m\u001b[1;33m[\u001b[0m\u001b[0mcur\u001b[0m\u001b[1;33m]\u001b[0m\u001b[1;33m[\u001b[0m\u001b[0mu\u001b[0m\u001b[1;33m]\u001b[0m\u001b[1;33m:\u001b[0m\u001b[1;33m\u001b[0m\u001b[1;33m\u001b[0m\u001b[0m\n\u001b[0m\u001b[0;32m     30\u001b[0m                 \u001b[0mferias_pra_que\u001b[0m\u001b[1;33m.\u001b[0m\u001b[0mappend\u001b[0m\u001b[1;33m(\u001b[0m\u001b[0mu\u001b[0m\u001b[1;33m)\u001b[0m\u001b[1;33m\u001b[0m\u001b[1;33m\u001b[0m\u001b[0m\n\u001b[0;32m     31\u001b[0m \u001b[1;33m\u001b[0m\u001b[0m\n",
      "\u001b[1;31mTypeError\u001b[0m: '<' not supported between instances of 'str' and 'int'"
     ]
    }
   ],
   "source": [
    "exemplo_dicionario_cursos = {\n",
    "    \"biologia\": {\n",
    "        \"início\": 8,\n",
    "        \"fim\": 10,\n",
    "    },\n",
    "    \"peteca\": {\n",
    "        \"início\": 9,\n",
    "        \"fim\": 11,\n",
    "    },\n",
    "    \"poesia\": {\n",
    "        \"início\": 10,\n",
    "        \"fim\": 12,\n",
    "    },\n",
    "    \"cálculo\": {\n",
    "        \"início\": 11,\n",
    "        \"fim\": 13,\n",
    "    },\n",
    "    \"paleontologia\": {\n",
    "        \"início\": 12,\n",
    "        \"fim\": 14,\n",
    "    },\n",
    "}\n",
    "\n",
    "def sel_cur(lis_de_cursos, curso_1):\n",
    "    ferias_pra_que = []\n",
    "    \n",
    "    for cur in lis_de_cursos:\n",
    "        for u in lis_de_cursos[cur]:\n",
    "            if u < lis_de_cursos[cur][u]:\n",
    "                ferias_pra_que.append(u)\n",
    "\n",
    "\n",
    "# Esse print aqui deve retornar a lista [\"biologia\", \"poesia\", \"paleontologia\"] se seu código estiver correto\n",
    "print(sel_cur(exemplo_dicionario_cursos, \"biologia\"))"
   ]
  },
  {
   "cell_type": "markdown",
   "metadata": {},
   "source": [
    "Crie um dicionário de cursos abaixo (seguindo o modelo) e teste seu código.\n",
    "\n"
   ]
  },
  {
   "cell_type": "code",
   "execution_count": null,
   "metadata": {},
   "outputs": [],
   "source": []
  },
  {
   "cell_type": "markdown",
   "metadata": {},
   "source": [
    "### Algoritmo para o problema do troco\n",
    "\n"
   ]
  },
  {
   "cell_type": "markdown",
   "metadata": {},
   "source": [
    "Escreva uma função que resolve o problema abaixo utilizando um algoritmo guloso.\n",
    "\n",
    "**Problema**: entregar o troco para o cliente utilizando a menor quantidade de moedas possível. Considere apenas moedas válidas no território brasileiro. Para todos os fins, suponha que você tem uma quantidade infinita de moedas.\n",
    "\n",
    "**Entrada**: número $n \\in [0, 1]$ com no máximo duas casas decimais.\n",
    "\n",
    "**Saída**: lista contendo a menor quantidade de moedas necessárias para entregar o troco no valor de $n$ para o cliente.\n",
    "\n",
    "**Exemplo**: se receber de entrada $n=0.43$, retornar ao usuário a lista [0.25, 0.10, 0.5, 0.1, 0.1, 0.1], representando as moedas a serem entregues para o cliente. Nota: estou usando ponto no lugar de vírgula como separador decimal aqui.\n",
    "\n"
   ]
  },
  {
   "cell_type": "code",
   "execution_count": 26,
   "metadata": {},
   "outputs": [
    {
     "name": "stdout",
     "output_type": "stream",
     "text": [
      "['0,25', '0,10', '0,05', '0,01', '0,01']\n"
     ]
    }
   ],
   "source": [
    "n = 0.43\n",
    "\n",
    "def troco(n):\n",
    "    m = []\n",
    "    if n == 0:\n",
    "        return 0 \n",
    "    \n",
    "    while n >= 1:\n",
    "        m.append(\"1\")\n",
    "        n = n - 1\n",
    "    else:\n",
    "        while n >= 0.50:\n",
    "            m.append(\"0,50\")\n",
    "            n = n - 0.50\n",
    "        else:\n",
    "            while n >= 0.25:\n",
    "                m.append(\"0,25\")\n",
    "                n = n - 0.25\n",
    "            else: \n",
    "                while n >= 0.10:\n",
    "                    m.append(\"0,10\")\n",
    "                    n = n - 0.10\n",
    "                else:\n",
    "                    while n >= 0.05:\n",
    "                        m.append(\"0,05\")\n",
    "                        n = n - 0.05 \n",
    "                    else:\n",
    "                        while n >= 0.01:\n",
    "                            m.append(\"0,01\")\n",
    "                            n = n - 0.01\n",
    "    return m\n",
    "\n",
    "print (troco(n))"
   ]
  },
  {
   "cell_type": "markdown",
   "metadata": {},
   "source": [
    "### Algoritmo para o problema da mochila\n",
    "\n"
   ]
  },
  {
   "cell_type": "markdown",
   "metadata": {},
   "source": [
    "Escreva uma função que resolve o problema abaixo utilizando um algoritmo guloso.\n",
    "\n",
    "**Problema**: identificar uma solução aproximada para o problema da mochila discutido no texto.\n",
    "\n",
    "**Entrada**: dicionário de objetos disponíveis (ver modelo abaixo) e número inteiro positivo representando a capacidade máxima da mochila.\n",
    "\n",
    "**Saída**: lista contendo os objetos selecionados.\n",
    "\n"
   ]
  },
  {
   "cell_type": "code",
   "execution_count": null,
   "metadata": {},
   "outputs": [],
   "source": [
    "exemplo_dicionario_objetos = {\n",
    "    \"notebook\": {\n",
    "        \"peso\": 4,\n",
    "        \"valor\": 4000,\n",
    "    },\n",
    "    \"caderno\": {\n",
    "        \"peso\": 6,\n",
    "        \"valor\": 5000,\n",
    "    },\n",
    "    \"guitarra\": {\n",
    "        \"peso\": 7,\n",
    "        \"valor\": 7000,\n",
    "    },\n",
    "}\n",
    "\n",
    "\n",
    "def mochila(itens, capacidade):\n",
    "    # escreva seu código aqui\n",
    "\n",
    "\n",
    "# Esse print aqui deve retornar a lista [\"guitarra\"] se seu código estiver correto\n",
    "capacidade_maxima = 10\n",
    "print(mochila(exemplo_dicionario_objetos, capacidade_maxima))"
   ]
  },
  {
   "cell_type": "markdown",
   "metadata": {},
   "source": [
    "Crie um dicionário de itens abaixo (seguindo o modelo) e teste seu código.\n",
    "\n"
   ]
  },
  {
   "cell_type": "code",
   "execution_count": null,
   "metadata": {},
   "outputs": [],
   "source": []
  },
  {
   "cell_type": "markdown",
   "metadata": {},
   "source": [
    "### Problema da mochila fracional\n",
    "\n"
   ]
  },
  {
   "cell_type": "markdown",
   "metadata": {},
   "source": [
    "No problema da mochila discutido no texto nós éramos obrigados a pegar os itens inteiros, não era possível fracioná-los. Agora imagine que podemos fracionar os itens disponíveis. Por exemplo, um saco de diamantes pesa 5 quilos, porém podemos simplesmente abrir o saco e pegar apenas 1 quilo de diamantes.\n",
    "\n",
    "**Problema**: identificar a **melhor solução** para o problema da mochila fracional\n",
    "\n",
    "**Entrada**: dicionário de objetos disponíveis (ver modelo abaixo) e número real positivo representando a capacidade máxima da mochila\n",
    "\n",
    "**Saída**: dicionário contendo os objetos selecionados como chaves a as quantidades escolhidas como valores.\n",
    "\n",
    "**As dicas estão ocultas caso queira**:\n",
    "\n"
   ]
  },
  {
   "cell_type": "markdown",
   "metadata": {
    "tags": []
   },
   "source": [
    "**Dica**: existe um algoritmo guloso que entrega a **melhor resposta** para esse problema, não é necessário checar todas as possibilidades.\n",
    "\n"
   ]
  },
  {
   "cell_type": "markdown",
   "metadata": {
    "tags": []
   },
   "source": [
    "**Dica 2**: é interessante calcular a razão valor/peso dos itens antes de iniciar as escolhas.\n",
    "\n"
   ]
  },
  {
   "cell_type": "markdown",
   "metadata": {
    "tags": []
   },
   "source": [
    "**Dica 3**: lembre-se que um algoritmo guloso faz sempre a &ldquo;melhor escolha&rdquo; a cada etapa.\n",
    "\n"
   ]
  },
  {
   "cell_type": "markdown",
   "metadata": {
    "tags": []
   },
   "source": [
    "**Dica 4**: se o total do peso dos itens disponíveis for maior que a capacidade da mochila, então preencha sua mochila até o limite da capacidade dela!\n",
    "\n"
   ]
  },
  {
   "cell_type": "code",
   "execution_count": null,
   "metadata": {},
   "outputs": [],
   "source": [
    "exemplo_dicionario_objetos = {\n",
    "    \"diamantes\": {\n",
    "        \"peso total\": 5,\n",
    "        \"valor do peso total\": 10000,\n",
    "    },\n",
    "    \"cerejas\": {\n",
    "        \"peso total\": 10,\n",
    "        \"valor do peso total\": 2000,\n",
    "    },\n",
    "    \"adesivos comemorativos\": {\n",
    "        \"peso\": 20,\n",
    "        \"valor\": 1000,\n",
    "    },\n",
    "}\n",
    "\n",
    "\n",
    "def mochila_fracional(itens, capacidade):\n",
    "    # escreva seu código aqui\n",
    "\n",
    "\n",
    "# Se seu código estiver correto, esse print aqui deve retornar o dicionário: {\"diamantes\": 5, \"cerejas\": 5}\n",
    "capacidade_maxima = 10\n",
    "print(mochila(exemplo_dicionario_objetos, capacidade_maxima))"
   ]
  },
  {
   "cell_type": "markdown",
   "metadata": {},
   "source": [
    "Crie um dicionário de itens abaixo (seguindo o modelo) e teste seu código.\n",
    "\n"
   ]
  },
  {
   "cell_type": "code",
   "execution_count": null,
   "metadata": {},
   "outputs": [],
   "source": []
  },
  {
   "cell_type": "markdown",
   "metadata": {},
   "source": [
    "### Algoritmo do caixeiro viajante\n",
    "\n"
   ]
  },
  {
   "cell_type": "markdown",
   "metadata": {},
   "source": [
    "Escreva uma função que resolve o problema abaixo utilizando um algoritmo guloso.\n",
    "\n",
    "**Problema**: identificar uma **solução aproximada** para o problema do caixeiro viajante. Considere que ele sempre sai da `Cidade 1`.\n",
    "\n",
    "**Entrada**: um dicionário das posições `(x,y)` das cidades disponíveis (criado pela função `cria_cidades`).\n",
    "\n",
    "**Saída**: lista contendo as cidades na ordem que foram visitadas. A posição zero desta lista deve ser a `Cidade 1`.\n",
    "\n",
    "**Dica**: a função `cria_cidades` cria um dicionário aleatório de $n$ cidades. Por conta disso, sua resposta vai sempre mudar cada vez que você executar essa função.\n",
    "\n",
    "**Dica 2**: se atente ao fato que a primeira cidade visitada deve ser a `Cidade 1`!\n",
    "\n",
    "**Dica 3**: as chaves do dicionário criado pela função `cria_cidades` são tuplas. Tuplas guardam elementos assim como listas, porém são objetos imutáveis. Porque escolhi tuplas para representar a posição `(x,y)` das cidades? Oras, até onde eu saiba, a posição de cidades *não muda*, não é mesmo? Uma vez fundada ela permanece lá.\n",
    "\n"
   ]
  },
  {
   "cell_type": "code",
   "execution_count": null,
   "metadata": {},
   "outputs": [],
   "source": [
    "import random as rd\n",
    "\n",
    "\n",
    "def cria_cidades(n):\n",
    "    \"\"\"Cria um dicionário aleatório de cidades com suas posições (x,y).\n",
    "\n",
    "    Para saber mais sobre a bruxaria feita aqui, procure por `python dictionary\n",
    "    comprehension`\n",
    "\n",
    "    \"\"\"\n",
    "    return {f\"Cidade {i+1}\": (rd.random(), rd.random()) for i in range(n)}\n",
    "\n",
    "\n",
    "numero_de_cidades = 10  # pode mudar se quiser!\n",
    "cidades_disponiveis = cria_cidades(numero_de_cidades)\n",
    "print(cidades_disponiveis)\n",
    "\n",
    "\n",
    "def caixeiro_viajante(dic_cidades):\n",
    "    # escreva seu código aqui\n",
    "\n",
    "\n",
    "# testando o código\n",
    "print(caixeiro_viajante(cidades_disponiveis))"
   ]
  },
  {
   "cell_type": "markdown",
   "metadata": {},
   "source": [
    "### Algoritmo do caixeiro viajante sem cidade inicial\n",
    "\n"
   ]
  },
  {
   "cell_type": "markdown",
   "metadata": {},
   "source": [
    "Escreva uma função que resolve o problema abaixo utilizando um algoritmo guloso.\n",
    "\n",
    "**Problema**: identificar uma **solução aproximada** para o problema do caixeiro viajante. O caixeiro pode escolher qual cidade ele quer inicial sua caminhada.\n",
    "\n",
    "**Entrada**: um dicionário das posições `(x,y)` das cidades disponíveis (criado pela função `cria_cidades`).\n",
    "\n",
    "**Saída**: lista contendo as cidades na ordem que foram visitadas.\n",
    "\n",
    "**Dica**: tente resolver o problema anterior antes de tentar resolver esse!\n",
    "\n",
    "**Dica 2**: se atente ao fato que a primeira cidade visitada pode ser escolhida pelo caixeiro e ele quer sempre fazer o menor trajeto! Logo, é necessário testar todas as cidades como ponto de partida antes de bater o martelo em uma solução.\n",
    "\n"
   ]
  },
  {
   "cell_type": "code",
   "execution_count": null,
   "metadata": {},
   "outputs": [],
   "source": [
    "import numpy as np\n",
    "\n",
    "\n",
    "def cria_cidades(n):\n",
    "    \"\"\"Cria um dicionário aleatório de cidades com suas posições (x,y).\n",
    "\n",
    "    Para saber mais sobre a bruxaria feita aqui, procure por `python dictionary\n",
    "    comprehension`\n",
    "\n",
    "    \"\"\"\n",
    "    return {f\"Cidade {i+1}\": np.random.randint(100, size=2) for i in range(n)}\n",
    "\n",
    "\n",
    "numero_de_cidades = 10  # pode mudar se quiser!\n",
    "cidades_disponiveis = cria_cidades(numero_de_cidades)\n",
    "\n",
    "\n",
    "def caixeiro_viajante_2(dic_cidades):\n",
    "    # escreva seu código aqui\n",
    "\n",
    "\n",
    "# testando o código\n",
    "print(caixeiro_viajante_2(cidades_disponiveis))"
   ]
  },
  {
   "cell_type": "markdown",
   "metadata": {},
   "source": [
    "### No Problem!\n",
    "\n"
   ]
  },
  {
   "cell_type": "markdown",
   "metadata": {},
   "source": [
    "Busque na internet exemplos de problemas NP e escreva aqui brevemente sobre seu preferido. Justifique porque escolheu esse problema.\n",
    "\n"
   ]
  },
  {
   "cell_type": "code",
   "execution_count": null,
   "metadata": {},
   "outputs": [],
   "source": []
  },
  {
   "cell_type": "markdown",
   "metadata": {},
   "source": [
    "### [Exercício sem pontuação] Mas e outros pecados capitais?\n",
    "\n"
   ]
  },
  {
   "cell_type": "markdown",
   "metadata": {},
   "source": [
    "Os algoritmos vistos neste notebook são chamados de gulosos em português mas na verdade isso é um erro de tradução. O correto seria eles serem chamados de **algoritmos gananciosos**. Eles são ganaciosos pois sempre fazem &ldquo;a melhor escolha&rdquo; a cada passo, sem pensar nos passos futuros e sem revisar os passos passados.\n",
    "\n",
    "Se algoritmos gananciosos são aqueles que, dado um certo problema, fazem a melhor escolha local, cegados pela ganância em se obter a &ldquo;melhor resposta&rdquo;, o que você acha que seriam os demais algoritmos dos pecados capitais?\n",
    "\n",
    "Este exercício é meramente um exercício criativo e não será pontuado, serve apenas para caso queira se colocar na posição de inventor de estratégias para resolução de problemas. Até onde eu saiba, esses algoritmos ainda não existem! Quem sabe você será a pessoa a inventá-los!\n",
    "\n"
   ]
  },
  {
   "cell_type": "markdown",
   "metadata": {},
   "source": [
    "#### Algoritmos preguiçosos\n",
    "\n"
   ]
  },
  {
   "cell_type": "code",
   "execution_count": null,
   "metadata": {},
   "outputs": [],
   "source": []
  },
  {
   "cell_type": "markdown",
   "metadata": {},
   "source": [
    "**Nota**: existe o conceito de [execução preguiçosa](https://pt.wikipedia.org/wiki/Avalia%C3%A7%C3%A3o_pregui%C3%A7osa), mas até onde eu saiba não existe o algoritmo preguiçoso (ainda).\n",
    "\n"
   ]
  },
  {
   "cell_type": "markdown",
   "metadata": {},
   "source": [
    "#### Algoritmos orgulhosos\n",
    "\n"
   ]
  },
  {
   "cell_type": "code",
   "execution_count": null,
   "metadata": {},
   "outputs": [],
   "source": []
  },
  {
   "cell_type": "markdown",
   "metadata": {},
   "source": [
    "#### Algoritmos raivosos\n",
    "\n"
   ]
  },
  {
   "cell_type": "code",
   "execution_count": null,
   "metadata": {},
   "outputs": [],
   "source": []
  },
  {
   "cell_type": "markdown",
   "metadata": {},
   "source": [
    "#### Algoritmos lascivos\n",
    "\n"
   ]
  },
  {
   "cell_type": "code",
   "execution_count": null,
   "metadata": {},
   "outputs": [],
   "source": []
  },
  {
   "cell_type": "markdown",
   "metadata": {},
   "source": [
    "#### Algoritmos gulosos\n",
    "\n"
   ]
  },
  {
   "cell_type": "code",
   "execution_count": null,
   "metadata": {},
   "outputs": [],
   "source": [
    "# aqui é o que seriam algoritmos gulosos de verdade, não o que chamamos de algoritmos gulosos no texto"
   ]
  },
  {
   "cell_type": "markdown",
   "metadata": {},
   "source": [
    "#### Algoritmos invejosos\n",
    "\n"
   ]
  },
  {
   "cell_type": "code",
   "execution_count": null,
   "metadata": {},
   "outputs": [],
   "source": []
  }
 ],
 "metadata": {
  "kernelspec": {
   "display_name": "ilumpy",
   "language": "python",
   "name": "ilumpy"
  },
  "language_info": {
   "codemirror_mode": {
    "name": "ipython",
    "version": 3
   },
   "file_extension": ".py",
   "mimetype": "text/x-python",
   "name": "python",
   "nbconvert_exporter": "python",
   "pygments_lexer": "ipython3",
   "version": "3.9.7"
  },
  "org": null
 },
 "nbformat": 4,
 "nbformat_minor": 4
}
