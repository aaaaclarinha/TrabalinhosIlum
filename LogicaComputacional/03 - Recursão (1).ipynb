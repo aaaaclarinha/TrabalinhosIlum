{
 "cells": [
  {
   "cell_type": "markdown",
   "metadata": {},
   "source": [
    "Recursão\n",
    "========\n",
    "\n",
    "**Autor:** Daniel R. Cassar\n",
    "\n"
   ]
  },
  {
   "cell_type": "markdown",
   "metadata": {},
   "source": [
    "## &ldquo;Para entender recursão, é preciso primeiro entender recursão&rdquo;\n",
    "\n"
   ]
  },
  {
   "cell_type": "markdown",
   "metadata": {},
   "source": [
    "Em computação, recursão é o processo onde uma função chama *ela mesma* durante a sua execução (isso pode acontecer de maneira direta ou indireta). Toda função recursiva deve conter pelo menos três partes:\n",
    "\n",
    "1.  Critério de parada (pode ser uma resposta base).\n",
    "2.  Modificação do problema inicial.\n",
    "3.  Delegação da tarefa.\n",
    "\n",
    "Precisamos de um *critério de parada* para nossa função não entrar em *loop* infinito. Em diversos casos, o critério de parada é o que chamamos de *resposta base*. Veremos exemplos de resposta base adiante.\n",
    "\n",
    "A *modificação do problema inicial* é a etapa onde nós damos um passo adiante na resolução do nosso problema, geralmente alterando o problema para um caso mais simples.\n",
    "\n",
    "A *delegação da tarefa* é o coração da recursão. É aqui que nós enviamos nosso problema modificado para ser resolvido novamente, reiniciando o ciclo recursivo.\n",
    "\n",
    "Vamos ver alguns exemplos abaixo para entender melhor. A propósito, o título dessa seção é uma citação de Stephen Hawking.\n",
    "\n"
   ]
  },
  {
   "cell_type": "markdown",
   "metadata": {},
   "source": [
    "### Exemplo 1\n",
    "\n"
   ]
  },
  {
   "cell_type": "markdown",
   "metadata": {},
   "source": [
    "Vamos ver o código que soma os números naturais de 0 até $n$ (foi um exercício do notebook 1):\n",
    "\n",
    "**Problema**: encontrar a soma de todos os números naturais entre 1 e $n$\n",
    "\n",
    "**Entrada**: número natural $n$\n",
    "\n",
    "**Saída**: um número representando a soma de todos os números naturais entre 1 e $n$\n",
    "\n",
    "**Algoritmo sem recursão**:\n",
    "\n"
   ]
  },
  {
   "cell_type": "code",
   "execution_count": 1,
   "metadata": {},
   "outputs": [],
   "source": [
    "def soma_ate_n(n):\n",
    "    soma = 0\n",
    "    for i in range(1, n + 1):\n",
    "        soma = soma + i\n",
    "    return soma"
   ]
  },
  {
   "cell_type": "markdown",
   "metadata": {},
   "source": [
    "**Algoritmo com recursão**:\n",
    "\n"
   ]
  },
  {
   "cell_type": "code",
   "execution_count": 2,
   "metadata": {},
   "outputs": [],
   "source": [
    "def soma_ate_n_recursivo(n):\n",
    "    if n == 0:  # este é um caso onde conhecemos a resposta! É nosso critério de parada\n",
    "        return 0\n",
    "    else:\n",
    "        # Sabemos que a soma para `n` será `n` + o resultado da soma de `n - 1`\n",
    "        return n + soma_ate_n_recursivo(n - 1)"
   ]
  },
  {
   "cell_type": "markdown",
   "metadata": {},
   "source": [
    "**Teste**:\n",
    "\n"
   ]
  },
  {
   "cell_type": "code",
   "execution_count": 3,
   "metadata": {},
   "outputs": [
    {
     "name": "stdout",
     "output_type": "stream",
     "text": [
      "Entrada:  1\n",
      "Saída (sem recursão):  1\n",
      "Saída (com recursão):  1\n",
      "\n",
      "Entrada:  6\n",
      "Saída (sem recursão):  21\n",
      "Saída (com recursão):  21\n",
      "\n",
      "Entrada:  10\n",
      "Saída (sem recursão):  55\n",
      "Saída (com recursão):  55\n",
      "\n",
      "Entrada:  25\n",
      "Saída (sem recursão):  325\n",
      "Saída (com recursão):  325\n",
      "\n",
      "Entrada:  100\n",
      "Saída (sem recursão):  5050\n",
      "Saída (com recursão):  5050\n",
      "\n"
     ]
    }
   ],
   "source": [
    "lista = [1, 6, 10, 25, 100]\n",
    "\n",
    "for n in lista:\n",
    "    print(\"Entrada: \", n)\n",
    "    print(\"Saída (sem recursão): \", soma_ate_n(n))\n",
    "    print(\"Saída (com recursão): \", soma_ate_n_recursivo(n))\n",
    "    print()"
   ]
  },
  {
   "cell_type": "markdown",
   "metadata": {},
   "source": [
    "Vamos por partes. Primeiramente, dos testes que fizemos vimos que a saída das funções `soma_ate_n` e `soma_ate_n_recursivo` é igual, o que nos deixa muito felizes. Segundamente, observamos que a implementação de `soma_ate_n` é diferente da implementação de `soma_ate_n_recursivo`, sendo que a primeira usa um contador com laço `for` e a segunda usa recursão.\n",
    "\n",
    "Neste momento, é esperado que a estratégia de contador com laço `for` da primeira solução já esteja clara para você, então vamos nos focar na estratégia de recursão. Veja que atendemos os 3 critérios para uma função recursiva quando escrevemos a função `soma_ate_n_recursivo`:\n",
    "\n",
    "1.  Temos um <u>critério de parada</u>! Neste caso, é uma resposta base do problema. Quando o valor de $n$ é igual a 0, sabemos que a resposta é 0 e retornamos isso ao usuário. Isso satisfaz a primeira condição de recursão.\n",
    "\n",
    "2.  Quando $n$ não é 0, precisamos modificar o problema e delegar. Isso é feito no retorno da linha 6 da função. Lá temos `return n + soma_ate_n_recursivo(n - 1)` onde nós somamos `n` com o valor da própria função calculada em `n - 1`. Afinal, se nós soubermos a soma de 0 até `n - 1`, então basta adicionar `n` neste valor que teremos a soma de 0 até `n`. <u>Modificamos</u> o problema ao entender essa relação entre a soma de `n` e a soma de `n - 1`. <u>Delegamos</u> o problema ao jogar a bucha do cálculo da soma de `n - 1` para a função `soma_ate_n_recursivo(n - 1)`.\n",
    "\n",
    "Pode parecer estranho chamar a própria função dentro do escopo dela mesma. Se te ajudar, *mentalmente* você pode imaginar que chamamos uma função idêntica a função que está rodando, porém com outro nome.\n",
    "\n"
   ]
  },
  {
   "cell_type": "markdown",
   "metadata": {},
   "source": [
    "### Exemplo 2\n",
    "\n"
   ]
  },
  {
   "cell_type": "markdown",
   "metadata": {},
   "source": [
    "Vamos reescrever o código que calcula o fatorial de um número usando recursão. Vimos esse algoritmo sem recursão no notebook 1.\n",
    "\n",
    "**Problema**: calcular o fatorial de um número natural\n",
    "\n",
    "**Entrada**: número natural $n$\n",
    "\n",
    "**Saída**: fatorial do número $n$\n",
    "\n",
    "**Algoritmo sem recursão**:\n",
    "\n"
   ]
  },
  {
   "cell_type": "code",
   "execution_count": 4,
   "metadata": {},
   "outputs": [],
   "source": [
    "def fatorial(n):\n",
    "    valor = 1\n",
    "    for i in range(1, n + 1):\n",
    "        valor = valor * i\n",
    "    return valor"
   ]
  },
  {
   "cell_type": "markdown",
   "metadata": {},
   "source": [
    "**Algoritmo com recursão**:\n",
    "\n"
   ]
  },
  {
   "cell_type": "code",
   "execution_count": 5,
   "metadata": {},
   "outputs": [],
   "source": [
    "def fatorial_recursao(n):\n",
    "    if n == 0:  # caso onde conhecemos a resposta (0! = 1). Critério de parada.\n",
    "        return 1\n",
    "    else:\n",
    "        # se não é um caso conhecido, então modificar e delegar!\n",
    "        return n * fatorial_recursao(n - 1)"
   ]
  },
  {
   "cell_type": "markdown",
   "metadata": {},
   "source": [
    "**Teste**:\n",
    "\n"
   ]
  },
  {
   "cell_type": "code",
   "execution_count": 6,
   "metadata": {},
   "outputs": [
    {
     "name": "stdout",
     "output_type": "stream",
     "text": [
      "Entrada:  1\n",
      "Saída (sem recursão):  1\n",
      "Saída (com recursão):  1\n",
      "\n",
      "Entrada:  6\n",
      "Saída (sem recursão):  720\n",
      "Saída (com recursão):  720\n",
      "\n",
      "Entrada:  10\n",
      "Saída (sem recursão):  3628800\n",
      "Saída (com recursão):  3628800\n",
      "\n",
      "Entrada:  25\n",
      "Saída (sem recursão):  15511210043330985984000000\n",
      "Saída (com recursão):  15511210043330985984000000\n",
      "\n",
      "Entrada:  100\n",
      "Saída (sem recursão):  93326215443944152681699238856266700490715968264381621468592963895217599993229915608941463976156518286253697920827223758251185210916864000000000000000000000000\n",
      "Saída (com recursão):  93326215443944152681699238856266700490715968264381621468592963895217599993229915608941463976156518286253697920827223758251185210916864000000000000000000000000\n",
      "\n"
     ]
    }
   ],
   "source": [
    "lista = [1, 6, 10, 25, 100]\n",
    "\n",
    "for n in lista:\n",
    "    print(\"Entrada: \", n)\n",
    "    print(\"Saída (sem recursão): \", fatorial(n))\n",
    "    print(\"Saída (com recursão): \", fatorial_recursao(n))\n",
    "    print()"
   ]
  },
  {
   "cell_type": "markdown",
   "metadata": {},
   "source": [
    "O exemplo do fatorial é muito similar ao exemplo da soma dos naturais que vimos anteriormente.\n",
    "\n"
   ]
  },
  {
   "cell_type": "markdown",
   "metadata": {},
   "source": [
    "### Exemplo 3 (esse é mais difícil que os outros)\n",
    "\n"
   ]
  },
  {
   "cell_type": "markdown",
   "metadata": {},
   "source": [
    "Vamos ver um último exemplo considerando a sequência de Fibonacci.\n",
    "\n",
    "**Problema**: calcular o $n$-ézimo termo da sequência de Fibonacci\n",
    "\n",
    "**Entrada**: número natural positivo $n$\n",
    "\n",
    "**Saída**: $n$-ézimo termo da sequência de Fibonacci\n",
    "\n",
    "**Algoritmo sem recursão**:\n",
    "\n"
   ]
  },
  {
   "cell_type": "code",
   "execution_count": 7,
   "metadata": {},
   "outputs": [],
   "source": [
    "def fibonacci(n):\n",
    "    if n == 1:\n",
    "        return 0\n",
    "\n",
    "    elif n == 2:\n",
    "        return 1\n",
    "\n",
    "    else:\n",
    "        penultimo = 0\n",
    "        ultimo = 1\n",
    "        termo_que_estamos = 2 # \n",
    "        while (termo_que_estamos < n):\n",
    "            penultimo, ultimo = ultimo, ultimo + penultimo\n",
    "            termo_que_estamos = termo_que_estamos + 1\n",
    "        return ultimo"
   ]
  },
  {
   "cell_type": "markdown",
   "metadata": {},
   "source": [
    "**Algoritmo com recursão**:\n",
    "\n"
   ]
  },
  {
   "cell_type": "code",
   "execution_count": 8,
   "metadata": {},
   "outputs": [],
   "source": [
    "def fibonacci_recursao(n):\n",
    "    if n == 1:\n",
    "        return 0\n",
    "\n",
    "    elif n == 2:\n",
    "        return 1\n",
    "\n",
    "    else:\n",
    "        return fibonacci_recursao(n - 1) + fibonacci_recursao(n - 2)"
   ]
  },
  {
   "cell_type": "markdown",
   "metadata": {},
   "source": [
    "**Teste**:\n",
    "\n"
   ]
  },
  {
   "cell_type": "code",
   "execution_count": 9,
   "metadata": {},
   "outputs": [
    {
     "name": "stdout",
     "output_type": "stream",
     "text": [
      "Entrada:  1\n",
      "Saída (sem recursão):  0\n",
      "Saída (com recursão):  0\n",
      "\n",
      "Entrada:  2\n",
      "Saída (sem recursão):  1\n",
      "Saída (com recursão):  1\n",
      "\n",
      "Entrada:  3\n",
      "Saída (sem recursão):  1\n",
      "Saída (com recursão):  1\n",
      "\n",
      "Entrada:  4\n",
      "Saída (sem recursão):  2\n",
      "Saída (com recursão):  2\n",
      "\n",
      "Entrada:  5\n",
      "Saída (sem recursão):  3\n",
      "Saída (com recursão):  3\n",
      "\n",
      "Entrada:  10\n",
      "Saída (sem recursão):  34\n",
      "Saída (com recursão):  34\n",
      "\n"
     ]
    }
   ],
   "source": [
    "lista = [1, 2, 3, 4, 5, 10]\n",
    "\n",
    "for n in lista:\n",
    "    print(\"Entrada: \", n)\n",
    "    print(\"Saída (sem recursão): \", fibonacci(n))\n",
    "    print(\"Saída (com recursão): \", fibonacci_recursao(n))\n",
    "    print()"
   ]
  },
  {
   "cell_type": "markdown",
   "metadata": {},
   "source": [
    "<font color=&ldquo;blue&rdquo;>Cuidado, esse código da função `fibonacci_recursao` não está otimizado e é bastante lento. Não execute ele com valores grandes de `n`.\n",
    "\n"
   ]
  },
  {
   "cell_type": "markdown",
   "metadata": {},
   "source": [
    "## Exercícios\n",
    "\n"
   ]
  },
  {
   "cell_type": "markdown",
   "metadata": {},
   "source": [
    "<font color=&ldquo;blue&rdquo;>Para os exercícios, preencha as células de código vazias abaixo e as células de texto em azul conforme o que o exercício pede. A instrução `import` é apenas permitida para importar os módulos `math`, `random` e `time` nestes exercícios. Utilize apenas variáveis numéricas ou listas com números. Veja as funções e métodos de lista permitidos abaixo.\n",
    "\n",
    "-   **Funções de Python permitidas**: `sum`, `abs`, `all`, `any`, `complex`, `len`, `print`, `range`, `int`, `float`, `zip`, `enumerate`, `bool`, `dir`, `help`, `isinstance`, `list`, `round` e `type`.\n",
    "\n",
    "-   **Métodos de lista permitidos**: `append`, `copy`, `extend`, `insert`, `pop` e `remove`.\n",
    "\n",
    "<font color=&ldquo;blue&rdquo;>Para fins de pontuação, a nota máxima é atingida com 4 resoluções corretas (quaisquer, incluindo as dos ordenadores recursivos da próxima seção). Resoluções extras são recomendadas para quem quer dar prioridade para aprender programação na Ilum ou para quem quer aumentar a chance de tirar uma nota alta (os pontos se somam até atingir o limite da nota 10).\n",
    "\n"
   ]
  },
  {
   "cell_type": "markdown",
   "metadata": {},
   "source": [
    "### Duplo fatorial\n",
    "\n"
   ]
  },
  {
   "cell_type": "markdown",
   "metadata": {},
   "source": [
    "Resolva o problema do duplo fatorial usando recursão.\n",
    "\n",
    "**Problema**: calcular o duplo fatorial de um número.\n",
    "\n",
    "**Entrada**: número natural $n$\n",
    "\n",
    "**Saída**: duplo fatorial do número $n$\n",
    "\n",
    "**Material para leitura**: [https://pt.wikipedia.org/wiki/Duplo_fatorial](https://pt.wikipedia.org/wiki/Duplo_fatorial)\n",
    "\n",
    "**Algoritmo**:\n",
    "\n"
   ]
  },
  {
   "cell_type": "code",
   "execution_count": null,
   "metadata": {},
   "outputs": [],
   "source": []
  },
  {
   "cell_type": "markdown",
   "metadata": {},
   "source": [
    "**Comentários sobre a implementação**: [escrita opcional]\n",
    "\n",
    "**Teste**:\n",
    "\n"
   ]
  },
  {
   "cell_type": "code",
   "execution_count": null,
   "metadata": {},
   "outputs": [],
   "source": []
  },
  {
   "cell_type": "markdown",
   "metadata": {},
   "source": [
    "### Oh não! Minha função recursiva entrou em um *loop* infinito!\n",
    "\n"
   ]
  },
  {
   "cell_type": "markdown",
   "metadata": {},
   "source": [
    "Cuidado! A função recursiva abaixo, da forma como ela está escrita, irá entrar em um *loop* infinito se executada! Sua tarefa é alterar a função para que ela funcione e resolva o problema abaixo. <u>Nota</u>: se a sua função entrar em um *loop* infinito, você deve interromper o kernel do Jupyter para poder voltar a executar comandos. Salve seu notebook antes de tentar esse exercício 😉\n",
    "\n",
    "**Problema**: encontrar a soma de todos os números naturais pares entre 1 e $n$\n",
    "\n",
    "**Entrada**: número natural $n$\n",
    "\n",
    "**Saída**: um número representando a soma de todos os números naturais pares entre 1 e $n$\n",
    "\n",
    "**Algoritmo**:\n",
    "\n"
   ]
  },
  {
   "cell_type": "code",
   "execution_count": 17,
   "metadata": {},
   "outputs": [],
   "source": [
    "def soma_pares_ate_n(n):\n",
    "    \n",
    "    \"\"\" somar os números pares de 1 ate n\"\"\"\n",
    "    # o problema da função é que ela não possue um critério de parada\n",
    "    # logo ela continua rodando infinitamente\n",
    "    # nosso problema pede a soma dos números pares de 1 até n \n",
    "    # sendo assim, não se deve considerar números menores que 1 \n",
    "    # e este é o críterio de parada \n",
    "    if n < 1: \n",
    "        return 0\n",
    "    if n % 2 == 0:\n",
    "        return n + soma_pares_ate_n(n - 1)\n",
    "    else:\n",
    "        return soma_pares_ate_n(n - 1)"
   ]
  },
  {
   "cell_type": "markdown",
   "metadata": {},
   "source": [
    "**Teste**:\n",
    "\n"
   ]
  },
  {
   "cell_type": "code",
   "execution_count": 18,
   "metadata": {},
   "outputs": [
    {
     "data": {
      "text/plain": [
       "12"
      ]
     },
     "execution_count": 18,
     "metadata": {},
     "output_type": "execute_result"
    }
   ],
   "source": [
    "soma_pares_ate_n(6)"
   ]
  },
  {
   "cell_type": "markdown",
   "metadata": {},
   "source": [
    "### Explicando a função `print_muito_loco`\n",
    "\n"
   ]
  },
  {
   "cell_type": "markdown",
   "metadata": {},
   "source": [
    "A função `print_muito_loco` abaixo recebe um número natural $n$. Sua tarefa é explicar o que essa função faz e como ela usa recursão para fazer isso. Na sua explicação, indique onde estão as três etapas de uma função recursiva.\n",
    "\n"
   ]
  },
  {
   "cell_type": "code",
   "execution_count": 19,
   "metadata": {},
   "outputs": [
    {
     "name": "stdout",
     "output_type": "stream",
     "text": [
      "5\n",
      "4\n",
      "3\n",
      "2\n",
      "1\n",
      "---\n",
      "1\n",
      "2\n",
      "3\n",
      "4\n",
      "5\n"
     ]
    }
   ],
   "source": [
    "def print_muito_loco(n):\n",
    "\n",
    "    if n < 1:\n",
    "        print(\"---\")\n",
    "    else:\n",
    "        print(n)\n",
    "        print_muito_loco(n - 1)\n",
    "        print(n)\n",
    "\n",
    "\n",
    "# teste\n",
    "print_muito_loco(5)"
   ]
  },
  {
   "cell_type": "markdown",
   "metadata": {},
   "source": [
    "<font color=&ldquo;blue&rdquo;> A função começa com o <i>critério de parada</i>, que é o condicional <i>if</i>, que determina o retorno pra quando n for menor que 1.  A <i> modificação do problema inicial </i> é a alternativa ao condicional, ou o <i>else</i>, o que ele diz é basicamente \"se o seu número não é menor que 0, então print o número\", a <i>delegação da tarefa</i> também se encontra no <i>else</i>, é quando a função é novamente chamada, desta vez para n - 1. O retorno da função acontece desta forma, vamos dizer... curiosa acontece porque a cada vez que o algoritmo passa pela delegação da tarefa, ele volta ao começo da função, então é como se último comando (print(n)) se \"acumulasse\" e quando a função passa pelo critério de parada, ele é finalmente executado.\n"
   ]
  },
  {
   "cell_type": "markdown",
   "metadata": {},
   "source": [
    "### O retorno do `print_muito_loco`\n",
    "\n"
   ]
  },
  {
   "cell_type": "markdown",
   "metadata": {},
   "source": [
    "Usando recursão (e sem usar nenhum laço de repetição), crie uma função que recebe um número natural $n$ e exibe com o comando `print` uma sequência de números. Abaixo estão 3 exemplos de valor $n$ de entrada e o que a função exibe com o `print`.\n",
    "\n"
   ]
  },
  {
   "cell_type": "markdown",
   "metadata": {},
   "source": [
    "`Entrada`: 3\n",
    "\n",
    "`Print`:\n",
    "\n",
    "3\n",
    "\n",
    "0\n",
    "\n",
    "3\n",
    "\n"
   ]
  },
  {
   "cell_type": "markdown",
   "metadata": {},
   "source": [
    "`Entrada`: 5\n",
    "\n",
    "`Print`:\n",
    "\n",
    "5\n",
    "\n",
    "2\n",
    "\n",
    "-1\n",
    "\n",
    "2\n",
    "\n",
    "5\n",
    "\n"
   ]
  },
  {
   "cell_type": "markdown",
   "metadata": {},
   "source": [
    "`Entrada`: 10\n",
    "\n",
    "`Print`:\n",
    "\n",
    "10\n",
    "\n",
    "7\n",
    "\n",
    "4\n",
    "\n",
    "1\n",
    "\n",
    "-2\n",
    "\n",
    "1\n",
    "\n",
    "4\n",
    "\n",
    "7\n",
    "\n",
    "10\n",
    "\n",
    "**Algoritmo**:\n",
    "\n"
   ]
  },
  {
   "cell_type": "code",
   "execution_count": 66,
   "metadata": {},
   "outputs": [],
   "source": [
    "def funcao_loca(n):\n",
    "    \n",
    "    if n < 1: # críterio de parada \n",
    "        print(n)\n",
    "    else: \n",
    "        print(n) \n",
    "        funcao_loca(n - 3) # delegação da tarefa e modificação do problena inicial\n",
    "        print(n)\n",
    "    "
   ]
  },
  {
   "cell_type": "markdown",
   "metadata": {},
   "source": [
    "**Teste**:\n",
    "\n"
   ]
  },
  {
   "cell_type": "code",
   "execution_count": 63,
   "metadata": {},
   "outputs": [
    {
     "name": "stdout",
     "output_type": "stream",
     "text": [
      "10\n",
      "7\n",
      "4\n",
      "1\n",
      "-2\n",
      "1\n",
      "4\n",
      "7\n",
      "10\n"
     ]
    }
   ],
   "source": [
    "funcao_loca(10)"
   ]
  },
  {
   "cell_type": "markdown",
   "metadata": {},
   "source": [
    "### Perdi a docstring desta função, me ajude a entender o que ela faz\n",
    "\n"
   ]
  },
  {
   "cell_type": "markdown",
   "metadata": {},
   "source": [
    "Num lapso de distração eu acabei escrevendo a função abaixo e esqueci de escrever a docstring&#x2026; um perigo!! Agora não lembro mais o que ela faz&#x2026; sua tarefa é explicar o que a função faz e como ela faz isso. Aproveite a oportunidade e explique como a recursão está funcionando nesta função, indicando onde estão as três partes de um algoritmo recursivo.\n",
    "\n"
   ]
  },
  {
   "cell_type": "code",
   "execution_count": 64,
   "metadata": {},
   "outputs": [],
   "source": [
    "def funcao_misteriosa(n):\n",
    "    \"\"\" conversor para código binário\"\"\"\n",
    "    if n == 0: # criterio de parada\n",
    "        return \n",
    "    else:\n",
    "        funcao_misteriosa(n // 2)\n",
    "        print(n % 2, end=\"\") # o end é literalmente o final do print, funciona como uma especie de \"cola\""
   ]
  },
  {
   "cell_type": "code",
   "execution_count": 65,
   "metadata": {},
   "outputs": [
    {
     "name": "stdout",
     "output_type": "stream",
     "text": [
      "101"
     ]
    }
   ],
   "source": [
    "funcao_misteriosa(5)"
   ]
  },
  {
   "cell_type": "markdown",
   "metadata": {},
   "source": [
    "<font color=&ldquo;blue&rdquo;>okay, temos o critério de parada que é n = 0. Como comentei anteriormente, quando temos um print em uma função com recursão, ele \"acumula\" as informações e só é rodado após o critério de parada. Sabendo disso podemos analisar passo a passo da função. Já sabemos o porquê do primeiro condicional, então vamos falar sobre o else; ele delega a nova tarefa, que é resolver a função novamente, com n // 2 (modificação do problema inicial), e como é recursiva, voltamos ao inicio da função. Retomando o comentário anterior, a cada vez que a função passa pela recursão, uma nova informação é criada, mas neste caso ela só é exibida ao final da função, e a forma como elas são retornadas é interessante, como uma gaveta de meias, as últimas que entraram, são as primeiras a saírem, podemos concluir então que a 'funcao_misteriosa' fraciona o número de entrada, e retorna as \"sobras\", em 0 e 1, ou de forma mais técnica, converte um número em código bínario."
   ]
  },
  {
   "cell_type": "markdown",
   "metadata": {},
   "source": [
    "### A sequência de Recamán\n",
    "\n"
   ]
  },
  {
   "cell_type": "markdown",
   "metadata": {},
   "source": [
    "A sequência de Recamán $a_0$, $a_1$, $a_2\\ldots$ começa a contar para $n=0$ e cada termo $a_n$ é definido como:\n",
    "\n",
    "$a_{n}\\begin{cases}\n",
    "0 & \\textrm{se }n=0\\\\\n",
    "a_{n-1}-n & \\textrm{se }a_{n-1}-n>0\\textrm{ e se }a_{n-1}-n\\textrm{ ainda não está na sequência}\\\\\n",
    "a_{n-1}+n & \\textrm{caso as outras condições não sejam satisfeitas}\n",
    "\\end{cases}$\n",
    "\n",
    "Os primeiros números da sequência são: 0, 1, 3, 6, 2, 7, 13, 20, 12, 21, 11, 22, 10, 23, 9, 24, 8, 25, 43, 62, 42, 63, 41, 18, 42, 17, 43, 16, 44, 15, 45, 14, 46, 79, 113, &#x2026;\n",
    "\n",
    "Escreva um algoritmo para resolver o problema abaixo usando recursão.\n",
    "\n",
    "**Problema**: gerar a sequência de Recamán com $n$ termos\n",
    "\n",
    "**Entrada**: número natural $n$\n",
    "\n",
    "**Saída**: lista com $n$ itens contendo a sequência de Recamán\n",
    "\n",
    "**Algoritmo**:\n",
    "\n"
   ]
  },
  {
   "cell_type": "code",
   "execution_count": null,
   "metadata": {},
   "outputs": [],
   "source": []
  },
  {
   "cell_type": "markdown",
   "metadata": {},
   "source": [
    "**Teste**:\n",
    "\n"
   ]
  },
  {
   "cell_type": "code",
   "execution_count": null,
   "metadata": {},
   "outputs": [],
   "source": []
  },
  {
   "cell_type": "markdown",
   "metadata": {},
   "source": [
    "## Ordenadores recursivos\n",
    "\n"
   ]
  },
  {
   "cell_type": "markdown",
   "metadata": {},
   "source": [
    "No último notebook nós vimos alguns algoritmos ordenadores. Aqui veremos dois algoritmos ordenadores recursivos. Ambos trabalham no paradigma de **Dividir e Conquistar**, que consiste em atacar problemas dividindo eles em dois ou mais problemas menores. No final, as soluções dos problemas menores são combinadas para entregar a resposta final. Algoritmos que seguem este paradigma comumente fazem uso de recursão.\n",
    "\n",
    "Os dois algoritmos abaixo resolvem o seguinte problema:\n",
    "\n",
    "**Problema**: ordenar uma lista numérica de tamanho arbitrário\n",
    "\n",
    "**Entrada**: lista numérica\n",
    "\n",
    "**Saída**: lista numérica com os números em ordem crescente\n",
    "\n"
   ]
  },
  {
   "cell_type": "markdown",
   "metadata": {},
   "source": [
    "### Ordenador rápido (quicksort)\n",
    "\n"
   ]
  },
  {
   "cell_type": "markdown",
   "metadata": {},
   "source": [
    "**Algoritmo**:\n",
    "\n"
   ]
  },
  {
   "cell_type": "code",
   "execution_count": 28,
   "metadata": {},
   "outputs": [],
   "source": [
    "def quick_sort(lista):\n",
    "\n",
    "    if len(lista) <= 1:\n",
    "        return lista\n",
    "\n",
    "    pivo = lista.pop()\n",
    "    maiores_que_pivo = []\n",
    "    menores_que_pivo = []\n",
    "\n",
    "    for i in lista:\n",
    "        if i > pivo:\n",
    "            maiores_que_pivo.append(i)\n",
    "        else:\n",
    "            menores_que_pivo.append(i)\n",
    "\n",
    "    # só para recordar: a soma de listas resulta na concatenação delas\n",
    "    return quick_sort(menores_que_pivo) + [pivo] + quick_sort(maiores_que_pivo)"
   ]
  },
  {
   "cell_type": "markdown",
   "metadata": {},
   "source": [
    "**Teste**:\n",
    "\n"
   ]
  },
  {
   "cell_type": "code",
   "execution_count": 29,
   "metadata": {},
   "outputs": [
    {
     "name": "stdout",
     "output_type": "stream",
     "text": [
      "Entrada:  [1, 10, 4, 19, -23, 55, 0, 2]\n",
      "Saída:  [-23, 0, 1, 2, 4, 10, 19, 55]\n",
      "\n"
     ]
    }
   ],
   "source": [
    "lista = [1, 10, 4, 19, -23, 55, 0, 2]\n",
    "\n",
    "print(\"Entrada: \", lista)\n",
    "print(\"Saída: \", quick_sort(lista))\n",
    "print()"
   ]
  },
  {
   "cell_type": "markdown",
   "metadata": {},
   "source": [
    "**Exercício**:\n",
    "\n",
    "<font color=&ldquo;blue&rdquo;>Sua tarefa é ler o algoritmo `quick_sort` acima e explicar o seu funcionamento. Na sua explicação, não se esqueça de comentar sobre as três partes de compõe um algoritmo recursivo. Tente primeiramente ler o algoritmo e veja se entende. Caso tenha dificuldade, busque na internet ou em livros sobre explicações de como esse algoritmo funciona e escreva aqui *com suas palavras* o que você entendeu e compare isso com o código.\n",
    "\n"
   ]
  },
  {
   "cell_type": "markdown",
   "metadata": {},
   "source": [
    "### Ordenador por mistura (mergesort)\n",
    "\n"
   ]
  },
  {
   "cell_type": "markdown",
   "metadata": {},
   "source": [
    "**Algoritmo**:\n",
    "\n"
   ]
  },
  {
   "cell_type": "code",
   "execution_count": null,
   "metadata": {},
   "outputs": [],
   "source": [
    "def mesclar(lista_a, lista_b):\n",
    "    lista_c = []\n",
    "\n",
    "    while len(lista_a) > 0 and len(lista_b) > 0:\n",
    "        if lista_a[0] > lista_b[0]:\n",
    "            n = lista_b.pop(0)\n",
    "            lista_c.append(n)\n",
    "        else:\n",
    "            n = lista_a.pop(0)\n",
    "            lista_c.append(n)\n",
    "\n",
    "    lista_c.extend(lista_a)\n",
    "    lista_c.extend(lista_b)\n",
    "\n",
    "    return lista_c\n",
    "\n",
    "\n",
    "def merge_sort(lista):\n",
    "    if len(lista) <= 1:\n",
    "        return lista\n",
    "\n",
    "    meio_da_lista = len(lista) // 2\n",
    "\n",
    "    lista_a = lista[:meio_da_lista]\n",
    "    lista_b = lista[meio_da_lista:]\n",
    "\n",
    "    lista_a = merge_sort(lista_a)\n",
    "    lista_b = merge_sort(lista_b)\n",
    "\n",
    "    return mesclar(lista_a, lista_b)"
   ]
  },
  {
   "cell_type": "markdown",
   "metadata": {},
   "source": [
    "**Teste**:\n",
    "\n"
   ]
  },
  {
   "cell_type": "code",
   "execution_count": null,
   "metadata": {},
   "outputs": [],
   "source": [
    "lista = [1, 10, 4, 19, -23, 55, 0, 2]\n",
    "\n",
    "print(\"Entrada: \", lista)\n",
    "print(\"Saída: \", merge_sort(lista))\n",
    "print()"
   ]
  },
  {
   "cell_type": "markdown",
   "metadata": {},
   "source": [
    "**Exercício**:\n",
    "\n",
    "<font color=&ldquo;blue&rdquo;>Sua tarefa é ler o algoritmo `merge_sort` acima e explicar o seu funcionamento. Na sua explicação, não se esqueça de comentar sobre as três partes de compõe um algoritmo recursivo. Tente primeiramente ler o algoritmo e veja se entende. Caso tenha dificuldade, busque na internet ou em livros sobre explicações de como esse algoritmo funciona e escreva aqui *com suas palavras* o que você entendeu e compare isso com o código.\n",
    "\n"
   ]
  }
 ],
 "metadata": {
  "kernelspec": {
   "display_name": "ilumpy",
   "language": "python",
   "name": "ilumpy"
  },
  "language_info": {
   "codemirror_mode": {
    "name": "ipython",
    "version": 3
   },
   "file_extension": ".py",
   "mimetype": "text/x-python",
   "name": "python",
   "nbconvert_exporter": "python",
   "pygments_lexer": "ipython3",
   "version": "3.9.7"
  },
  "org": null
 },
 "nbformat": 4,
 "nbformat_minor": 4
}
