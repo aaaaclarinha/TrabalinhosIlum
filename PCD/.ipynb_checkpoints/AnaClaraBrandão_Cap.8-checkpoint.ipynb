{
 "cells": [
  {
   "cell_type": "markdown",
   "metadata": {},
   "source": [
    "Capítulo 8\n",
    "==========\n",
    "\n"
   ]
  },
  {
   "cell_type": "markdown",
   "metadata": {},
   "source": [
    "**Nome**:\n",
    "\n",
    "**RM**:\n",
    "\n",
    "**Data**:\n",
    "\n"
   ]
  },
  {
   "cell_type": "markdown",
   "metadata": {},
   "source": [
    "## 8.1 Listas não foram feitas para cálculos de álgebra linear\n",
    "\n"
   ]
  },
  {
   "cell_type": "markdown",
   "metadata": {},
   "source": [
    "### Questão [A]\n",
    "\n"
   ]
  },
  {
   "cell_type": "markdown",
   "metadata": {},
   "source": [
    "Crie uma lista contendo 6 elementos que devem ser os dígitos do seu RM. Após isso, multiplique essa lista por um inteiro maior que 2, multiplique essa lista por ela mesma, some 10 a essa lista e some essa lista com ela mesma. Reporte o que aconteceu em cada um dos passos. Agora crie um array usando sua lista e repita todas as etapas. Reporte o que aconteceu em cada um dos passos e compare as diferenças entre arrays e listas.\n",
    "\n"
   ]
  },
  {
   "cell_type": "code",
   "execution_count": null,
   "metadata": {},
   "outputs": [],
   "source": []
  },
  {
   "cell_type": "markdown",
   "metadata": {},
   "source": [
    "### Questão [B]\n",
    "\n"
   ]
  },
  {
   "cell_type": "markdown",
   "metadata": {},
   "source": [
    "Crie uma função que recebe um array numérico de 1 dimensão de tamanho arbitrário. Considere que todos os números deste array são medidas de temperatura em Celsius. Retorne para o usuário um array de mesmo tamanho com as temperaturas convertidas para [Rankine](https://pt.wikipedia.org/wiki/Rankine). Não use laço de repetição aqui, se aproveite das propriedades dos arrays!!\n",
    "\n"
   ]
  },
  {
   "cell_type": "code",
   "execution_count": null,
   "metadata": {},
   "outputs": [],
   "source": []
  },
  {
   "cell_type": "markdown",
   "metadata": {},
   "source": [
    "## 8.2 Criando arrays sem usar listas\n",
    "\n"
   ]
  },
  {
   "cell_type": "markdown",
   "metadata": {},
   "source": [
    "### Questão [A]\n",
    "\n"
   ]
  },
  {
   "cell_type": "markdown",
   "metadata": {},
   "source": [
    "As funções `zeros` e `ones` criam arrays de qualquer tamanho contendo apenas zeros e uns, respectivamente. Veja o exemplo abaixo e escreva brevemente  sobre o que você entendeu dessas funções. Usando a função `ones` e a propriedade multiplicativa de arrays que vimos na seção anterior, crie uma matriz 3 por 5 onde todos os elementos são o número 42.\n",
    "\n"
   ]
  },
  {
   "cell_type": "code",
   "execution_count": null,
   "metadata": {},
   "outputs": [],
   "source": [
    "array1 = np.zeros(10)\n",
    "array2 = np.zeros((3, 4))\n",
    "\n",
    "array3 = np.ones(5)\n",
    "array4 = np.ones((2, 3))"
   ]
  },
  {
   "cell_type": "code",
   "execution_count": null,
   "metadata": {},
   "outputs": [],
   "source": []
  },
  {
   "cell_type": "markdown",
   "metadata": {},
   "source": [
    "### Questão [B]\n",
    "\n"
   ]
  },
  {
   "cell_type": "markdown",
   "metadata": {},
   "source": [
    "Crie um array utilizando o `linspace` e outro array utilizando o `random`. Após criá-los, multiplique os dois arrays e exiba o resultado.\n",
    "\n"
   ]
  },
  {
   "cell_type": "code",
   "execution_count": null,
   "metadata": {},
   "outputs": [],
   "source": []
  },
  {
   "cell_type": "markdown",
   "metadata": {},
   "source": [
    "## 8.3 Funções universais\n",
    "\n"
   ]
  },
  {
   "cell_type": "markdown",
   "metadata": {},
   "source": [
    "### Questão [A]\n",
    "\n"
   ]
  },
  {
   "cell_type": "markdown",
   "metadata": {},
   "source": [
    "Use o `numpy` e o `pandas` para gerar um gráfico de uma função matemática. Os valores do eixo $x$ devem ser gerados pelo `numpy` usando `arange` ou `linspace` (escolha o que julgar mais apropriado). Os valores do eixo $y$ devem ser calculados usando funções universais se necessário. O tipo de função a ser plotada depende do último digito do seu RM:\n",
    "\n",
    "0.  polinomial de grau 2 em $x$\n",
    "1.  exponencial de $x$\n",
    "2.  logaritmo base 10 de $x$\n",
    "3.  raiz quadrada de $x$\n",
    "4.  seno de $x$\n",
    "5.  cosseno de $x$\n",
    "6.  arco tangente de $x$\n",
    "7.  dez elevado a $x$\n",
    "8.  absoluto de $x$\n",
    "9.  cosseno hiperbólico de $x$\n",
    "\n"
   ]
  },
  {
   "cell_type": "code",
   "execution_count": null,
   "metadata": {},
   "outputs": [],
   "source": []
  },
  {
   "cell_type": "markdown",
   "metadata": {},
   "source": [
    "## 8.4 Funções agregadoras\n",
    "\n"
   ]
  },
  {
   "cell_type": "markdown",
   "metadata": {},
   "source": [
    "### Questão [A]\n",
    "\n"
   ]
  },
  {
   "cell_type": "markdown",
   "metadata": {},
   "source": [
    "Crie um array 4 $\\times$ 4. Compute a multiplicação da primeira linha do array pela terceira. Após isso, subtraia do resultado a segunda linha e exiba para o usuário.\n",
    "\n"
   ]
  },
  {
   "cell_type": "code",
   "execution_count": null,
   "metadata": {},
   "outputs": [],
   "source": []
  },
  {
   "cell_type": "markdown",
   "metadata": {},
   "source": [
    "### Questão [B]\n",
    "\n"
   ]
  },
  {
   "cell_type": "markdown",
   "metadata": {},
   "source": [
    "A tabela abaixo, armazenada na variável `dados`, tem 3 colunas: ano, quantidade de pessoas que comeram sorvete de pistache (por mil habitantes) e o logaritmo na base 10 de unidades individuais de pipoca consumidas (por mil habitantes). Usando indexação de arrays e funções agregadoras, encontre os seguintes valores:\n",
    "\n",
    "1.  Consumo médio de sorvete de pistache entre 2010 e 2021.\n",
    "2.  Consumo médio de unidades de pipoca entre 2010 e 2021 (dica: não é em log que a pergunta pede!).\n",
    "3.  Desvio padrão do número de unidades individuais de pipoca consumidas entre os anos de 2015 e 2019.\n",
    "4.  A diferença entre o valor máximo e o valor mínimo de pessoas que consumiram sorvete de pistache entre 2011 e 2018.\n",
    "5.  A soma de todas a unidades individuais de pipoca consumidas de 2011 até 2021.\n",
    "\n"
   ]
  },
  {
   "cell_type": "code",
   "execution_count": null,
   "metadata": {},
   "outputs": [],
   "source": [
    "dados = [\n",
    "    [2010, 20, 8],\n",
    "    [2011, 22, 9],\n",
    "    [2012, 27, 8],\n",
    "    [2013, 27, 6],\n",
    "    [2014, 25, 5],\n",
    "    [2015, 21, 7],\n",
    "    [2016, 18, 9],\n",
    "    [2017, 16, 12],\n",
    "    [2018, 17, 11],\n",
    "    [2019, 21, 10],\n",
    "    [2020, 28, 9],\n",
    "    [2021, 30, 8],\n",
    "]"
   ]
  },
  {
   "cell_type": "code",
   "execution_count": null,
   "metadata": {},
   "outputs": [],
   "source": []
  },
  {
   "cell_type": "markdown",
   "metadata": {},
   "source": [
    "## 8.6 Atributos e peculiaridades de arrays\n",
    "\n"
   ]
  },
  {
   "cell_type": "markdown",
   "metadata": {},
   "source": [
    "### Questão [A]\n",
    "\n"
   ]
  },
  {
   "cell_type": "markdown",
   "metadata": {},
   "source": [
    "Escreva uma função que recebe um array e checa se ele é uma matriz quadrada. Se for, retorne a soma da diagonal principal. Se não for uma matriz quadrada, retorne `False`.\n",
    "\n"
   ]
  },
  {
   "cell_type": "code",
   "execution_count": null,
   "metadata": {},
   "outputs": [],
   "source": []
  },
  {
   "cell_type": "markdown",
   "metadata": {},
   "source": [
    "## Playground\n",
    "\n"
   ]
  },
  {
   "cell_type": "code",
   "execution_count": null,
   "metadata": {},
   "outputs": [],
   "source": []
  },
  {
   "cell_type": "markdown",
   "metadata": {},
   "source": [
    "## Diário de bordo\n",
    "\n"
   ]
  },
  {
   "cell_type": "markdown",
   "metadata": {},
   "source": [
    "[Texto]\n",
    "\n"
   ]
  }
 ],
 "metadata": {
  "kernelspec": {
   "display_name": "ilumpy",
   "language": "python",
   "name": "ilumpy"
  },
  "language_info": {
   "codemirror_mode": {
    "name": "ipython",
    "version": 3
   },
   "file_extension": ".py",
   "mimetype": "text/x-python",
   "name": "python",
   "nbconvert_exporter": "python",
   "pygments_lexer": "ipython3",
   "version": "3.9.10"
  },
  "org": null
 },
 "nbformat": 4,
 "nbformat_minor": 4
}
