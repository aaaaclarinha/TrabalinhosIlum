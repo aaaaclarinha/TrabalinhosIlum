{
 "cells": [
  {
   "cell_type": "markdown",
   "metadata": {},
   "source": [
    "Capítulo 11\n",
    "===========\n",
    "\n"
   ]
  },
  {
   "cell_type": "markdown",
   "metadata": {},
   "source": [
    "**Nome**: Ana Clara Santos Brandão \n",
    "\n",
    "**RM**: 220069\n",
    "\n",
    "**Data**: 24/05/2022\n",
    "\n"
   ]
  },
  {
   "cell_type": "markdown",
   "metadata": {},
   "source": [
    "## 11.1 Agrupando caracteres com strings\n",
    "\n"
   ]
  },
  {
   "cell_type": "code",
   "execution_count": 1,
   "metadata": {},
   "outputs": [
    {
     "name": "stdout",
     "output_type": "stream",
     "text": [
      "Penny! Penny! Penny! \n",
      "completo\n"
     ]
    }
   ],
   "source": [
    "nome = \"Penny! \"\n",
    "chamando_penny = nome * 3\n",
    "print(chamando_penny)\n",
    "\n",
    "metade1 = \"comp\"\n",
    "metade2 = \"leto\"\n",
    "palavra = metade1 + metade2\n",
    "print(palavra)"
   ]
  },
  {
   "cell_type": "markdown",
   "metadata": {},
   "source": [
    "### Questão [A]\n",
    "\n"
   ]
  },
  {
   "cell_type": "markdown",
   "metadata": {},
   "source": [
    "Faça uma função que recebe uma string qualquer e retorna um dicionário. As chaves do dicionário de retorno são caracteres e os valores são a quantidade de vezes que estes caracteres aparecem na string de entrada.\n",
    "\n"
   ]
  },
  {
   "cell_type": "code",
   "execution_count": 19,
   "metadata": {},
   "outputs": [],
   "source": [
    "tigela = \"Cumbuca\"\n",
    "\n",
    "for letra in tigela\n",
    "\n"
   ]
  },
  {
   "cell_type": "markdown",
   "metadata": {},
   "source": [
    "## 11.2 Métodos condicionais de strings\n",
    "\n"
   ]
  },
  {
   "cell_type": "code",
   "execution_count": 2,
   "metadata": {},
   "outputs": [
    {
     "name": "stdout",
     "output_type": "stream",
     "text": [
      "['pato', 'feldspato', 'sapato', 'carrapato', 'empato']\n",
      "['cachorro', 'caolinita', 'carrapato', 'caranguejo', 'capoto']\n"
     ]
    }
   ],
   "source": [
    "palavras = [\n",
    "    \"pato\",\n",
    "    \"cachorro\",\n",
    "    \"feldspato\",\n",
    "    \"caolinita\",\n",
    "    \"sapato\",\n",
    "    \"tênis\",\n",
    "    \"carrapato\",\n",
    "    \"caranguejo\",\n",
    "    \"empato\",\n",
    "    \"capoto\",\n",
    "]\n",
    "\n",
    "palavras_que_terminam_em_pato = []\n",
    "for palavra in palavras:\n",
    "    if palavra.endswith(\"pato\"):\n",
    "        palavras_que_terminam_em_pato.append(palavra)\n",
    "print(palavras_que_terminam_em_pato)\n",
    "\n",
    "palavras_que_comecam_em_ca = []\n",
    "for palavra in palavras:\n",
    "    if palavra.startswith(\"ca\"):\n",
    "        palavras_que_comecam_em_ca.append(palavra)\n",
    "print(palavras_que_comecam_em_ca)"
   ]
  },
  {
   "cell_type": "markdown",
   "metadata": {
    "tags": []
   },
   "source": [
    "## 11.3 Recebendo informações do usuário com a função `input`\n",
    "\n"
   ]
  },
  {
   "cell_type": "code",
   "execution_count": 3,
   "metadata": {},
   "outputs": [
    {
     "name": "stdin",
     "output_type": "stream",
     "text": [
      "Qual é o seu nome? ana\n",
      "Qual é a sua missão? derrubar o governo\n",
      "Qual é a velocidade de vôo de uma andorinha livre de carga? 2\n"
     ]
    },
    {
     "name": "stdout",
     "output_type": "stream",
     "text": [
      "ana\n",
      "derrubar o governo\n",
      "2\n"
     ]
    }
   ],
   "source": [
    "nome = input(\"Qual é o seu nome?\")\n",
    "missao = input(\"Qual é a sua missão?\")\n",
    "velocidade = input(\"Qual é a velocidade de vôo de uma andorinha livre de carga?\")\n",
    "\n",
    "print(nome)\n",
    "print(missao)\n",
    "print(velocidade)"
   ]
  },
  {
   "cell_type": "markdown",
   "metadata": {},
   "source": [
    "## 11.4 Alguns caracteres especiais\n",
    "\n"
   ]
  },
  {
   "cell_type": "code",
   "execution_count": 4,
   "metadata": {},
   "outputs": [
    {
     "name": "stdout",
     "output_type": "stream",
     "text": [
      "Olá!\n",
      "Eu sou uma string com múltiplas linhas.\n",
      "Prazer!\n"
     ]
    }
   ],
   "source": [
    "string_com_multiplas_linhas = \"\"\"Olá!\n",
    "Eu sou uma string com múltiplas linhas.\n",
    "Prazer!\"\"\"\n",
    "\n",
    "print(string_com_multiplas_linhas)\n",
    "\n",
    "# A vizualização deste método é melhor"
   ]
  },
  {
   "cell_type": "code",
   "execution_count": 5,
   "metadata": {},
   "outputs": [
    {
     "name": "stdout",
     "output_type": "stream",
     "text": [
      "Olá!\n",
      "Eu sou uma string com múltiplas linhas.\n",
      "Prazer!\n"
     ]
    }
   ],
   "source": [
    "string_com_multiplas_linhas_2 = \"Olá!\\nEu sou uma string com múltiplas linhas.\\nPrazer!\"\n",
    "\n",
    "print(string_com_multiplas_linhas_2)"
   ]
  },
  {
   "cell_type": "code",
   "execution_count": 6,
   "metadata": {},
   "outputs": [
    {
     "name": "stdout",
     "output_type": "stream",
     "text": [
      "Ano\tConsumo de pipoca\n",
      "2017\t9\n",
      "2018\t6\n",
      "2019\t7\n",
      "2020\t13\n",
      "2021\t12\n",
      "2022\t11\n"
     ]
    }
   ],
   "source": [
    "tabulacao = \"\"\"Ano\\tConsumo de pipoca\n",
    "2017\\t9\n",
    "2018\\t6\n",
    "2019\\t7\n",
    "2020\\t13\n",
    "2021\\t12\n",
    "2022\\t11\"\"\"\n",
    "\n",
    "print(tabulacao)"
   ]
  },
  {
   "cell_type": "code",
   "execution_count": 7,
   "metadata": {},
   "outputs": [
    {
     "name": "stdout",
     "output_type": "stream",
     "text": [
      "C:\\trabalhos\\nova pasta\\praticas_cap_10.ipynb\n",
      "C:\\trabalhos\\nova pasta\\praticas_cap_10.ipynb\n",
      "\n",
      "C:\trabalhos\n",
      "ova pasta\\praticas_cap_10.ipynb\n"
     ]
    }
   ],
   "source": [
    "barra_invertida_tecnica_1 = \"C:\\\\trabalhos\\\\nova pasta\\\\praticas_cap_10.ipynb\"\n",
    "barra_invertida_string_bruta = r\"C:\\trabalhos\\nova pasta\\praticas_cap_10.ipynb\"\n",
    "\n",
    "print(barra_invertida_tecnica_1)\n",
    "print(barra_invertida_string_bruta)\n",
    "\n",
    "print()\n",
    "\n",
    "# exemplo de uso errado\n",
    "barra_invertida_deu_ruim = \"C:\\trabalhos\\nova pasta\\praticas_cap_10.ipynb\"\n",
    "print(barra_invertida_deu_ruim)"
   ]
  },
  {
   "cell_type": "markdown",
   "metadata": {},
   "source": [
    "## 11.5 Formatação de texto\n",
    "\n"
   ]
  },
  {
   "cell_type": "code",
   "execution_count": 8,
   "metadata": {},
   "outputs": [
    {
     "name": "stdout",
     "output_type": "stream",
     "text": [
      "Olá, Feiticeira Escarlate . Eu me chamo Visão . Prazer!\n"
     ]
    }
   ],
   "source": [
    "seu_nome = \"Feiticeira Escarlate\"\n",
    "meu_nome = \"Visão\"\n",
    "\n",
    "print(\"Olá,\", seu_nome, \". Eu me chamo\", meu_nome, \". Prazer!\")"
   ]
  },
  {
   "cell_type": "code",
   "execution_count": 9,
   "metadata": {},
   "outputs": [
    {
     "name": "stdout",
     "output_type": "stream",
     "text": [
      "Olá, Feiticeira Escarlate. Eu me chamo Visão. Prazer!\n"
     ]
    }
   ],
   "source": [
    "seu_nome = \"Feiticeira Escarlate\"\n",
    "meu_nome = \"Visão\"\n",
    "\n",
    "print(f\"Olá, {seu_nome}. Eu me chamo {meu_nome}. Prazer!\")"
   ]
  },
  {
   "cell_type": "markdown",
   "metadata": {},
   "source": [
    "### Questão [A]\n",
    "\n"
   ]
  },
  {
   "cell_type": "markdown",
   "metadata": {},
   "source": [
    "Faça um programa que recebe o nome do usuário pelo comando `input`. Usando f-strings, inicie uma conversa chamando o usuário pelo nome dele e pergunte a sua cor favorita. Se a cor favorita do usuário começar com a letra &ldquo;v&rdquo;, diga para ele que ele tem muito bom gosto. Do contrário, diga que hoje é um belo dia e deseje boa sorte na sua jornada.\n",
    "\n"
   ]
  },
  {
   "cell_type": "code",
   "execution_count": 23,
   "metadata": {},
   "outputs": [
    {
     "name": "stdin",
     "output_type": "stream",
     "text": [
      "What's your name? clarinha linda\n"
     ]
    },
    {
     "name": "stdout",
     "output_type": "stream",
     "text": [
      "\n",
      "Olá, clarinha linda! Qual é sua cor favorita?\n"
     ]
    },
    {
     "name": "stdin",
     "output_type": "stream",
     "text": [
      "What's your favorite color? preto\n"
     ]
    },
    {
     "name": "stdout",
     "output_type": "stream",
     "text": [
      "\n",
      "Hoje é um belo dia! Boa sorte na sua jornada!\n"
     ]
    }
   ],
   "source": [
    "sent_1 = input(\"What's your name?\")\n",
    "sent_2= \"Qual é sua cor favorita?\"\n",
    "sent_3 = \"Você tem bom gosto\"\n",
    "sent_4 = \"Hoje é um belo dia! Boa sorte na sua jornada!\"\n",
    "\n",
    "print()\n",
    "\n",
    "print(f\"Olá, {sent_1}! {sent_2}\")\n",
    "sent_5 = input(\"What's your favorite color?\")\n",
    "\n",
    "print()\n",
    "\n",
    "if sent_5.startswith (\"v\"):\n",
    "    print(sent_3)\n",
    "else:\n",
    "    print(sent_4)"
   ]
  },
  {
   "cell_type": "markdown",
   "metadata": {},
   "source": [
    "## 11.6 Processamento de texto\n",
    "\n"
   ]
  },
  {
   "cell_type": "code",
   "execution_count": 24,
   "metadata": {},
   "outputs": [
    {
     "name": "stdout",
     "output_type": "stream",
     "text": [
      "Obrigado mario! mas a nossa princesa está em outro castelo...\n",
      "Obrigado Mario! Mas A Nossa Princesa Está Em Outro Castelo...\n",
      "obrigado mario! mas a nossa princesa está em outro castelo...\n",
      "OBRIGADO MARIO! MAS A NOSSA PRINCESA ESTÁ EM OUTRO CASTELO...\n",
      "oBRIGADO mARIO! mAS A NOSSA PRINCESA ESTÁ EM OUTRO CASTELO...\n"
     ]
    }
   ],
   "source": [
    "texto = \"Obrigado Mario! Mas a nossa princesa está em outro castelo...\"\n",
    "\n",
    "# Apenas a primeira letra escrita com maiúscula\n",
    "print(texto.capitalize())\n",
    "\n",
    "# As primeiras letras de todas as palavras escritas com maiúsculas\n",
    "print(texto.title())\n",
    "\n",
    "# Todas as letras minúsculas\n",
    "print(texto.lower())\n",
    "\n",
    "# Todas as letras maiúsculas\n",
    "print(texto.upper())\n",
    "\n",
    "# Inverte a caixa das letras\n",
    "print(texto.swapcase())"
   ]
  },
  {
   "cell_type": "code",
   "execution_count": 25,
   "metadata": {},
   "outputs": [
    {
     "name": "stdout",
     "output_type": "stream",
     "text": [
      "Seu nome é Jackie, Jackie Tequila\n",
      "SEU NOME É JACKIE, JACKIE TEQUILA\n"
     ]
    }
   ],
   "source": [
    "texto1 = \"Seu nome é Jackie, Jackie Tequila\"\n",
    "\n",
    "texto2 = texto1.upper()\n",
    "\n",
    "print(texto1)  # esta variável não foi alterada!\n",
    "print(texto2)"
   ]
  },
  {
   "cell_type": "code",
   "execution_count": 26,
   "metadata": {},
   "outputs": [
    {
     "name": "stdout",
     "output_type": "stream",
     "text": [
      "['O', 'último', 'ser', 'vivo', 'do', 'planeta', 'estava', 'na', 'sua', 'casa,', 'sozinho.', 'De', 'repente,', 'alguém', 'bateu', 'na', 'sua', 'porta.']\n",
      "O texto tem 18 palavras\n",
      "['O último ser vivo do planeta estava na sua casa, sozinho', ' De repente, alguém bateu na sua porta', '']\n",
      "O texto tem 3 frases? ... acho que não!\n"
     ]
    }
   ],
   "source": [
    "mini_historia_de_terror = \"O último ser vivo do planeta estava na sua casa, sozinho. De repente, alguém bateu na sua porta.\"\n",
    "\n",
    "palavras = mini_historia_de_terror.split(\" \")\n",
    "\n",
    "print(palavras)\n",
    "print(f\"O texto tem {len(palavras)} palavras\")\n",
    "\n",
    "frases = mini_historia_de_terror.split(\".\")\n",
    "print(frases)\n",
    "print(f\"O texto tem {len(frases)} frases? ... acho que não!\")"
   ]
  },
  {
   "cell_type": "markdown",
   "metadata": {},
   "source": [
    "### Questão [A]\n",
    "\n"
   ]
  },
  {
   "cell_type": "markdown",
   "metadata": {},
   "source": [
    "Escolha uma notícia de jornal que tenha mais de 500 palavras. Crie uma string com o texto desta notícia (dica: strings com três aspas permitem texto com mais de uma linha!). Seu objetivo é processar este texto e mostrar quais são as 10 palavras mais usadas nele. Use apenas funções, módulos e estruturas de dados embutidos de Python para resolver esta questão (em outras palavras, não use nada de bibliotecas externas aqui).\n",
    "\n"
   ]
  },
  {
   "cell_type": "code",
   "execution_count": 10,
   "metadata": {},
   "outputs": [],
   "source": [
    "noticia = \"\"\"Verbas públicas de prefeituras a sertanejos e outros viram debate após Zé Neto criticar Lei Rouanet\n",
    "Sertanejo criticou Rouanet em show de R$ 400 mil bancado por prefeitura. Shows caros com pouco controle são comuns, enquanto lei é atacada. Gusttavo Lima ganha R$ 800 mil; veja lista e entenda.\n",
    "Um comentário sobre a Lei Rouanet feito por Zé Neto, parceiro de Cristiano, em um show em Sorriso (MT) acabou virando conversa sobre outra forma de incentivo menos discutida: os shows de prefeituras pelo Brasil. No fim das contas, a verba é pública, assim como na Rouanet.\n",
    "A notificação preferida de Zé Neto não deve ser a de comentários piscando nas redes dele após o show. Para começar, ele falou mal de Anitta e despertou a ira dos fãs dela. No mesmo discurso, ele se gabou de não depender da Lei Rouanet.\n",
    "\"Nós somos artistas que não dependemos de Lei Rouanet. Nosso cachê quem paga é o povo. A gente não precisa fazer tatuagem no 'toba' para mostrar se a gente está bem ou mal\", disse Zé Neto no palco no dia 12 de maio.\n",
    "A indireta sobre a tatuagem de Anitta foi massacrada por seguidores dela. Mas, no meio da briga de fãs, uma série de posts no Twitter do jornalista Demétrio Vecchioli mostrou: Zé Neto não usa a Rouanet, mas até o show de Sorriso (MT) foi bancado com R$ 400 mil dos cofres da cidade.\n",
    "Não é só a dupla de \"Notificação preferida\" que vive fazendo shows com verbas de prefeituras. O g1 levantou apresentações recentes de 5 artistas sertanejos e 5 de fora do estilo e seus shows recentes mais caros com verbas municipais no interior do Brasil. Veja mais abaixo como foi o levantamento.\n",
    "Esses shows movimentam a economia local, geram empregos e reúnem multidões. Artistas menores também fazem. Mas os critérios de escolha, de fiscalização e de contrapartidas para a cidade são mais frouxos do que a atacada Lei Rouanet, que surgiu há 30 anos justamente para isso.\n",
    "\"Por um lado as pessoas falam mal dessas ferramentas de incentivo que têm controle, e não prestam atenção para o fato de que o mecanismo direto vem da vontade daquele gestor\", diz Miguel Jost, professor e pesquisador de políticas públicas para cultura.\n",
    "Não é só Zé Neto que se gaba de não usar a Lei Rouanet e faz grandes shows de prefeituras. Latino e Netinho, que também atacaram recentemente a lei, já fizeram shows com verbas municipais, que não chegaram aos valores dos astros acima, mas passaram ambos de R$ 120 mil.\n",
    "O levantamento não foi fácil porque, ao contrário da Lei Rouanet, não há um sistema ou regras de divulgação: cada prefeitura publica de um jeito. Enquanto a lei tem um longo processo, os shows municipais, em geral, são por escolha direta, sem licitação.\n",
    "\"Quando se cobra recurso para cultura, falamos de um modelo institucionalizado, com editais ou leis de renúncia, porque aí a sociedade pode acompanhar de forma correta e transparente\", Miguel Jost defende.\n",
    "\"Esse tipo de festa, apesar de ser importante, tem um tipo de contratação que acaba sendo um recurso de escolhas pessoais e políticas. O que a gente tem é uma relação obscura, a partir da escolha de um gestor individual por um artista x ou y. É uma forma muito menos republicana de acessar o recurso.\"\n",
    "\"O que a gente observou nos últimos anos foi uma criminalização de todas as políticas de incentivo à cultura, que foram alvo de um projeto da extrema-direita de colocá-la como um supérfluo. A cultura traz tantos benefícios que a ideia não é de gasto, mas de investimento\", diz Miguel.\n",
    "O g1 já mostrou como a Coreia do Sul investiu na música em um plano de mais de vinte anos e hoje colhe o lucro e o prestígio de ídolos como o BTS.\"\"\""
   ]
  },
  {
   "cell_type": "markdown",
   "metadata": {},
   "source": [
    "### Questão [B]\n",
    "\n"
   ]
  },
  {
   "cell_type": "markdown",
   "metadata": {},
   "source": [
    "Faça uma função que recebe uma string qualquer e retorna uma lista contendo todos os números presentes na sua string. Por exemplo, se a função receber a string &ldquo;Hoje fazem 2 dias que eu fiz 65 anos.&rdquo; ela deve retornar a lista &ldquo;[2, 65]&rdquo;.\n",
    "\n"
   ]
  },
  {
   "cell_type": "code",
   "execution_count": null,
   "metadata": {},
   "outputs": [],
   "source": []
  },
  {
   "cell_type": "markdown",
   "metadata": {},
   "source": [
    "### Questão [C]\n",
    "\n"
   ]
  },
  {
   "cell_type": "markdown",
   "metadata": {},
   "source": [
    "Faça uma função que recebe uma string e checa se ela é um palíndromo (retorna `True` caso seja ou `False` caso não seja). Palíndromos são palavras que não se alteram mesmo quando a ordem das suas letras é invertida. Exemplos de palíndromos: rir, salas, rever, sopapos e arara.\n",
    "\n"
   ]
  },
  {
   "cell_type": "code",
   "execution_count": null,
   "metadata": {},
   "outputs": [],
   "source": []
  },
  {
   "cell_type": "markdown",
   "metadata": {},
   "source": [
    "### Questão [Desafio]\n",
    "\n"
   ]
  },
  {
   "cell_type": "markdown",
   "metadata": {},
   "source": [
    "Faça uma função que recebe uma string contendo uma frase. A função deve retornar uma string contendo as mesmas palavras, porém invertidas. Por exemplo, caso a função receba a string &ldquo;Ser ou não ser eis a questão&rdquo; ela retorna &ldquo;reS uo oãn res sie a oãtseuq&rdquo;.\n",
    "\n"
   ]
  },
  {
   "cell_type": "code",
   "execution_count": null,
   "metadata": {},
   "outputs": [],
   "source": []
  },
  {
   "cell_type": "markdown",
   "metadata": {},
   "source": [
    "## Playground\n",
    "\n"
   ]
  },
  {
   "cell_type": "code",
   "execution_count": 12,
   "metadata": {},
   "outputs": [
    {
     "name": "stdout",
     "output_type": "stream",
     "text": [
      "Testando o método isnumeric\n",
      "True\n",
      "False\n",
      "False\n",
      "\n",
      "Testando o método isupper\n",
      "False\n",
      "True\n",
      "False\n",
      "\n",
      "Testando o método islower\n",
      "False\n",
      "False\n",
      "True\n",
      "\n"
     ]
    }
   ],
   "source": [
    "numero = \"1234\"\n",
    "caixa_alta = \"AAAAHHHHH\"\n",
    "caixa_baixa = \"sussurrando...\"\n",
    "\n",
    "print(\"Testando o método isnumeric\")\n",
    "print(numero.isnumeric())\n",
    "print(caixa_alta.isnumeric())\n",
    "print(caixa_baixa.isnumeric())\n",
    "print()\n",
    "\n",
    "print(\"Testando o método isupper\")\n",
    "print(numero.isupper())\n",
    "print(caixa_alta.isupper())\n",
    "print(caixa_baixa.isupper())\n",
    "print()\n",
    "\n",
    "print(\"Testando o método islower\")\n",
    "print(numero.islower())\n",
    "print(caixa_alta.islower())\n",
    "print(caixa_baixa.islower())\n",
    "print()"
   ]
  },
  {
   "cell_type": "code",
   "execution_count": 13,
   "metadata": {},
   "outputs": [
    {
     "name": "stdout",
     "output_type": "stream",
     "text": [
      "True\n"
     ]
    }
   ],
   "source": [
    "print(string_com_multiplas_linhas == string_com_multiplas_linhas_2)"
   ]
  },
  {
   "cell_type": "code",
   "execution_count": 1,
   "metadata": {},
   "outputs": [
    {
     "name": "stdout",
     "output_type": "stream",
     "text": [
      "O último ser vivo do planeta estava na sua casa, sozinho. De repente, alguém bateu na sua porta.\n",
      "\n",
      "O_último_ser_vivo_do_planeta_estava_na_sua_casa,_sozinho._De_repente,_alguém_bateu_na_sua_porta.\n",
      "\n",
      "O👏último👏ser👏vivo👏do👏planeta👏estava👏na👏sua👏casa,👏sozinho.👏De👏repente,👏alguém👏bateu👏na👏sua👏porta.\n",
      "\n",
      "O*_ . _*último*_ . _*ser*_ . _*vivo*_ . _*do*_ . _*planeta*_ . _*estava*_ . _*na*_ . _*sua*_ . _*casa,*_ . _*sozinho.*_ . _*De*_ . _*repente,*_ . _*alguém*_ . _*bateu*_ . _*na*_ . _*sua*_ . _*porta.\n"
     ]
    }
   ],
   "source": [
    "lista = [\n",
    "    \"O\",\n",
    "    \"último\",\n",
    "    \"ser\",\n",
    "    \"vivo\",\n",
    "    \"do\",\n",
    "    \"planeta\",\n",
    "    \"estava\",\n",
    "    \"na\",\n",
    "    \"sua\",\n",
    "    \"casa,\",\n",
    "    \"sozinho.\",\n",
    "    \"De\",\n",
    "    \"repente,\",\n",
    "    \"alguém\",\n",
    "    \"bateu\",\n",
    "    \"na\",\n",
    "    \"sua\",\n",
    "    \"porta.\",\n",
    "]\n",
    "\n",
    "cola = \" \"\n",
    "tudo_junto = cola.join(lista)\n",
    "print(tudo_junto)\n",
    "print()\n",
    "\n",
    "cola = \"_\"\n",
    "tudo_junto2 = cola.join(lista)\n",
    "print(tudo_junto2)\n",
    "print()\n",
    "\n",
    "cola = \"👏\"\n",
    "tudo_junto3 = cola.join(lista)\n",
    "print(tudo_junto3)\n",
    "print()\n",
    "\n",
    "cola = \"*_ . _*\"  # a cola pode ser o que você quiser\n",
    "tudo_junto4 = cola.join(lista)\n",
    "print(tudo_junto4)"
   ]
  },
  {
   "cell_type": "markdown",
   "metadata": {},
   "source": [
    "## Diário de bordo\n",
    "\n"
   ]
  },
  {
   "cell_type": "code",
   "execution_count": null,
   "metadata": {},
   "outputs": [],
   "source": []
  }
 ],
 "metadata": {
  "kernelspec": {
   "display_name": "ilumpy",
   "language": "python",
   "name": "ilumpy"
  },
  "language_info": {
   "codemirror_mode": {
    "name": "ipython",
    "version": 3
   },
   "file_extension": ".py",
   "mimetype": "text/x-python",
   "name": "python",
   "nbconvert_exporter": "python",
   "pygments_lexer": "ipython3",
   "version": "3.9.7"
  },
  "org": null
 },
 "nbformat": 4,
 "nbformat_minor": 4
}
