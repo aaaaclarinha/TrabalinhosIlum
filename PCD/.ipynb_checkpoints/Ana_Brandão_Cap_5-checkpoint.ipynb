{
 "cells": [
  {
   "cell_type": "markdown",
   "id": "17b641bd-57c2-4c08-b8d3-e023fa0881a8",
   "metadata": {},
   "source": [
    "# Capítulo 5\n",
    "\n",
    "Nome: Ana Clara Santos Brandão \n",
    "\n",
    "RM: 220069\n",
    "\n",
    "Data: 05/04/2022"
   ]
  },
  {
   "cell_type": "markdown",
   "id": "6c18d981-e08b-4510-b75c-0078124e66d7",
   "metadata": {
    "tags": []
   },
   "source": [
    "## Regras para o preenchimento do Caderno de Respostas\n",
    "\n",
    "+ __Leia com atenção as regras abaixo antes de iniciar suas práticas!__\n",
    "+ Preencha o número do capítulo, seu nome, seu RM e a data na primeira célula deste caderno de notas\n",
    "+ Crie uma célula de texto com cabeçalho nível 2 (isto é, usando duas hashtags ##) para cada seção referente ao capítulo deste caderno. Veja os exemplos abaixo\n",
    "+ Crie uma célula de texto com cabeçalho nível 3 (isto é, usando três hashtags ###) para cada prática\n",
    "+ Use quantas células de texto e código forem necessárias para cada prática. Não se esqueça de colocar a letra da prática\n",
    "+ Caso queira testar algum código qualquer, use a seção Playground que está no final do caderno. Ela não será considerada para sua nota\n",
    "+ Práticas que pedem que você escreva algo devem conter uma célula de texto onde você elabora sua resposta\n",
    "+ A última célula do caderno é o seu Diário de Bordo. Ele é muito importante para a avaliação da disciplina. Mais informações estão lá no final do caderno \n",
    "+ Não se esqueça de salvar periodicamente seu caderno de respostas\n",
    "+ Antes de enviar seu caderno de respostas, renomeie ele de forma que tenha seu nome, sobrenome e o número do capítulo. Por exemplo, o caderno de respostas do capítulo 3 da aluna Fulana de Tal o nome ficaria: Fulana_Tal_Capitulo_03"
   ]
  },
  {
   "cell_type": "markdown",
   "id": "542d310a-5964-4f09-883d-a4c6512467cd",
   "metadata": {
    "tags": []
   },
   "source": [
    "## Seção 5.1"
   ]
  },
  {
   "cell_type": "markdown",
   "id": "00b00819-9c54-4c27-be0a-d811a157ff13",
   "metadata": {
    "tags": []
   },
   "source": [
    "### Prática A"
   ]
  },
  {
   "cell_type": "markdown",
   "id": "a466fbf2-6f7b-4366-8126-779f88a48786",
   "metadata": {
    "tags": []
   },
   "source": [
    "1. Pão de Coco\n",
    "2. Leite \n",
    "3. Queijo Mussarela \n",
    "4. Creme Dental\n",
    "5. Suco de Uva \n",
    "6. Bolacha Recheada \n",
    "7. Lasanha Congelada"
   ]
  },
  {
   "cell_type": "markdown",
   "id": "0dc2ac3a-c5c3-4b32-815d-8e88fd96491d",
   "metadata": {},
   "source": [
    "### Prática B"
   ]
  },
  {
   "cell_type": "markdown",
   "id": "f2c5da9a-e38a-4741-a0cc-536eb33ddb5d",
   "metadata": {},
   "source": [
    "1. Pão de Coco\n",
    "2. Leite \n",
    "3. Queijo Mussarela \n",
    "4. Creme Dental\n",
    "5. Suco de Uva \n",
    "6. Bolacha Recheada \n",
    "7. Lasanha Congelada\n",
    "8. Papel Higiênico "
   ]
  },
  {
   "cell_type": "markdown",
   "id": "fa29a43f-09ee-44b9-a497-a6f451dcec4f",
   "metadata": {},
   "source": [
    "### Prática C"
   ]
  },
  {
   "cell_type": "code",
   "execution_count": 92,
   "id": "b4d02b4e-06be-4aa4-bdf1-cff733bd34ab",
   "metadata": {},
   "outputs": [
    {
     "name": "stdout",
     "output_type": "stream",
     "text": [
      "['Pão de coco', 'Leite', 'Ovo', 'Queijo mussarela', 'Creme dental', 'Suco de uva', 'Bolacha recheada', 'Lasanha congelada']\n"
     ]
    }
   ],
   "source": [
    "listadecompras = [\"Pão de coco\", \"Leite\", \"Ovo\", \"Queijo mussarela\", \"Creme dental\", \"Suco de uva\", \"Bolacha recheada\", \"Lasanha congelada\"]\n",
    "print (listadecompras)"
   ]
  },
  {
   "cell_type": "code",
   "execution_count": 93,
   "id": "27957a43-210c-4b3e-8f1d-071e74b695da",
   "metadata": {},
   "outputs": [
    {
     "name": "stdout",
     "output_type": "stream",
     "text": [
      "['Pão de coco', 'Leite', 'Ovo', 'Queijo mussarela', 'Creme dental', 'Suco de uva', 'Bolacha recheada', 'Lasanha congelada', 'Papel higiênico']\n"
     ]
    }
   ],
   "source": [
    "listadecompras.append (\"Papel higiênico\")\n",
    "print (listadecompras)"
   ]
  },
  {
   "cell_type": "markdown",
   "id": "dc968f98-cec8-4212-893d-ac254e90001e",
   "metadata": {},
   "source": [
    "## Seção 5.2"
   ]
  },
  {
   "cell_type": "markdown",
   "id": "428e4ad8-9357-409d-acf1-b1dba53a4a47",
   "metadata": {},
   "source": [
    "### Prática A"
   ]
  },
  {
   "cell_type": "code",
   "execution_count": 94,
   "id": "f058923f-ffdb-4269-8966-85db96480efd",
   "metadata": {},
   "outputs": [],
   "source": [
    "tipos_de_musica = [\n",
    "    [\"Eletronica\", \"Trap\", \"Pop\", \"Indie-Rock\", \"Rap\"],\n",
    "    [\"Pagode\", \"MPB\", \"Samba\"]\n",
    "]"
   ]
  },
  {
   "cell_type": "markdown",
   "id": "b629d656-8812-432d-a3eb-249c2cbf1791",
   "metadata": {},
   "source": [
    "### Prática B"
   ]
  },
  {
   "cell_type": "code",
   "execution_count": 95,
   "id": "c299e140-083d-43a4-8967-854df2daa131",
   "metadata": {},
   "outputs": [
    {
     "name": "stdout",
     "output_type": "stream",
     "text": [
      "['Eletronica', 'Trap', 'Pop', 'Indie-Rock', 'Rap']\n"
     ]
    }
   ],
   "source": [
    "print (tipos_de_musica[0])"
   ]
  },
  {
   "cell_type": "code",
   "execution_count": 96,
   "id": "ddfa5c0f-d4ca-446e-bc94-e17faf4c11d0",
   "metadata": {},
   "outputs": [
    {
     "name": "stdout",
     "output_type": "stream",
     "text": [
      "['Pagode', 'MPB', 'Samba']\n"
     ]
    }
   ],
   "source": [
    "print(tipos_de_musica[1])"
   ]
  },
  {
   "cell_type": "markdown",
   "id": "2db313fc-fa26-4489-9afa-0b351b6953ba",
   "metadata": {},
   "source": [
    "### Prática C"
   ]
  },
  {
   "cell_type": "code",
   "execution_count": 97,
   "id": "45755dc3-7292-4564-87f1-68e361020123",
   "metadata": {},
   "outputs": [
    {
     "name": "stdout",
     "output_type": "stream",
     "text": [
      "['Eletronica', 'Trap', 'Pop', 'Indie-Rock', 'Rap', 'Metal']\n"
     ]
    }
   ],
   "source": [
    "tipos_de_musica[0].append (\"Metal\")\n",
    "print(tipos_de_musica[0])"
   ]
  },
  {
   "cell_type": "code",
   "execution_count": 98,
   "id": "2fbf3e78-1a24-4a41-8b50-329f7a617df6",
   "metadata": {},
   "outputs": [
    {
     "name": "stdout",
     "output_type": "stream",
     "text": [
      "['Pagode', 'MPB', 'Samba', 'Axé']\n"
     ]
    }
   ],
   "source": [
    "tipos_de_musica[1].append (\"Axé\") \n",
    "print(tipos_de_musica[1])"
   ]
  },
  {
   "cell_type": "markdown",
   "id": "0964d3f3-7739-4330-815c-850bd2899dc7",
   "metadata": {},
   "source": [
    "## Seção 5.3"
   ]
  },
  {
   "cell_type": "markdown",
   "id": "aab2e13e-701c-43a7-a160-ae154d3d69e2",
   "metadata": {},
   "source": [
    "### Prática A"
   ]
  },
  {
   "cell_type": "code",
   "execution_count": 99,
   "id": "05593cc0-61cd-4730-a292-702ee1310032",
   "metadata": {},
   "outputs": [
    {
     "name": "stdout",
     "output_type": "stream",
     "text": [
      "['Eletronica', 'Trap', 'Pop', 'Rap', 'Metal', 'Alternativa']\n"
     ]
    }
   ],
   "source": [
    "tipos_de_musica[0].remove (\"Indie-Rock\")\n",
    "tipos_de_musica[0].append (\"Alternativa\")\n",
    "print(tipos_de_musica[0])"
   ]
  },
  {
   "cell_type": "markdown",
   "id": "0b37dfa7-259a-422c-a18a-5a3fc4fe517f",
   "metadata": {},
   "source": [
    "### Prática B"
   ]
  },
  {
   "cell_type": "code",
   "execution_count": 100,
   "id": "0a3592b8-7587-4e28-9021-c1a99ad0c332",
   "metadata": {},
   "outputs": [
    {
     "name": "stdout",
     "output_type": "stream",
     "text": [
      "['Banana', 'Pão de coco', 'Leite', 'Ovo', 'Queijo mussarela', 'Creme dental', 'Suco de uva', 'Bolacha recheada', 'Lasanha congelada', 'Papel higiênico']\n"
     ]
    }
   ],
   "source": [
    "listadecompras.insert (0, \"Banana\")\n",
    "print (listadecompras)"
   ]
  },
  {
   "cell_type": "markdown",
   "id": "0724875b-3adb-4aff-bc34-83c0dfb1f703",
   "metadata": {},
   "source": [
    "##### Pergunta 1: O que acontece com os outros elementos?\n",
    "###### Foram empurrados para a posição posterior"
   ]
  },
  {
   "cell_type": "code",
   "execution_count": 101,
   "id": "e046bd33-0c0f-45ff-a2f7-10d573506ed3",
   "metadata": {},
   "outputs": [
    {
     "name": "stdout",
     "output_type": "stream",
     "text": [
      "['Banana', 'Pão de coco', 'Leite', 'Ovo', 'Queijo mussarela', 'Creme dental', 'Suco de uva', 'Bolacha recheada', 'Lasanha congelada', 'Papel higiênico', 'Pão', 'Queijo', 'Presunto']\n"
     ]
    }
   ],
   "source": [
    "listadecompras.extend(['Pão', 'Queijo', 'Presunto'])\n",
    "print (listadecompras)"
   ]
  },
  {
   "cell_type": "markdown",
   "id": "0a09b686-aec3-4650-9683-5253fc033e5c",
   "metadata": {},
   "source": [
    "##### Pergunta 2: Os elementos foram adicionados corretamente?\n",
    "###### Sim"
   ]
  },
  {
   "cell_type": "code",
   "execution_count": 102,
   "id": "4294fd40-7ae5-4a86-b6f2-99098dca1027",
   "metadata": {},
   "outputs": [
    {
     "data": {
      "text/plain": [
       "3"
      ]
     },
     "execution_count": 102,
     "metadata": {},
     "output_type": "execute_result"
    }
   ],
   "source": [
    "listadecompras.index('Ovo')"
   ]
  },
  {
   "cell_type": "markdown",
   "id": "32e258d2-11f8-42ab-978b-b75f933adcbd",
   "metadata": {},
   "source": [
    "##### Pergunta 3: O índice reportado é o que você esperava?\n",
    "###### Não, ele retornou o valor do Ovo antes de ser acrescentada a banana."
   ]
  },
  {
   "cell_type": "code",
   "execution_count": 103,
   "id": "59111a30-3ea0-4f8f-acca-403023916dcf",
   "metadata": {},
   "outputs": [
    {
     "name": "stdout",
     "output_type": "stream",
     "text": [
      "['Banana', 'Pão de coco', 'Leite', 'Ovo', 'Queijo mussarela', 'Suco de uva', 'Bolacha recheada', 'Lasanha congelada', 'Papel higiênico', 'Pão', 'Queijo', 'Presunto']\n"
     ]
    }
   ],
   "source": [
    "listadecompras.pop(5)\n",
    "print (listadecompras)"
   ]
  },
  {
   "cell_type": "markdown",
   "id": "718c10c7-3432-4f00-ba90-a06347ccab18",
   "metadata": {},
   "source": [
    "##### Pergunta 4: Qual item foi removido? Foi o esperado?\n",
    "###### Creme dental, sim, pois ele era o quinto item antes de adicionar a banana"
   ]
  },
  {
   "cell_type": "markdown",
   "id": "f1b52ef6-f9bd-4bab-aed3-86bb236a679e",
   "metadata": {},
   "source": [
    "## Seção 5.4"
   ]
  },
  {
   "cell_type": "markdown",
   "id": "73f9ffe7-2b6f-48ec-8586-fbae2b3c98e1",
   "metadata": {},
   "source": [
    "### Prática A"
   ]
  },
  {
   "cell_type": "code",
   "execution_count": 104,
   "id": "9e4aa0c2-7705-433f-bcff-9694c47fda1e",
   "metadata": {},
   "outputs": [
    {
     "name": "stdout",
     "output_type": "stream",
     "text": [
      "['Pagode', 'Samba']\n"
     ]
    }
   ],
   "source": [
    "print(tipos_de_musica[1][0:5:2])"
   ]
  },
  {
   "cell_type": "code",
   "execution_count": 105,
   "id": "88384269-c1a0-4e74-b2c7-eed484fab1e1",
   "metadata": {},
   "outputs": [
    {
     "name": "stdout",
     "output_type": "stream",
     "text": [
      "['Pop', 'Metal']\n"
     ]
    }
   ],
   "source": [
    "print(tipos_de_musica[0][2:6:2])"
   ]
  },
  {
   "cell_type": "markdown",
   "id": "b9ea2874-274e-4407-a393-99dd66bf31de",
   "metadata": {},
   "source": [
    "### Prática B"
   ]
  },
  {
   "cell_type": "code",
   "execution_count": 106,
   "id": "0d74e779-4e0b-4e06-b804-93776eb2e255",
   "metadata": {},
   "outputs": [
    {
     "name": "stdout",
     "output_type": "stream",
     "text": [
      "['Pop', 'Rap', 'Metal', 'Alternativa']\n"
     ]
    }
   ],
   "source": [
    "print(tipos_de_musica[0][2:7:1])"
   ]
  },
  {
   "cell_type": "markdown",
   "id": "d44dd271-8637-4edd-9c64-ce3e4811bfeb",
   "metadata": {},
   "source": [
    "## Seção 5.5"
   ]
  },
  {
   "cell_type": "markdown",
   "id": "56110689-6f5c-46bc-bbf8-72ea188ea2d7",
   "metadata": {},
   "source": [
    "### Prática A"
   ]
  },
  {
   "cell_type": "code",
   "execution_count": 107,
   "id": "c7b16d74-dcd5-4f51-8abe-4d042e0a4ac5",
   "metadata": {},
   "outputs": [
    {
     "name": "stdout",
     "output_type": "stream",
     "text": [
      "['Pagode', 'MPB', 'Bossa-Nova', 'Axé']\n",
      "['Pagode', 'MPB', 'Bossa-Nova', 'Axé']\n"
     ]
    }
   ],
   "source": [
    "tipos_de_musica_brasileira = tipos_de_musica[1]\n",
    "\n",
    "tipos_de_musica_brasileira[2] = (\"Bossa-Nova\")\n",
    "print (tipos_de_musica[1])\n",
    "print (tipos_de_musica_brasileira) "
   ]
  },
  {
   "cell_type": "code",
   "execution_count": 109,
   "id": "e6105452-f8e7-4b53-ba6d-98cf8e916429",
   "metadata": {},
   "outputs": [
    {
     "name": "stdout",
     "output_type": "stream",
     "text": [
      "['Pagode', 'MPB', 'Bossa-Nova', 'Axé']\n",
      "['Pagode', 'MPB', 'Samba', 'Axé']\n"
     ]
    }
   ],
   "source": [
    "tipos_de_musica_brasileira = tipos_de_musica[1].copy()\n",
    "\n",
    "tipos_de_musica_brasileira[2] = (\"Samba\")\n",
    "print (tipos_de_musica[1])\n",
    "print (tipos_de_musica_brasileira) "
   ]
  },
  {
   "cell_type": "markdown",
   "id": "272ddc96-e72f-44ae-843b-0206bd3efa3f",
   "metadata": {},
   "source": [
    "## Seção 5.6"
   ]
  },
  {
   "cell_type": "markdown",
   "id": "9c49c7c3-df16-4ae3-8836-d82d696504c0",
   "metadata": {},
   "source": [
    "### Prática A"
   ]
  },
  {
   "cell_type": "code",
   "execution_count": 111,
   "id": "c8f1ba65-baba-4e0b-b789-b1917483fe6f",
   "metadata": {},
   "outputs": [
    {
     "name": "stdout",
     "output_type": "stream",
     "text": [
      "Itaquera\n",
      "Arthur Alvin\n",
      "Patriarca-Vila-Ré\n",
      "Guilermina-Esperança\n",
      "Vila-Matilde\n",
      "Penha\n",
      "Carrão\n",
      "Tatuapé\n"
     ]
    }
   ],
   "source": [
    "Estações_de_metrô = [\"Itaquera\", \"Arthur Alvin\", \"Patriarca-Vila-Ré\", \"Guilermina-Esperança\", \"Vila-Matilde\", \"Penha\", \"Carrão\", \"Tatuapé\"]\n",
    "\n",
    "est1, est2, est3, est4, est5, est6, est7, est8 = Estações_de_metrô\n",
    "\n",
    "print (est1)\n",
    "print (est2)\n",
    "print (est3)\n",
    "print (est4)\n",
    "print (est5)\n",
    "print (est6)\n",
    "print (est7)\n",
    "print (est8)"
   ]
  },
  {
   "cell_type": "markdown",
   "id": "b7a46fce-1dbb-46d9-a5b9-8f0a3d8f34b0",
   "metadata": {},
   "source": [
    "### Prática B"
   ]
  },
  {
   "cell_type": "code",
   "execution_count": 112,
   "id": "fd335e64-f2c2-4e9f-aa49-11843458c444",
   "metadata": {},
   "outputs": [
    {
     "ename": "ValueError",
     "evalue": "too many values to unpack (expected 3)",
     "output_type": "error",
     "traceback": [
      "\u001b[1;31m---------------------------------------------------------------------------\u001b[0m",
      "\u001b[1;31mValueError\u001b[0m                                Traceback (most recent call last)",
      "\u001b[1;32mC:\\Users\\ANA220~1\\AppData\\Local\\Temp/ipykernel_20360/2183976508.py\u001b[0m in \u001b[0;36m<module>\u001b[1;34m\u001b[0m\n\u001b[0;32m      1\u001b[0m \u001b[0mlista\u001b[0m \u001b[1;33m=\u001b[0m \u001b[1;33m[\u001b[0m\u001b[1;34m\"Miojo\"\u001b[0m\u001b[1;33m,\u001b[0m \u001b[1;34m\"Ovo\"\u001b[0m\u001b[1;33m,\u001b[0m \u001b[1;34m\"Queijo\"\u001b[0m\u001b[1;33m,\u001b[0m \u001b[1;34m\"Pão\"\u001b[0m\u001b[1;33m,\u001b[0m \u001b[1;34m\"Orégano\"\u001b[0m\u001b[1;33m]\u001b[0m\u001b[1;33m\u001b[0m\u001b[1;33m\u001b[0m\u001b[0m\n\u001b[0;32m      2\u001b[0m \u001b[1;33m\u001b[0m\u001b[0m\n\u001b[1;32m----> 3\u001b[1;33m \u001b[0mitem0\u001b[0m\u001b[1;33m,\u001b[0m \u001b[0mitem1\u001b[0m\u001b[1;33m,\u001b[0m \u001b[0mitem2\u001b[0m \u001b[1;33m=\u001b[0m \u001b[0mlista\u001b[0m\u001b[1;33m\u001b[0m\u001b[1;33m\u001b[0m\u001b[0m\n\u001b[0m\u001b[0;32m      4\u001b[0m \u001b[1;33m\u001b[0m\u001b[0m\n\u001b[0;32m      5\u001b[0m \u001b[0mprint\u001b[0m\u001b[1;33m(\u001b[0m\u001b[0mitem0\u001b[0m\u001b[1;33m)\u001b[0m\u001b[1;33m\u001b[0m\u001b[1;33m\u001b[0m\u001b[0m\n",
      "\u001b[1;31mValueError\u001b[0m: too many values to unpack (expected 3)"
     ]
    }
   ],
   "source": [
    "lista = [\"Miojo\", \"Ovo\", \"Queijo\", \"Pão\", \"Orégano\"]\n",
    "\n",
    "item0, item1, item2 = lista\n",
    "\n",
    "print(item0)\n",
    "print(item1)\n",
    "print(item2)"
   ]
  },
  {
   "cell_type": "markdown",
   "id": "de0b9641-e58a-485e-8e57-99393bb40c85",
   "metadata": {},
   "source": [
    "###### \"Muitos valores empacotados\", o programa considera o último comando, então o que está errado é a lista, não o desempacotamento"
   ]
  },
  {
   "cell_type": "markdown",
   "id": "55bbd7b4-469f-489b-81c4-1bb618c3e74e",
   "metadata": {},
   "source": [
    "### Prática C"
   ]
  },
  {
   "cell_type": "code",
   "execution_count": 113,
   "id": "82d3311b-1e79-43f5-99ed-6b5d1b05238a",
   "metadata": {},
   "outputs": [
    {
     "name": "stdout",
     "output_type": "stream",
     "text": [
      "Miojo\n",
      "['Ovo', 'Queijo', 'Pão']\n",
      "Orégano\n",
      "\n",
      "['Miojo', 'Ovo', 'Queijo']\n",
      "Pão\n",
      "Orégano\n"
     ]
    }
   ],
   "source": [
    "lista = [\"Miojo\", \"Ovo\", \"Queijo\", \"Pão\", \"Orégano\"]\n",
    "\n",
    "item0, *item1, item2 = lista\n",
    "\n",
    "print(item0)\n",
    "print(item1)\n",
    "print(item2)\n",
    "\n",
    "print()\n",
    "\n",
    "*item0, item1, item2 = lista\n",
    "\n",
    "print(item0)\n",
    "print(item1)\n",
    "print(item2)"
   ]
  },
  {
   "cell_type": "markdown",
   "id": "40c06946-f700-4a72-b691-f01d3e6f1de4",
   "metadata": {},
   "source": [
    "###### O retorno põe todo o exedente na variárivel com asterisco, para \"encaixar\" a lista no desempacontamento."
   ]
  },
  {
   "cell_type": "markdown",
   "id": "bf76806c-5d93-437f-abc1-0271d166acbd",
   "metadata": {},
   "source": [
    "### Seção 5.7"
   ]
  },
  {
   "cell_type": "markdown",
   "id": "4481cc7b-8e16-4d02-a998-3826318d2cf4",
   "metadata": {},
   "source": [
    "### Prática A\n",
    "\n",
    "##### Listas são declaradas entre conchete, tuplas são declaradas entre parênteses"
   ]
  },
  {
   "cell_type": "markdown",
   "id": "e27311fa-be9a-450c-8f59-d5921dcb2a9d",
   "metadata": {},
   "source": [
    "### Prática B"
   ]
  },
  {
   "cell_type": "code",
   "execution_count": 117,
   "id": "6a3bb767-6dbc-44bb-a17f-0db2a943f2b8",
   "metadata": {},
   "outputs": [
    {
     "name": "stdout",
     "output_type": "stream",
     "text": [
      "['A Ameaça Fantasma', 'Ataque dos Clones', 'A Vingança dos Sith', 'Uma Nova Esperança', 'O Império Contra-Ataca', 'O Retorno de Jedi', 'O Despertar da Força', 'Os Ultímos Jedi', 'A Ascensão Skywalker']\n"
     ]
    }
   ],
   "source": [
    "Saga_Skywalker = (\"A Ameaça Fantasma\", \"Ataque dos Clones\", \"A Vingança dos Sith\", \"Uma Nova Esperança\", \"O Império Contra-Ataca\", \"O Retorno de Jedi\", \"O Despertar da Força\", \"Os Ultímos Jedi\", \"A Ascensão Skywalker\")\n",
    "\n",
    "StarWars = []\n",
    "StarWars.extend(Saga_Skywalker)\n",
    "\n",
    "print (StarWars)"
   ]
  },
  {
   "cell_type": "markdown",
   "id": "3e9fe0d9-6e65-4c9b-b0da-75a9443179f7",
   "metadata": {},
   "source": [
    "## Seção 5.8"
   ]
  },
  {
   "cell_type": "markdown",
   "id": "a0d0d125-cb63-49c5-b6f0-be1a9dc64af1",
   "metadata": {},
   "source": [
    "### Prática A\n",
    "\n",
    "##### Listas são declaradas entre conchetes, tuplas são declaradas entre parênteses e conjuntos são declarados entre chaves. "
   ]
  },
  {
   "cell_type": "markdown",
   "id": "49afc179-5bf3-4577-86f9-217cf35e44e3",
   "metadata": {},
   "source": [
    "### Prática B\n",
    "\n",
    "##### \"Pão\" apareca apenas uma vez porque conjuntos são conceitos matemáticos, e na matemática variáveis de mesmo valor são equivalentes"
   ]
  },
  {
   "cell_type": "code",
   "execution_count": 118,
   "id": "25809107-a731-40b1-8d18-5310093f4a9f",
   "metadata": {},
   "outputs": [
    {
     "name": "stdout",
     "output_type": "stream",
     "text": [
      "{'Miojo', 'Queijo', 'Ovo'}\n",
      "{'Miojo', 'Queijo', 'Orégano', 'Pão'}\n"
     ]
    }
   ],
   "source": [
    "conjunto1 = {\"Miojo\", \"Ovo\", \"Queijo\"}\n",
    "conjunto2 = {\"Miojo\", \"Pão\", \"Queijo\", \"Orégano\", \"Pão\"}\n",
    "\n",
    "print(conjunto1)\n",
    "print(conjunto2)"
   ]
  },
  {
   "cell_type": "markdown",
   "id": "39239af0-9fef-4b4f-85ea-17a601b53778",
   "metadata": {},
   "source": [
    "### Prática C"
   ]
  },
  {
   "cell_type": "code",
   "execution_count": 119,
   "id": "98e76060-e1b2-485e-b5bb-2ababebff014",
   "metadata": {},
   "outputs": [
    {
     "name": "stdout",
     "output_type": "stream",
     "text": [
      "{'Miojo', 'Queijo'}\n",
      "{'Pão', 'Queijo', 'Orégano', 'Miojo', 'Ovo'}\n"
     ]
    }
   ],
   "source": [
    "conjunto1 = {\"Miojo\", \"Ovo\", \"Queijo\"}\n",
    "conjunto2 = {\"Miojo\", \"Pão\", \"Queijo\", \"Orégano\", \"Pão\"}\n",
    "\n",
    "intersection = conjunto1.intersection(conjunto2)\n",
    "print(intersection)\n",
    "\n",
    "union = conjunto1.union(conjunto2)\n",
    "print(union)"
   ]
  },
  {
   "cell_type": "markdown",
   "id": "097add12-c667-4b5f-a9d0-05cc0ee25c14",
   "metadata": {},
   "source": [
    "### Prática D"
   ]
  },
  {
   "cell_type": "code",
   "execution_count": 120,
   "id": "4255d1f3-85a4-464f-b752-5fd7944f22f8",
   "metadata": {},
   "outputs": [],
   "source": [
    "Bebidas = {\"Água\", \"Suco Natural\", \"Refrigerante\", \"Cerveja\"} \n",
    "Comidas = {\"Churrasco\", \"Maionese\", \"Salpicão\", \"Pão de Alho\"}\n",
    "Sobremesa = {\"Sorvete\", \"Pudim\", \"Bolo\"}"
   ]
  },
  {
   "cell_type": "code",
   "execution_count": 121,
   "id": "d2c36f11-5e75-4bfe-b92e-3c9f17cfa6ac",
   "metadata": {},
   "outputs": [
    {
     "name": "stdout",
     "output_type": "stream",
     "text": [
      "{'Pudim', 'Sorvete', 'Pavê', 'Bolo'}\n"
     ]
    }
   ],
   "source": [
    "Sobremesa.add (\"Pavê\")\n",
    "print (Sobremesa)"
   ]
  },
  {
   "cell_type": "code",
   "execution_count": 124,
   "id": "7320e629-1cd0-4712-961d-d76b66bf11f9",
   "metadata": {},
   "outputs": [
    {
     "data": {
      "text/plain": [
       "{'Cerveja', 'Refrigerante', 'Suco Natural', 'Água'}"
      ]
     },
     "execution_count": 124,
     "metadata": {},
     "output_type": "execute_result"
    }
   ],
   "source": [
    "Bebidas.difference(Sobremesa)"
   ]
  },
  {
   "cell_type": "code",
   "execution_count": 127,
   "id": "e0bba4e7-3623-4705-a6dd-60b50dd22e4d",
   "metadata": {},
   "outputs": [
    {
     "name": "stdout",
     "output_type": "stream",
     "text": [
      "set()\n"
     ]
    }
   ],
   "source": [
    "intersection = Comidas.intersection(Sobremesa)\n",
    "print (intersection)"
   ]
  },
  {
   "cell_type": "code",
   "execution_count": 128,
   "id": "45fe3605-465d-49f2-97b8-140e02323616",
   "metadata": {},
   "outputs": [
    {
     "name": "stdout",
     "output_type": "stream",
     "text": [
      "{'Churrasco', 'Maionese', 'Sorvete', 'Pavê', 'Salpicão', 'Bolo', 'Pão de Alho', 'Pudim'}\n"
     ]
    }
   ],
   "source": [
    "union = Comidas.union(Sobremesa)\n",
    "print(union)"
   ]
  },
  {
   "cell_type": "markdown",
   "id": "97bb5b2d-956b-49f8-964a-1f79303007f5",
   "metadata": {},
   "source": [
    "## Playground"
   ]
  },
  {
   "cell_type": "code",
   "execution_count": null,
   "id": "d3bf893d-6075-4f40-a2d9-8bf6065c4057",
   "metadata": {},
   "outputs": [],
   "source": []
  },
  {
   "cell_type": "markdown",
   "id": "8b4b6239-4d77-4c0d-bd5e-a67f3d84b580",
   "metadata": {},
   "source": [
    "## Diário de Bordo"
   ]
  },
  {
   "cell_type": "markdown",
   "id": "ad0fe6e2-c314-4c69-bcba-eca13bbe71d3",
   "metadata": {},
   "source": [
    "A última célula do seu caderno de notas é reservada para o Diário de Bordo. Este espaço serve para você refletir sobre a prática, avaliando as atividades que foram realizadas e refletindo sobre seu desempenho e aprendizado. O formato e o conteúdo do seu Diário de Bordo são livres. \n",
    "\n",
    "Se quiser, conte quais foram suas facilidades ou dificuldades para realizar a prática. Pode contar também sobre o que achou interessante ou desinteressante nesta prática. Fique à vontade para escrever sobre tópicos, textos ou vídeos que encontrou durante suas buscas para resolver as questões."
   ]
  },
  {
   "cell_type": "markdown",
   "id": "cc157b8a-a06d-4b50-9d50-26e5b931cc9b",
   "metadata": {},
   "source": []
  }
 ],
 "metadata": {
  "kernelspec": {
   "display_name": "Python 3 (ipykernel)",
   "language": "python",
   "name": "python3"
  },
  "language_info": {
   "codemirror_mode": {
    "name": "ipython",
    "version": 3
   },
   "file_extension": ".py",
   "mimetype": "text/x-python",
   "name": "python",
   "nbconvert_exporter": "python",
   "pygments_lexer": "ipython3",
   "version": "3.9.7"
  }
 },
 "nbformat": 4,
 "nbformat_minor": 5
}
