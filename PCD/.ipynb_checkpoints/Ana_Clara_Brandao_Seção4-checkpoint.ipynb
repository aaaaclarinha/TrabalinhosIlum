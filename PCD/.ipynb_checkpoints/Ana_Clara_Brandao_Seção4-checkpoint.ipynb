{
 "cells": [
  {
   "cell_type": "markdown",
   "id": "17b641bd-57c2-4c08-b8d3-e023fa0881a8",
   "metadata": {},
   "source": [
    "# Capítulo 4 \n",
    "\n",
    "Nome: Ana Clara Santos Brandão\n",
    "\n",
    "RM: 220069\n",
    "\n",
    "Data: 29/03/2003"
   ]
  },
  {
   "cell_type": "markdown",
   "id": "6c18d981-e08b-4510-b75c-0078124e66d7",
   "metadata": {
    "tags": []
   },
   "source": [
    "## Regras para o preenchimento do Caderno de Respostas\n",
    "\n",
    "+ __Leia com atenção as regras abaixo antes de iniciar suas práticas!__\n",
    "+ Preencha o número do capítulo, seu nome, seu RM e a data na primeira célula deste caderno de notas\n",
    "+ Crie uma célula de texto com cabeçalho nível 2 (isto é, usando duas hashtags ##) para cada seção referente ao capítulo deste caderno. Veja os exemplos abaixo\n",
    "+ Crie uma célula de texto com cabeçalho nível 3 (isto é, usando três hashtags ###) para cada prática\n",
    "+ Use quantas células de texto e código forem necessárias para cada prática. Não se esqueça de colocar a letra da prática\n",
    "+ Caso queira testar algum código qualquer, use a seção Playground que está no final do caderno. Ela não será considerada para sua nota\n",
    "+ Práticas que pedem que você escreva algo devem conter uma célula de texto onde você elabora sua resposta\n",
    "+ A última célula do caderno é o seu Diário de Bordo. Ele é muito importante para a avaliação da disciplina. Mais informações estão lá no final do caderno \n",
    "+ Não se esqueça de salvar periodicamente seu caderno de respostas\n",
    "+ Antes de enviar seu caderno de respostas, renomeie ele de forma que tenha seu nome, sobrenome e o número do capítulo. Por exemplo, o caderno de respostas do capítulo 3 da aluna Fulana de Tal o nome ficaria: Fulana_Tal_Capitulo_03"
   ]
  },
  {
   "cell_type": "markdown",
   "id": "542d310a-5964-4f09-883d-a4c6512467cd",
   "metadata": {
    "tags": []
   },
   "source": [
    "## Seção 4.3"
   ]
  },
  {
   "cell_type": "markdown",
   "id": "00b00819-9c54-4c27-be0a-d811a157ff13",
   "metadata": {
    "tags": []
   },
   "source": [
    "### Prática A"
   ]
  },
  {
   "cell_type": "code",
   "execution_count": 107,
   "id": "e71c9025-542b-4678-b5d6-799b517a3f05",
   "metadata": {},
   "outputs": [
    {
     "name": "stdout",
     "output_type": "stream",
     "text": [
      "8\n"
     ]
    }
   ],
   "source": [
    "def func_cubo (x):\n",
    "    return x**3\n",
    "\n",
    "print (func_cubo(2))"
   ]
  },
  {
   "cell_type": "code",
   "execution_count": 111,
   "id": "35385404-7457-4bc9-a160-7e6b75288c16",
   "metadata": {},
   "outputs": [
    {
     "name": "stdout",
     "output_type": "stream",
     "text": [
      "68.5\n"
     ]
    }
   ],
   "source": [
    "def func_med (a, b, c, d, e):\n",
    "    return (a + b + c + d + e) / 2\n",
    "\n",
    "\n",
    "print (func_med(54, 87, 2, -7, 1))"
   ]
  },
  {
   "cell_type": "markdown",
   "id": "0dc2ac3a-c5c3-4b32-815d-8e88fd96491d",
   "metadata": {},
   "source": [
    "### Prática B"
   ]
  },
  {
   "cell_type": "code",
   "execution_count": 95,
   "id": "26082446-69a5-49a9-82c8-09ce77f252e1",
   "metadata": {},
   "outputs": [],
   "source": [
    "def func_(ana, clara):\n",
    "    return "
   ]
  },
  {
   "cell_type": "markdown",
   "id": "8b3d73be-9c97-4aaf-b721-e0deb2336927",
   "metadata": {},
   "source": [
    "a função sem argumentos não tem o que retornar "
   ]
  },
  {
   "cell_type": "markdown",
   "id": "d1d24870-ba48-4135-a87d-eb3226841620",
   "metadata": {},
   "source": [
    "### Prática C"
   ]
  },
  {
   "cell_type": "code",
   "execution_count": 54,
   "id": "dc8f392f-4652-44cf-acf4-8c96191a9215",
   "metadata": {},
   "outputs": [
    {
     "name": "stdout",
     "output_type": "stream",
     "text": [
      "Olá!\n",
      "<function ola at 0x000002A640CC01F0>\n"
     ]
    }
   ],
   "source": [
    "def ola():\n",
    "    return \"Olá!\"\n",
    "\n",
    "\n",
    "print(ola())\n",
    "print(ola)"
   ]
  },
  {
   "cell_type": "markdown",
   "id": "b8c39996-7d7d-44c1-b513-a47ae604ef26",
   "metadata": {},
   "source": [
    "O retorno referente a linha 6 parece ser algum tipo de algoritimo da função."
   ]
  },
  {
   "cell_type": "markdown",
   "id": "dc968f98-cec8-4212-893d-ac254e90001e",
   "metadata": {},
   "source": [
    "## Seção 4.4"
   ]
  },
  {
   "cell_type": "markdown",
   "id": "428e4ad8-9357-409d-acf1-b1dba53a4a47",
   "metadata": {},
   "source": [
    "### Prática A"
   ]
  },
  {
   "cell_type": "code",
   "execution_count": null,
   "id": "f058923f-ffdb-4269-8966-85db96480efd",
   "metadata": {},
   "outputs": [],
   "source": []
  },
  {
   "cell_type": "markdown",
   "id": "b629d656-8812-432d-a3eb-249c2cbf1791",
   "metadata": {},
   "source": [
    "### Prática B"
   ]
  },
  {
   "cell_type": "code",
   "execution_count": 120,
   "id": "c299e140-083d-43a4-8967-854df2daa131",
   "metadata": {},
   "outputs": [
    {
     "name": "stdout",
     "output_type": "stream",
     "text": [
      "37.698\n",
      "113.09400000000001\n"
     ]
    }
   ],
   "source": [
    "def catupiry(r):\n",
    "    return 2 * 3.1415 * r\n",
    "def area(r):\n",
    "    return 3.1415 * r **2\n",
    "\n",
    "print (catupiry(6))\n",
    "print (area(6))"
   ]
  },
  {
   "cell_type": "markdown",
   "id": "92f775f2-1b11-402b-9121-eb6a917db22a",
   "metadata": {},
   "source": [
    "## Seção 4.5"
   ]
  },
  {
   "cell_type": "markdown",
   "id": "0dede425-be41-48e2-af0d-1ad577b63d1c",
   "metadata": {},
   "source": [
    "### Prática A"
   ]
  },
  {
   "cell_type": "code",
   "execution_count": 121,
   "id": "1e3fc05e-c5bb-48fb-ade5-672fae2c9aa5",
   "metadata": {},
   "outputs": [
    {
     "ename": "NameError",
     "evalue": "name 'opcao_1' is not defined",
     "output_type": "error",
     "traceback": [
      "\u001b[1;31m---------------------------------------------------------------------------\u001b[0m",
      "\u001b[1;31mNameError\u001b[0m                                 Traceback (most recent call last)",
      "\u001b[1;32mC:\\Users\\ANA220~1\\AppData\\Local\\Temp/ipykernel_3276/10028838.py\u001b[0m in \u001b[0;36m<module>\u001b[1;34m\u001b[0m\n\u001b[0;32m      7\u001b[0m \u001b[1;33m\u001b[0m\u001b[0m\n\u001b[0;32m      8\u001b[0m \u001b[0mlanche_da_tarde\u001b[0m \u001b[1;33m=\u001b[0m \u001b[0mrefeicao\u001b[0m\u001b[1;33m(\u001b[0m\u001b[1;33m)\u001b[0m\u001b[1;33m\u001b[0m\u001b[1;33m\u001b[0m\u001b[0m\n\u001b[1;32m----> 9\u001b[1;33m \u001b[0mprint\u001b[0m\u001b[1;33m(\u001b[0m\u001b[0mopcao_1\u001b[0m\u001b[1;33m)\u001b[0m\u001b[1;33m\u001b[0m\u001b[1;33m\u001b[0m\u001b[0m\n\u001b[0m",
      "\u001b[1;31mNameError\u001b[0m: name 'opcao_1' is not defined"
     ]
    }
   ],
   "source": [
    "def refeicao():\n",
    "    opcao_1 = \"SPAM\"\n",
    "    opcao_2 = \"SPAM\"\n",
    "    opcao_3 = \"ovos\"\n",
    "    opcao_4 = \"bacon\"\n",
    "    return opcao_1, opcao_2, opcao_3, opcao_4\n",
    "\n",
    "lanche_da_tarde = refeicao()\n",
    "print(opcao_1)"
   ]
  },
  {
   "cell_type": "markdown",
   "id": "977fad74-e9eb-4951-9069-b9fed183e806",
   "metadata": {},
   "source": [
    "Não foi reconhecida a variável "
   ]
  },
  {
   "cell_type": "markdown",
   "id": "35988f68-496b-40fc-9ea2-34a32a4f4cf4",
   "metadata": {},
   "source": [
    "### Prática B"
   ]
  },
  {
   "cell_type": "markdown",
   "id": "8c821d84-13cb-49ab-9f96-53ac2630a70e",
   "metadata": {},
   "source": [
    "O progama irá exibir a variável junto com a função print"
   ]
  },
  {
   "cell_type": "code",
   "execution_count": 123,
   "id": "8d38280f-78ed-49ee-8fe3-4db725e8d344",
   "metadata": {},
   "outputs": [
    {
     "name": "stdout",
     "output_type": "stream",
     "text": [
      "O melhor album de todos os tempos é :\n",
      "The Dark Side of the Moon\n"
     ]
    }
   ],
   "source": [
    "melhor_album = \"The Dark Side of the Moon\"  # esta é uma variável global\n",
    "\n",
    "\n",
    "def qual_o_melhor_album():\n",
    "    print(\"O melhor album de todos os tempos é :\")\n",
    "    print(melhor_album)\n",
    "\n",
    "\n",
    "qual_o_melhor_album()"
   ]
  },
  {
   "cell_type": "markdown",
   "id": "8b6ba52c-3db6-4c00-bee3-399b342ebbd1",
   "metadata": {},
   "source": [
    "### Prática C"
   ]
  },
  {
   "cell_type": "code",
   "execution_count": 130,
   "id": "0b66e952-12a0-45f0-9e92-28c19a9cf23a",
   "metadata": {},
   "outputs": [
    {
     "name": "stdout",
     "output_type": "stream",
     "text": [
      "O meu nome é :\n",
      "<function nome at 0x000002A640CD98B0>\n"
     ]
    }
   ],
   "source": [
    "nome = \"anaclara\"  # esta é uma variável global\n",
    "\n",
    "def nome ():\n",
    "    print(\"O meu nome é :\")\n",
    "    print(nome)\n",
    "\n",
    "nome()"
   ]
  },
  {
   "cell_type": "markdown",
   "id": "a66a3c06-7d77-41c4-aeb4-ec9ae16a485d",
   "metadata": {},
   "source": [
    "O programa considera o ultimo comando, ou seja, a função."
   ]
  },
  {
   "cell_type": "markdown",
   "id": "5fc9ac6b-4169-4545-84a7-83be3aa106d9",
   "metadata": {},
   "source": [
    "### Prática D"
   ]
  },
  {
   "cell_type": "code",
   "execution_count": 133,
   "id": "093b1a93-f366-440f-aeb1-ae2dfc0d4a4e",
   "metadata": {},
   "outputs": [
    {
     "name": "stdout",
     "output_type": "stream",
     "text": [
      "O meu nome é :\n",
      "ana\n"
     ]
    }
   ],
   "source": [
    "nome = \"anaclara\"  # esta é uma variável global\n",
    "\n",
    "def prim_nome ():\n",
    "    nome = \"ana\"\n",
    "    print(\"O meu nome é :\")\n",
    "    print(nome)\n",
    "\n",
    "prim_nome()"
   ]
  },
  {
   "cell_type": "markdown",
   "id": "40289195-c94a-4944-bc9f-0dfe1a3a5d0c",
   "metadata": {},
   "source": [
    "Da mesma forma, foi reconhecido apenas o que está dentro da função."
   ]
  },
  {
   "cell_type": "markdown",
   "id": "206fa529-134e-4ed7-8c2f-951c33f82061",
   "metadata": {},
   "source": [
    "## Seção 4.6"
   ]
  },
  {
   "cell_type": "markdown",
   "id": "90c73374-f90b-49ea-8bef-ae784a77c816",
   "metadata": {},
   "source": [
    "### Prática A"
   ]
  },
  {
   "cell_type": "code",
   "execution_count": 54,
   "id": "ef31db4c-c761-476d-b011-33b8a9540caa",
   "metadata": {},
   "outputs": [
    {
     "name": "stdout",
     "output_type": "stream",
     "text": [
      "[]\n"
     ]
    }
   ],
   "source": [
    "numeros_impares = []\n",
    "numero1 = 3\n",
    "numero2 = 5\n",
    "numero3 = 8\n",
    "def produto_impares(numero1, numero2, numero3):\n",
    "    \"\"\"Recebe três números e multiplica os ímpares\"\"\"\n",
    "    \n",
    "    if numero1 % 2 != 0:\n",
    "        numeros_impares.append (numero1)\n",
    "        \n",
    "    elif numero2 % 2 != 0:\n",
    "        numeros_impares.append (numero2)\n",
    "        \n",
    "    elif numero3 % 2 != 0:\n",
    "        numeros_impares.append (numero3)\n",
    "\n",
    "    return numeros_impares[0] * numeros_impares[1] * numeros_impares[3]\n",
    "\n",
    "print (numeros_impares)"
   ]
  },
  {
   "cell_type": "markdown",
   "id": "97bb5b2d-956b-49f8-964a-1f79303007f5",
   "metadata": {},
   "source": [
    "## Playground"
   ]
  },
  {
   "cell_type": "code",
   "execution_count": 3,
   "id": "d3bf893d-6075-4f40-a2d9-8bf6065c4057",
   "metadata": {},
   "outputs": [
    {
     "name": "stdout",
     "output_type": "stream",
     "text": [
      "16\n",
      "\n",
      "Help on function soma_pares in module __main__:\n",
      "\n",
      "soma_pares(numero1, numero2, numero3)\n",
      "    Recebe três números e soma apenas os pares.\n",
      "\n",
      "Recebe três números e soma apenas os pares.\n"
     ]
    }
   ],
   "source": [
    "def soma_pares(numero1, numero2, numero3):\n",
    "    \"\"\"Recebe três números e soma apenas os pares.\"\"\"\n",
    "    soma = 0\n",
    "\n",
    "    if numero1 % 2 == 0:\n",
    "        soma = soma + numero1\n",
    "\n",
    "    if numero2 % 2 == 0:\n",
    "        soma = soma + numero2\n",
    "\n",
    "    if numero3 % 2 == 0:\n",
    "        soma = soma + numero3\n",
    "\n",
    "    return soma\n",
    "\n",
    "\n",
    "print(soma_pares(10, 5, 6))\n",
    "\n",
    "print()\n",
    "help(soma_pares)  # mostra informações sobre a função\n",
    "\n",
    "print(soma_pares.__doc__)  # mostra a doscring da função"
   ]
  },
  {
   "cell_type": "markdown",
   "id": "8b4b6239-4d77-4c0d-bd5e-a67f3d84b580",
   "metadata": {},
   "source": [
    "## Diário de Bordo"
   ]
  },
  {
   "cell_type": "markdown",
   "id": "ad0fe6e2-c314-4c69-bcba-eca13bbe71d3",
   "metadata": {},
   "source": [
    "A última célula do seu caderno de notas é reservada para o Diário de Bordo. Este espaço serve para você refletir sobre a prática, avaliando as atividades que foram realizadas e refletindo sobre seu desempenho e aprendizado. O formato e o conteúdo do seu Diário de Bordo são livres. \n",
    "\n",
    "Se quiser, conte quais foram suas facilidades ou dificuldades para realizar a prática. Pode contar também sobre o que achou interessante ou desinteressante nesta prática. Fique à vontade para escrever sobre tópicos, textos ou vídeos que encontrou durante suas buscas para resolver as questões."
   ]
  },
  {
   "cell_type": "markdown",
   "id": "cc157b8a-a06d-4b50-9d50-26e5b931cc9b",
   "metadata": {},
   "source": [
    "A prática A da seção 4.6 não deu certo porque os valores não estão sendo adicionados ao conjunto."
   ]
  }
 ],
 "metadata": {
  "kernelspec": {
   "display_name": "Python 3 (ipykernel)",
   "language": "python",
   "name": "python3"
  },
  "language_info": {
   "codemirror_mode": {
    "name": "ipython",
    "version": 3
   },
   "file_extension": ".py",
   "mimetype": "text/x-python",
   "name": "python",
   "nbconvert_exporter": "python",
   "pygments_lexer": "ipython3",
   "version": "3.9.7"
  }
 },
 "nbformat": 4,
 "nbformat_minor": 5
}
