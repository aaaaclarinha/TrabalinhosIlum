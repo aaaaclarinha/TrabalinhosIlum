{
 "cells": [
  {
   "cell_type": "markdown",
   "metadata": {},
   "source": [
    "Capítulo 10 - Dicionários\n",
    "==========\n",
    "\n"
   ]
  },
  {
   "cell_type": "markdown",
   "metadata": {},
   "source": [
    "**Nome**: Ana Clara Santos Brandão \n",
    "\n",
    "**RM**: 220069\n",
    "\n",
    "**Data**: 24/05/2022\n",
    "\n"
   ]
  },
  {
   "cell_type": "markdown",
   "metadata": {},
   "source": [
    "## 10.1 Associando objetos com dicionários"
   ]
  },
  {
   "cell_type": "markdown",
   "metadata": {},
   "source": [
    "### Questão [A]:\n",
    "#### Note que o código não irá funcionar, pois o dicionário aluno e suas notas não foram definidas. Portanto, defina o dicionário aluno com as chaves “Nota 1”, “Nota 2” e “Nota 3”, então use o código acima para exibit o dicionário as notas e a média."
   ]
  },
  {
   "cell_type": "markdown",
   "metadata": {},
   "source": [
    "### Resposta - Código:"
   ]
  },
  {
   "cell_type": "code",
   "execution_count": 16,
   "metadata": {},
   "outputs": [
    {
     "name": "stdout",
     "output_type": "stream",
     "text": [
      "Monyque Gatinha teve as seguintes notas: 6 8 10 com média final 8.0\n"
     ]
    }
   ],
   "source": [
    "# Criando um novo dicionário \n",
    "aluno = {\n",
    "    \"Nome\": \"Monyque Gatinha\",\n",
    "    \"Nota 1\": 6,\n",
    "    \"Nota 2\": 8,\n",
    "    \"Nota 3\": 10\n",
    "}\n",
    "\n",
    "print(aluno[\"Nome\"], \"teve as seguintes notas:\",\n",
    "    aluno[\"Nota 1\"], aluno[\"Nota 2\"], aluno[\"Nota 3\"],\n",
    "    \"com média final\",\n",
    "    (aluno[\"Nota 1\"] + aluno[\"Nota 2\"] + aluno[\"Nota 3\"]) / 3\n",
    ")"
   ]
  },
  {
   "cell_type": "markdown",
   "metadata": {},
   "source": [
    "### Resposta - Explicação do código:"
   ]
  },
  {
   "cell_type": "markdown",
   "metadata": {},
   "source": [
    "Primeiro criei o dicionário aluno, com o nome do aluno e as respectivas notas, no print, temos as informações organizadas e calculo da nota média"
   ]
  },
  {
   "cell_type": "markdown",
   "metadata": {},
   "source": [
    "### <font color='blue'>Correto!</font>"
   ]
  },
  {
   "cell_type": "markdown",
   "metadata": {},
   "source": [
    "### Questão [B]:\n",
    "#### Faça um novo dicionário que não possua as notas uma a uma, mas apenas em uma chave “Notas”, com uma lista que agrupe todas as notas. Adapte o código para exibir as notas e média, sendo feito a partir da lista da chave “Notas”."
   ]
  },
  {
   "cell_type": "markdown",
   "metadata": {},
   "source": [
    "### Resposta - Código:"
   ]
  },
  {
   "cell_type": "code",
   "execution_count": 34,
   "metadata": {},
   "outputs": [
    {
     "name": "stdout",
     "output_type": "stream",
     "text": [
      "Sopinha teve as seguintes notas: [8, 9, 7, 10] com média final de 8.5\n"
     ]
    }
   ],
   "source": [
    "# Criando o dicionário \n",
    "notas = {\n",
    "    \"Aluno\": \"Sopinha\",\n",
    "    \"Notas\": [8, 9, 7, 10]\n",
    "}\n",
    "    \n",
    "print (\n",
    "    notas[\"Aluno\"], \"teve as seguintes notas:\", \n",
    "    notas[\"Notas\"], \n",
    "    \"com média final de\",\n",
    "    (notas[\"Notas\"][0] + notas[\"Notas\"][1] + notas[\"Notas\"][2] + notas[\"Notas\"][3]) / 4,\n",
    ")"
   ]
  },
  {
   "cell_type": "markdown",
   "metadata": {},
   "source": [
    "### Resposta - Explicação do código:"
   ]
  },
  {
   "cell_type": "markdown",
   "metadata": {},
   "source": [
    "Aqui eu somo cada item da lista \"Notas\", segundo sua respectiva posição, para calcular a média. "
   ]
  },
  {
   "cell_type": "markdown",
   "metadata": {},
   "source": [
    "### <font color='blue'>Correto!</font>"
   ]
  },
  {
   "cell_type": "markdown",
   "metadata": {},
   "source": [
    "## 10.2 Métodos de dicionários\n",
    "\n"
   ]
  },
  {
   "cell_type": "markdown",
   "metadata": {},
   "source": [
    "### Questão [A]:\n",
    "#### Defina um dicionário com pelo menos três chaves, pelo menos uma das chaves deve conter uma lista com pelo menos três elementos. [B] A partir do dicionário definido no item anterior, itere em um loop for, em todos os elementos da chave com uma lista, exibindo cada elemento. [C] Assim como feito em [B], itere em um loop for para todos elementos da chave com lista, desta vez crie um condicional que faça um testei, que caso seja verdadeiro um novo par chave-valor será inserido no dicionário.\n",
    "\n"
   ]
  },
  {
   "cell_type": "markdown",
   "metadata": {},
   "source": [
    "### Resposta - Código:"
   ]
  },
  {
   "cell_type": "code",
   "execution_count": 58,
   "metadata": {},
   "outputs": [
    {
     "name": "stdout",
     "output_type": "stream",
     "text": [
      "São Paulo\n",
      "Rio de Janeiro\n",
      "Recife\n",
      "Minas Gerais\n"
     ]
    }
   ],
   "source": [
    "CEP = {\n",
    "    \"Brasil\": [\"São Paulo\", \"Rio de Janeiro\", \"Recife\", \"Minas Gerais\"],\n",
    "    \"Reino Unido\": [\"Londres\", \"York\", \"Liverpool\"],\n",
    "    \"Colombia\": [\"Bogotá\"]\n",
    "}\n",
    "\n",
    "for i in CEP[\"Brasil\"]:\n",
    "    print (i)"
   ]
  },
  {
   "cell_type": "markdown",
   "metadata": {},
   "source": [
    "### Resposta - Explicação do código:"
   ]
  },
  {
   "cell_type": "markdown",
   "metadata": {},
   "source": [
    "O loop for printa item da lista, a partir do for i in CEP"
   ]
  },
  {
   "cell_type": "markdown",
   "metadata": {},
   "source": [
    "### <font color='blue'>Correto! Mas a explicação foi muito simplória.</font>"
   ]
  },
  {
   "cell_type": "markdown",
   "metadata": {},
   "source": [
    "## 10.3 Funções universais\n",
    "\n"
   ]
  },
  {
   "cell_type": "markdown",
   "metadata": {},
   "source": [
    "### Questão [A]:\n",
    "#### Com esse dicionário, escreva um código que itere entre cada aluno e cada key do aluno. Por exemplo, para o terceiro aluno seu código deverá exibir algo semelhante a isto:\n"
   ]
  },
  {
   "cell_type": "markdown",
   "metadata": {},
   "source": [
    "### Resposta - Código:"
   ]
  },
  {
   "cell_type": "code",
   "execution_count": 60,
   "metadata": {},
   "outputs": [],
   "source": [
    "alunos = {\n",
    "    1: {\n",
    "        \"Nome\": \"João da Silva Sauro\",\n",
    "        \"Notas\": [8.0, 8.5, 10.0],\n",
    "        \"Faltas\": 2,\n",
    "        \"Participação\": 8.0,\n",
    "        \"Trabalho Final\": 7.0,\n",
    "    },\n",
    "    2: {\n",
    "        \"Nome\": \"Maria das Graças\",\n",
    "        \"Notas\": [9.0, 9.5, 10.0],\n",
    "        \"Faltas\": 0,\n",
    "        \"Participação\": 9.0,\n",
    "        \"Trabalho Final\": 7.5,\n",
    "    },\n",
    "    3: {\n",
    "        \"Nome\": \"Cabra da Peste\",\n",
    "        \"Notas\": [9.5, 8.5, 9.0],\n",
    "        \"Faltas\": 4,\n",
    "        \"Participação\": 0.0,\n",
    "        \"Trabalho Final\": 8.0,\n",
    "    }\n",
    "}"
   ]
  },
  {
   "cell_type": "code",
   "execution_count": 71,
   "metadata": {},
   "outputs": [
    {
     "name": "stdout",
     "output_type": "stream",
     "text": [
      "Número do participante: 1\n",
      "Nome :  João da Silva Sauro\n",
      "\n",
      "Notas :  [8.0, 8.5, 10.0]\n",
      "\n",
      "Faltas :  2\n",
      "\n",
      "Participação :  8.0\n",
      "\n",
      "Trabalho Final :  7.0\n",
      "\n",
      "Número do participante: 2\n",
      "Nome :  Maria das Graças\n",
      "\n",
      "Notas :  [9.0, 9.5, 10.0]\n",
      "\n",
      "Faltas :  0\n",
      "\n",
      "Participação :  9.0\n",
      "\n",
      "Trabalho Final :  7.5\n",
      "\n",
      "Número do participante: 3\n",
      "Nome :  Cabra da Peste\n",
      "\n",
      "Notas :  [9.5, 8.5, 9.0]\n",
      "\n",
      "Faltas :  4\n",
      "\n",
      "Participação :  0.0\n",
      "\n",
      "Trabalho Final :  8.0\n",
      "\n"
     ]
    }
   ],
   "source": [
    "for i in alunos:\n",
    "    print(\"Número do participante:\", i)\n",
    "    for u in alunos[i]:\n",
    "        print(u,\": \", alunos[i][u])\n",
    "        print()"
   ]
  },
  {
   "cell_type": "markdown",
   "metadata": {},
   "source": [
    "### Resposta - Explicação do código:"
   ]
  },
  {
   "cell_type": "markdown",
   "metadata": {},
   "source": [
    "O primeiro laço for separa cada sub-biblioteca em i, o segundo laço é para cada elemento i e suas chaves, colocadas como u."
   ]
  },
  {
   "cell_type": "markdown",
   "metadata": {},
   "source": [
    "### <font color='blue'>Correto! Novamente, poderia ter explicado melhor, por exemplo, você não fala nada dos argumentos posicionais.</font>"
   ]
  },
  {
   "cell_type": "markdown",
   "metadata": {},
   "source": [
    "### Questão [B]:\n",
    "#### Escreve um código que calcule a média final de cada aluno, sendo composta de:\n",
    "#### NF=( (<Notas> + Trabalho Final)/2 ) + 0.15*Participação\n",
    "#### Note que <Notas> é a média da chave Notas. Além de exibir as médias finais, o código deve exibir se cada aluno está aprovado ou reprovado.\n"
   ]
  },
  {
   "cell_type": "markdown",
   "metadata": {},
   "source": [
    "### Resposta - Código:"
   ]
  },
  {
   "cell_type": "code",
   "execution_count": 78,
   "metadata": {},
   "outputs": [
    {
     "name": "stdout",
     "output_type": "stream",
     "text": [
      "João da Silva Sauro está aprovado\n",
      "Maria das Graças está aprovado\n",
      "Cabra da Peste está aprovado\n"
     ]
    }
   ],
   "source": [
    "for i in alunos:\n",
    "    nota_media = (alunos[i][\"Notas\"][0] + alunos[i][\"Notas\"][1] + alunos[i][\"Notas\"][2]) / 3 # Nota média de cada aluno\n",
    "    nota_final = ((nota_media + alunos[i][\"Trabalho Final\"]) / 2) + 0.15 * alunos[i][\"Participação\"] #Calculando as notas finais\n",
    "    \n",
    "    if nota_final >= 7:\n",
    "        print (alunos[i][\"Nome\"], \"está aprovado\")\n",
    "    else:\n",
    "        print (alunos[i][\"Nome\"], \"foi reprovado\")\n",
    "    "
   ]
  },
  {
   "cell_type": "markdown",
   "metadata": {},
   "source": [
    "### Resposta - Explicação do código:"
   ]
  },
  {
   "cell_type": "markdown",
   "metadata": {},
   "source": [
    "Para cada aluno no dicionario, foi calculado a nota média, com o mesmo método da 10.1.B, depois somado os demais críterios. Por fim, determinado o críterio de aprovação."
   ]
  },
  {
   "cell_type": "markdown",
   "metadata": {},
   "source": [
    "### <font color='blue'>Seu código não mostrou as médias, como pedido no exercício, apenas se o aluno foi aprovado ou não.</font>"
   ]
  },
  {
   "cell_type": "code",
   "execution_count": null,
   "metadata": {},
   "outputs": [],
   "source": []
  },
  {
   "cell_type": "markdown",
   "metadata": {},
   "source": [
    "## Playground\n",
    "\n"
   ]
  },
  {
   "cell_type": "code",
   "execution_count": 72,
   "metadata": {},
   "outputs": [
    {
     "name": "stdout",
     "output_type": "stream",
     "text": [
      "{'mercado': ['Miojo', 'Ovo', 'Orégano', 'Papel Higiênico'], 'padaria': ['Pão', 'Queijo', 'Presunto'], 'papelaria': ['Caderno', 'Caneta', 'Lápis']}\n",
      "['Miojo', 'Ovo', 'Orégano', 'Papel Higiênico']\n",
      "['Pão', 'Queijo', 'Presunto']\n",
      "['Caderno', 'Caneta', 'Lápis']\n"
     ]
    }
   ],
   "source": [
    "#Iniciamos a definição do dicionário\n",
    "dicionariodecompras = {\n",
    "  \"mercado\": [\"Miojo\", \"Ovo\", \"Orégano\", \"Papel Higiênico\"],    #Definimos a primeira chave do dicionário, com seu valor associado, que no caso é uma lista\n",
    "  \"padaria\": [\"Pão\", \"Queijo\", \"Presunto\"],         #Definimos a segunda chave e seu valor\n",
    "  \"papelaria\": [\"Caderno\", \"Caneta\", \"Lápis\"],          #Terceira chave e valor definidos\n",
    "}   # Término do dicionário\n",
    "\n",
    "#Imprimimos o dicionário todo\n",
    "print(dicionariodecompras)\n",
    "\n",
    "#Imprimimos apenas uma chave do dicionário\n",
    "print(dicionariodecompras['mercado'])\n",
    "print(dicionariodecompras['padaria'])\n",
    "print(dicionariodecompras['papelaria'])"
   ]
  },
  {
   "cell_type": "markdown",
   "metadata": {},
   "source": [
    "## Diário de bordo\n",
    "\n"
   ]
  },
  {
   "cell_type": "markdown",
   "metadata": {},
   "source": [
    "[Texto]\n",
    "\n"
   ]
  }
 ],
 "metadata": {
  "kernelspec": {
   "display_name": "Python 3 (ipykernel)",
   "language": "python",
   "name": "python3"
  },
  "language_info": {
   "codemirror_mode": {
    "name": "ipython",
    "version": 3
   },
   "file_extension": ".py",
   "mimetype": "text/x-python",
   "name": "python",
   "nbconvert_exporter": "python",
   "pygments_lexer": "ipython3",
   "version": "3.9.7"
  },
  "org": null
 },
 "nbformat": 4,
 "nbformat_minor": 4
}
