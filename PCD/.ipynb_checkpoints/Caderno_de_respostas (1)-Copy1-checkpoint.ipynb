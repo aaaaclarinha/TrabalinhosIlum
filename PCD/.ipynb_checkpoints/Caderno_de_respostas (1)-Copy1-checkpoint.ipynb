{
 "cells": [
  {
   "cell_type": "markdown",
   "id": "17b641bd-57c2-4c08-b8d3-e023fa0881a8",
   "metadata": {
    "tags": []
   },
   "source": [
    "# Capítulo 3\n",
    "\n",
    "Nome: Ana Clara Santos Brandão \n",
    "\n",
    "RM: 220069\n",
    "\n",
    "Data: 22/03/2022"
   ]
  },
  {
   "cell_type": "markdown",
   "id": "6c18d981-e08b-4510-b75c-0078124e66d7",
   "metadata": {
    "tags": []
   },
   "source": [
    "## Regras para o preenchimento do Caderno de Respostas\n",
    "\n",
    "+ __Leia com atenção as regras abaixo antes de iniciar suas práticas!__\n",
    "+ Preencha o número do capítulo, seu nome, seu RM e a data na primeira célula deste caderno de notas\n",
    "+ Crie uma célula de texto com cabeçalho nível 2 (isto é, usando duas hashtags ##) para cada seção referente ao capítulo deste caderno. Veja os exemplos abaixo\n",
    "+ Crie uma célula de texto com cabeçalho nível 3 (isto é, usando três hashtags ###) para cada prática\n",
    "+ Use quantas células de texto e código forem necessárias para cada prática. Não se esqueça de colocar a letra da prática\n",
    "+ Caso queira testar algum código qualquer, use a seção Playground que está no final do caderno. Ela não será considerada para sua nota\n",
    "+ Práticas que pedem que você escreva algo devem conter uma célula de texto onde você elabora sua resposta\n",
    "+ A última célula do caderno é o seu Diário de Bordo. Ele é muito importante para a avaliação da disciplina. Mais informações estão lá no final do caderno \n",
    "+ Não se esqueça de salvar periodicamente seu caderno de respostas\n",
    "+ Antes de enviar seu caderno de respostas, renomeie ele de forma que tenha seu nome, sobrenome e o número do capítulo. Por exemplo, o caderno de respostas do capítulo 3 da aluna Fulana de Tal o nome ficaria: Fulana_Tal_Capitulo_03"
   ]
  },
  {
   "cell_type": "markdown",
   "id": "542d310a-5964-4f09-883d-a4c6512467cd",
   "metadata": {
    "tags": []
   },
   "source": [
    "## Seção 3.1"
   ]
  },
  {
   "cell_type": "markdown",
   "id": "00b00819-9c54-4c27-be0a-d811a157ff13",
   "metadata": {
    "tags": []
   },
   "source": [
    "### Prática A"
   ]
  },
  {
   "cell_type": "code",
   "execution_count": 83,
   "id": "0309d0d3-aef6-4c58-8755-e6f402eb6451",
   "metadata": {
    "tags": []
   },
   "outputs": [
    {
     "name": "stdout",
     "output_type": "stream",
     "text": [
      "60120\n"
     ]
    }
   ],
   "source": [
    "print (16 * 3600 + 42 * 60)"
   ]
  },
  {
   "cell_type": "markdown",
   "id": "887c22b3-68d3-4818-8a77-cf2d19d96639",
   "metadata": {},
   "source": [
    "16 horas e 42 minutos correspondem à 60.120 segundos"
   ]
  },
  {
   "cell_type": "code",
   "execution_count": 84,
   "id": "196ba726-2004-47d0-a768-c5ebfb2e195a",
   "metadata": {},
   "outputs": [
    {
     "name": "stdout",
     "output_type": "stream",
     "text": [
      "11648000.0\n"
     ]
    }
   ],
   "source": [
    "print (72.8 * 1.6 * 100000)"
   ]
  },
  {
   "cell_type": "markdown",
   "id": "34c54362-4a7b-468d-9efa-8616ba6262b9",
   "metadata": {},
   "source": [
    "72.8 milhas correspondem à 11.648.000 cm"
   ]
  },
  {
   "cell_type": "code",
   "execution_count": 85,
   "id": "17fe015f-9c01-433e-8f6a-27c8bbcbb75d",
   "metadata": {},
   "outputs": [
    {
     "name": "stdout",
     "output_type": "stream",
     "text": [
      "193.74584165003327\n"
     ]
    }
   ],
   "source": [
    "print (11648000 / 60120)"
   ]
  },
  {
   "cell_type": "markdown",
   "id": "d35fbcd2-78e6-473c-af0f-369b8d15688c",
   "metadata": {},
   "source": [
    "193.745 cm/seg"
   ]
  },
  {
   "cell_type": "code",
   "execution_count": 86,
   "id": "3d968341-798c-4a42-80e7-649a47b4ea29",
   "metadata": {},
   "outputs": [
    {
     "name": "stdout",
     "output_type": "stream",
     "text": [
      "4007500000\n"
     ]
    }
   ],
   "source": [
    "print (40075 * 100000)"
   ]
  },
  {
   "cell_type": "markdown",
   "id": "3cbe6b40-42af-4ab8-a385-cba152ac9910",
   "metadata": {},
   "source": [
    "40.007.500.000 cm\n",
    "\n",
    "S = S0 + V *t "
   ]
  },
  {
   "cell_type": "code",
   "execution_count": 87,
   "id": "1be686be-7056-4ee3-95a9-d2677a97917c",
   "metadata": {},
   "outputs": [
    {
     "name": "stdout",
     "output_type": "stream",
     "text": [
      "206495.6515006839\n"
     ]
    }
   ],
   "source": [
    "print (40007500000 / 193745)"
   ]
  },
  {
   "cell_type": "markdown",
   "id": "14fbc10a-40d0-4966-9e67-9c18ad1c2c09",
   "metadata": {},
   "source": [
    "206.495 segundos "
   ]
  },
  {
   "cell_type": "markdown",
   "id": "0dc2ac3a-c5c3-4b32-815d-8e88fd96491d",
   "metadata": {},
   "source": [
    "### Prática B"
   ]
  },
  {
   "cell_type": "code",
   "execution_count": 88,
   "id": "6391fad3-f5a0-4150-a2f3-a551f573fa0a",
   "metadata": {},
   "outputs": [
    {
     "name": "stdout",
     "output_type": "stream",
     "text": [
      "2\n",
      "3\n",
      "10\n"
     ]
    }
   ],
   "source": [
    "print (5 // 2)\n",
    "print (13 // 4)\n",
    "print (53 // 5)"
   ]
  },
  {
   "cell_type": "markdown",
   "id": "179f00ef-b5d1-4e97-ae47-adabf89981ab",
   "metadata": {},
   "source": [
    "Este operador divide os números, mas exibe apenas resultados inteiros, excluindo casas decimais.\n"
   ]
  },
  {
   "cell_type": "code",
   "execution_count": 89,
   "id": "cf559400-4592-462a-b69f-5c9d430d97eb",
   "metadata": {},
   "outputs": [
    {
     "name": "stdout",
     "output_type": "stream",
     "text": [
      "2\n",
      "0\n",
      "2\n"
     ]
    }
   ],
   "source": [
    "print (53 % 17)\n",
    "print (10 % 5)\n",
    "print (8 % 3)"
   ]
  },
  {
   "cell_type": "markdown",
   "id": "ca5164f9-3466-425c-beec-9eeabc111ff0",
   "metadata": {},
   "source": [
    "O operador divide os valores e exibe o \"resto\", em caso de resultados reias, quando o resultado é inteiro, o resto é igual a 0"
   ]
  },
  {
   "cell_type": "markdown",
   "id": "bc27c4a9-ed08-4306-99a8-64cc53a1af71",
   "metadata": {},
   "source": [
    "### Prática C"
   ]
  },
  {
   "cell_type": "code",
   "execution_count": 90,
   "id": "39036a18-db1f-4c5f-a2c2-07a29e0fd50e",
   "metadata": {},
   "outputs": [
    {
     "name": "stdout",
     "output_type": "stream",
     "text": [
      "<class 'int'>\n",
      "<class 'float'>\n",
      "<class 'float'>\n",
      "<class 'complex'>\n",
      "<class 'complex'>\n"
     ]
    }
   ],
   "source": [
    "inteiro_mais_inteiro = 1 + 1\n",
    "print (type(inteiro_mais_inteiro))\n",
    "\n",
    "inteiro_mais_real = 1 + 1.5\n",
    "print (type(inteiro_mais_real))\n",
    "\n",
    "real_mais_real = 1.5 + 1.5\n",
    "print (type(real_mais_real))\n",
    "\n",
    "inteiro_mais_complexo = 10 + (1 - 2j)\n",
    "print (type(inteiro_mais_complexo))\n",
    "\n",
    "real_mais_complexo = 10.5 + (1 - 2j)\n",
    "print (type(real_mais_complexo))"
   ]
  },
  {
   "cell_type": "markdown",
   "id": "dc968f98-cec8-4212-893d-ac254e90001e",
   "metadata": {},
   "source": [
    "O programa apresentou o tipo de variável a que o resultado das operações pertencem."
   ]
  },
  {
   "cell_type": "markdown",
   "id": "7411a183-b796-4584-946e-8bf6dba7f0bb",
   "metadata": {},
   "source": [
    "### Prática D"
   ]
  },
  {
   "cell_type": "code",
   "execution_count": 91,
   "id": "37eae5c2-6163-49a1-8c06-c156b7410e31",
   "metadata": {},
   "outputs": [
    {
     "name": "stdout",
     "output_type": "stream",
     "text": [
      "<class 'float'>\n",
      "<class 'float'>\n",
      "<class 'float'>\n",
      "<class 'complex'>\n",
      "<class 'complex'>\n"
     ]
    }
   ],
   "source": [
    "inteiro_mais_inteiro = 1 / 1\n",
    "print (type(inteiro_mais_inteiro))\n",
    "\n",
    "inteiro_mais_real = 1 / 1.5\n",
    "print (type(inteiro_mais_real))\n",
    "\n",
    "real_mais_real = 1.5 / 1.5\n",
    "print (type(real_mais_real))\n",
    "\n",
    "inteiro_mais_complexo = 10 / (1 - 2j)\n",
    "print (type(inteiro_mais_complexo))\n",
    "\n",
    "real_mais_complexo = 10.5 / (1 - 2j)\n",
    "print (type(real_mais_complexo))"
   ]
  },
  {
   "cell_type": "markdown",
   "id": "428e4ad8-9357-409d-acf1-b1dba53a4a47",
   "metadata": {},
   "source": [
    "Nenhum resultado inusitado, pois é comum divisões resultarem em números reais."
   ]
  },
  {
   "cell_type": "markdown",
   "id": "1488b4e9-6bc4-4b42-90d6-28a07a666559",
   "metadata": {},
   "source": [
    "## Seção 3.2"
   ]
  },
  {
   "cell_type": "markdown",
   "id": "b629d656-8812-432d-a3eb-249c2cbf1791",
   "metadata": {},
   "source": [
    "### Prática A"
   ]
  },
  {
   "cell_type": "code",
   "execution_count": 92,
   "id": "c299e140-083d-43a4-8967-854df2daa131",
   "metadata": {},
   "outputs": [
    {
     "name": "stdout",
     "output_type": "stream",
     "text": [
      "True\n",
      "False\n",
      "False\n",
      "False\n",
      "False\n",
      "False\n",
      "False\n",
      "True\n"
     ]
    }
   ],
   "source": [
    "print(True and True)\n",
    "print(True and False)\n",
    "print(False and True)\n",
    "print(False and False)\n",
    "\n",
    "print(False and False and False)\n",
    "print(False and False and True)\n",
    "print(False and True and True)\n",
    "print(True and True and True)"
   ]
  },
  {
   "cell_type": "markdown",
   "id": "d83fd0ea-a956-47a1-8bd8-99b09c7ee773",
   "metadata": {},
   "source": [
    "O operador só retorna o valor True quando todos os valores são True, se tiver False na operação, o retorno também é falso."
   ]
  },
  {
   "cell_type": "markdown",
   "id": "90c4d3e0-8455-409e-b534-a31f18453cdf",
   "metadata": {
    "tags": []
   },
   "source": [
    "### Prática B"
   ]
  },
  {
   "cell_type": "code",
   "execution_count": 93,
   "id": "92f12b34-a88c-4efb-9c5b-8082742a8a4b",
   "metadata": {},
   "outputs": [
    {
     "name": "stdout",
     "output_type": "stream",
     "text": [
      "True\n",
      "True\n",
      "True\n",
      "False\n",
      "False\n",
      "True\n",
      "True\n",
      "True\n"
     ]
    }
   ],
   "source": [
    "print(True or True)\n",
    "print(True or False)\n",
    "print(False or True)\n",
    "print(False or False)\n",
    "\n",
    "print(False or False or False)\n",
    "print(False or False or True)\n",
    "print(False or True or True)\n",
    "print(True or True or True)"
   ]
  },
  {
   "cell_type": "markdown",
   "id": "c53045c8-8147-4e78-a1fe-96679ce6c588",
   "metadata": {},
   "source": [
    "Quando há uma quantidade equivalente ou maior de valores reais, o operador retorna True."
   ]
  },
  {
   "cell_type": "markdown",
   "id": "32bd5733-12ab-4b81-ba85-90e1b7b63f3b",
   "metadata": {},
   "source": [
    "### Prática C"
   ]
  },
  {
   "cell_type": "code",
   "execution_count": 94,
   "id": "a75db1c8-ef12-4473-ad77-4d313ad47c8a",
   "metadata": {},
   "outputs": [
    {
     "name": "stdout",
     "output_type": "stream",
     "text": [
      "False\n",
      "True\n"
     ]
    }
   ],
   "source": [
    "print(not True)\n",
    "print(not False)"
   ]
  },
  {
   "cell_type": "markdown",
   "id": "1265ff52-a0ea-4836-94e8-4b8d898e09a3",
   "metadata": {},
   "source": [
    "Aparentemente, ele inverte o valor das variáveis."
   ]
  },
  {
   "cell_type": "markdown",
   "id": "8a059825-25b9-447f-a7a6-abfed9717727",
   "metadata": {},
   "source": [
    "### Prática D"
   ]
  },
  {
   "cell_type": "code",
   "execution_count": 95,
   "id": "c39dd502-ace8-40ba-a314-d81323553ad9",
   "metadata": {},
   "outputs": [
    {
     "name": "stdout",
     "output_type": "stream",
     "text": [
      "2\n",
      "0\n",
      "1\n"
     ]
    }
   ],
   "source": [
    "print (True + True)\n",
    "print (False + False)\n",
    "print (True + False)"
   ]
  },
  {
   "cell_type": "markdown",
   "id": "74c1f095-74c8-4abe-8c61-13dcb28f104c",
   "metadata": {},
   "source": [
    "Supondo uma possível justificativa, o operador, por ser binario, reconhece True como o valor númerico 1 e False com o valor númerico 0."
   ]
  },
  {
   "cell_type": "markdown",
   "id": "231aa1a5-ebad-4229-a9b4-6f9c9468e897",
   "metadata": {},
   "source": [
    "## Seção 3.3"
   ]
  },
  {
   "cell_type": "markdown",
   "id": "19281375-c1d8-4aed-ad09-4aea4befbc47",
   "metadata": {},
   "source": [
    "### Prática A"
   ]
  },
  {
   "cell_type": "code",
   "execution_count": 96,
   "id": "3127d2be-027b-455c-85fc-ba92760a8fc3",
   "metadata": {},
   "outputs": [],
   "source": [
    "A = 1\n",
    "B = 2 \n",
    "C = 4\n",
    "D = 8 \n",
    "E = 16"
   ]
  },
  {
   "cell_type": "code",
   "execution_count": 97,
   "id": "8ba3965b-5bc5-4d96-abac-564a14e3685a",
   "metadata": {},
   "outputs": [
    {
     "data": {
      "text/plain": [
       "False"
      ]
     },
     "execution_count": 97,
     "metadata": {},
     "output_type": "execute_result"
    }
   ],
   "source": [
    "A == B"
   ]
  },
  {
   "cell_type": "code",
   "execution_count": 98,
   "id": "917ea91f-9b3e-40bc-b954-b75763f9b549",
   "metadata": {},
   "outputs": [
    {
     "data": {
      "text/plain": [
       "True"
      ]
     },
     "execution_count": 98,
     "metadata": {},
     "output_type": "execute_result"
    }
   ],
   "source": [
    "A < B"
   ]
  },
  {
   "cell_type": "code",
   "execution_count": 99,
   "id": "b787051e-97c1-48bd-a4c8-dd9fc8d072f8",
   "metadata": {},
   "outputs": [
    {
     "data": {
      "text/plain": [
       "False"
      ]
     },
     "execution_count": 99,
     "metadata": {},
     "output_type": "execute_result"
    }
   ],
   "source": [
    "B > C"
   ]
  },
  {
   "cell_type": "code",
   "execution_count": 100,
   "id": "80548ee6-03a1-49b4-9a4d-fe2455813d81",
   "metadata": {},
   "outputs": [
    {
     "data": {
      "text/plain": [
       "True"
      ]
     },
     "execution_count": 100,
     "metadata": {},
     "output_type": "execute_result"
    }
   ],
   "source": [
    "D <= E"
   ]
  },
  {
   "cell_type": "code",
   "execution_count": 101,
   "id": "5787ea10-aafb-45bc-97fa-237621563a60",
   "metadata": {},
   "outputs": [
    {
     "data": {
      "text/plain": [
       "True"
      ]
     },
     "execution_count": 101,
     "metadata": {},
     "output_type": "execute_result"
    }
   ],
   "source": [
    "A != E"
   ]
  },
  {
   "cell_type": "code",
   "execution_count": 102,
   "id": "adf51de3-6de9-4e1c-9d30-e84639829e57",
   "metadata": {},
   "outputs": [
    {
     "data": {
      "text/plain": [
       "True"
      ]
     },
     "execution_count": 102,
     "metadata": {},
     "output_type": "execute_result"
    }
   ],
   "source": [
    "E >= D >= C"
   ]
  },
  {
   "cell_type": "code",
   "execution_count": 103,
   "id": "16e12bac-9bcb-4403-905a-3f7e1076a47a",
   "metadata": {},
   "outputs": [
    {
     "data": {
      "text/plain": [
       "False"
      ]
     },
     "execution_count": 103,
     "metadata": {},
     "output_type": "execute_result"
    }
   ],
   "source": [
    "A < C == D"
   ]
  },
  {
   "cell_type": "code",
   "execution_count": 104,
   "id": "7462752e-6b59-4178-98e0-f83fd0879642",
   "metadata": {},
   "outputs": [
    {
     "data": {
      "text/plain": [
       "False"
      ]
     },
     "execution_count": 104,
     "metadata": {},
     "output_type": "execute_result"
    }
   ],
   "source": [
    "A + A != B"
   ]
  },
  {
   "cell_type": "code",
   "execution_count": 105,
   "id": "cd0bbccb-22c8-406a-92d8-5b76ee93c09c",
   "metadata": {},
   "outputs": [
    {
     "data": {
      "text/plain": [
       "False"
      ]
     },
     "execution_count": 105,
     "metadata": {},
     "output_type": "execute_result"
    }
   ],
   "source": [
    "A + A < B < C - B "
   ]
  },
  {
   "cell_type": "code",
   "execution_count": 106,
   "id": "79f8d873-bd5f-45fd-b975-36fd6180b2f4",
   "metadata": {},
   "outputs": [
    {
     "data": {
      "text/plain": [
       "True"
      ]
     },
     "execution_count": 106,
     "metadata": {},
     "output_type": "execute_result"
    }
   ],
   "source": [
    "A + A <= B <= C - B"
   ]
  },
  {
   "cell_type": "code",
   "execution_count": 107,
   "id": "d1c1b202-caf2-4cb4-9f32-2ccb78508337",
   "metadata": {},
   "outputs": [
    {
     "data": {
      "text/plain": [
       "True"
      ]
     },
     "execution_count": 107,
     "metadata": {},
     "output_type": "execute_result"
    }
   ],
   "source": [
    "A != B < C == E - D - C"
   ]
  },
  {
   "cell_type": "markdown",
   "id": "07db3ab1-c7cc-40f0-b41e-df83befeba77",
   "metadata": {},
   "source": [
    "É necessaria muita atenção quanto a leitura dos operadores."
   ]
  },
  {
   "cell_type": "markdown",
   "id": "93be04cc-cc24-412c-aa9d-8d3c62cb8d84",
   "metadata": {},
   "source": [
    "## Seção 3.4 "
   ]
  },
  {
   "cell_type": "markdown",
   "id": "111935e9-2fe3-4405-a1c4-9dd4dac7fdd1",
   "metadata": {},
   "source": [
    "### Prática B"
   ]
  },
  {
   "cell_type": "markdown",
   "id": "91477e00-3bf4-4016-93c0-6a72cf65d597",
   "metadata": {},
   "source": [
    "Levar blusa extra"
   ]
  },
  {
   "cell_type": "code",
   "execution_count": 108,
   "id": "c7a21500-052a-4591-8154-226d1ce8e679",
   "metadata": {},
   "outputs": [
    {
     "name": "stdout",
     "output_type": "stream",
     "text": [
      "Vou levar uma blusa\n",
      "Fim do programa\n"
     ]
    }
   ],
   "source": [
    "esta_frio = True\n",
    "ambiente_aquecido = False\n",
    "\n",
    "if esta_frio == True:\n",
    "    if ambiente_aquecido == False:\n",
    "        levar_blusa = True\n",
    "        print(\"Vou levar uma blusa\")\n",
    "    else:\n",
    "        levar_blusa = False\n",
    "        print(\"Não vou levar blusa\")\n",
    "else:\n",
    "    levar_blusa = False\n",
    "    print(\"Não vou levar blusa\")\n",
    "\n",
    "print(\"Fim do programa\")"
   ]
  },
  {
   "cell_type": "markdown",
   "id": "26a7104f-62e1-4acd-b06c-31e02467f39a",
   "metadata": {},
   "source": [
    "### Prática C"
   ]
  },
  {
   "cell_type": "code",
   "execution_count": 109,
   "id": "e21d38a4-c76f-40b7-879d-2ae68b9c5e73",
   "metadata": {},
   "outputs": [
    {
     "name": "stdout",
     "output_type": "stream",
     "text": [
      "Vou pegar o guarda-chuva\n",
      "Fim do programa\n"
     ]
    }
   ],
   "source": [
    "esta_chovendo = True\n",
    "final_de_semana = False\n",
    "\n",
    "if esta_chovendo == True:\n",
    "    if final_de_semana == False:\n",
    "        pegar_guardachuva = True\n",
    "        print(\"Vou pegar o guarda-chuva\")\n",
    "    else:\n",
    "        pegar_guardachuva = False\n",
    "        print(\"Não vou pegar o guarda-chuva\")\n",
    "else:\n",
    "    pegar_guardachuva = False\n",
    "    print(\"Não vou pegar o guarda-chuva\")\n",
    "\n",
    "print(\"Fim do programa\")"
   ]
  },
  {
   "cell_type": "markdown",
   "id": "6d26a248-9db6-4368-ae03-388e128b1ddd",
   "metadata": {},
   "source": [
    "### Prática D"
   ]
  },
  {
   "cell_type": "code",
   "execution_count": 110,
   "id": "4bd89a0e-e03d-45f3-a630-1c1357c25170",
   "metadata": {},
   "outputs": [
    {
     "name": "stdout",
     "output_type": "stream",
     "text": [
      "pH neutro\n"
     ]
    }
   ],
   "source": [
    "ph = 7\n",
    "\n",
    "if (ph < 0) or (ph > 14):\n",
    "    print(\"pH inválido\")\n",
    "\n",
    "if 0 <= ph < 6.5:\n",
    "    print(\"pH ácido\")\n",
    "\n",
    "if 6.5 <= ph <= 7.5:\n",
    "    print(\"pH neutro\")\n",
    "\n",
    "if 7.5 < ph <= 14:\n",
    "    print(\"pH básico\")"
   ]
  },
  {
   "cell_type": "markdown",
   "id": "509055ce-cb2c-4e38-b76a-1b3e9df4ea55",
   "metadata": {},
   "source": [
    "Uma alternativa seria usar o comando elif, como mostrado na Prática E."
   ]
  },
  {
   "cell_type": "markdown",
   "id": "97adb223-7c7d-4568-b271-476f3b86cc1d",
   "metadata": {},
   "source": [
    "### Prática F"
   ]
  },
  {
   "cell_type": "code",
   "execution_count": 111,
   "id": "b257b3fa-158f-4b41-a524-6b5bc8bf3353",
   "metadata": {},
   "outputs": [
    {
     "name": "stdout",
     "output_type": "stream",
     "text": [
      "Este número é par\n"
     ]
    }
   ],
   "source": [
    "numero = 7\n",
    "\n",
    "if numero / 2 != float:\n",
    "    print (\"Este número é par\")\n",
    "    \n",
    "elif numero / 2 == float:\n",
    "    print (\"Este número é impar\")"
   ]
  },
  {
   "cell_type": "markdown",
   "id": "16d61660-a456-431d-a73c-2b50aeadb970",
   "metadata": {},
   "source": [
    "Por alguma razão, o operador não está imprimindo o segundo comando, ou reconhecendo apenas o primeiro."
   ]
  },
  {
   "cell_type": "markdown",
   "id": "4d619d81-942d-4f27-8f3c-7f29dd6a2e4c",
   "metadata": {},
   "source": [
    "### Prática G"
   ]
  },
  {
   "cell_type": "markdown",
   "id": "97bb5b2d-956b-49f8-964a-1f79303007f5",
   "metadata": {},
   "source": [
    "## Playground"
   ]
  },
  {
   "cell_type": "code",
   "execution_count": null,
   "id": "7e22118d-1aff-44d5-bb7c-c41516b71f9e",
   "metadata": {},
   "outputs": [],
   "source": []
  },
  {
   "cell_type": "code",
   "execution_count": null,
   "id": "d3bf893d-6075-4f40-a2d9-8bf6065c4057",
   "metadata": {},
   "outputs": [],
   "source": []
  },
  {
   "cell_type": "markdown",
   "id": "8b4b6239-4d77-4c0d-bd5e-a67f3d84b580",
   "metadata": {},
   "source": [
    "## Diário de Bordo"
   ]
  },
  {
   "cell_type": "markdown",
   "id": "ad0fe6e2-c314-4c69-bcba-eca13bbe71d3",
   "metadata": {},
   "source": [
    "A última célula do seu caderno de notas é reservada para o Diário de Bordo. Este espaço serve para você refletir sobre a prática, avaliando as atividades que foram realizadas e refletindo sobre seu desempenho e aprendizado. O formato e o conteúdo do seu Diário de Bordo são livres. \n",
    "\n",
    "Se quiser, conte quais foram suas facilidades ou dificuldades para realizar a prática. Pode contar também sobre o que achou interessante ou desinteressante nesta prática. Fique à vontade para escrever sobre tópicos, textos ou vídeos que encontrou durante suas buscas para resolver as questões."
   ]
  },
  {
   "cell_type": "markdown",
   "id": "cc157b8a-a06d-4b50-9d50-26e5b931cc9b",
   "metadata": {},
   "source": []
  }
 ],
 "metadata": {
  "kernelspec": {
   "display_name": "Python 3 (ipykernel)",
   "language": "python",
   "name": "python3"
  },
  "language_info": {
   "codemirror_mode": {
    "name": "ipython",
    "version": 3
   },
   "file_extension": ".py",
   "mimetype": "text/x-python",
   "name": "python",
   "nbconvert_exporter": "python",
   "pygments_lexer": "ipython3",
   "version": "3.9.7"
  }
 },
 "nbformat": 4,
 "nbformat_minor": 5
}
