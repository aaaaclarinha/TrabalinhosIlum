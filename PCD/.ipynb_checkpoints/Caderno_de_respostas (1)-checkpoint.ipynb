{
 "cells": [
  {
   "cell_type": "markdown",
   "id": "17b641bd-57c2-4c08-b8d3-e023fa0881a8",
   "metadata": {
    "tags": []
   },
   "source": [
    "# Capítulo 2\n",
    "\n",
    "Nome: Ana Clara Santos Brandão\n",
    "\n",
    "RM: 220069\n",
    "\n",
    "Data: 15/03/2022"
   ]
  },
  {
   "cell_type": "markdown",
   "id": "6c18d981-e08b-4510-b75c-0078124e66d7",
   "metadata": {
    "tags": []
   },
   "source": [
    "## Regras para o preenchimento do Caderno de Respostas\n",
    "\n",
    "+ __Leia com atenção as regras abaixo antes de iniciar suas práticas!__\n",
    "+ Preencha o número do capítulo, seu nome, seu RM e a data na primeira célula deste caderno de notas\n",
    "+ Crie uma célula de texto com cabeçalho nível 2 (isto é, usando duas hashtags ##) para cada seção referente ao capítulo deste caderno. Veja os exemplos abaixo\n",
    "+ Crie uma célula de texto com cabeçalho nível 3 (isto é, usando três hashtags ###) para cada prática\n",
    "+ Use quantas células de texto e código forem necessárias para cada prática. Não se esqueça de colocar a letra da prática\n",
    "+ Caso queira testar algum código qualquer, use a seção Playground que está no final do caderno. Ela não será considerada para sua nota\n",
    "+ Práticas que pedem que você escreva algo devem conter uma célula de texto onde você elabora sua resposta\n",
    "+ A última célula do caderno é o seu Diário de Bordo. Ele é muito importante para a avaliação da disciplina. Mais informações estão lá no final do caderno \n",
    "+ Não se esqueça de salvar periodicamente seu caderno de respostas\n",
    "+ Antes de enviar seu caderno de respostas, renomeie ele de forma que tenha seu nome, sobrenome e o número do capítulo. Por exemplo, o caderno de respostas do capítulo 3 da aluna Fulana de Tal o nome ficaria: Fulana_Tal_Capitulo_03"
   ]
  },
  {
   "cell_type": "markdown",
   "id": "542d310a-5964-4f09-883d-a4c6512467cd",
   "metadata": {
    "tags": []
   },
   "source": [
    "## Seção 2.1"
   ]
  },
  {
   "cell_type": "markdown",
   "id": "00b00819-9c54-4c27-be0a-d811a157ff13",
   "metadata": {
    "tags": []
   },
   "source": [
    "### Prática A"
   ]
  },
  {
   "cell_type": "code",
   "execution_count": 13,
   "id": "03050cc8-4a24-4d6b-9db2-15a0e634e373",
   "metadata": {
    "tags": []
   },
   "outputs": [
    {
     "name": "stdout",
     "output_type": "stream",
     "text": [
      "Olá Mundo!\n"
     ]
    }
   ],
   "source": [
    "print (\"Olá Mundo!\")"
   ]
  },
  {
   "cell_type": "markdown",
   "id": "5f26ef24-b9bd-4e27-a14b-926f3f42b100",
   "metadata": {},
   "source": [
    "O comando **print** serve para exibir alguma infomação, já os parênteses e as aspss para isolar a informação a ser demonstrada. "
   ]
  },
  {
   "cell_type": "markdown",
   "id": "0dc2ac3a-c5c3-4b32-815d-8e88fd96491d",
   "metadata": {},
   "source": [
    "### Prática B"
   ]
  },
  {
   "cell_type": "code",
   "execution_count": 14,
   "id": "6391fad3-f5a0-4150-a2f3-a551f573fa0a",
   "metadata": {},
   "outputs": [
    {
     "ename": "SyntaxError",
     "evalue": "Missing parentheses in call to 'print'. Did you mean print(\"Olá Mundo!\")? (Temp/ipykernel_1308/2426621726.py, line 1)",
     "output_type": "error",
     "traceback": [
      "\u001b[1;36m  File \u001b[1;32m\"C:\\Users\\ANA220~1\\AppData\\Local\\Temp/ipykernel_1308/2426621726.py\"\u001b[1;36m, line \u001b[1;32m1\u001b[0m\n\u001b[1;33m    print \"Olá Mundo!\"\u001b[0m\n\u001b[1;37m          ^\u001b[0m\n\u001b[1;31mSyntaxError\u001b[0m\u001b[1;31m:\u001b[0m Missing parentheses in call to 'print'. Did you mean print(\"Olá Mundo!\")?\n"
     ]
    }
   ],
   "source": [
    "print \"Olá Mundo!\""
   ]
  },
  {
   "cell_type": "markdown",
   "id": "a568804e-c257-4152-8169-887ecae79c18",
   "metadata": {},
   "source": [
    "O programa não encontrou os parênteses, que servem para execuar a função, por isso interpretou como erro. Para solucinar o problema, basta isolar o texto \"Olá Mundo!\" com parênteses."
   ]
  },
  {
   "cell_type": "markdown",
   "id": "304964f6-f3c8-40dd-9239-8ba9462611b5",
   "metadata": {},
   "source": [
    "### Prática C"
   ]
  },
  {
   "cell_type": "code",
   "execution_count": 18,
   "id": "0bdc85bb-519c-4ec8-aa79-4e3b854a9094",
   "metadata": {},
   "outputs": [
    {
     "ename": "SyntaxError",
     "evalue": "invalid syntax (Temp/ipykernel_1308/2522336198.py, line 1)",
     "output_type": "error",
     "traceback": [
      "\u001b[1;36m  File \u001b[1;32m\"C:\\Users\\ANA220~1\\AppData\\Local\\Temp/ipykernel_1308/2522336198.py\"\u001b[1;36m, line \u001b[1;32m1\u001b[0m\n\u001b[1;33m    print (Olá Mundo!)\u001b[0m\n\u001b[1;37m               ^\u001b[0m\n\u001b[1;31mSyntaxError\u001b[0m\u001b[1;31m:\u001b[0m invalid syntax\n"
     ]
    }
   ],
   "source": [
    "print (Olá Mundo!)"
   ]
  },
  {
   "cell_type": "markdown",
   "id": "28cae586-ce32-4d9c-9d24-dcb8469ffd2f",
   "metadata": {},
   "source": [
    "O programa identificou um erro de sintaxe, ou seja, um erro na formatação textual. Para solucionar basta adicionar as aspas ao texto. "
   ]
  },
  {
   "cell_type": "markdown",
   "id": "76f95213-3bba-439a-9d9e-abaa1fc39f56",
   "metadata": {},
   "source": [
    "### Prática D"
   ]
  },
  {
   "cell_type": "code",
   "execution_count": 15,
   "id": "2aae1382-4ce2-4786-8c25-6e9fd515ca1a",
   "metadata": {},
   "outputs": [
    {
     "name": "stdout",
     "output_type": "stream",
     "text": [
      "Ana Clara Santos Brandão\n"
     ]
    }
   ],
   "source": [
    "print (\"Ana Clara Santos Brandão\")"
   ]
  },
  {
   "cell_type": "code",
   "execution_count": 16,
   "id": "6999680d-6f39-4b6f-9c9d-19f054ff9a87",
   "metadata": {},
   "outputs": [
    {
     "name": "stdout",
     "output_type": "stream",
     "text": [
      "15 de março de 2022\n"
     ]
    }
   ],
   "source": [
    "print (\"15 de março de 2022\")"
   ]
  },
  {
   "cell_type": "code",
   "execution_count": 17,
   "id": "9527df75-471d-4e10-abe5-02dc86a08be1",
   "metadata": {},
   "outputs": [
    {
     "name": "stdout",
     "output_type": "stream",
     "text": [
      "Tudo no universo é um pato ou não é um pato.\n"
     ]
    }
   ],
   "source": [
    "print (\"Tudo no universo é um pato ou não é um pato.\")"
   ]
  },
  {
   "cell_type": "markdown",
   "id": "dc968f98-cec8-4212-893d-ac254e90001e",
   "metadata": {},
   "source": [
    "## Seção 2.2"
   ]
  },
  {
   "cell_type": "markdown",
   "id": "428e4ad8-9357-409d-acf1-b1dba53a4a47",
   "metadata": {},
   "source": [
    "### Prática A"
   ]
  },
  {
   "cell_type": "code",
   "execution_count": 19,
   "id": "f058923f-ffdb-4269-8966-85db96480efd",
   "metadata": {},
   "outputs": [
    {
     "name": "stdout",
     "output_type": "stream",
     "text": [
      "Olá Mundo!\n"
     ]
    }
   ],
   "source": [
    "frase = \"Olá Mundo!\"\n",
    "print (frase)"
   ]
  },
  {
   "cell_type": "markdown",
   "id": "491cb7dd-fe01-4fd2-90fa-fd672049c395",
   "metadata": {},
   "source": [
    "Na primeira linha, foi declarada uma variável, e na segunda a função print está lendo essa variável."
   ]
  },
  {
   "cell_type": "markdown",
   "id": "b629d656-8812-432d-a3eb-249c2cbf1791",
   "metadata": {},
   "source": [
    "### Prática B"
   ]
  },
  {
   "cell_type": "code",
   "execution_count": 23,
   "id": "c299e140-083d-43a4-8967-854df2daa131",
   "metadata": {},
   "outputs": [
    {
     "name": "stdout",
     "output_type": "stream",
     "text": [
      "eu espero que ele te compre flores\n"
     ]
    }
   ],
   "source": [
    "texto_com_aspas_simples = 'eu espero que ele te compre flores'\n",
    "print (texto_com_aspas_simples)"
   ]
  },
  {
   "cell_type": "code",
   "execution_count": 24,
   "id": "a25a85f5-3d13-40b9-bbdd-1278aa85b2c5",
   "metadata": {},
   "outputs": [
    {
     "name": "stdout",
     "output_type": "stream",
     "text": [
      "espero que ele segure sua mão\n"
     ]
    }
   ],
   "source": [
    "texto_com_aspas_duplas = \"espero que ele segure sua mão\"\n",
    "print (texto_com_aspas_duplas)"
   ]
  },
  {
   "cell_type": "code",
   "execution_count": 26,
   "id": "64dbd797-dd7b-4072-a88a-62a2727ed416",
   "metadata": {},
   "outputs": [
    {
     "name": "stdout",
     "output_type": "stream",
     "text": [
      "te dê todas as suas horas, enquanto ele tem chances\n"
     ]
    }
   ],
   "source": [
    "texto_com_tres_aspas_simples = '''te dê todas as suas horas, enquanto ele tem chances'''\n",
    "print (texto_com_tres_aspas_simples)"
   ]
  },
  {
   "cell_type": "code",
   "execution_count": 27,
   "id": "a9f54cb3-a980-41a3-86a5-2c2a8d7ce680",
   "metadata": {},
   "outputs": [
    {
     "name": "stdout",
     "output_type": "stream",
     "text": [
      "te leve à todas as festa, porque eu me lembro do quanto você ama dançar\n"
     ]
    }
   ],
   "source": [
    "texto_com_tres_aspas_duplas = \"\"\"te leve à todas as festa, porque eu me lembro do quanto você ama dançar\"\"\"\n",
    "print (texto_com_tres_aspas_duplas)"
   ]
  },
  {
   "cell_type": "markdown",
   "id": "2953a28a-6d0f-4454-aead-03d47adf4407",
   "metadata": {},
   "source": [
    "### Prática C"
   ]
  },
  {
   "cell_type": "code",
   "execution_count": 28,
   "id": "99eb88ee-478f-4393-9549-9c2027914a3e",
   "metadata": {},
   "outputs": [],
   "source": [
    "numero_inteiro = 10\n",
    "numero_inteiro_positivo = +10\n",
    "numero_inteiro_negativo = -10\n",
    "\n",
    "numero_real = 10.0\n",
    "numero_real_sem_digito_depois_do_ponto = 10.\n",
    "numero_real_positivo = +10.0000\n",
    "numero_real_negativo = -10.0000\n",
    "numero_real_base_dez = 1.5e7\n",
    "pi = 3.1415\n",
    "\n",
    "numero_complexo = 2 + 3j\n",
    "numero_complexo_apenas_parte_imaginaria = 5j\n",
    "numero_complexo_apenas_parte_real = 1 + 0j"
   ]
  },
  {
   "cell_type": "code",
   "execution_count": 31,
   "id": "88dcd49a-fa18-4a61-a2c4-f9ad40e1976e",
   "metadata": {},
   "outputs": [
    {
     "name": "stdout",
     "output_type": "stream",
     "text": [
      "<class 'int'>\n",
      "<class 'int'>\n",
      "<class 'int'>\n",
      "<class 'float'>\n",
      "<class 'float'>\n",
      "<class 'float'>\n",
      "<class 'float'>\n",
      "<class 'float'>\n",
      "<class 'float'>\n",
      "<class 'complex'>\n",
      "<class 'complex'>\n",
      "<class 'complex'>\n"
     ]
    }
   ],
   "source": [
    "print (type(numero_inteiro))\n",
    "print (type(numero_inteiro_positivo))\n",
    "print (type(numero_inteiro_negativo))\n",
    "print (type(numero_real))\n",
    "print (type(numero_real_sem_digito_depois_do_ponto))\n",
    "print (type(numero_real_positivo))\n",
    "print (type(numero_real_negativo))\n",
    "print (type(numero_real_base_dez))\n",
    "print (type(pi))\n",
    "print (type(numero_complexo))\n",
    "print (type(numero_complexo_apenas_parte_imaginaria))\n",
    "print (type(numero_complexo_apenas_parte_real))"
   ]
  },
  {
   "cell_type": "markdown",
   "id": "1d50668f-8928-483f-a4fe-7f31963ff7dd",
   "metadata": {},
   "source": [
    "Foram identificadas três tipos diferentes de variáveis; int, float e complex. Sim, pois assim podemos especificar as variáveis para cada tipo de função."
   ]
  },
  {
   "cell_type": "markdown",
   "id": "5325c456-f55b-4631-a2db-e04f53e227fd",
   "metadata": {},
   "source": [
    "### Prática D"
   ]
  },
  {
   "cell_type": "markdown",
   "id": "b5ac7b16-a678-49a6-8287-fdce2179978c",
   "metadata": {},
   "source": [
    "1. Na prática, as duas são equivalentes, mas segundo o Documento do Python, usa-se aspas duplas quando a string tiver aspas em sua estrutura;\n",
    "2. Números reais possuem casas decimais, ao contrário dos números inteiros. Um parametro de difenciação, na linguagem Python, é a presença do ponto;\n",
    "3. Usar a lei dos números complexos, com o j representando a parte imaginaria;\n",
    "4. Sim. A variável numero_inteiro contempla também os números menores que 0, diferente da numero_inteiro_positivo;\n",
    "5. Sim. Assim como na questão anterior, a variável numero_real contempla números positivos e negativos e, apesar de pequeno, este detalhe pode influenciar amplamente a resposta da função. Quanto à numero_real_sem_digito_depois_do_ponto pode indicar que exitem casas decimais naquele número, porém elas não estão representadas na variável. A confirmação viria usando diferentes tipos de funções e observar o resultado com cada variável."
   ]
  },
  {
   "cell_type": "markdown",
   "id": "25b4cfcc-16ee-49df-978f-e6e4a750f872",
   "metadata": {},
   "source": [
    "### Prática E"
   ]
  },
  {
   "cell_type": "code",
   "execution_count": 40,
   "id": "378883a6-3fa1-47d4-bf7e-975224fd7f19",
   "metadata": {},
   "outputs": [
    {
     "name": "stdout",
     "output_type": "stream",
     "text": [
      "1\n"
     ]
    }
   ],
   "source": [
    "variavel_que_o_nome_termina_com_numero_100 = 1\n",
    "print (variavel_que_o_nome_termina_com_numero_100)\n"
   ]
  },
  {
   "cell_type": "code",
   "execution_count": 43,
   "id": "1e3c57c8-254c-4066-b76e-2e1fecdf7740",
   "metadata": {},
   "outputs": [
    {
     "ename": "SyntaxError",
     "evalue": "invalid decimal literal (Temp/ipykernel_1308/509838621.py, line 1)",
     "output_type": "error",
     "traceback": [
      "\u001b[1;36m  File \u001b[1;32m\"C:\\Users\\ANA220~1\\AppData\\Local\\Temp/ipykernel_1308/509838621.py\"\u001b[1;36m, line \u001b[1;32m1\u001b[0m\n\u001b[1;33m    100_variavel_que_o_nome_comeca_com_numero = 1\u001b[0m\n\u001b[1;37m       ^\u001b[0m\n\u001b[1;31mSyntaxError\u001b[0m\u001b[1;31m:\u001b[0m invalid decimal literal\n"
     ]
    }
   ],
   "source": [
    "100_variavel_que_o_nome_comeca_com_numero = 1\n",
    "print (100_variavel_que_o_nome_comeca_com_numero)"
   ]
  },
  {
   "cell_type": "markdown",
   "id": "f2a6a4d9-9932-4baa-89e4-6eec623167b7",
   "metadata": {},
   "source": [
    "Erro: o nome da variável não deve começar com número"
   ]
  },
  {
   "cell_type": "code",
   "execution_count": 42,
   "id": "d3885aac-699d-4a2f-a309-47ffe9133b7e",
   "metadata": {},
   "outputs": [
    {
     "ename": "SyntaxError",
     "evalue": "leading zeros in decimal integer literals are not permitted; use an 0o prefix for octal integers (Temp/ipykernel_1308/317218192.py, line 1)",
     "output_type": "error",
     "traceback": [
      "\u001b[1;36m  File \u001b[1;32m\"C:\\Users\\ANA220~1\\AppData\\Local\\Temp/ipykernel_1308/317218192.py\"\u001b[1;36m, line \u001b[1;32m1\u001b[0m\n\u001b[1;33m    numero_do_agente_secreto = 007\u001b[0m\n\u001b[1;37m                                 ^\u001b[0m\n\u001b[1;31mSyntaxError\u001b[0m\u001b[1;31m:\u001b[0m leading zeros in decimal integer literals are not permitted; use an 0o prefix for octal integers\n"
     ]
    }
   ],
   "source": [
    "numero_do_agente_secreto = 007\n",
    "print (numero_do_agente_secreto)"
   ]
  },
  {
   "cell_type": "markdown",
   "id": "3e1a0b80-dcb9-4509-be8d-501403e5b8ec",
   "metadata": {},
   "source": [
    "Erro: não é permitido usar 0 no inicio de variáveis inteiras, o ideal seria usar o préfixo 0o, para um número octal integral."
   ]
  },
  {
   "cell_type": "code",
   "execution_count": 45,
   "id": "7eb5705c-0e99-4b81-9e72-dedb92bb2876",
   "metadata": {},
   "outputs": [],
   "source": [
    "nome_da_variável_com_acento = True"
   ]
  },
  {
   "cell_type": "code",
   "execution_count": 46,
   "id": "d8ab10b6-3d92-425f-8a26-b8302ecbd235",
   "metadata": {},
   "outputs": [
    {
     "ename": "SyntaxError",
     "evalue": "invalid syntax (Temp/ipykernel_1308/1218733531.py, line 1)",
     "output_type": "error",
     "traceback": [
      "\u001b[1;36m  File \u001b[1;32m\"C:\\Users\\ANA220~1\\AppData\\Local\\Temp/ipykernel_1308/1218733531.py\"\u001b[1;36m, line \u001b[1;32m1\u001b[0m\n\u001b[1;33m    nome da variavel com espaco = True\u001b[0m\n\u001b[1;37m         ^\u001b[0m\n\u001b[1;31mSyntaxError\u001b[0m\u001b[1;31m:\u001b[0m invalid syntax\n"
     ]
    }
   ],
   "source": [
    "nome da variavel com espaco = True"
   ]
  },
  {
   "cell_type": "markdown",
   "id": "4c8282b7-41a0-4cab-8bd0-febd59d0aa22",
   "metadata": {},
   "source": [
    "Erro: o nome da variável deve ser separado com sublinhado."
   ]
  },
  {
   "cell_type": "code",
   "execution_count": 47,
   "id": "2180b18f-3804-4dc2-8005-6156bf96c511",
   "metadata": {},
   "outputs": [
    {
     "ename": "NameError",
     "evalue": "name 'true' is not defined",
     "output_type": "error",
     "traceback": [
      "\u001b[1;31m---------------------------------------------------------------------------\u001b[0m",
      "\u001b[1;31mNameError\u001b[0m                                 Traceback (most recent call last)",
      "\u001b[1;32mC:\\Users\\ANA220~1\\AppData\\Local\\Temp/ipykernel_1308/1460694834.py\u001b[0m in \u001b[0;36m<module>\u001b[1;34m\u001b[0m\n\u001b[1;32m----> 1\u001b[1;33m \u001b[0mbooleano_sem_a_primeira_letra_maiuscula\u001b[0m \u001b[1;33m=\u001b[0m \u001b[0mtrue\u001b[0m\u001b[1;33m\u001b[0m\u001b[1;33m\u001b[0m\u001b[0m\n\u001b[0m",
      "\u001b[1;31mNameError\u001b[0m: name 'true' is not defined"
     ]
    }
   ],
   "source": [
    "booleano_sem_a_primeira_letra_maiuscula = true"
   ]
  },
  {
   "cell_type": "markdown",
   "id": "17ca230b-3399-408f-bbbc-ab7b4428502e",
   "metadata": {},
   "source": [
    "Erro: a variável é considerada inválida quando escrita com inicial minúscula."
   ]
  },
  {
   "cell_type": "code",
   "execution_count": 48,
   "id": "902ce358-59d1-4d27-bdce-0823de5eb5d7",
   "metadata": {},
   "outputs": [],
   "source": [
    "numeros_com_muitos_sinais_de_menos = -----10"
   ]
  },
  {
   "cell_type": "code",
   "execution_count": 49,
   "id": "60591834-8224-48f5-89e4-b42a79277502",
   "metadata": {},
   "outputs": [],
   "source": [
    "numeros_com_muitos_sinais_de_mais = +++++10"
   ]
  },
  {
   "cell_type": "code",
   "execution_count": 50,
   "id": "d72f47f0-3c19-4296-8e21-2088729a253c",
   "metadata": {},
   "outputs": [],
   "source": [
    "numeros_com_sinais_de_mais_e_menos = +--++-10"
   ]
  },
  {
   "cell_type": "code",
   "execution_count": 51,
   "id": "cd808b36-2f79-4bc9-bed9-183d897df282",
   "metadata": {},
   "outputs": [
    {
     "ename": "SyntaxError",
     "evalue": "invalid syntax (Temp/ipykernel_1308/887107177.py, line 1)",
     "output_type": "error",
     "traceback": [
      "\u001b[1;36m  File \u001b[1;32m\"C:\\Users\\ANA220~1\\AppData\\Local\\Temp/ipykernel_1308/887107177.py\"\u001b[1;36m, line \u001b[1;32m1\u001b[0m\n\u001b[1;33m    espaco_entre_os_numeros = 100 000\u001b[0m\n\u001b[1;37m                                  ^\u001b[0m\n\u001b[1;31mSyntaxError\u001b[0m\u001b[1;31m:\u001b[0m invalid syntax\n"
     ]
    }
   ],
   "source": [
    "espaco_entre_os_numeros = 100 000"
   ]
  },
  {
   "cell_type": "markdown",
   "id": "067c247f-cff9-4979-b62f-2d3ad109e68b",
   "metadata": {},
   "source": [
    "Erro: a sintaxe é inválida, os números devem ser escritos juntos."
   ]
  },
  {
   "cell_type": "code",
   "execution_count": 53,
   "id": "d7531aa2-d6fe-4faa-b2c3-a076a949b9af",
   "metadata": {},
   "outputs": [],
   "source": [
    "numero_com_sublinhado = 10_000_000"
   ]
  },
  {
   "cell_type": "code",
   "execution_count": 54,
   "id": "81fe8b64-3f15-465b-aeb0-fd9c938bad70",
   "metadata": {},
   "outputs": [],
   "source": [
    "muitos_espacos_entre_o_sinal_de_igual    =    10"
   ]
  },
  {
   "cell_type": "code",
   "execution_count": 55,
   "id": "742839e3-d622-4a1d-90b6-d50828314cc1",
   "metadata": {},
   "outputs": [],
   "source": [
    "nenhum_espaco_entre_o_sinal_de_igual=10"
   ]
  },
  {
   "cell_type": "code",
   "execution_count": 56,
   "id": "1d261059-fb57-4995-9411-a83aeeb541d6",
   "metadata": {},
   "outputs": [
    {
     "ename": "SyntaxError",
     "evalue": "invalid syntax (Temp/ipykernel_1308/3805915530.py, line 1)",
     "output_type": "error",
     "traceback": [
      "\u001b[1;36m  File \u001b[1;32m\"C:\\Users\\ANA220~1\\AppData\\Local\\Temp/ipykernel_1308/3805915530.py\"\u001b[1;36m, line \u001b[1;32m1\u001b[0m\n\u001b[1;33m    texto = Olá Mundo!\u001b[0m\n\u001b[1;37m                ^\u001b[0m\n\u001b[1;31mSyntaxError\u001b[0m\u001b[1;31m:\u001b[0m invalid syntax\n"
     ]
    }
   ],
   "source": [
    "texto = Olá Mundo!"
   ]
  },
  {
   "cell_type": "markdown",
   "id": "33768705-e8ce-4883-b29b-a455b8c01566",
   "metadata": {},
   "source": [
    "Erro: falta as aspas para declarar uma variável string."
   ]
  },
  {
   "cell_type": "code",
   "execution_count": 57,
   "id": "dee4ca89-9af2-4419-a947-71e587a27081",
   "metadata": {},
   "outputs": [
    {
     "ename": "SyntaxError",
     "evalue": "EOL while scanning string literal (Temp/ipykernel_1308/2863495142.py, line 1)",
     "output_type": "error",
     "traceback": [
      "\u001b[1;36m  File \u001b[1;32m\"C:\\Users\\ANA220~1\\AppData\\Local\\Temp/ipykernel_1308/2863495142.py\"\u001b[1;36m, line \u001b[1;32m1\u001b[0m\n\u001b[1;33m    texto = \"Olá Mundo!'\u001b[0m\n\u001b[1;37m                        ^\u001b[0m\n\u001b[1;31mSyntaxError\u001b[0m\u001b[1;31m:\u001b[0m EOL while scanning string literal\n"
     ]
    }
   ],
   "source": [
    "texto = \"Olá Mundo!'"
   ]
  },
  {
   "cell_type": "markdown",
   "id": "c5ac70af-d39a-4610-829a-212bfaaecd18",
   "metadata": {},
   "source": [
    "Erro: a sintaxe está errada, quando se usa aspas diferentes no inícil e final da variável."
   ]
  },
  {
   "cell_type": "markdown",
   "id": "05f583b7-a82d-4ada-965f-1710add12b29",
   "metadata": {},
   "source": [
    "### Prática F"
   ]
  },
  {
   "cell_type": "code",
   "execution_count": 59,
   "id": "477a6c02-cb83-441c-9a42-e62803b80de2",
   "metadata": {},
   "outputs": [
    {
     "name": "stdout",
     "output_type": "stream",
     "text": [
      "clara.ana\n"
     ]
    }
   ],
   "source": [
    "texto = \"clarinhalinda\"\n",
    "texto = \"clara.ana\"\n",
    "print (texto)"
   ]
  },
  {
   "cell_type": "markdown",
   "id": "3be22f56-daa9-44e7-9f50-0df403e7ee5b",
   "metadata": {},
   "source": [
    "Apenas a última variável foi lida"
   ]
  },
  {
   "cell_type": "markdown",
   "id": "6d506b81-c276-4211-abce-f55c97b5150f",
   "metadata": {},
   "source": [
    "## Seção 2.3"
   ]
  },
  {
   "cell_type": "markdown",
   "id": "ae340278-e1b5-4b3f-8183-5987c2718b45",
   "metadata": {},
   "source": [
    "### Prática A"
   ]
  },
  {
   "cell_type": "markdown",
   "id": "37a8c9a9-9953-4e19-a20a-f2b78f6e14ec",
   "metadata": {},
   "source": [
    "### Prática B"
   ]
  },
  {
   "cell_type": "markdown",
   "id": "97bb5b2d-956b-49f8-964a-1f79303007f5",
   "metadata": {},
   "source": [
    "## Playground"
   ]
  },
  {
   "cell_type": "code",
   "execution_count": null,
   "id": "d3bf893d-6075-4f40-a2d9-8bf6065c4057",
   "metadata": {},
   "outputs": [],
   "source": []
  },
  {
   "cell_type": "markdown",
   "id": "8b4b6239-4d77-4c0d-bd5e-a67f3d84b580",
   "metadata": {},
   "source": [
    "## Diário de Bordo"
   ]
  },
  {
   "cell_type": "markdown",
   "id": "ad0fe6e2-c314-4c69-bcba-eca13bbe71d3",
   "metadata": {},
   "source": [
    "A última célula do seu caderno de notas é reservada para o Diário de Bordo. Este espaço serve para você refletir sobre a prática, avaliando as atividades que foram realizadas e refletindo sobre seu desempenho e aprendizado. O formato e o conteúdo do seu Diário de Bordo são livres. \n",
    "\n",
    "Se quiser, conte quais foram suas facilidades ou dificuldades para realizar a prática. Pode contar também sobre o que achou interessante ou desinteressante nesta prática. Fique à vontade para escrever sobre tópicos, textos ou vídeos que encontrou durante suas buscas para resolver as questões."
   ]
  },
  {
   "cell_type": "markdown",
   "id": "cc157b8a-a06d-4b50-9d50-26e5b931cc9b",
   "metadata": {},
   "source": []
  }
 ],
 "metadata": {
  "kernelspec": {
   "display_name": "Python 3 (ipykernel)",
   "language": "python",
   "name": "python3"
  },
  "language_info": {
   "codemirror_mode": {
    "name": "ipython",
    "version": 3
   },
   "file_extension": ".py",
   "mimetype": "text/x-python",
   "name": "python",
   "nbconvert_exporter": "python",
   "pygments_lexer": "ipython3",
   "version": "3.9.7"
  }
 },
 "nbformat": 4,
 "nbformat_minor": 5
}
