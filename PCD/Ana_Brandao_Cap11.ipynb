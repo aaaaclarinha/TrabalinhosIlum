{
 "cells": [
  {
   "cell_type": "markdown",
   "metadata": {},
   "source": [
    "Capítulo 11\n",
    "===========\n",
    "\n"
   ]
  },
  {
   "cell_type": "markdown",
   "metadata": {},
   "source": [
    "**Nome**: Ana Clara Santos Brandão \n",
    "\n",
    "**RM**: 220069\n",
    "\n",
    "**Data**: 24/05/2022\n",
    "\n"
   ]
  },
  {
   "cell_type": "markdown",
   "metadata": {},
   "source": [
    "## 11.1 Agrupando caracteres com strings\n",
    "\n"
   ]
  },
  {
   "cell_type": "code",
   "execution_count": 1,
   "metadata": {
    "collapsed": true,
    "jupyter": {
     "outputs_hidden": true,
     "source_hidden": true
    },
    "tags": []
   },
   "outputs": [
    {
     "name": "stdout",
     "output_type": "stream",
     "text": [
      "Penny! Penny! Penny! \n",
      "completo\n"
     ]
    }
   ],
   "source": [
    "nome = \"Penny! \"\n",
    "chamando_penny = nome * 3\n",
    "print(chamando_penny)\n",
    "\n",
    "metade1 = \"comp\"\n",
    "metade2 = \"leto\"\n",
    "palavra = metade1 + metade2\n",
    "print(palavra)"
   ]
  },
  {
   "cell_type": "markdown",
   "metadata": {},
   "source": [
    "### Questão [A]\n",
    "\n"
   ]
  },
  {
   "cell_type": "markdown",
   "metadata": {},
   "source": [
    "Faça uma função que recebe uma string qualquer e retorna um dicionário. As chaves do dicionário de retorno são caracteres e os valores são a quantidade de vezes que estes caracteres aparecem na string de entrada.\n",
    "\n"
   ]
  },
  {
   "cell_type": "code",
   "execution_count": 118,
   "metadata": {},
   "outputs": [
    {
     "name": "stdout",
     "output_type": "stream",
     "text": [
      "{'c': 2, 'u': 2, 'm': 1, 'b': 1, 'a': 1}\n",
      "{'a': 6}\n",
      "{'a': 1, 'b': 3, 'u': 3, 'l': 3, 'e': 3}\n"
     ]
    }
   ],
   "source": [
    "tigela = \"cumbuca\"\n",
    "surto = \"aaaaaa\"\n",
    "c = \"abulebulebule\"\n",
    "\n",
    "def tlalala(texto):\n",
    "    \n",
    "    dic = {} # dicionário vazio para amarzenar as minhas infomações     \n",
    " \n",
    "    # determinar quantas vezes cada letra aparece\n",
    "    for x in texto:\n",
    "        l_repetidas = 0 # atribui um valor para cada letra\n",
    "        \n",
    "        # comparar os elemento com cada letra da string \n",
    "        for m in texto:\n",
    "            #print(x, m)\n",
    "            if m == x:\n",
    "                l_repetidas += 1\n",
    "                dic.update({m : l_repetidas}) \n",
    "    \n",
    "    return (dic)\n",
    "    \n",
    "    \n",
    "print (tlalala(tigela))\n",
    "print (tlalala(surto))\n",
    "print (tlalala(c))"
   ]
  },
  {
   "cell_type": "markdown",
   "metadata": {},
   "source": [
    "Neste algoritimo, precisei de dois loops for para comparar as letras; no primeiro, eu itero cada item e atruibuo um valor à l_repetidas, que será associado ao número de repetições de cada item. o segundo loop fica dentro do primeiro, porque ele deve comparar os itens de forma rotativa, ou seja, o primeiro x será comparado com todos os valores de m, passando, assim, por todas as letras presentes na string, quando letras iguais forem encotradas, o condicional é executado, somando 1 à variável l_repetidas e associando ela à letra em questão, no formato {chave : valor}, e adiciná-los ao dicionário que foi criado fora do loop. Feito isso, o programa volta ao primeiro laço for e repete os passos com os valores de x seguintes. "
   ]
  },
  {
   "cell_type": "markdown",
   "metadata": {},
   "source": [
    "## 11.2 Métodos condicionais de strings\n",
    "\n"
   ]
  },
  {
   "cell_type": "code",
   "execution_count": 3,
   "metadata": {
    "collapsed": true,
    "jupyter": {
     "outputs_hidden": true,
     "source_hidden": true
    },
    "tags": []
   },
   "outputs": [
    {
     "name": "stdout",
     "output_type": "stream",
     "text": [
      "['pato', 'feldspato', 'sapato', 'carrapato', 'empato']\n",
      "['cachorro', 'caolinita', 'carrapato', 'caranguejo', 'capoto']\n"
     ]
    }
   ],
   "source": [
    "palavras = [\n",
    "    \"pato\",\n",
    "    \"cachorro\",\n",
    "    \"feldspato\",\n",
    "    \"caolinita\",\n",
    "    \"sapato\",\n",
    "    \"tênis\",\n",
    "    \"carrapato\",\n",
    "    \"caranguejo\",\n",
    "    \"empato\",\n",
    "    \"capoto\",\n",
    "]\n",
    "\n",
    "palavras_que_terminam_em_pato = []\n",
    "for palavra in palavras:\n",
    "    if palavra.endswith(\"pato\"):\n",
    "        palavras_que_terminam_em_pato.append(palavra)\n",
    "print(palavras_que_terminam_em_pato)\n",
    "\n",
    "palavras_que_comecam_em_ca = []\n",
    "for palavra in palavras:\n",
    "    if palavra.startswith(\"ca\"):\n",
    "        palavras_que_comecam_em_ca.append(palavra)\n",
    "print(palavras_que_comecam_em_ca)"
   ]
  },
  {
   "cell_type": "markdown",
   "metadata": {
    "tags": []
   },
   "source": [
    "## 11.3 Recebendo informações do usuário com a função `input`\n",
    "\n"
   ]
  },
  {
   "cell_type": "code",
   "execution_count": 4,
   "metadata": {
    "collapsed": true,
    "jupyter": {
     "outputs_hidden": true,
     "source_hidden": true
    },
    "tags": []
   },
   "outputs": [
    {
     "name": "stdin",
     "output_type": "stream",
     "text": [
      "Qual é o seu nome? ana\n",
      "Qual é a sua missão? l\n",
      "Qual é a velocidade de vôo de uma andorinha livre de carga? 3\n"
     ]
    },
    {
     "name": "stdout",
     "output_type": "stream",
     "text": [
      "ana\n",
      "l\n",
      "3\n"
     ]
    }
   ],
   "source": [
    "nome = input(\"Qual é o seu nome?\")\n",
    "missao = input(\"Qual é a sua missão?\")\n",
    "velocidade = input(\"Qual é a velocidade de vôo de uma andorinha livre de carga?\")\n",
    "\n",
    "print(nome)\n",
    "print(missao)\n",
    "print(velocidade)"
   ]
  },
  {
   "cell_type": "markdown",
   "metadata": {},
   "source": [
    "## 11.4 Alguns caracteres especiais\n",
    "\n"
   ]
  },
  {
   "cell_type": "code",
   "execution_count": 5,
   "metadata": {
    "collapsed": true,
    "jupyter": {
     "outputs_hidden": true,
     "source_hidden": true
    },
    "tags": []
   },
   "outputs": [
    {
     "name": "stdout",
     "output_type": "stream",
     "text": [
      "Olá!\n",
      "Eu sou uma string com múltiplas linhas.\n",
      "Prazer!\n"
     ]
    }
   ],
   "source": [
    "string_com_multiplas_linhas = \"\"\"Olá!\n",
    "Eu sou uma string com múltiplas linhas.\n",
    "Prazer!\"\"\"\n",
    "\n",
    "print(string_com_multiplas_linhas)\n",
    "\n",
    "# A vizualização deste método é melhor"
   ]
  },
  {
   "cell_type": "code",
   "execution_count": 6,
   "metadata": {
    "collapsed": true,
    "jupyter": {
     "outputs_hidden": true,
     "source_hidden": true
    },
    "tags": []
   },
   "outputs": [
    {
     "name": "stdout",
     "output_type": "stream",
     "text": [
      "Olá!\n",
      "Eu sou uma string com múltiplas linhas.\n",
      "Prazer!\n"
     ]
    }
   ],
   "source": [
    "string_com_multiplas_linhas_2 = \"Olá!\\nEu sou uma string com múltiplas linhas.\\nPrazer!\"\n",
    "\n",
    "print(string_com_multiplas_linhas_2)"
   ]
  },
  {
   "cell_type": "code",
   "execution_count": 7,
   "metadata": {
    "collapsed": true,
    "jupyter": {
     "outputs_hidden": true,
     "source_hidden": true
    },
    "tags": []
   },
   "outputs": [
    {
     "name": "stdout",
     "output_type": "stream",
     "text": [
      "Ano\tConsumo de pipoca\n",
      "2017\t9\n",
      "2018\t6\n",
      "2019\t7\n",
      "2020\t13\n",
      "2021\t12\n",
      "2022\t11\n"
     ]
    }
   ],
   "source": [
    "tabulacao = \"\"\"Ano\\tConsumo de pipoca\n",
    "2017\\t9\n",
    "2018\\t6\n",
    "2019\\t7\n",
    "2020\\t13\n",
    "2021\\t12\n",
    "2022\\t11\"\"\"\n",
    "\n",
    "print(tabulacao)"
   ]
  },
  {
   "cell_type": "code",
   "execution_count": 8,
   "metadata": {
    "collapsed": true,
    "jupyter": {
     "outputs_hidden": true,
     "source_hidden": true
    },
    "tags": []
   },
   "outputs": [
    {
     "name": "stdout",
     "output_type": "stream",
     "text": [
      "C:\\trabalhos\\nova pasta\\praticas_cap_10.ipynb\n",
      "C:\\trabalhos\\nova pasta\\praticas_cap_10.ipynb\n",
      "\n",
      "C:\trabalhos\n",
      "ova pasta\\praticas_cap_10.ipynb\n"
     ]
    }
   ],
   "source": [
    "barra_invertida_tecnica_1 = \"C:\\\\trabalhos\\\\nova pasta\\\\praticas_cap_10.ipynb\"\n",
    "barra_invertida_string_bruta = r\"C:\\trabalhos\\nova pasta\\praticas_cap_10.ipynb\"\n",
    "\n",
    "print(barra_invertida_tecnica_1)\n",
    "print(barra_invertida_string_bruta)\n",
    "\n",
    "print()\n",
    "\n",
    "# exemplo de uso errado\n",
    "barra_invertida_deu_ruim = \"C:\\trabalhos\\nova pasta\\praticas_cap_10.ipynb\"\n",
    "print(barra_invertida_deu_ruim)"
   ]
  },
  {
   "cell_type": "markdown",
   "metadata": {},
   "source": [
    "## 11.5 Formatação de texto\n",
    "\n"
   ]
  },
  {
   "cell_type": "code",
   "execution_count": 9,
   "metadata": {
    "collapsed": true,
    "jupyter": {
     "outputs_hidden": true,
     "source_hidden": true
    },
    "tags": []
   },
   "outputs": [
    {
     "name": "stdout",
     "output_type": "stream",
     "text": [
      "Olá, Feiticeira Escarlate . Eu me chamo Visão . Prazer!\n"
     ]
    }
   ],
   "source": [
    "seu_nome = \"Feiticeira Escarlate\"\n",
    "meu_nome = \"Visão\"\n",
    "\n",
    "print(\"Olá,\", seu_nome, \". Eu me chamo\", meu_nome, \". Prazer!\")"
   ]
  },
  {
   "cell_type": "code",
   "execution_count": 10,
   "metadata": {
    "collapsed": true,
    "jupyter": {
     "outputs_hidden": true,
     "source_hidden": true
    },
    "tags": []
   },
   "outputs": [
    {
     "name": "stdout",
     "output_type": "stream",
     "text": [
      "Olá, Feiticeira Escarlate. Eu me chamo Visão. Prazer!\n"
     ]
    }
   ],
   "source": [
    "seu_nome = \"Feiticeira Escarlate\"\n",
    "meu_nome = \"Visão\"\n",
    "\n",
    "print(f\"Olá, {seu_nome}. Eu me chamo {meu_nome}. Prazer!\")"
   ]
  },
  {
   "cell_type": "markdown",
   "metadata": {},
   "source": [
    "### Questão [A]\n",
    "\n"
   ]
  },
  {
   "cell_type": "markdown",
   "metadata": {},
   "source": [
    "Faça um programa que recebe o nome do usuário pelo comando `input`. Usando f-strings, inicie uma conversa chamando o usuário pelo nome dele e pergunte a sua cor favorita. Se a cor favorita do usuário começar com a letra &ldquo;v&rdquo;, diga para ele que ele tem muito bom gosto. Do contrário, diga que hoje é um belo dia e deseje boa sorte na sua jornada.\n",
    "\n"
   ]
  },
  {
   "cell_type": "code",
   "execution_count": 114,
   "metadata": {},
   "outputs": [
    {
     "name": "stdin",
     "output_type": "stream",
     "text": [
      "Qual é o seu nome? gustavo\n"
     ]
    },
    {
     "name": "stdout",
     "output_type": "stream",
     "text": [
      "\n",
      "Olá, gustavo!\n"
     ]
    },
    {
     "name": "stdin",
     "output_type": "stream",
     "text": [
      "Qual é sua cor favorita? amarelo\n"
     ]
    },
    {
     "name": "stdout",
     "output_type": "stream",
     "text": [
      "Hoje é um belo dia! Boa sorte na sua jornada!\n"
     ]
    }
   ],
   "source": [
    "pergunta_1 = input(\"Qual é o seu nome?\") # strings que compõem na conversa. \n",
    "resposta_1 = \"Você tem bom gosto\"\n",
    "resposta_2 = \"Hoje é um belo dia! Boa sorte na sua jornada!\"\n",
    "\n",
    "print()\n",
    "\n",
    "print(f\"Olá, {pergunta_1}!\") # usa-se f-string para puxar a infomação contida na variável \n",
    "\n",
    "pergunta_2 = input(\"Qual é sua cor favorita?\")\n",
    "\n",
    "if pergunta_2.startswith (\"v\"): # condicional para a resposta que o programa deverá retornar \n",
    "    print(resposta_1)\n",
    "else:\n",
    "    print(resposta_2)"
   ]
  },
  {
   "cell_type": "markdown",
   "metadata": {},
   "source": [
    "<d> f-strings são formas de exibir as informações contidas em uma variável, sem precisar interromper o texto, como mostrado no exemplo acima. </d>\n",
    "<d> Para escrever este algoritomo, tive que declarar a pergunta_2 depois, e não junto com as demais strings, porque nos casos de input, elas aparecem na ordem que estão no código, enquanto as demais strigns precisam de um comando print, ou seja, ela estava aparecendo antes do programa iniciar o diálogo (comprimentando o usuario). </d>"
   ]
  },
  {
   "cell_type": "markdown",
   "metadata": {},
   "source": [
    "## 11.6 Processamento de texto\n",
    "\n"
   ]
  },
  {
   "cell_type": "code",
   "execution_count": 12,
   "metadata": {
    "collapsed": true,
    "jupyter": {
     "outputs_hidden": true,
     "source_hidden": true
    },
    "tags": []
   },
   "outputs": [
    {
     "name": "stdout",
     "output_type": "stream",
     "text": [
      "Obrigado mario! mas a nossa princesa está em outro castelo...\n",
      "Obrigado Mario! Mas A Nossa Princesa Está Em Outro Castelo...\n",
      "obrigado mario! mas a nossa princesa está em outro castelo...\n",
      "OBRIGADO MARIO! MAS A NOSSA PRINCESA ESTÁ EM OUTRO CASTELO...\n",
      "oBRIGADO mARIO! mAS A NOSSA PRINCESA ESTÁ EM OUTRO CASTELO...\n"
     ]
    }
   ],
   "source": [
    "texto = \"Obrigado Mario! Mas a nossa princesa está em outro castelo...\"\n",
    "\n",
    "# Apenas a primeira letra escrita com maiúscula\n",
    "print(texto.capitalize())\n",
    "\n",
    "# As primeiras letras de todas as palavras escritas com maiúsculas\n",
    "print(texto.title())\n",
    "\n",
    "# Todas as letras minúsculas\n",
    "print(texto.lower())\n",
    "\n",
    "# Todas as letras maiúsculas\n",
    "print(texto.upper())\n",
    "\n",
    "# Inverte a caixa das letras\n",
    "print(texto.swapcase())"
   ]
  },
  {
   "cell_type": "code",
   "execution_count": 13,
   "metadata": {
    "collapsed": true,
    "jupyter": {
     "outputs_hidden": true,
     "source_hidden": true
    },
    "tags": []
   },
   "outputs": [
    {
     "name": "stdout",
     "output_type": "stream",
     "text": [
      "Seu nome é Jackie, Jackie Tequila\n",
      "SEU NOME É JACKIE, JACKIE TEQUILA\n"
     ]
    }
   ],
   "source": [
    "texto1 = \"Seu nome é Jackie, Jackie Tequila\"\n",
    "\n",
    "texto2 = texto1.upper()\n",
    "\n",
    "print(texto1)  # esta variável não foi alterada!\n",
    "print(texto2)"
   ]
  },
  {
   "cell_type": "code",
   "execution_count": 14,
   "metadata": {
    "collapsed": true,
    "jupyter": {
     "outputs_hidden": true,
     "source_hidden": true
    },
    "tags": []
   },
   "outputs": [
    {
     "name": "stdout",
     "output_type": "stream",
     "text": [
      "['O', 'último', 'ser', 'vivo', 'do', 'planeta', 'estava', 'na', 'sua', 'casa,', 'sozinho.', 'De', 'repente,', 'alguém', 'bateu', 'na', 'sua', 'porta.']\n",
      "O texto tem 18 palavras\n",
      "['O último ser vivo do planeta estava na sua casa, sozinho', ' De repente, alguém bateu na sua porta', '']\n",
      "O texto tem 3 frases? ... acho que não!\n"
     ]
    }
   ],
   "source": [
    "mini_historia_de_terror = \"O último ser vivo do planeta estava na sua casa, sozinho. De repente, alguém bateu na sua porta.\"\n",
    "\n",
    "palavras = mini_historia_de_terror.split(\" \")\n",
    "\n",
    "print(palavras)\n",
    "print(f\"O texto tem {len(palavras)} palavras\")\n",
    "\n",
    "frases = mini_historia_de_terror.split(\".\")\n",
    "print(frases)\n",
    "print(f\"O texto tem {len(frases)} frases? ... acho que não!\")"
   ]
  },
  {
   "cell_type": "markdown",
   "metadata": {},
   "source": [
    "### Questão [A]\n",
    "\n"
   ]
  },
  {
   "cell_type": "markdown",
   "metadata": {},
   "source": [
    "Escolha uma notícia de jornal que tenha mais de 500 palavras. Crie uma string com o texto desta notícia (dica: strings com três aspas permitem texto com mais de uma linha!). Seu objetivo é processar este texto e mostrar quais são as 10 palavras mais usadas nele. Use apenas funções, módulos e estruturas de dados embutidos de Python para resolver esta questão (em outras palavras, não use nada de bibliotecas externas aqui).\n",
    "\n"
   ]
  },
  {
   "cell_type": "code",
   "execution_count": 15,
   "metadata": {},
   "outputs": [],
   "source": [
    "noticia = \"\"\"Verbas públicas de prefeituras a sertanejos e outros viram debate após Zé Neto criticar Lei Rouanet\n",
    "Sertanejo criticou Rouanet em show de R$ 400 mil bancado por prefeitura. Shows caros com pouco controle são comuns, enquanto lei é atacada. Gusttavo Lima ganha R$ 800 mil; veja lista e entenda.\n",
    "Um comentário sobre a Lei Rouanet feito por Zé Neto, parceiro de Cristiano, em um show em Sorriso (MT) acabou virando conversa sobre outra forma de incentivo menos discutida: os shows de prefeituras pelo Brasil. No fim das contas, a verba é pública, assim como na Rouanet.\n",
    "A notificação preferida de Zé Neto não deve ser a de comentários piscando nas redes dele após o show. Para começar, ele falou mal de Anitta e despertou a ira dos fãs dela. No mesmo discurso, ele se gabou de não depender da Lei Rouanet.\n",
    "\"Nós somos artistas que não dependemos de Lei Rouanet. Nosso cachê quem paga é o povo. A gente não precisa fazer tatuagem no 'toba' para mostrar se a gente está bem ou mal\", disse Zé Neto no palco no dia 12 de maio.\n",
    "A indireta sobre a tatuagem de Anitta foi massacrada por seguidores dela. Mas, no meio da briga de fãs, uma série de posts no Twitter do jornalista Demétrio Vecchioli mostrou: Zé Neto não usa a Rouanet, mas até o show de Sorriso (MT) foi bancado com R$ 400 mil dos cofres da cidade.\n",
    "Não é só a dupla de \"Notificação preferida\" que vive fazendo shows com verbas de prefeituras. O g1 levantou apresentações recentes de 5 artistas sertanejos e 5 de fora do estilo e seus shows recentes mais caros com verbas municipais no interior do Brasil. Veja mais abaixo como foi o levantamento.\n",
    "Esses shows movimentam a economia local, geram empregos e reúnem multidões. Artistas menores também fazem. Mas os critérios de escolha, de fiscalização e de contrapartidas para a cidade são mais frouxos do que a atacada Lei Rouanet, que surgiu há 30 anos justamente para isso.\n",
    "\"Por um lado as pessoas falam mal dessas ferramentas de incentivo que têm controle, e não prestam atenção para o fato de que o mecanismo direto vem da vontade daquele gestor\", diz Miguel Jost, professor e pesquisador de políticas públicas para cultura.\n",
    "Não é só Zé Neto que se gaba de não usar a Lei Rouanet e faz grandes shows de prefeituras. Latino e Netinho, que também atacaram recentemente a lei, já fizeram shows com verbas municipais, que não chegaram aos valores dos astros acima, mas passaram ambos de R$ 120 mil.\n",
    "O levantamento não foi fácil porque, ao contrário da Lei Rouanet, não há um sistema ou regras de divulgação: cada prefeitura publica de um jeito. Enquanto a lei tem um longo processo, os shows municipais, em geral, são por escolha direta, sem licitação.\n",
    "\"Quando se cobra recurso para cultura, falamos de um modelo institucionalizado, com editais ou leis de renúncia, porque aí a sociedade pode acompanhar de forma correta e transparente\", Miguel Jost defende.\n",
    "\"Esse tipo de festa, apesar de ser importante, tem um tipo de contratação que acaba sendo um recurso de escolhas pessoais e políticas. O que a gente tem é uma relação obscura, a partir da escolha de um gestor individual por um artista x ou y. É uma forma muito menos republicana de acessar o recurso.\"\n",
    "\"O que a gente observou nos últimos anos foi uma criminalização de todas as políticas de incentivo à cultura, que foram alvo de um projeto da extrema-direita de colocá-la como um supérfluo. A cultura traz tantos benefícios que a ideia não é de gasto, mas de investimento\", diz Miguel.\n",
    "O g1 já mostrou como a Coreia do Sul investiu na música em um plano de mais de vinte anos e hoje colhe o lucro e o prestígio de ídolos como o BTS.\"\"\""
   ]
  },
  {
   "cell_type": "code",
   "execution_count": 119,
   "metadata": {},
   "outputs": [],
   "source": [
    "def fun_noticia(texto):\n",
    "    \n",
    "    palavras_repetidas = {}\n",
    "    \n",
    "    # separar o texto por palavras\n",
    "    palavras = texto.split(\" \") # aqui ele vai separar as palavras, mas não retira a pontuação, o que vai ser um problema na hora de identificar as palavras iguais\n",
    "\n",
    "    for p in palavras:\n",
    "        p_repetidas = 0 \n",
    "        \n",
    "        for a in palavras:  \n",
    "            if p == a:\n",
    "                p_repetidas += 1\n",
    "                palavras_repetidas.update({a : p_repetidas})\n",
    "                \n",
    "                #if p_repetidas \n",
    "    return (palavras_repetidas)\n"
   ]
  },
  {
   "cell_type": "code",
   "execution_count": 120,
   "metadata": {
    "tags": []
   },
   "outputs": [
    {
     "data": {
      "text/plain": [
       "{'a': 1,\n",
       " 'vida': 1,\n",
       " 'é': 1,\n",
       " 'uma': 1,\n",
       " 'sucessão': 1,\n",
       " 'de': 2,\n",
       " 'sucessões,': 2,\n",
       " 'sucetivas': 1,\n",
       " 'que': 1,\n",
       " 'sucedem': 1,\n",
       " 'o': 1,\n",
       " 'nada': 1}"
      ]
     },
     "execution_count": 120,
     "metadata": {},
     "output_type": "execute_result"
    }
   ],
   "source": [
    "filosofia = \"a vida é uma sucessão de sucessões, de sucetivas sucessões, que sucedem o nada\"\n",
    "\n",
    "#fun_noticia(noticia)\n",
    "fun_noticia(filosofia)"
   ]
  },
  {
   "cell_type": "code",
   "execution_count": 38,
   "metadata": {
    "collapsed": true,
    "jupyter": {
     "outputs_hidden": true,
     "source_hidden": true
    },
    "tags": []
   },
   "outputs": [
    {
     "name": "stdout",
     "output_type": "stream",
     "text": [
      "dict_items([('a', 1), ('vida', 1), ('é', 1), ('uma', 1), ('sucessão', 1), ('de', 2), ('sucessões,', 2), ('sucetivas', 1), ('que', 1), ('sucedem', 1), ('o', 1), ('nada', 1)])\n"
     ]
    },
    {
     "data": {
      "text/plain": [
       "dict_values([1, 1, 1, 1, 1, 2, 2, 1, 1, 1, 1, 1])"
      ]
     },
     "execution_count": 38,
     "metadata": {},
     "output_type": "execute_result"
    }
   ],
   "source": [
    "#testes\n",
    "\n",
    "print (fun_noticia(filosofia).items())\n",
    "fun_noticia(filosofia).values()"
   ]
  },
  {
   "cell_type": "markdown",
   "metadata": {},
   "source": [
    "A função não está completa, como comentado, existe a questão das pontuações, o que seria uma opção de aperfeiçoamento para o algoritimo. \n",
    "Álem disto, fui até o ponto de contar as palavras, mas faltaria ordená-las de forma decrescente de repetições, e selecionar as 10 com os maiores valores de repetição. Não comsegui desenvolver esta parte, então fiz o desafio para compensar.  "
   ]
  },
  {
   "cell_type": "markdown",
   "metadata": {},
   "source": [
    "### Questão [B]\n",
    "\n"
   ]
  },
  {
   "cell_type": "markdown",
   "metadata": {},
   "source": [
    "Faça uma função que recebe uma string qualquer e retorna uma lista contendo todos os números presentes na sua string. Por exemplo, se a função receber a string &ldquo;Hoje fazem 2 dias que eu fiz 65 anos.&rdquo; ela deve retornar a lista &ldquo;[2, 65]&rdquo;.\n",
    "\n"
   ]
  },
  {
   "cell_type": "code",
   "execution_count": 106,
   "metadata": {},
   "outputs": [
    {
     "data": {
      "text/plain": [
       "['400', '800', '12', '400', '5', '5', '30', '120']"
      ]
     },
     "execution_count": 108,
     "metadata": {},
     "output_type": "execute_result"
    }
   ],
   "source": [
    "m = \"Hoje fazem 2 dias que eu fiz 65 anos.\"\n",
    "\n",
    "def fun_num(texto):\n",
    "    \n",
    "    txt = texto.split(\" \") # separa os elementos da string por espaço \n",
    "    numeros = [] # lista para armazenar os elementos que forem números \n",
    "\n",
    "    for e in txt:\n",
    "        if e.isnumeric() == True: # caso o elemento seja um número \n",
    "            numeros.append(e)\n",
    "            \n",
    "    return numeros\n",
    "\n",
    "#fun_num(m)\n",
    "fun_num(noticia)"
   ]
  },
  {
   "cell_type": "markdown",
   "metadata": {},
   "source": [
    "O primeiro passo desta é separar a string, para isso uso a função split do python e separo por espaço entre as palavras. Tendo feito isso, tenho agora uma lista com os elementos e posso analisar cada elemento (laço for), usando o método isnumeric, que retorna True quando o elemento é uma número, e False quando não é, com o condicional, que insere as variáveis numéricas na lista anteriormente declarada. \n"
   ]
  },
  {
   "cell_type": "markdown",
   "metadata": {},
   "source": [
    "### Questão [C]\n",
    "\n"
   ]
  },
  {
   "cell_type": "markdown",
   "metadata": {},
   "source": [
    "Faça uma função que recebe uma string e checa se ela é um palíndromo (retorna `True` caso seja ou `False` caso não seja). Palíndromos são palavras que não se alteram mesmo quando a ordem das suas letras é invertida. Exemplos de palíndromos: rir, salas, rever, sopapos e arara.\n",
    "\n"
   ]
  },
  {
   "cell_type": "code",
   "execution_count": 107,
   "metadata": {},
   "outputs": [],
   "source": [
    "def pali(txt):\n",
    "    \n",
    "    p = txt[::-1] # invertendo a string \n",
    "    \n",
    "    if p == txt: # comparando as palavras \n",
    "        return True\n",
    "    \n",
    "    else:\n",
    "        return False "
   ]
  },
  {
   "cell_type": "code",
   "execution_count": 111,
   "metadata": {},
   "outputs": [
    {
     "name": "stdout",
     "output_type": "stream",
     "text": [
      "False\n",
      "True\n"
     ]
    }
   ],
   "source": [
    "ble = \"pindamanhacaba\"\n",
    "teste = \"ana\"\n",
    "\n",
    "print (pali(ble))\n",
    "print (pali(teste))"
   ]
  },
  {
   "cell_type": "markdown",
   "metadata": {},
   "source": [
    "Para inverter a string, usei o método [: :-1], para listas, e assim, comparo esta com o texto original. Com os condicinais if e else, define-se qual retorno a função deve dar. "
   ]
  },
  {
   "cell_type": "markdown",
   "metadata": {},
   "source": [
    "### Questão [Desafio]\n",
    "\n"
   ]
  },
  {
   "cell_type": "markdown",
   "metadata": {},
   "source": [
    "Faça uma função que recebe uma string contendo uma frase. A função deve retornar uma string contendo as mesmas palavras, porém invertidas. Por exemplo, caso a função receba a string &ldquo;Ser ou não ser eis a questão&rdquo; ela retorna &ldquo;reS uo oãn res sie a oãtseuq&rdquo;.\n",
    "\n"
   ]
  },
  {
   "cell_type": "code",
   "execution_count": 112,
   "metadata": {},
   "outputs": [],
   "source": [
    "def desafio(txt):\n",
    "    \n",
    "    palavras = txt.split(\" \")\n",
    "    \n",
    "    final = []\n",
    "    \n",
    "    for k in palavras:\n",
    "        \n",
    "        invet = k[::-1]\n",
    "        \n",
    "        final.append(invet)\n",
    "        \n",
    "        cola = \" \"\n",
    "        \n",
    "        R = cola.join(final)\n",
    "        \n",
    "    return R"
   ]
  },
  {
   "cell_type": "code",
   "execution_count": 22,
   "metadata": {},
   "outputs": [
    {
     "data": {
      "text/plain": [
       "'marabuoR ahnim !!!euqynom'"
      ]
     },
     "execution_count": 22,
     "metadata": {},
     "output_type": "execute_result"
    }
   ],
   "source": [
    "teste = \"Roubaram minha monyque!!!\"\n",
    "desafio(teste)"
   ]
  },
  {
   "cell_type": "markdown",
   "metadata": {},
   "source": [
    "Para inverter as palavras, primeiro separei elas com o split, por espaço. A lista \"final\" é declarada para juntar as strings depois. Novamente, uso o laço for para iterar cada uma das palavras, nele uma nova variável é criada, com o valor da palavra invertida (usando [: : -1]), e ela é adicionada à lista. Por fim, as palavras são novamente juntadas com o método join, usando espaços como \"cola\". "
   ]
  },
  {
   "cell_type": "markdown",
   "metadata": {},
   "source": [
    "## Playground\n",
    "\n"
   ]
  },
  {
   "cell_type": "code",
   "execution_count": 23,
   "metadata": {
    "collapsed": true,
    "jupyter": {
     "outputs_hidden": true,
     "source_hidden": true
    },
    "tags": []
   },
   "outputs": [
    {
     "name": "stdout",
     "output_type": "stream",
     "text": [
      "Testando o método isnumeric\n",
      "True\n",
      "False\n",
      "False\n",
      "\n",
      "Testando o método isupper\n",
      "False\n",
      "True\n",
      "False\n",
      "\n",
      "Testando o método islower\n",
      "False\n",
      "False\n",
      "True\n",
      "\n"
     ]
    }
   ],
   "source": [
    "numero = \"1234\"\n",
    "caixa_alta = \"AAAAHHHHH\"\n",
    "caixa_baixa = \"sussurrando...\"\n",
    "\n",
    "print(\"Testando o método isnumeric\")\n",
    "print(numero.isnumeric())\n",
    "print(caixa_alta.isnumeric())\n",
    "print(caixa_baixa.isnumeric())\n",
    "print()\n",
    "\n",
    "print(\"Testando o método isupper\")\n",
    "print(numero.isupper())\n",
    "print(caixa_alta.isupper())\n",
    "print(caixa_baixa.isupper())\n",
    "print()\n",
    "\n",
    "print(\"Testando o método islower\")\n",
    "print(numero.islower())\n",
    "print(caixa_alta.islower())\n",
    "print(caixa_baixa.islower())\n",
    "print()"
   ]
  },
  {
   "cell_type": "code",
   "execution_count": 24,
   "metadata": {
    "collapsed": true,
    "jupyter": {
     "outputs_hidden": true,
     "source_hidden": true
    },
    "tags": []
   },
   "outputs": [
    {
     "name": "stdout",
     "output_type": "stream",
     "text": [
      "True\n"
     ]
    }
   ],
   "source": [
    "print(string_com_multiplas_linhas == string_com_multiplas_linhas_2)"
   ]
  },
  {
   "cell_type": "code",
   "execution_count": 25,
   "metadata": {
    "collapsed": true,
    "jupyter": {
     "outputs_hidden": true,
     "source_hidden": true
    },
    "tags": []
   },
   "outputs": [
    {
     "name": "stdout",
     "output_type": "stream",
     "text": [
      "O último ser vivo do planeta estava na sua casa, sozinho. De repente, alguém bateu na sua porta.\n",
      "\n",
      "O_último_ser_vivo_do_planeta_estava_na_sua_casa,_sozinho._De_repente,_alguém_bateu_na_sua_porta.\n",
      "\n",
      "O👏último👏ser👏vivo👏do👏planeta👏estava👏na👏sua👏casa,👏sozinho.👏De👏repente,👏alguém👏bateu👏na👏sua👏porta.\n",
      "\n",
      "O*_ . _*último*_ . _*ser*_ . _*vivo*_ . _*do*_ . _*planeta*_ . _*estava*_ . _*na*_ . _*sua*_ . _*casa,*_ . _*sozinho.*_ . _*De*_ . _*repente,*_ . _*alguém*_ . _*bateu*_ . _*na*_ . _*sua*_ . _*porta.\n"
     ]
    }
   ],
   "source": [
    "lista = [\n",
    "    \"O\",\n",
    "    \"último\",\n",
    "    \"ser\",\n",
    "    \"vivo\",\n",
    "    \"do\",\n",
    "    \"planeta\",\n",
    "    \"estava\",\n",
    "    \"na\",\n",
    "    \"sua\",\n",
    "    \"casa,\",\n",
    "    \"sozinho.\",\n",
    "    \"De\",\n",
    "    \"repente,\",\n",
    "    \"alguém\",\n",
    "    \"bateu\",\n",
    "    \"na\",\n",
    "    \"sua\",\n",
    "    \"porta.\",\n",
    "]\n",
    "\n",
    "cola = \" \"\n",
    "tudo_junto = cola.join(lista)\n",
    "print(tudo_junto)\n",
    "print()\n",
    "\n",
    "cola = \"_\"\n",
    "tudo_junto2 = cola.join(lista)\n",
    "print(tudo_junto2)\n",
    "print()\n",
    "\n",
    "cola = \"👏\"\n",
    "tudo_junto3 = cola.join(lista)\n",
    "print(tudo_junto3)\n",
    "print()\n",
    "\n",
    "cola = \"*_ . _*\"  # a cola pode ser o que você quiser\n",
    "tudo_junto4 = cola.join(lista)\n",
    "print(tudo_junto4)"
   ]
  },
  {
   "cell_type": "code",
   "execution_count": 26,
   "metadata": {
    "collapsed": true,
    "jupyter": {
     "outputs_hidden": true,
     "source_hidden": true
    },
    "tags": []
   },
   "outputs": [
    {
     "name": "stdout",
     "output_type": "stream",
     "text": [
      "['O', 'último', 'ser', 'vivo', 'do', 'planeta', 'estava', 'na', 'sua', 'casa,', 'sozinho.', 'De', 'repente,', 'alguém', 'bateu', 'na', 'sua', 'porta.']\n",
      "O texto tem 18 palavras\n",
      "['O último ser vivo do planeta estava na sua casa, sozinho', ' De repente, alguém bateu na sua porta', '']\n",
      "O texto tem 3 frases? ... acho que não!\n"
     ]
    }
   ],
   "source": [
    "mini_historia_de_terror = \"O último ser vivo do planeta estava na sua casa, sozinho. De repente, alguém bateu na sua porta.\"\n",
    "\n",
    "palavras = mini_historia_de_terror.split(\" \")\n",
    "\n",
    "print(palavras)\n",
    "print(f\"O texto tem {len(palavras)} palavras\")\n",
    "\n",
    "frases = mini_historia_de_terror.split(\".\")\n",
    "print(frases)\n",
    "print(f\"O texto tem {len(frases)} frases? ... acho que não!\")"
   ]
  },
  {
   "cell_type": "markdown",
   "metadata": {},
   "source": [
    "## Diário de bordo\n",
    "\n"
   ]
  }
 ],
 "metadata": {
  "kernelspec": {
   "display_name": "ilumpy",
   "language": "python",
   "name": "ilumpy"
  },
  "language_info": {
   "codemirror_mode": {
    "name": "ipython",
    "version": 3
   },
   "file_extension": ".py",
   "mimetype": "text/x-python",
   "name": "python",
   "nbconvert_exporter": "python",
   "pygments_lexer": "ipython3",
   "version": "3.9.7"
  },
  "org": null
 },
 "nbformat": 4,
 "nbformat_minor": 4
}
