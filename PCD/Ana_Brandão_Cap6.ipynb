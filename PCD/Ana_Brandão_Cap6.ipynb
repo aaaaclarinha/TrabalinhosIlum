{
 "cells": [
  {
   "cell_type": "markdown",
   "id": "17b641bd-57c2-4c08-b8d3-e023fa0881a8",
   "metadata": {},
   "source": [
    "# Capítulo 6\n",
    "\n",
    "Nome: Ana Clara Santos Brandão \n",
    "\n",
    "RM: 220069\n",
    "\n",
    "Data: 12/04/2022"
   ]
  },
  {
   "cell_type": "markdown",
   "id": "6c18d981-e08b-4510-b75c-0078124e66d7",
   "metadata": {
    "tags": []
   },
   "source": [
    "## Regras para o preenchimento do Caderno de Respostas\n",
    "\n",
    "+ __Leia com atenção as regras abaixo antes de iniciar suas práticas!__\n",
    "+ Preencha o número do capítulo, seu nome, seu RM e a data na primeira célula deste caderno de notas\n",
    "+ Crie uma célula de texto com cabeçalho nível 2 (isto é, usando duas hashtags ##) para cada seção referente ao capítulo deste caderno. Veja os exemplos abaixo\n",
    "+ Crie uma célula de texto com cabeçalho nível 3 (isto é, usando três hashtags ###) para cada prática\n",
    "+ Use quantas células de texto e código forem necessárias para cada prática. Não se esqueça de colocar a letra da prática\n",
    "+ Caso queira testar algum código qualquer, use a seção Playground que está no final do caderno. Ela não será considerada para sua nota\n",
    "+ Práticas que pedem que você escreva algo devem conter uma célula de texto onde você elabora sua resposta\n",
    "+ A última célula do caderno é o seu Diário de Bordo. Ele é muito importante para a avaliação da disciplina. Mais informações estão lá no final do caderno \n",
    "+ Não se esqueça de salvar periodicamente seu caderno de respostas\n",
    "+ Antes de enviar seu caderno de respostas, renomeie ele de forma que tenha seu nome, sobrenome e o número do capítulo. Por exemplo, o caderno de respostas do capítulo 3 da aluna Fulana de Tal o nome ficaria: Fulana_Tal_Capitulo_03"
   ]
  },
  {
   "cell_type": "markdown",
   "id": "542d310a-5964-4f09-883d-a4c6512467cd",
   "metadata": {
    "tags": []
   },
   "source": [
    "## Seção 6.1"
   ]
  },
  {
   "cell_type": "markdown",
   "id": "00b00819-9c54-4c27-be0a-d811a157ff13",
   "metadata": {
    "tags": []
   },
   "source": [
    "### Prática A"
   ]
  },
  {
   "cell_type": "code",
   "execution_count": 1,
   "id": "fd39d64a-9a1c-4ca1-9cfc-7311a7fc3fc4",
   "metadata": {
    "tags": []
   },
   "outputs": [
    {
     "name": "stdout",
     "output_type": "stream",
     "text": [
      "0\n",
      "1\n",
      "2\n",
      "3\n",
      "4\n",
      "5\n",
      "6\n",
      "7\n",
      "8\n",
      "9\n"
     ]
    }
   ],
   "source": [
    "i = 0\n",
    "while i < 10:  # Leia como \"Enquanto o valor de i for menor que 10, faça:\"\n",
    "    print(i)\n",
    "    i += 1  # mesma coisa que escrever `i = i + 1`"
   ]
  },
  {
   "cell_type": "markdown",
   "id": "778ad48e-9af2-415a-a8df-5b1ad5a08135",
   "metadata": {},
   "source": [
    "##### Foram apresentados todos os valores de i possíveis para i < 10, quando essa condição deixou de ser verdadeira, o loop foi parado. "
   ]
  },
  {
   "cell_type": "markdown",
   "id": "0dc2ac3a-c5c3-4b32-815d-8e88fd96491d",
   "metadata": {},
   "source": [
    "### Prática B"
   ]
  },
  {
   "cell_type": "code",
   "execution_count": 2,
   "id": "6391fad3-f5a0-4150-a2f3-a551f573fa0a",
   "metadata": {},
   "outputs": [
    {
     "name": "stdout",
     "output_type": "stream",
     "text": [
      "0 True\n",
      "1 True\n",
      "2 True\n",
      "3 True\n",
      "4 True\n",
      "5 True\n",
      "6 True\n",
      "7 True\n",
      "8 True\n",
      "9 True\n",
      "10 False\n"
     ]
    }
   ],
   "source": [
    "i = 0\n",
    "while i < 10:\n",
    "    print(i, i < 10)\n",
    "    i += 1\n",
    "print(i, i < 10)"
   ]
  },
  {
   "cell_type": "markdown",
   "id": "e5554a10-18c7-44fc-832c-9cda56e2db88",
   "metadata": {},
   "source": [
    "##### Apresentados todos os valores de i até o 10, mas desta vez informando se a infomação é verdadeira ou falsa na condição de i < 10 "
   ]
  },
  {
   "cell_type": "markdown",
   "id": "f85b495c-f9ae-4afb-b903-3454c4162942",
   "metadata": {},
   "source": [
    "### Prática C"
   ]
  },
  {
   "cell_type": "code",
   "execution_count": 3,
   "id": "29e647ba-a160-43d1-9280-d23a48e02516",
   "metadata": {
    "tags": []
   },
   "outputs": [
    {
     "name": "stdout",
     "output_type": "stream",
     "text": [
      "16 é divisível por 8\n"
     ]
    }
   ],
   "source": [
    "def maximo_divisor_comum(a):\n",
    "    \"\"\"Calcula o máximo divisor comum e, caso exista, exibe ao usuário.\n",
    "\n",
    "    Args:\n",
    "      a:\n",
    "        Número que desejamos saber o divisor.\n",
    "    \"\"\"\n",
    "\n",
    "    # Definimos i como a-1, pois se começarmos a testar o divisor como o\n",
    "    # próprio a, teríamos uma solução trivial\n",
    "    i = a - 1\n",
    "\n",
    "    while i > 0:  # Vamos iterar de a-1 até 1\n",
    "        b = a / i\n",
    "\n",
    "        # Caso a divisão tenha a parte decimal igual a zero\n",
    "        if b % 2 == 0:\n",
    "            print(a, \"é divisível por\", i)\n",
    "            break # Com este break o programa sai do loop\n",
    "\n",
    "        # Caso a divisão não tenha a parte decimal igual a zero\n",
    "        else:\n",
    "            i -= 1  # Diminuímos 1 do i\n",
    "\n",
    "\n",
    "maximo_divisor_comum(16)  # teste"
   ]
  },
  {
   "cell_type": "markdown",
   "id": "f84c79b0-a0f9-4a60-ae0d-de3e453fa9c6",
   "metadata": {},
   "source": [
    "### Prática D"
   ]
  },
  {
   "cell_type": "code",
   "execution_count": 4,
   "id": "fd7566bd-1527-4c84-bc17-14a97e8ac7b5",
   "metadata": {},
   "outputs": [],
   "source": [
    "def maximo_divisor_comum(a):\n",
    "    \"\"\"Calcula o máximo divisor comum e, caso exista, exibe ao usuário.\n",
    "\n",
    "    Args:\n",
    "      a:\n",
    "        Número que desejamos saber o divisor.\n",
    "    \"\"\"\n",
    "\n",
    "    # Definimos i como a-1, pois se começarmos a testar o divisor como o\n",
    "    # próprio a, teríamos uma solução trivial\n",
    "    i = a - 1\n",
    "\n",
    "    while i > 0:  # Vamos iterar de a-1 até 1\n",
    "        b = a / i\n",
    "\n",
    "        # Caso a divisão tenha a parte decimal igual a zero\n",
    "        if b % 2 == 0:\n",
    "            print(a, \"é divisível por\", i)\n",
    "            break  # Com este break o programa sai do loop\n",
    "\n",
    "        # Caso a divisão não tenha a parte decimal igual a zero\n",
    "        else:\n",
    "            i -= 1  # Diminuímos 1 do i\n",
    "            \n",
    "\n",
    "\n",
    "maximo_divisor_comum(8733)  # teste"
   ]
  },
  {
   "cell_type": "code",
   "execution_count": null,
   "id": "2f73593d-be1b-4cad-a2ca-60e4333eef9b",
   "metadata": {},
   "outputs": [],
   "source": []
  },
  {
   "cell_type": "markdown",
   "id": "dc968f98-cec8-4212-893d-ac254e90001e",
   "metadata": {},
   "source": [
    "## Seção 6.2"
   ]
  },
  {
   "cell_type": "markdown",
   "id": "428e4ad8-9357-409d-acf1-b1dba53a4a47",
   "metadata": {},
   "source": [
    "### Prática A"
   ]
  },
  {
   "cell_type": "code",
   "execution_count": 5,
   "id": "f058923f-ffdb-4269-8966-85db96480efd",
   "metadata": {},
   "outputs": [
    {
     "name": "stdout",
     "output_type": "stream",
     "text": [
      "Miojo\n",
      "Ovo\n",
      "Queijo\n",
      "Orégano\n",
      "Pão\n"
     ]
    }
   ],
   "source": [
    "lista = [\"Miojo\", \"Ovo\", \"Queijo\", \"Orégano\", \"Pão\"]\n",
    "for item in lista:\n",
    "    print(item)"
   ]
  },
  {
   "cell_type": "markdown",
   "id": "059f6658-f228-4f01-b6d8-40ab21cde5ec",
   "metadata": {},
   "source": [
    "##### O operador for transformou a variável item nos elementos da lista."
   ]
  },
  {
   "cell_type": "markdown",
   "id": "b629d656-8812-432d-a3eb-249c2cbf1791",
   "metadata": {},
   "source": [
    "### Prática B"
   ]
  },
  {
   "cell_type": "code",
   "execution_count": 6,
   "id": "c299e140-083d-43a4-8967-854df2daa131",
   "metadata": {},
   "outputs": [
    {
     "name": "stdout",
     "output_type": "stream",
     "text": [
      "Você deve usar os ingredientes da lista para fazer um sanduiche\n"
     ]
    }
   ],
   "source": [
    "lista = [\"Miojo\", \"Ovo\", \"Queijo\", \"Orégano\", \"Pão\"]\n",
    "for item in lista:\n",
    "    \n",
    "    if \"Pão\" in lista:\n",
    "        print (\"Você deve usar os ingredientes da lista para fazer um sanduiche\")\n",
    "        break"
   ]
  },
  {
   "cell_type": "markdown",
   "id": "23657497-0195-435a-bc7a-56d223d93513",
   "metadata": {},
   "source": [
    "### Prática C"
   ]
  },
  {
   "cell_type": "code",
   "execution_count": 10,
   "id": "baae7ad9-8d00-4976-b8b6-85f461a1d8a9",
   "metadata": {},
   "outputs": [
    {
     "name": "stdout",
     "output_type": "stream",
     "text": [
      "{'Presunto', 'Ovo', 'Miojo', 'Orégano', 'Manteiga', 'Queijo', 'Pão'}\n"
     ]
    }
   ],
   "source": [
    "lista = {\"Miojo\", \"Ovo\", \"Queijo\", \"Orégano\", \"Pão\"}\n",
    "lista2 = lista.copy ()   # criando uma cópia de `lista`\n",
    "\n",
    "for item in lista:  # `lista` é o objeto sendo iterado\n",
    "   \n",
    "    if \"Pão\" in lista:\n",
    "        lista2.add (\"Queijo\") # alterando a `lista_copia`, não `lista`\n",
    "        lista2.add (\"Presunto\")\n",
    "        lista2.add (\"Manteiga\")\n",
    "        print(lista2)\n",
    "        break\n"
   ]
  },
  {
   "cell_type": "markdown",
   "id": "142c14cd-c3a3-404b-9ef1-183d0d34db0d",
   "metadata": {},
   "source": [
    "### Prática D"
   ]
  },
  {
   "cell_type": "code",
   "execution_count": 35,
   "id": "74124a6d-9eca-4b63-b2c3-5765288a759a",
   "metadata": {},
   "outputs": [
    {
     "ename": "AttributeError",
     "evalue": "'int' object has no attribute 'prod'",
     "output_type": "error",
     "traceback": [
      "\u001b[1;31m---------------------------------------------------------------------------\u001b[0m",
      "\u001b[1;31mAttributeError\u001b[0m                            Traceback (most recent call last)",
      "\u001b[1;32mC:\\Users\\ANA220~1\\AppData\\Local\\Temp/ipykernel_26308/75202222.py\u001b[0m in \u001b[0;36m<module>\u001b[1;34m\u001b[0m\n\u001b[0;32m      1\u001b[0m \u001b[1;32mfor\u001b[0m \u001b[0mnumber\u001b[0m \u001b[1;32min\u001b[0m \u001b[0mrange\u001b[0m\u001b[1;33m(\u001b[0m\u001b[1;36m1\u001b[0m\u001b[1;33m,\u001b[0m \u001b[1;36m6\u001b[0m\u001b[1;33m)\u001b[0m\u001b[1;33m:\u001b[0m\u001b[1;33m\u001b[0m\u001b[1;33m\u001b[0m\u001b[0m\n\u001b[1;32m----> 2\u001b[1;33m     \u001b[0mnumber\u001b[0m\u001b[1;33m.\u001b[0m\u001b[0mprod\u001b[0m \u001b[1;33m=\u001b[0m \u001b[0mfatorial\u001b[0m\u001b[1;33m\u001b[0m\u001b[1;33m\u001b[0m\u001b[0m\n\u001b[0m\u001b[0;32m      3\u001b[0m     \u001b[0mprint\u001b[0m \u001b[1;33m(\u001b[0m\u001b[0mfatorial\u001b[0m\u001b[1;33m)\u001b[0m\u001b[1;33m\u001b[0m\u001b[1;33m\u001b[0m\u001b[0m\n",
      "\u001b[1;31mAttributeError\u001b[0m: 'int' object has no attribute 'prod'"
     ]
    }
   ],
   "source": [
    "for number in range(1, 6):\n",
    "    number.prod = fatorial \n",
    "    print (fatorial)"
   ]
  },
  {
   "cell_type": "markdown",
   "id": "97bb5b2d-956b-49f8-964a-1f79303007f5",
   "metadata": {},
   "source": [
    "## Playground"
   ]
  },
  {
   "cell_type": "markdown",
   "id": "366a7630-20b6-4092-94c8-8a288ef0dc24",
   "metadata": {},
   "source": [
    "i = 0\n",
    "while i < 10:\n",
    "    print(i, i < 10)"
   ]
  },
  {
   "cell_type": "code",
   "execution_count": null,
   "id": "e6634364-1150-44d2-ab70-9d0d9a874aef",
   "metadata": {},
   "outputs": [],
   "source": [
    "print(10 // 3)\n",
    "print(17 % 2)"
   ]
  },
  {
   "cell_type": "markdown",
   "id": "8b4b6239-4d77-4c0d-bd5e-a67f3d84b580",
   "metadata": {},
   "source": [
    "## Diário de Bordo"
   ]
  },
  {
   "cell_type": "markdown",
   "id": "ad0fe6e2-c314-4c69-bcba-eca13bbe71d3",
   "metadata": {},
   "source": [
    "A última célula do seu caderno de notas é reservada para o Diário de Bordo. Este espaço serve para você refletir sobre a prática, avaliando as atividades que foram realizadas e refletindo sobre seu desempenho e aprendizado. O formato e o conteúdo do seu Diário de Bordo são livres. \n",
    "\n",
    "Se quiser, conte quais foram suas facilidades ou dificuldades para realizar a prática. Pode contar também sobre o que achou interessante ou desinteressante nesta prática. Fique à vontade para escrever sobre tópicos, textos ou vídeos que encontrou durante suas buscas para resolver as questões."
   ]
  },
  {
   "cell_type": "markdown",
   "id": "cc157b8a-a06d-4b50-9d50-26e5b931cc9b",
   "metadata": {},
   "source": []
  }
 ],
 "metadata": {
  "kernelspec": {
   "display_name": "ilumpy",
   "language": "python",
   "name": "ilumpy"
  },
  "language_info": {
   "codemirror_mode": {
    "name": "ipython",
    "version": 3
   },
   "file_extension": ".py",
   "mimetype": "text/x-python",
   "name": "python",
   "nbconvert_exporter": "python",
   "pygments_lexer": "ipython3",
   "version": "3.9.7"
  }
 },
 "nbformat": 4,
 "nbformat_minor": 5
}
