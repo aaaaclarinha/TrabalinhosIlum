{
 "cells": [
  {
   "cell_type": "markdown",
   "metadata": {},
   "source": [
    "Capítulo 8\n",
    "==========\n",
    "\n"
   ]
  },
  {
   "cell_type": "markdown",
   "metadata": {},
   "source": [
    "**Nome**: Ana Clara Santos Brandão \n",
    "\n",
    "**RM**: 220069\n",
    "\n",
    "**Data**: 03/05/2022\n",
    "\n"
   ]
  },
  {
   "cell_type": "markdown",
   "metadata": {},
   "source": [
    "## 8.1 Listas não foram feitas para cálculos de álgebra linear\n",
    "\n"
   ]
  },
  {
   "cell_type": "markdown",
   "metadata": {},
   "source": [
    "### Questão [A]\n",
    "\n"
   ]
  },
  {
   "cell_type": "markdown",
   "metadata": {},
   "source": [
    "Crie uma lista contendo 6 elementos que devem ser os dígitos do seu RM. Após isso, multiplique essa lista por um inteiro maior que 2, multiplique essa lista por ela mesma, some 10 a essa lista e some essa lista com ela mesma. Reporte o que aconteceu em cada um dos passos. Agora crie um array usando sua lista e repita todas as etapas. Reporte o que aconteceu em cada um dos passos e compare as diferenças entre arrays e listas.\n",
    "\n"
   ]
  },
  {
   "cell_type": "code",
   "execution_count": 77,
   "metadata": {
    "tags": []
   },
   "outputs": [
    {
     "name": "stdout",
     "output_type": "stream",
     "text": [
      "[10 10  0  0 30 45]\n",
      "[ 100  100    0    0  900 2025]\n",
      "[ 110  110   10   10  910 2035]\n",
      "[ 220  220   20   20 1820 4070]\n"
     ]
    }
   ],
   "source": [
    "import numpy as np\n",
    "\n",
    "\n",
    "RM = np.array([2, 2, 0, 0, 6, 9])  # array de 1 dimensão\n",
    "\n",
    "RM2 = RM * 5\n",
    "print (RM2)\n",
    "\n",
    "RM3 = RM2 * RM2\n",
    "print (RM3)\n",
    "\n",
    "RM4 = RM3 + 10\n",
    "print (RM4)\n",
    "\n",
    "RM5 = RM4 + RM4 \n",
    "print (RM5)"
   ]
  },
  {
   "cell_type": "markdown",
   "metadata": {},
   "source": [
    "##### Listas são para armazernar informaçõoes, por isso não é coveniente nem viável usar neles operações matemáticas, já os arrays existem para isso. \n",
    "\n",
    "obs. não encontrei uma forma de resolver o problema com listas."
   ]
  },
  {
   "cell_type": "markdown",
   "metadata": {},
   "source": [
    "### Questão [B]\n",
    "\n"
   ]
  },
  {
   "cell_type": "markdown",
   "metadata": {},
   "source": [
    "Crie uma função que recebe um array numérico de 1 dimensão de tamanho arbitrário. Considere que todos os números deste array são medidas de temperatura em Celsius. Retorne para o usuário um array de mesmo tamanho com as temperaturas convertidas para [Rankine](https://pt.wikipedia.org/wiki/Rankine). Não use laço de repetição aqui, se aproveite das propriedades dos arrays!!\n",
    "\n"
   ]
  },
  {
   "cell_type": "code",
   "execution_count": 78,
   "metadata": {},
   "outputs": [
    {
     "name": "stdout",
     "output_type": "stream",
     "text": [
      "[491.67 608.67 540.27 500.67]\n"
     ]
    }
   ],
   "source": [
    "import numpy as np\n",
    "\n",
    "\n",
    "cels = np.array([0, 65, 27, 5])\n",
    "\n",
    "Rank = cels * 1.8 + 491.67\n",
    "print (Rank)\n"
   ]
  },
  {
   "cell_type": "markdown",
   "metadata": {},
   "source": [
    "## 8.2 Criando arrays sem usar listas\n",
    "\n"
   ]
  },
  {
   "cell_type": "markdown",
   "metadata": {},
   "source": [
    "### Questão [A]\n",
    "\n"
   ]
  },
  {
   "cell_type": "markdown",
   "metadata": {},
   "source": [
    "As funções `zeros` e `ones` criam arrays de qualquer tamanho contendo apenas zeros e uns, respectivamente. Veja o exemplo abaixo e escreva brevemente  sobre o que você entendeu dessas funções. Usando a função `ones` e a propriedade multiplicativa de arrays que vimos na seção anterior, crie uma matriz 3 por 5 onde todos os elementos são o número 42.\n",
    "\n"
   ]
  },
  {
   "cell_type": "code",
   "execution_count": 79,
   "metadata": {},
   "outputs": [
    {
     "name": "stdout",
     "output_type": "stream",
     "text": [
      "[1. 1. 1. 1. 1.]\n"
     ]
    }
   ],
   "source": [
    "array1 = np.zeros(10)\n",
    "array2 = np.zeros((3, 4))\n",
    "\n",
    "array3 = np.ones(5)\n",
    "array4 = np.ones((2, 3))\n",
    "\n",
    "\n",
    "print (array3)"
   ]
  },
  {
   "cell_type": "code",
   "execution_count": 80,
   "metadata": {},
   "outputs": [
    {
     "name": "stdout",
     "output_type": "stream",
     "text": [
      "[[42. 42. 42. 42. 42.]\n",
      " [42. 42. 42. 42. 42.]\n",
      " [42. 42. 42. 42. 42.]]\n"
     ]
    }
   ],
   "source": [
    "matriz = np.zeros((3, 5))\n",
    "\n",
    "matriz42 = matriz + 42\n",
    "\n",
    "print (matriz42)"
   ]
  },
  {
   "cell_type": "markdown",
   "metadata": {},
   "source": [
    "### Questão [B]\n",
    "\n"
   ]
  },
  {
   "cell_type": "markdown",
   "metadata": {},
   "source": [
    "Crie um array utilizando o `linspace` e outro array utilizando o `random`. Após criá-los, multiplique os dois arrays e exiba o resultado.\n",
    "\n"
   ]
  },
  {
   "cell_type": "code",
   "execution_count": 81,
   "metadata": {},
   "outputs": [
    {
     "name": "stdout",
     "output_type": "stream",
     "text": [
      "[ 1.   13.25 25.5  37.75 50.  ]\n",
      "[0.22940102 0.43860601 0.68615536 0.07404723 0.11860988]\n",
      "[ 0.22940102  5.8115297  17.49696166  2.79528283  5.93049414]\n"
     ]
    }
   ],
   "source": [
    "array1 = np.linspace (1, 50, 5) # Criando os arrays \n",
    "array2 = np.random.random (5)\n",
    "print (array1)\n",
    "print (array2)\n",
    "\n",
    "produto = array1 * array2\n",
    "print (produto)"
   ]
  },
  {
   "cell_type": "markdown",
   "metadata": {},
   "source": [
    "## 8.3 Funções universais\n",
    "\n"
   ]
  },
  {
   "cell_type": "markdown",
   "metadata": {},
   "source": [
    "### Questão [A]\n",
    "\n"
   ]
  },
  {
   "cell_type": "markdown",
   "metadata": {},
   "source": [
    "Use o `numpy` e o `pandas` para gerar um gráfico de uma função matemática. Os valores do eixo $x$ devem ser gerados pelo `numpy` usando `arange` ou `linspace` (escolha o que julgar mais apropriado). Os valores do eixo $y$ devem ser calculados usando funções universais se necessário. O tipo de função a ser plotada depende do último digito do seu RM:\n",
    "\n",
    "0.  polinomial de grau 2 em $x$\n",
    "1.  exponencial de $x$\n",
    "2.  logaritmo base 10 de $x$\n",
    "3.  raiz quadrada de $x$\n",
    "4.  seno de $x$\n",
    "5.  cosseno de $x$\n",
    "6.  arco tangente de $x$\n",
    "7.  dez elevado a $x$\n",
    "8.  absoluto de $x$\n",
    "9.  cosseno hiperbólico de $x$\n",
    "\n"
   ]
  },
  {
   "cell_type": "code",
   "execution_count": 82,
   "metadata": {},
   "outputs": [
    {
     "name": "stdout",
     "output_type": "stream",
     "text": [
      "[  1.           3.01010101   5.02020202   7.03030303   9.04040404\n",
      "  11.05050505  13.06060606  15.07070707  17.08080808  19.09090909\n",
      "  21.1010101   23.11111111  25.12121212  27.13131313  29.14141414\n",
      "  31.15151515  33.16161616  35.17171717  37.18181818  39.19191919\n",
      "  41.2020202   43.21212121  45.22222222  47.23232323  49.24242424\n",
      "  51.25252525  53.26262626  55.27272727  57.28282828  59.29292929\n",
      "  61.3030303   63.31313131  65.32323232  67.33333333  69.34343434\n",
      "  71.35353535  73.36363636  75.37373737  77.38383838  79.39393939\n",
      "  81.4040404   83.41414141  85.42424242  87.43434343  89.44444444\n",
      "  91.45454545  93.46464646  95.47474747  97.48484848  99.49494949\n",
      " 101.50505051 103.51515152 105.52525253 107.53535354 109.54545455\n",
      " 111.55555556 113.56565657 115.57575758 117.58585859 119.5959596\n",
      " 121.60606061 123.61616162 125.62626263 127.63636364 129.64646465\n",
      " 131.65656566 133.66666667 135.67676768 137.68686869 139.6969697\n",
      " 141.70707071 143.71717172 145.72727273 147.73737374 149.74747475\n",
      " 151.75757576 153.76767677 155.77777778 157.78787879 159.7979798\n",
      " 161.80808081 163.81818182 165.82828283 167.83838384 169.84848485\n",
      " 171.85858586 173.86868687 175.87878788 177.88888889 179.8989899\n",
      " 181.90909091 183.91919192 185.92929293 187.93939394 189.94949495\n",
      " 191.95959596 193.96969697 195.97979798 197.98989899 200.        ]\n",
      "\n",
      "[1.54308063e+00 1.01693680e+01 7.57242491e+01 5.65186990e+02\n",
      " 4.21859272e+03 3.14878763e+04 2.35027752e+05 1.75426389e+06\n",
      " 1.30939507e+07 9.77341808e+07 7.29494890e+08 5.44500184e+09\n",
      " 4.06418817e+10 3.03353901e+11 2.26425513e+12 1.69005616e+13\n",
      " 1.26146996e+14 9.41570170e+14 7.02794684e+15 5.24570960e+16\n",
      " 3.91543502e+17 2.92250860e+18 2.18138124e+19 1.62819850e+20\n",
      " 1.21529897e+21 9.07107808e+21 6.77071731e+22 5.05371165e+23\n",
      " 3.77212639e+24 2.81554201e+25 2.10154062e+26 1.56860489e+27\n",
      " 1.17081787e+28 8.73906801e+28 6.52290263e+29 4.86874101e+30\n",
      " 3.63406298e+31 2.71249050e+32 2.02462224e+33 1.51119247e+34\n",
      " 1.12796482e+35 8.41920982e+35 6.28415820e+36 4.69054046e+37\n",
      " 3.50105282e+38 2.61321077e+39 1.95051914e+40 1.45588139e+41\n",
      " 1.08668024e+42 8.11105875e+42 6.05415205e+43 4.51886223e+44\n",
      " 3.37291097e+45 2.51756478e+46 1.87912829e+47 1.40259475e+48\n",
      " 1.04690671e+49 7.81418630e+49 5.83256434e+50 4.35346758e+51\n",
      " 3.24945922e+52 2.42541952e+53 1.81035041e+54 1.35125845e+55\n",
      " 1.00858893e+56 7.52817967e+56 5.61908695e+57 4.19412654e+58\n",
      " 3.13052593e+59 2.33664686e+60 1.74408987e+61 1.30180111e+62\n",
      " 9.71673621e+62 7.25264114e+63 5.41342303e+64 4.04061752e+65\n",
      " 3.01594571e+66 2.25112337e+67 1.68025452e+68 1.25415395e+69\n",
      " 9.36109444e+69 6.98718759e+70 5.21528661e+71 3.89272709e+72\n",
      " 2.90555923e+73 2.16873012e+74 1.61875561e+75 1.20825072e+76\n",
      " 9.01846950e+76 6.73144989e+77 5.02440217e+78 3.75024958e+79\n",
      " 2.79921301e+80 2.08935254e+81 1.55950762e+82 1.16402760e+83\n",
      " 8.68838495e+83 6.48507244e+84 4.84050428e+85 3.61298688e+86]\n",
      "\n",
      "             0             1\n",
      "0     1.000000  1.543081e+00\n",
      "1     3.010101  1.016937e+01\n",
      "2     5.020202  7.572425e+01\n",
      "3     7.030303  5.651870e+02\n",
      "4     9.040404  4.218593e+03\n",
      "..         ...           ...\n",
      "95  191.959596  1.164028e+83\n",
      "96  193.969697  8.688385e+83\n",
      "97  195.979798  6.485072e+84\n",
      "98  197.989899  4.840504e+85\n",
      "99  200.000000  3.612987e+86\n",
      "\n",
      "[100 rows x 2 columns]\n"
     ]
    }
   ],
   "source": [
    "import pandas as pd\n",
    "\n",
    "x = numpy.linspace(1, 200, 100)\n",
    "print(x)\n",
    "print()\n",
    "\n",
    "dados = numpy.cosh(x)\n",
    "print(dados)\n",
    "print()\n",
    "\n",
    "frame = pd.DataFrame([x, dados]).T\n",
    "print(frame)"
   ]
  },
  {
   "cell_type": "code",
   "execution_count": 83,
   "metadata": {},
   "outputs": [
    {
     "data": {
      "image/png": "[encoded data removed]",
      "text/plain": [
       "<Figure size 432x288 with 1 Axes>"
      ]
     },
     "metadata": {
      "needs_background": "light"
     },
     "output_type": "display_data"
    }
   ],
   "source": [
    "ax = frame.plot(0,1).set_title(\"Cosseno hiperbólico de um número\")"
   ]
  },
  {
   "cell_type": "markdown",
   "metadata": {},
   "source": [
    "## 8.4 Funções agregadoras\n",
    "\n"
   ]
  },
  {
   "cell_type": "markdown",
   "metadata": {},
   "source": [
    "### Questão [A]\n",
    "\n"
   ]
  },
  {
   "cell_type": "markdown",
   "metadata": {},
   "source": [
    "Crie um array 4 $\\times$ 4. Compute a multiplicação da primeira linha do array pela terceira. Após isso, subtraia do resultado a segunda linha e exiba para o usuário.\n",
    "\n"
   ]
  },
  {
   "cell_type": "code",
   "execution_count": 84,
   "metadata": {},
   "outputs": [
    {
     "name": "stdout",
     "output_type": "stream",
     "text": [
      "[15 27 41 57]\n"
     ]
    }
   ],
   "source": [
    "matriz = np.array(\n",
    "    [\n",
    "        [3, 4, 5, 6],\n",
    "        [6, 5, 4, 3],\n",
    "        [7, 8, 9, 10],\n",
    "        [10, 9, 8, 7],\n",
    "    ]\n",
    ")\n",
    "\n",
    "linha1 = matriz[0]\n",
    "linha2 = matriz[1]\n",
    "linha3 = matriz[2]\n",
    "\n",
    "\n",
    "mult = linha1 * linha3\n",
    "sub = mult - linha2\n",
    "\n",
    "print (sub)"
   ]
  },
  {
   "cell_type": "markdown",
   "metadata": {},
   "source": [
    "### Questão [B]\n",
    "\n"
   ]
  },
  {
   "cell_type": "markdown",
   "metadata": {},
   "source": [
    "A tabela abaixo, armazenada na variável `dados`, tem 3 colunas: ano, quantidade de pessoas que comeram sorvete de pistache (por mil habitantes) e o logaritmo na base 10 de unidades individuais de pipoca consumidas (por mil habitantes). Usando indexação de arrays e funções agregadoras, encontre os seguintes valores:\n",
    "\n",
    "1.  Consumo médio de sorvete de pistache entre 2010 e 2021.\n",
    "2.  Consumo médio de unidades de pipoca entre 2010 e 2021 (dica: não é em log que a pergunta pede!).\n",
    "3.  Desvio padrão do número de unidades individuais de pipoca consumidas entre os anos de 2015 e 2019.\n",
    "4.  A diferença entre o valor máximo e o valor mínimo de pessoas que consumiram sorvete de pistache entre 2011 e 2018.\n",
    "5.  A soma de todas a unidades individuais de pipoca consumidas de 2011 até 2021.\n",
    "\n"
   ]
  },
  {
   "cell_type": "code",
   "execution_count": 90,
   "metadata": {},
   "outputs": [],
   "source": [
    "dados = np.array (\n",
    "    [\n",
    "        [2010, 20, 8],\n",
    "        [2011, 22, 9],\n",
    "        [2012, 27, 8],\n",
    "        [2013, 27, 6],\n",
    "        [2014, 25, 5],\n",
    "        [2015, 21, 7],\n",
    "        [2016, 18, 9],\n",
    "        [2017, 16, 12],\n",
    "        [2018, 17, 11],\n",
    "        [2019, 21, 10],\n",
    "        [2020, 28, 9],\n",
    "        [2021, 30, 8],\n",
    "    ]\n",
    ")\n"
   ]
  },
  {
   "cell_type": "code",
   "execution_count": 95,
   "metadata": {},
   "outputs": [
    {
     "name": "stdout",
     "output_type": "stream",
     "text": [
      "[2015.5          22.66666667    8.5       ]\n"
     ]
    }
   ],
   "source": [
    "media = dados.mean(axis=0)\n",
    "print (media)"
   ]
  },
  {
   "cell_type": "code",
   "execution_count": 96,
   "metadata": {},
   "outputs": [
    {
     "ename": "TypeError",
     "evalue": "unsupported operand type(s) for ^: 'int' and 'float'",
     "output_type": "error",
     "traceback": [
      "\u001b[1;31m---------------------------------------------------------------------------\u001b[0m",
      "\u001b[1;31mTypeError\u001b[0m                                 Traceback (most recent call last)",
      "\u001b[1;32mC:\\Users\\ANA220~1\\AppData\\Local\\Temp/ipykernel_26672/790668258.py\u001b[0m in \u001b[0;36m<module>\u001b[1;34m\u001b[0m\n\u001b[1;32m----> 1\u001b[1;33m \u001b[0mmedia\u001b[0m \u001b[1;33m=\u001b[0m \u001b[1;36m10\u001b[0m \u001b[1;33m^\u001b[0m \u001b[1;36m8.5\u001b[0m\u001b[1;33m\u001b[0m\u001b[1;33m\u001b[0m\u001b[0m\n\u001b[0m",
      "\u001b[1;31mTypeError\u001b[0m: unsupported operand type(s) for ^: 'int' and 'float'"
     ]
    }
   ],
   "source": [
    "media = 10 ^ 8.5 "
   ]
  },
  {
   "cell_type": "markdown",
   "metadata": {},
   "source": [
    "## 8.6 Atributos e peculiaridades de arrays\n",
    "\n"
   ]
  },
  {
   "cell_type": "markdown",
   "metadata": {},
   "source": [
    "### Questão [A]\n",
    "\n"
   ]
  },
  {
   "cell_type": "markdown",
   "metadata": {},
   "source": [
    "Escreva uma função que recebe um array e checa se ele é uma matriz quadrada. Se for, retorne a soma da diagonal principal. Se não for uma matriz quadrada, retorne `False`.\n",
    "\n"
   ]
  },
  {
   "cell_type": "code",
   "execution_count": 98,
   "metadata": {},
   "outputs": [
    {
     "ename": "IndentationError",
     "evalue": "expected an indented block (Temp/ipykernel_26672/2347246075.py, line 5)",
     "output_type": "error",
     "traceback": [
      "\u001b[1;36m  File \u001b[1;32m\"C:\\Users\\ANA220~1\\AppData\\Local\\Temp/ipykernel_26672/2347246075.py\"\u001b[1;36m, line \u001b[1;32m5\u001b[0m\n\u001b[1;33m    soma = a[i,i] + soma\u001b[0m\n\u001b[1;37m    ^\u001b[0m\n\u001b[1;31mIndentationError\u001b[0m\u001b[1;31m:\u001b[0m expected an indented block\n"
     ]
    }
   ],
   "source": [
    "def fun_quadra(a):\n",
    "    if a.shape[0] == a.shape[1]:\n",
    "        soma = 0\n",
    "        for i in range(a.shape [0]):\n",
    "        soma = a[i,i] + soma\n",
    "            return soma\n",
    "        else:\n",
    "            return False\n",
    "\n",
    "anas = np.array(\n",
    "    [\n",
    "        [6, 4, 9, 5],\n",
    "        [0, 9, 8, 7],\n",
    "        [3, 7, 11, 4],\n",
    "        [13, 76, 14, 12],\n",
    "    ]\n",
    ")\n",
    "\n",
    "print( fun_quadra(anas))\n",
    "\n",
    "\n",
    "anas_anas = np.array(\n",
    "    [\n",
    "        [6, 4, 9, 5],\n",
    "        [0, 9, 8, 7],\n",
    "        [3, 7, 11, 4],\n",
    "        [13, 76, 14, 12],\n",
    "    ]\n",
    ")\n",
    "\n",
    "\n",
    "\n",
    "print(fun_quadra(anas_anas))\n",
    "\n"
   ]
  },
  {
   "cell_type": "markdown",
   "metadata": {},
   "source": [
    "## Playground\n",
    "\n"
   ]
  },
  {
   "cell_type": "code",
   "execution_count": null,
   "metadata": {},
   "outputs": [],
   "source": [
    "array_1d = np.random.random(10)\n",
    "\n",
    "array_2d_3x3 = np.random.random((3, 3))\n",
    "array_2d_5x4 = np.random.random((5, 4))\n",
    "\n",
    "print(array_1d)\n",
    "print(array_2d_3x3)\n",
    "print(array_2d_5x4)"
   ]
  },
  {
   "cell_type": "code",
   "execution_count": null,
   "metadata": {},
   "outputs": [],
   "source": [
    "array1 = np.arange(10)\n",
    "array2 = np.arange(10, 20)\n",
    "array3 = np.arange(0, 110, 10)\n",
    "array4 = np.arange(0, 1, 0.1)  # o intervalo não precisa ser inteiro!\n",
    "\n",
    "for array in [array1, array2, array3, array4]:\n",
    "    print(array)"
   ]
  },
  {
   "cell_type": "code",
   "execution_count": null,
   "metadata": {},
   "outputs": [],
   "source": [
    "array2 = np.array(\n",
    "    [\n",
    "        [1, 2, 3],\n",
    "        [4, 5, 6],\n",
    "        [7, 8, 9],\n",
    "    ]\n",
    ")\n",
    "\n",
    "print(\"Calculos realizados na direção das linhas da matriz\")\n",
    "soma = array2.sum(axis=0)\n",
    "minimo = array2.min(axis=0)\n",
    "maximo = array2.max(axis=0)\n",
    "media = array2.mean(axis=0)\n",
    "desvio_padrao = array2.std(axis=0)\n",
    "\n",
    "for valor in [soma, minimo, maximo, media, desvio_padrao]:\n",
    "    print(valor)\n"
   ]
  },
  {
   "cell_type": "code",
   "execution_count": null,
   "metadata": {},
   "outputs": [],
   "source": [
    "print()\n",
    "print(\"Calculos realizados na direção das colunas da matriz\")\n",
    "soma = array2.sum(axis=1)\n",
    "minimo = array2.min(axis=1)\n",
    "maximo = array2.max(axis=1)\n",
    "media = array2.mean(axis=1)\n",
    "desvio_padrao = array2.std(axis=1)\n",
    "\n",
    "for valor in [soma, minimo, maximo, media, desvio_padrao]:\n",
    "    print(valor)"
   ]
  },
  {
   "cell_type": "code",
   "execution_count": null,
   "metadata": {},
   "outputs": [],
   "source": [
    "array = np.array(\n",
    "    [\n",
    "        [1, 2, 3],\n",
    "        [4, 5, 6],\n",
    "        [7, 8, 9],\n",
    "    ]\n",
    ")\n",
    "\n",
    "array_2 = array.reshape((1, 9))  # 1 linha e 9 colunas\n",
    "array_3 = array.reshape((9, 1))  # 9 linhas e 1 coluna\n",
    "\n",
    "print(array)\n",
    "print(array_2)\n",
    "print(array_3)"
   ]
  },
  {
   "cell_type": "markdown",
   "metadata": {},
   "source": [
    "## Diário de bordo\n",
    "\n"
   ]
  },
  {
   "cell_type": "markdown",
   "metadata": {},
   "source": [
    "[Texto]\n",
    "\n"
   ]
  }
 ],
 "metadata": {
  "kernelspec": {
   "display_name": "ilumpy",
   "language": "python",
   "name": "ilumpy"
  },
  "language_info": {
   "codemirror_mode": {
    "name": "ipython",
    "version": 3
   },
   "file_extension": ".py",
   "mimetype": "text/x-python",
   "name": "python",
   "nbconvert_exporter": "python",
   "pygments_lexer": "ipython3",
   "version": "3.9.7"
  },
  "org": null
 },
 "nbformat": 4,
 "nbformat_minor": 4
}
